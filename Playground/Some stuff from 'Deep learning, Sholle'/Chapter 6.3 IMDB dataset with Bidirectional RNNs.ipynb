{
 "cells": [
  {
   "cell_type": "code",
   "execution_count": 14,
   "metadata": {},
   "outputs": [],
   "source": [
    "from keras.datasets import imdb\n",
    "from keras.preprocessing import sequence\n",
    "from keras import layers\n",
    "from keras.models import Sequential\n",
    "\n",
    "import matplotlib.pyplot as plt\n",
    "import numpy as np"
   ]
  },
  {
   "cell_type": "code",
   "execution_count": 15,
   "metadata": {},
   "outputs": [],
   "source": [
    "# Вспомогательная функция\n",
    "def plot_results():\n",
    "    loss = history.history['loss']\n",
    "    val_loss = history.history['val_loss']\n",
    "    acc = history.history['acc']\n",
    "    val_acc = history.history['val_acc']\n",
    "    \n",
    "    epochs = range(1, len(loss) + 1)\n",
    "    \n",
    "    plt.figure()\n",
    "    plt.plot(epochs, loss, 'bo', label = 'Training loss')\n",
    "    plt.plot(epochs, val_loss, 'r', label = 'Validation loss')\n",
    "    plt.legend()\n",
    "    plt.show()    \n",
    "    \n",
    "    plt.figure()\n",
    "    plt.plot(epochs, acc, 'bo', label = 'Training accuracy')\n",
    "    plt.plot(epochs, val_acc, 'r', label = 'Validation accuracy')\n",
    "    plt.legend()\n",
    "    plt.show()    \n",
    "    \n",
    "    print(\"Минимальное значение функции потерь:{:.4f} Эпоха: {}\".format(np.min(history.history['val_loss']), \n",
    "                                                                np.argmin(history.history['val_loss']) + 1))\n",
    "    print(\"Максимальное значение accuracy:{:.4f} Эпоха: {}\".format(np.max(history.history['val_acc']), \n",
    "                                                                np.argmax(history.history['val_acc']) + 1))"
   ]
  },
  {
   "cell_type": "code",
   "execution_count": 5,
   "metadata": {},
   "outputs": [],
   "source": [
    "max_features =10000\n",
    "maxlen = 500\n",
    "\n",
    "(x_train, y_train), (x_test, y_test) = imdb.load_data(num_words = max_features)\n",
    "x_train = sequence.pad_sequences(x_train, maxlen)\n",
    "x_test = sequence.pad_sequences(x_test, maxlen)\n"
   ]
  },
  {
   "cell_type": "code",
   "execution_count": 18,
   "metadata": {},
   "outputs": [
    {
     "name": "stdout",
     "output_type": "stream",
     "text": [
      "Train on 20000 samples, validate on 5000 samples\n",
      "Epoch 1/40\n",
      "20000/20000 [==============================] - 38s 2ms/step - loss: 0.5143 - acc: 0.7585 - val_loss: 0.4404 - val_acc: 0.7962\n",
      "Epoch 2/40\n",
      "20000/20000 [==============================] - 36s 2ms/step - loss: 0.2985 - acc: 0.8841 - val_loss: 0.4297 - val_acc: 0.8074\n",
      "Epoch 3/40\n",
      "20000/20000 [==============================] - 35s 2ms/step - loss: 0.2384 - acc: 0.9122 - val_loss: 0.2914 - val_acc: 0.8780\n",
      "Epoch 4/40\n",
      "20000/20000 [==============================] - 35s 2ms/step - loss: 0.2033 - acc: 0.9265 - val_loss: 0.3382 - val_acc: 0.8510\n",
      "Epoch 5/40\n",
      "20000/20000 [==============================] - 35s 2ms/step - loss: 0.1814 - acc: 0.9341 - val_loss: 0.3174 - val_acc: 0.8668\n",
      "Epoch 6/40\n",
      "20000/20000 [==============================] - 35s 2ms/step - loss: 0.1593 - acc: 0.9430 - val_loss: 0.3052 - val_acc: 0.8732\n",
      "Epoch 7/40\n",
      "20000/20000 [==============================] - 35s 2ms/step - loss: 0.1463 - acc: 0.9470 - val_loss: 0.4210 - val_acc: 0.8770\n",
      "Epoch 8/40\n",
      "20000/20000 [==============================] - 35s 2ms/step - loss: 0.1341 - acc: 0.9529 - val_loss: 0.3337 - val_acc: 0.8764\n",
      "Epoch 9/40\n",
      "20000/20000 [==============================] - 35s 2ms/step - loss: 0.1225 - acc: 0.9571 - val_loss: 0.3221 - val_acc: 0.8720\n",
      "Epoch 10/40\n",
      "20000/20000 [==============================] - 35s 2ms/step - loss: 0.1118 - acc: 0.9610 - val_loss: 0.3399 - val_acc: 0.8878\n",
      "Epoch 11/40\n",
      "20000/20000 [==============================] - 35s 2ms/step - loss: 0.1041 - acc: 0.9648 - val_loss: 0.3696 - val_acc: 0.8762\n",
      "Epoch 12/40\n",
      "20000/20000 [==============================] - 35s 2ms/step - loss: 0.0985 - acc: 0.9670 - val_loss: 0.3546 - val_acc: 0.8842\n",
      "Epoch 13/40\n",
      "20000/20000 [==============================] - 35s 2ms/step - loss: 0.0920 - acc: 0.9683 - val_loss: 0.3897 - val_acc: 0.8774\n",
      "Epoch 14/40\n",
      "20000/20000 [==============================] - 35s 2ms/step - loss: 0.0789 - acc: 0.9739 - val_loss: 0.4544 - val_acc: 0.8674\n",
      "Epoch 15/40\n",
      "20000/20000 [==============================] - 34s 2ms/step - loss: 0.0744 - acc: 0.9741 - val_loss: 0.4649 - val_acc: 0.8482\n",
      "Epoch 16/40\n",
      "20000/20000 [==============================] - 34s 2ms/step - loss: 0.0758 - acc: 0.9748 - val_loss: 0.4145 - val_acc: 0.8702\n",
      "Epoch 17/40\n",
      "20000/20000 [==============================] - 34s 2ms/step - loss: 0.0749 - acc: 0.9764 - val_loss: 0.5508 - val_acc: 0.8660\n",
      "Epoch 18/40\n",
      "20000/20000 [==============================] - 35s 2ms/step - loss: 0.0661 - acc: 0.9788 - val_loss: 0.4480 - val_acc: 0.8782\n",
      "Epoch 19/40\n",
      "20000/20000 [==============================] - 34s 2ms/step - loss: 0.0588 - acc: 0.9806 - val_loss: 0.4586 - val_acc: 0.8592\n",
      "Epoch 20/40\n",
      "20000/20000 [==============================] - 34s 2ms/step - loss: 0.0555 - acc: 0.9820 - val_loss: 0.4883 - val_acc: 0.8754\n",
      "Epoch 21/40\n",
      "20000/20000 [==============================] - 34s 2ms/step - loss: 0.0554 - acc: 0.9816 - val_loss: 0.5385 - val_acc: 0.8634\n",
      "Epoch 22/40\n",
      "20000/20000 [==============================] - 34s 2ms/step - loss: 0.0503 - acc: 0.9847 - val_loss: 0.5200 - val_acc: 0.8746\n",
      "Epoch 23/40\n",
      "20000/20000 [==============================] - 34s 2ms/step - loss: 0.0475 - acc: 0.9849 - val_loss: 0.5043 - val_acc: 0.8586\n",
      "Epoch 24/40\n",
      "20000/20000 [==============================] - 34s 2ms/step - loss: 0.0452 - acc: 0.9858 - val_loss: 0.5796 - val_acc: 0.8718\n",
      "Epoch 25/40\n",
      "20000/20000 [==============================] - 34s 2ms/step - loss: 0.0415 - acc: 0.9874 - val_loss: 0.5736 - val_acc: 0.8668\n",
      "Epoch 26/40\n",
      "20000/20000 [==============================] - 34s 2ms/step - loss: 0.0444 - acc: 0.9865 - val_loss: 0.6870 - val_acc: 0.8586\n",
      "Epoch 27/40\n",
      "20000/20000 [==============================] - 34s 2ms/step - loss: 0.0410 - acc: 0.9873 - val_loss: 0.5404 - val_acc: 0.8578\n",
      "Epoch 28/40\n",
      "20000/20000 [==============================] - 34s 2ms/step - loss: 0.0392 - acc: 0.9883 - val_loss: 0.5550 - val_acc: 0.8662\n",
      "Epoch 29/40\n",
      "20000/20000 [==============================] - 34s 2ms/step - loss: 0.0396 - acc: 0.9882 - val_loss: 0.6074 - val_acc: 0.8682\n",
      "Epoch 30/40\n",
      "20000/20000 [==============================] - 34s 2ms/step - loss: 0.0376 - acc: 0.9895 - val_loss: 0.6035 - val_acc: 0.8668\n",
      "Epoch 31/40\n",
      "20000/20000 [==============================] - 34s 2ms/step - loss: 0.0366 - acc: 0.9899 - val_loss: 0.7229 - val_acc: 0.8660\n",
      "Epoch 32/40\n",
      "20000/20000 [==============================] - 34s 2ms/step - loss: 0.0400 - acc: 0.9890 - val_loss: 0.6464 - val_acc: 0.8696\n",
      "Epoch 33/40\n",
      "20000/20000 [==============================] - 34s 2ms/step - loss: 0.0306 - acc: 0.9911 - val_loss: 0.5707 - val_acc: 0.8498\n",
      "Epoch 34/40\n",
      "20000/20000 [==============================] - 34s 2ms/step - loss: 0.0357 - acc: 0.9899 - val_loss: 0.6110 - val_acc: 0.8686\n",
      "Epoch 35/40\n",
      "20000/20000 [==============================] - 34s 2ms/step - loss: 0.0323 - acc: 0.9909 - val_loss: 0.6399 - val_acc: 0.8628\n",
      "Epoch 36/40\n",
      "20000/20000 [==============================] - 34s 2ms/step - loss: 0.0256 - acc: 0.9929 - val_loss: 0.6300 - val_acc: 0.8676\n",
      "Epoch 37/40\n",
      "20000/20000 [==============================] - 34s 2ms/step - loss: 0.0303 - acc: 0.9920 - val_loss: 0.6501 - val_acc: 0.8674\n",
      "Epoch 38/40\n",
      "20000/20000 [==============================] - 34s 2ms/step - loss: 0.0238 - acc: 0.9937 - val_loss: 0.6567 - val_acc: 0.8676\n",
      "Epoch 39/40\n",
      "20000/20000 [==============================] - 34s 2ms/step - loss: 0.0252 - acc: 0.9932 - val_loss: 0.6334 - val_acc: 0.8572\n",
      "Epoch 40/40\n",
      "20000/20000 [==============================] - 34s 2ms/step - loss: 0.0234 - acc: 0.9939 - val_loss: 0.6916 - val_acc: 0.8644\n"
     ]
    }
   ],
   "source": [
    "model = Sequential()\n",
    "model.add(layers.Embedding(max_features, 32))\n",
    "model.add(layers.Bidirectional(layers.LSTM(32)))\n",
    "model.add(layers.Dense(1, activation = 'sigmoid'))\n",
    "\n",
    "model.compile(optimizer = 'rmsprop', loss = 'binary_crossentropy', metrics = ['acc'])\n",
    "history = model.fit(x_train, y_train,\n",
    "                   epochs = 40,\n",
    "                   batch_size = 128,\n",
    "                   validation_split = 0.2)"
   ]
  },
  {
   "cell_type": "code",
   "execution_count": 19,
   "metadata": {},
   "outputs": [],
   "source": [
    "model.save('./RNN models and data  for chapter 6/IMDB_models/Bidirectional_LSTM_model.h5')"
   ]
  },
  {
   "cell_type": "code",
   "execution_count": 20,
   "metadata": {},
   "outputs": [
    {
     "data": {
      "image/png": "[encoded data removed]",
      "text/plain": [
       "<Figure size 432x288 with 1 Axes>"
      ]
     },
     "metadata": {
      "needs_background": "light"
     },
     "output_type": "display_data"
    },
    {
     "data": {
      "image/png": "[encoded data removed]",
      "text/plain": [
       "<Figure size 432x288 with 1 Axes>"
      ]
     },
     "metadata": {
      "needs_background": "light"
     },
     "output_type": "display_data"
    },
    {
     "name": "stdout",
     "output_type": "stream",
     "text": [
      "Минимальное значение функции потерь:0.2914 Эпоха: 3\n",
      "Максимальное значение accuracy:0.8878 Эпоха: 10\n"
     ]
    }
   ],
   "source": [
    "plot_results()"
   ]
  },
  {
   "cell_type": "code",
   "execution_count": null,
   "metadata": {},
   "outputs": [],
   "source": []
  }
 ],
 "metadata": {
  "kernelspec": {
   "display_name": "Python 3",
   "language": "python",
   "name": "python3"
  },
  "language_info": {
   "codemirror_mode": {
    "name": "ipython",
    "version": 3
   },
   "file_extension": ".py",
   "mimetype": "text/x-python",
   "name": "python",
   "nbconvert_exporter": "python",
   "pygments_lexer": "ipython3",
   "version": "3.6.9"
  }
 },
 "nbformat": 4,
 "nbformat_minor": 2
}

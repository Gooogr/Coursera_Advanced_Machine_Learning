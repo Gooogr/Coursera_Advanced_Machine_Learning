{
 "cells": [
  {
   "cell_type": "markdown",
   "metadata": {},
   "source": [
    "link on author`s git: https://github.com/fchollet/deep-learning-with-pythoan-notebooks/blob/master/3.5-classifying-movie-reviews.ipynb"
   ]
  },
  {
   "cell_type": "code",
   "execution_count": 22,
   "metadata": {},
   "outputs": [],
   "source": [
    "import numpy as np\n",
    "from scipy.sparse import csr_matrix\n",
    "\n",
    "import matplotlib.pyplot as plt\n",
    "\n",
    "import keras\n",
    "from tensorflow.keras.datasets import imdb\n",
    "from keras import models\n",
    "from keras import layers"
   ]
  },
  {
   "cell_type": "code",
   "execution_count": 2,
   "metadata": {},
   "outputs": [
    {
     "name": "stdout",
     "output_type": "stream",
     "text": [
      "1.17.0\n"
     ]
    }
   ],
   "source": [
    "print(np.__version__)"
   ]
  },
  {
   "cell_type": "markdown",
   "metadata": {},
   "source": [
    "**Data downloading**"
   ]
  },
  {
   "cell_type": "code",
   "execution_count": 3,
   "metadata": {},
   "outputs": [
    {
     "data": {
      "text/plain": [
       "[1, 14, 22, 16, 43, 530, 973, 1622, 1385, 65]"
      ]
     },
     "execution_count": 3,
     "metadata": {},
     "output_type": "execute_result"
    }
   ],
   "source": [
    "#dataset with top 10000 words in users film reviews\n",
    "# train_data - only labels, not words\n",
    "(train_data, train_labels), (test_data, test_labels) = imdb.load_data(num_words=10000)\n",
    "train_data[0][:10]"
   ]
  },
  {
   "cell_type": "markdown",
   "metadata": {},
   "source": [
    "Let`s print an example of review"
   ]
  },
  {
   "cell_type": "code",
   "execution_count": 4,
   "metadata": {},
   "outputs": [
    {
     "data": {
      "text/plain": [
       "\"? this film was just brilliant casting location scenery story direction everyone's really suited the part they played and you could just imagine being there robert ? is an amazing actor and now the same being director ? father came from the same scottish island as myself so i loved the fact there was a real connection with this film the witty remarks throughout the film were great it was just brilliant so much that i bought the film as soon as it was released for ? and would recommend it to everyone to watch and the fly fishing was amazing really cried at the end it was so sad and you know what they say if you cry at a film it must have been good and this definitely was also ? to the two little boy's that played the ? of norman and paul they were just brilliant children are often left out of the ? list i think because the stars that play them all grown up are such a big profile for the whole film but these children are amazing and should be praised for what they have done don't you think the whole story was so lovely because it was true and was someone's life after all that was shared with us all\""
      ]
     },
     "execution_count": 4,
     "metadata": {},
     "output_type": "execute_result"
    }
   ],
   "source": [
    "word_index = imdb.get_word_index()\n",
    "reverse_word_index = dict((value, key) for (key, value) in word_index.items())\n",
    "# we use get because of exception - words that not in top 10000\n",
    "# https://pythonworld.ru/tipy-dannyx-v-python/slovari-dict-funkcii-i-metody-slovarej.html\n",
    "decoded_review_example = ' '.join([reverse_word_index.get(i - 3, '?') for i in train_data[0]]) \n",
    "decoded_review_example"
   ]
  },
  {
   "cell_type": "markdown",
   "metadata": {},
   "source": [
    "**Data preparations**"
   ]
  },
  {
   "cell_type": "code",
   "execution_count": 5,
   "metadata": {},
   "outputs": [],
   "source": [
    "def vectorize_sequence(sequences, dimension = 10000):\n",
    "    results = np.zeros((len(sequences), dimension))\n",
    "    for i, sequence in enumerate(sequences):\n",
    "        results[i, sequence] = 1\n",
    "    return results"
   ]
  },
  {
   "cell_type": "code",
   "execution_count": 16,
   "metadata": {},
   "outputs": [
    {
     "name": "stdout",
     "output_type": "stream",
     "text": [
      "(25000, 10000)\n"
     ]
    }
   ],
   "source": [
    "x_train = csr_matrix(vectorize_sequence(train_data))\n",
    "print(x_train.shape)"
   ]
  },
  {
   "cell_type": "code",
   "execution_count": 17,
   "metadata": {},
   "outputs": [
    {
     "name": "stdout",
     "output_type": "stream",
     "text": [
      "(25000, 10000)\n"
     ]
    }
   ],
   "source": [
    "x_test = csr_matrix(vectorize_sequence(test_data))\n",
    "print(x_test.shape)"
   ]
  },
  {
   "cell_type": "code",
   "execution_count": 8,
   "metadata": {},
   "outputs": [],
   "source": [
    "y_train = np.asarray(train_labels).astype('float32')\n",
    "y_test = np.asarray(test_labels).astype('float32')"
   ]
  },
  {
   "cell_type": "code",
   "execution_count": 18,
   "metadata": {},
   "outputs": [],
   "source": [
    "x_val = x_train[:10000]\n",
    "partial_x_train = x_train[10000:]\n",
    "y_val = y_train[:10000]\n",
    "partial_y_train = y_train[10000:]"
   ]
  },
  {
   "cell_type": "markdown",
   "metadata": {},
   "source": [
    "**Set model**"
   ]
  },
  {
   "cell_type": "code",
   "execution_count": 13,
   "metadata": {},
   "outputs": [
    {
     "name": "stderr",
     "output_type": "stream",
     "text": [
      "WARNING: Logging before flag parsing goes to stderr.\n",
      "W0821 17:14:53.112281 139910887257920 deprecation_wrapper.py:119] From /home/grigoriy/anaconda3/envs/tf_cpu/lib/python3.6/site-packages/keras/backend/tensorflow_backend.py:74: The name tf.get_default_graph is deprecated. Please use tf.compat.v1.get_default_graph instead.\n",
      "\n",
      "W0821 17:14:53.366531 139910887257920 deprecation_wrapper.py:119] From /home/grigoriy/anaconda3/envs/tf_cpu/lib/python3.6/site-packages/keras/backend/tensorflow_backend.py:517: The name tf.placeholder is deprecated. Please use tf.compat.v1.placeholder instead.\n",
      "\n",
      "W0821 17:14:53.405589 139910887257920 deprecation_wrapper.py:119] From /home/grigoriy/anaconda3/envs/tf_cpu/lib/python3.6/site-packages/keras/backend/tensorflow_backend.py:4138: The name tf.random_uniform is deprecated. Please use tf.random.uniform instead.\n",
      "\n"
     ]
    }
   ],
   "source": [
    "model = models.Sequential()\n",
    "model.add(layers.Dense(16, activation = 'relu', input_shape = (10000, )))\n",
    "model.add(layers.Dense(16, activation = 'relu'))\n",
    "model.add(layers.Dense(1, activation = 'sigmoid'))"
   ]
  },
  {
   "cell_type": "code",
   "execution_count": 14,
   "metadata": {},
   "outputs": [
    {
     "name": "stderr",
     "output_type": "stream",
     "text": [
      "W0821 17:17:34.844676 139910887257920 deprecation_wrapper.py:119] From /home/grigoriy/anaconda3/envs/tf_cpu/lib/python3.6/site-packages/keras/optimizers.py:790: The name tf.train.Optimizer is deprecated. Please use tf.compat.v1.train.Optimizer instead.\n",
      "\n",
      "W0821 17:17:34.884392 139910887257920 deprecation_wrapper.py:119] From /home/grigoriy/anaconda3/envs/tf_cpu/lib/python3.6/site-packages/keras/backend/tensorflow_backend.py:3376: The name tf.log is deprecated. Please use tf.math.log instead.\n",
      "\n",
      "W0821 17:17:34.895560 139910887257920 deprecation.py:323] From /home/grigoriy/anaconda3/envs/tf_cpu/lib/python3.6/site-packages/tensorflow/python/ops/nn_impl.py:180: add_dispatch_support.<locals>.wrapper (from tensorflow.python.ops.array_ops) is deprecated and will be removed in a future version.\n",
      "Instructions for updating:\n",
      "Use tf.where in 2.0, which has the same broadcast rule as np.where\n"
     ]
    }
   ],
   "source": [
    "model.compile(optimizer = 'Adam',\n",
    "              loss = 'binary_crossentropy',\n",
    "              metrics = ['accuracy'])"
   ]
  },
  {
   "cell_type": "markdown",
   "metadata": {},
   "source": [
    "**Learning**"
   ]
  },
  {
   "cell_type": "code",
   "execution_count": 19,
   "metadata": {},
   "outputs": [
    {
     "name": "stderr",
     "output_type": "stream",
     "text": [
      "W0821 17:23:43.085702 139910887257920 deprecation_wrapper.py:119] From /home/grigoriy/anaconda3/envs/tf_cpu/lib/python3.6/site-packages/keras/backend/tensorflow_backend.py:986: The name tf.assign_add is deprecated. Please use tf.compat.v1.assign_add instead.\n",
      "\n"
     ]
    },
    {
     "name": "stdout",
     "output_type": "stream",
     "text": [
      "Train on 15000 samples, validate on 10000 samples\n",
      "Epoch 1/20\n",
      "15000/15000 [==============================] - 6s 380us/step - loss: 0.5583 - acc: 0.7606 - val_loss: 0.4035 - val_acc: 0.8563\n",
      "Epoch 2/20\n",
      "15000/15000 [==============================] - 3s 171us/step - loss: 0.2979 - acc: 0.9003 - val_loss: 0.2922 - val_acc: 0.8885\n",
      "Epoch 3/20\n",
      "15000/15000 [==============================] - 3s 177us/step - loss: 0.1949 - acc: 0.9340 - val_loss: 0.2772 - val_acc: 0.8891\n",
      "Epoch 4/20\n",
      "15000/15000 [==============================] - 3s 180us/step - loss: 0.1418 - acc: 0.9531 - val_loss: 0.2893 - val_acc: 0.8863\n",
      "Epoch 5/20\n",
      "15000/15000 [==============================] - 3s 190us/step - loss: 0.1063 - acc: 0.9695 - val_loss: 0.3075 - val_acc: 0.8840\n",
      "Epoch 6/20\n",
      "15000/15000 [==============================] - 3s 184us/step - loss: 0.0798 - acc: 0.9797 - val_loss: 0.3339 - val_acc: 0.8816\n",
      "Epoch 7/20\n",
      "15000/15000 [==============================] - 3s 193us/step - loss: 0.0596 - acc: 0.9885 - val_loss: 0.3631 - val_acc: 0.8795\n",
      "Epoch 8/20\n",
      "15000/15000 [==============================] - 3s 182us/step - loss: 0.0437 - acc: 0.9925 - val_loss: 0.3926 - val_acc: 0.8772\n",
      "Epoch 9/20\n",
      "15000/15000 [==============================] - 3s 220us/step - loss: 0.0319 - acc: 0.9958 - val_loss: 0.4264 - val_acc: 0.8762\n",
      "Epoch 10/20\n",
      "15000/15000 [==============================] - 3s 183us/step - loss: 0.0234 - acc: 0.9977 - val_loss: 0.4578 - val_acc: 0.8728\n",
      "Epoch 11/20\n",
      "15000/15000 [==============================] - 3s 179us/step - loss: 0.0166 - acc: 0.9995 - val_loss: 0.4878 - val_acc: 0.8713\n",
      "Epoch 12/20\n",
      "15000/15000 [==============================] - 3s 178us/step - loss: 0.0124 - acc: 0.9997 - val_loss: 0.5093 - val_acc: 0.8721\n",
      "Epoch 13/20\n",
      "15000/15000 [==============================] - 3s 199us/step - loss: 0.0095 - acc: 0.9999 - val_loss: 0.5318 - val_acc: 0.8714\n",
      "Epoch 14/20\n",
      "15000/15000 [==============================] - 3s 177us/step - loss: 0.0073 - acc: 0.9999 - val_loss: 0.5529 - val_acc: 0.8709\n",
      "Epoch 15/20\n",
      "15000/15000 [==============================] - 3s 213us/step - loss: 0.0059 - acc: 0.9999 - val_loss: 0.5708 - val_acc: 0.8707\n",
      "Epoch 16/20\n",
      "15000/15000 [==============================] - 3s 205us/step - loss: 0.0049 - acc: 0.9999 - val_loss: 0.5872 - val_acc: 0.8709\n",
      "Epoch 17/20\n",
      "15000/15000 [==============================] - 3s 208us/step - loss: 0.0041 - acc: 0.9999 - val_loss: 0.6039 - val_acc: 0.8695\n",
      "Epoch 18/20\n",
      "15000/15000 [==============================] - 3s 183us/step - loss: 0.0035 - acc: 0.9999 - val_loss: 0.6191 - val_acc: 0.8696\n",
      "Epoch 19/20\n",
      "15000/15000 [==============================] - 3s 172us/step - loss: 0.0030 - acc: 0.9999 - val_loss: 0.6317 - val_acc: 0.8690\n",
      "Epoch 20/20\n",
      "15000/15000 [==============================] - 3s 184us/step - loss: 0.0026 - acc: 0.9999 - val_loss: 0.6446 - val_acc: 0.8681\n"
     ]
    }
   ],
   "source": [
    "history = model.fit(partial_x_train, partial_y_train,\n",
    "                   epochs = 20, batch_size = 512, \n",
    "                   validation_data = (x_val, y_val))"
   ]
  },
  {
   "cell_type": "code",
   "execution_count": 21,
   "metadata": {},
   "outputs": [
    {
     "data": {
      "text/plain": [
       "dict_keys(['val_loss', 'val_acc', 'loss', 'acc'])"
      ]
     },
     "execution_count": 21,
     "metadata": {},
     "output_type": "execute_result"
    }
   ],
   "source": [
    "history_dict = history.history\n",
    "history_dict.keys()"
   ]
  },
  {
   "cell_type": "code",
   "execution_count": 28,
   "metadata": {},
   "outputs": [
    {
     "data": {
      "image/png": "[encoded data removed]",
      "text/plain": [
       "<Figure size 432x288 with 1 Axes>"
      ]
     },
     "metadata": {
      "needs_background": "light"
     },
     "output_type": "display_data"
    }
   ],
   "source": [
    "loss_values = history_dict['loss']\n",
    "val_loss_values = history_dict['val_loss']\n",
    "\n",
    "acc = history.history['acc']\n",
    "epochs = range(1, len(acc) + 1)\n",
    "\n",
    "plt.plot(epochs, loss_values, 'bo', label = 'Training loss')\n",
    "plt.plot(epochs, val_loss_values, 'b', label = 'Validation loss')\n",
    "plt.title('Training and validation loss')\n",
    "plt.xlabel('Epochs')\n",
    "plt.ylabel('Loss')\n",
    "plt.legend()\n",
    "\n",
    "plt.show()"
   ]
  },
  {
   "cell_type": "code",
   "execution_count": 30,
   "metadata": {},
   "outputs": [
    {
     "data": {
      "image/png": "[encoded data removed]",
      "text/plain": [
       "<Figure size 432x288 with 1 Axes>"
      ]
     },
     "metadata": {
      "needs_background": "light"
     },
     "output_type": "display_data"
    }
   ],
   "source": [
    "plt.clf()   # clear figure\n",
    "acc_values = history_dict['acc']\n",
    "val_acc_values = history_dict['val_acc']\n",
    "\n",
    "plt.plot(epochs, acc_values, 'bo', label='Training acc')\n",
    "plt.plot(epochs, val_acc_values, 'b', label='Validation acc')\n",
    "plt.title('Training and validation accuracy')\n",
    "plt.xlabel('Epochs')\n",
    "plt.ylabel('Loss')\n",
    "plt.legend()\n",
    "\n",
    "plt.show()"
   ]
  },
  {
   "cell_type": "markdown",
   "metadata": {},
   "source": [
    "We can see overfit problem after 4-th epoch"
   ]
  },
  {
   "cell_type": "markdown",
   "metadata": {},
   "source": [
    "Let's train a new network from scratch for four epochs, then evaluate it on our test data:"
   ]
  },
  {
   "cell_type": "code",
   "execution_count": 32,
   "metadata": {},
   "outputs": [
    {
     "name": "stdout",
     "output_type": "stream",
     "text": [
      "Epoch 1/4\n",
      "25000/25000 [==============================] - 4s 164us/step - loss: 0.4963 - acc: 0.7951\n",
      "Epoch 2/4\n",
      "25000/25000 [==============================] - 3s 112us/step - loss: 0.2570 - acc: 0.9073\n",
      "Epoch 3/4\n",
      "25000/25000 [==============================] - 3s 113us/step - loss: 0.1857 - acc: 0.9344\n",
      "Epoch 4/4\n",
      "25000/25000 [==============================] - 3s 112us/step - loss: 0.1475 - acc: 0.9501\n",
      "25000/25000 [==============================] - 4s 148us/step\n",
      "[0.30800292499542237, 0.88068]\n"
     ]
    }
   ],
   "source": [
    "model = models.Sequential()\n",
    "model.add(layers.Dense(16, activation = 'relu', input_shape = (10000, )))\n",
    "model.add(layers.Dense(16, activation = 'relu'))\n",
    "model.add(layers.Dense(1, activation = 'sigmoid'))\n",
    "\n",
    "model.compile(optimizer = 'Adam',\n",
    "              loss = 'binary_crossentropy',\n",
    "              metrics = ['accuracy'])\n",
    "model.fit(x_train, y_train, epochs = 4, batch_size = 512)\n",
    "result = model.evaluate(x_test, y_test)\n",
    "print(result)"
   ]
  },
  {
   "cell_type": "code",
   "execution_count": 33,
   "metadata": {},
   "outputs": [
    {
     "data": {
      "text/plain": [
       "array([[0.15033266],\n",
       "       [0.9997546 ],\n",
       "       [0.6415544 ],\n",
       "       ...,\n",
       "       [0.09644148],\n",
       "       [0.05572784],\n",
       "       [0.66069525]], dtype=float32)"
      ]
     },
     "execution_count": 33,
     "metadata": {},
     "output_type": "execute_result"
    }
   ],
   "source": [
    "model.predict(x_test)"
   ]
  },
  {
   "cell_type": "code",
   "execution_count": null,
   "metadata": {},
   "outputs": [],
   "source": []
  }
 ],
 "metadata": {
  "kernelspec": {
   "display_name": "Python 3",
   "language": "python",
   "name": "python3"
  },
  "language_info": {
   "codemirror_mode": {
    "name": "ipython",
    "version": 3
   },
   "file_extension": ".py",
   "mimetype": "text/x-python",
   "name": "python",
   "nbconvert_exporter": "python",
   "pygments_lexer": "ipython3",
   "version": "3.6.9"
  }
 },
 "nbformat": 4,
 "nbformat_minor": 2
}

{
 "cells": [
  {
   "cell_type": "code",
   "execution_count": 1,
   "metadata": {},
   "outputs": [
    {
     "name": "stderr",
     "output_type": "stream",
     "text": [
      "Using TensorFlow backend.\n"
     ]
    }
   ],
   "source": [
    "import os\n",
    "import sys\n",
    "\n",
    "import numpy as np\n",
    "\n",
    "from PIL import Image\n",
    "sys.modules['Image'] = Image\n",
    "\n",
    "import matplotlib.pyplot as plt\n",
    "\n",
    "import keras\n",
    "from keras.applications import VGG16\n",
    "from keras.preprocessing.image import ImageDataGenerator\n",
    "from keras import models, layers, optimizers\n"
   ]
  },
  {
   "cell_type": "markdown",
   "metadata": {},
   "source": [
    "Official notebook: https://github.com/fchollet/deep-learning-with-python-notebooks/blob/master/5.3-using-a-pretrained-convnet.ipynb"
   ]
  },
  {
   "cell_type": "code",
   "execution_count": 2,
   "metadata": {},
   "outputs": [
    {
     "name": "stdout",
     "output_type": "stream",
     "text": [
      "WARNING:tensorflow:From C:\\Users\\Grigoriy\\.conda\\envs\\tf_gpu\\lib\\site-packages\\keras\\backend\\tensorflow_backend.py:66: The name tf.get_default_graph is deprecated. Please use tf.compat.v1.get_default_graph instead.\n",
      "\n",
      "WARNING:tensorflow:From C:\\Users\\Grigoriy\\.conda\\envs\\tf_gpu\\lib\\site-packages\\keras\\backend\\tensorflow_backend.py:541: The name tf.placeholder is deprecated. Please use tf.compat.v1.placeholder instead.\n",
      "\n",
      "WARNING:tensorflow:From C:\\Users\\Grigoriy\\.conda\\envs\\tf_gpu\\lib\\site-packages\\keras\\backend\\tensorflow_backend.py:4432: The name tf.random_uniform is deprecated. Please use tf.random.uniform instead.\n",
      "\n",
      "WARNING:tensorflow:From C:\\Users\\Grigoriy\\.conda\\envs\\tf_gpu\\lib\\site-packages\\keras\\backend\\tensorflow_backend.py:4267: The name tf.nn.max_pool is deprecated. Please use tf.nn.max_pool2d instead.\n",
      "\n",
      "WARNING:tensorflow:From C:\\Users\\Grigoriy\\.conda\\envs\\tf_gpu\\lib\\site-packages\\keras\\backend\\tensorflow_backend.py:190: The name tf.get_default_session is deprecated. Please use tf.compat.v1.get_default_session instead.\n",
      "\n",
      "WARNING:tensorflow:From C:\\Users\\Grigoriy\\.conda\\envs\\tf_gpu\\lib\\site-packages\\keras\\backend\\tensorflow_backend.py:197: The name tf.ConfigProto is deprecated. Please use tf.compat.v1.ConfigProto instead.\n",
      "\n"
     ]
    }
   ],
   "source": [
    "conv_base = VGG16(weights = 'imagenet',\n",
    "                  include_top = False, #import only CNN part, without final flattened and softmax layers\n",
    "                  input_shape = (150, 150, 3)) #like in previous notebook. 150x150 - just because we want so                 \n",
    "                  "
   ]
  },
  {
   "cell_type": "code",
   "execution_count": 3,
   "metadata": {},
   "outputs": [
    {
     "name": "stdout",
     "output_type": "stream",
     "text": [
      "Model: \"vgg16\"\n",
      "_________________________________________________________________\n",
      "Layer (type)                 Output Shape              Param #   \n",
      "=================================================================\n",
      "input_1 (InputLayer)         (None, 150, 150, 3)       0         \n",
      "_________________________________________________________________\n",
      "block1_conv1 (Conv2D)        (None, 150, 150, 64)      1792      \n",
      "_________________________________________________________________\n",
      "block1_conv2 (Conv2D)        (None, 150, 150, 64)      36928     \n",
      "_________________________________________________________________\n",
      "block1_pool (MaxPooling2D)   (None, 75, 75, 64)        0         \n",
      "_________________________________________________________________\n",
      "block2_conv1 (Conv2D)        (None, 75, 75, 128)       73856     \n",
      "_________________________________________________________________\n",
      "block2_conv2 (Conv2D)        (None, 75, 75, 128)       147584    \n",
      "_________________________________________________________________\n",
      "block2_pool (MaxPooling2D)   (None, 37, 37, 128)       0         \n",
      "_________________________________________________________________\n",
      "block3_conv1 (Conv2D)        (None, 37, 37, 256)       295168    \n",
      "_________________________________________________________________\n",
      "block3_conv2 (Conv2D)        (None, 37, 37, 256)       590080    \n",
      "_________________________________________________________________\n",
      "block3_conv3 (Conv2D)        (None, 37, 37, 256)       590080    \n",
      "_________________________________________________________________\n",
      "block3_pool (MaxPooling2D)   (None, 18, 18, 256)       0         \n",
      "_________________________________________________________________\n",
      "block4_conv1 (Conv2D)        (None, 18, 18, 512)       1180160   \n",
      "_________________________________________________________________\n",
      "block4_conv2 (Conv2D)        (None, 18, 18, 512)       2359808   \n",
      "_________________________________________________________________\n",
      "block4_conv3 (Conv2D)        (None, 18, 18, 512)       2359808   \n",
      "_________________________________________________________________\n",
      "block4_pool (MaxPooling2D)   (None, 9, 9, 512)         0         \n",
      "_________________________________________________________________\n",
      "block5_conv1 (Conv2D)        (None, 9, 9, 512)         2359808   \n",
      "_________________________________________________________________\n",
      "block5_conv2 (Conv2D)        (None, 9, 9, 512)         2359808   \n",
      "_________________________________________________________________\n",
      "block5_conv3 (Conv2D)        (None, 9, 9, 512)         2359808   \n",
      "_________________________________________________________________\n",
      "block5_pool (MaxPooling2D)   (None, 4, 4, 512)         0         \n",
      "=================================================================\n",
      "Total params: 14,714,688\n",
      "Trainable params: 14,714,688\n",
      "Non-trainable params: 0\n",
      "_________________________________________________________________\n"
     ]
    }
   ],
   "source": [
    "conv_base.summary()"
   ]
  },
  {
   "cell_type": "code",
   "execution_count": 4,
   "metadata": {},
   "outputs": [],
   "source": [
    "# # Main directory in Windows (work)\n",
    "# base_dir = r'C:\\Users\\Grigoriy\\Desktop\\Datasets\\dogs-vs-cats_small'"
   ]
  },
  {
   "cell_type": "code",
   "execution_count": 4,
   "metadata": {},
   "outputs": [],
   "source": [
    "# Main directory in Windows (home)\n",
    "base_dir = r'H:\\Datasets\\dogs-vs-cats_small'"
   ]
  },
  {
   "cell_type": "code",
   "execution_count": 5,
   "metadata": {},
   "outputs": [],
   "source": [
    "train_dir = os.path.join(base_dir, 'train')\n",
    "validation_dir = os.path.join(base_dir, 'validation')\n",
    "test_dir = os.path.join(base_dir, 'test')"
   ]
  },
  {
   "cell_type": "markdown",
   "metadata": {},
   "source": [
    "At this point, there are two ways we could proceed:\n",
    "\n",
    "* Running the convolutional base over our dataset, recording its output to a Numpy array on disk, then using this data as input to a standalone densely-connected classifier similar to those you have seen in the first chapters of this book. This solution is very fast and cheap to run, because it only requires running the convolutional base once for every input image, and the convolutional base is by far the most expensive part of the pipeline. However, for the exact same reason, this technique would not allow us to leverage data augmentation at all.\n",
    "* Extending the model we have (conv_base) by adding Dense layers on top, and running the whole thing end-to-end on the input data. This allows us to use data augmentation, because every input image is going through the convolutional base every time it is seen by the model. However, for this same reason, this technique is far more expensive than the first one."
   ]
  },
  {
   "cell_type": "markdown",
   "metadata": {},
   "source": [
    "**Fast way feature extraction (only features from VGG16 + Dense layers)**"
   ]
  },
  {
   "cell_type": "code",
   "execution_count": 6,
   "metadata": {},
   "outputs": [],
   "source": [
    "datagen = ImageDataGenerator(rescale = 1./255)\n",
    "batch_size = 20"
   ]
  },
  {
   "cell_type": "code",
   "execution_count": 7,
   "metadata": {},
   "outputs": [],
   "source": [
    "def extract_features(directory, sample_count):\n",
    "    features = np.zeros(shape = (sample_count, 4, 4, 512))\n",
    "    labels = np.zeros(shape = (sample_count))\n",
    "    generator = datagen.flow_from_directory(\n",
    "        directory,\n",
    "        target_size = (150, 150),\n",
    "        batch_size = batch_size,\n",
    "        class_mode = 'binary')\n",
    "    i = 0\n",
    "    for inputs_batch, labels_batch in generator:\n",
    "        features_batch = conv_base.predict(inputs_batch)\n",
    "        features[i * batch_size : (i + 1) * batch_size] = features_batch\n",
    "        labels[i * batch_size : (i + 1) * batch_size] = labels_batch\n",
    "        i += 1\n",
    "        if i * batch_size >= sample_count:\n",
    "            # Note that since generators yield data indefinitely in a loop,\n",
    "            # we must `break` after every image has been seen once.\n",
    "            break\n",
    "    return features, labels"
   ]
  },
  {
   "cell_type": "code",
   "execution_count": 8,
   "metadata": {},
   "outputs": [
    {
     "name": "stdout",
     "output_type": "stream",
     "text": [
      "Found 2000 images belonging to 2 classes.\n",
      "Found 1000 images belonging to 2 classes.\n",
      "Found 1000 images belonging to 2 classes.\n"
     ]
    }
   ],
   "source": [
    "train_features, train_labels = extract_features(train_dir, 2000)\n",
    "validation_features, validation_labels = extract_features(validation_dir, 1000)\n",
    "test_features, test_labels = extract_features(test_dir, 1000)"
   ]
  },
  {
   "cell_type": "code",
   "execution_count": 10,
   "metadata": {},
   "outputs": [
    {
     "name": "stdout",
     "output_type": "stream",
     "text": [
      "(2000, 4, 4, 512)\n",
      "(1000, 4, 4, 512)\n",
      "(1000, 4, 4, 512)\n"
     ]
    }
   ],
   "source": [
    "print(train_features.shape)\n",
    "print(validation_features.shape)\n",
    "print(test_features.shape)"
   ]
  },
  {
   "cell_type": "markdown",
   "metadata": {},
   "source": [
    "We will use densely-connected classifier, so we have to flatten our feature matrices"
   ]
  },
  {
   "cell_type": "code",
   "execution_count": 11,
   "metadata": {},
   "outputs": [],
   "source": [
    "train_features = np.reshape(train_features, (2000, 4 * 4 * 512))\n",
    "validation_features = np.reshape(validation_features, (1000, 4 * 4 * 512))\n",
    "test_features = np.reshape(test_features, (1000, 4 * 4 * 512))"
   ]
  },
  {
   "cell_type": "code",
   "execution_count": 16,
   "metadata": {},
   "outputs": [
    {
     "name": "stdout",
     "output_type": "stream",
     "text": [
      "WARNING:tensorflow:From C:\\Users\\Grigoriy\\.conda\\envs\\tf_cpu\\lib\\site-packages\\keras\\backend\\tensorflow_backend.py:3733: calling dropout (from tensorflow.python.ops.nn_ops) with keep_prob is deprecated and will be removed in a future version.\n",
      "Instructions for updating:\n",
      "Please use `rate` instead of `keep_prob`. Rate should be set to `rate = 1 - keep_prob`.\n",
      "WARNING:tensorflow:From C:\\Users\\Grigoriy\\.conda\\envs\\tf_cpu\\lib\\site-packages\\keras\\optimizers.py:793: The name tf.train.Optimizer is deprecated. Please use tf.compat.v1.train.Optimizer instead.\n",
      "\n",
      "WARNING:tensorflow:From C:\\Users\\Grigoriy\\.conda\\envs\\tf_cpu\\lib\\site-packages\\tensorflow\\python\\ops\\nn_impl.py:180: add_dispatch_support.<locals>.wrapper (from tensorflow.python.ops.array_ops) is deprecated and will be removed in a future version.\n",
      "Instructions for updating:\n",
      "Use tf.where in 2.0, which has the same broadcast rule as np.where\n",
      "Train on 2000 samples, validate on 1000 samples\n",
      "Epoch 1/30\n",
      "2000/2000 [==============================] - 18s 9ms/step - loss: 0.4984 - acc: 0.7460 - val_loss: 0.3323 - val_acc: 0.8670\n",
      "Epoch 2/30\n",
      "2000/2000 [==============================] - 18s 9ms/step - loss: 0.3351 - acc: 0.8465 - val_loss: 0.2808 - val_acc: 0.8920\n",
      "Epoch 3/30\n",
      "2000/2000 [==============================] - 17s 9ms/step - loss: 0.2797 - acc: 0.8775 - val_loss: 0.2659 - val_acc: 0.8920\n",
      "Epoch 4/30\n",
      "2000/2000 [==============================] - 18s 9ms/step - loss: 0.2594 - acc: 0.8955 - val_loss: 0.2587 - val_acc: 0.8980\n",
      "Epoch 5/30\n",
      "2000/2000 [==============================] - 18s 9ms/step - loss: 0.2440 - acc: 0.9005 - val_loss: 0.2534 - val_acc: 0.9000\n",
      "Epoch 6/30\n",
      "2000/2000 [==============================] - 17s 9ms/step - loss: 0.2257 - acc: 0.9090 - val_loss: 0.2829 - val_acc: 0.8850\n",
      "Epoch 7/30\n",
      "2000/2000 [==============================] - 17s 9ms/step - loss: 0.2135 - acc: 0.9195 - val_loss: 0.2958 - val_acc: 0.8800\n",
      "Epoch 8/30\n",
      "2000/2000 [==============================] - 17s 9ms/step - loss: 0.2015 - acc: 0.9215 - val_loss: 0.2562 - val_acc: 0.9030\n",
      "Epoch 9/30\n",
      "2000/2000 [==============================] - 18s 9ms/step - loss: 0.1965 - acc: 0.9235 - val_loss: 0.2533 - val_acc: 0.9030\n",
      "Epoch 10/30\n",
      "2000/2000 [==============================] - 17s 9ms/step - loss: 0.1853 - acc: 0.9305 - val_loss: 0.2616 - val_acc: 0.9010\n",
      "Epoch 11/30\n",
      "2000/2000 [==============================] - 17s 9ms/step - loss: 0.1828 - acc: 0.9365 - val_loss: 0.2655 - val_acc: 0.9050\n",
      "Epoch 12/30\n",
      "2000/2000 [==============================] - 18s 9ms/step - loss: 0.1733 - acc: 0.9385 - val_loss: 0.2718 - val_acc: 0.8990\n",
      "Epoch 13/30\n",
      "2000/2000 [==============================] - 18s 9ms/step - loss: 0.1630 - acc: 0.9335 - val_loss: 0.2745 - val_acc: 0.9020\n",
      "Epoch 14/30\n",
      "2000/2000 [==============================] - 18s 9ms/step - loss: 0.1542 - acc: 0.9440 - val_loss: 0.2757 - val_acc: 0.9030\n",
      "Epoch 15/30\n",
      "2000/2000 [==============================] - 17s 9ms/step - loss: 0.1585 - acc: 0.9450 - val_loss: 0.2779 - val_acc: 0.9050\n",
      "Epoch 16/30\n",
      "2000/2000 [==============================] - 18s 9ms/step - loss: 0.1584 - acc: 0.9460 - val_loss: 0.3116 - val_acc: 0.8870\n",
      "Epoch 17/30\n",
      "2000/2000 [==============================] - 18s 9ms/step - loss: 0.1489 - acc: 0.9440 - val_loss: 0.2974 - val_acc: 0.8960\n",
      "Epoch 18/30\n",
      "2000/2000 [==============================] - 18s 9ms/step - loss: 0.1486 - acc: 0.9460 - val_loss: 0.2987 - val_acc: 0.8960\n",
      "Epoch 19/30\n",
      "2000/2000 [==============================] - 18s 9ms/step - loss: 0.1275 - acc: 0.9555 - val_loss: 0.3165 - val_acc: 0.8890\n",
      "Epoch 20/30\n",
      "2000/2000 [==============================] - 17s 9ms/step - loss: 0.1381 - acc: 0.9545 - val_loss: 0.3216 - val_acc: 0.8920\n",
      "Epoch 21/30\n",
      "2000/2000 [==============================] - 17s 9ms/step - loss: 0.1287 - acc: 0.9540 - val_loss: 0.3167 - val_acc: 0.8960\n",
      "Epoch 22/30\n",
      "2000/2000 [==============================] - 17s 9ms/step - loss: 0.1348 - acc: 0.9550 - val_loss: 0.3115 - val_acc: 0.9010\n",
      "Epoch 23/30\n",
      "2000/2000 [==============================] - 17s 9ms/step - loss: 0.1307 - acc: 0.9565 - val_loss: 0.3142 - val_acc: 0.8990\n",
      "Epoch 24/30\n",
      "2000/2000 [==============================] - 17s 9ms/step - loss: 0.1232 - acc: 0.9595 - val_loss: 0.3324 - val_acc: 0.8910\n",
      "Epoch 25/30\n",
      "2000/2000 [==============================] - 18s 9ms/step - loss: 0.1272 - acc: 0.9590 - val_loss: 0.3297 - val_acc: 0.8950\n",
      "Epoch 26/30\n",
      "2000/2000 [==============================] - 18s 9ms/step - loss: 0.1216 - acc: 0.9600 - val_loss: 0.3364 - val_acc: 0.9000\n",
      "Epoch 27/30\n",
      "2000/2000 [==============================] - 18s 9ms/step - loss: 0.1089 - acc: 0.9675 - val_loss: 0.3426 - val_acc: 0.8980\n",
      "Epoch 28/30\n",
      "2000/2000 [==============================] - 17s 9ms/step - loss: 0.1172 - acc: 0.9590 - val_loss: 0.3437 - val_acc: 0.8970\n",
      "Epoch 29/30\n",
      "2000/2000 [==============================] - 17s 9ms/step - loss: 0.1103 - acc: 0.9600 - val_loss: 0.3483 - val_acc: 0.9000\n",
      "Epoch 30/30\n",
      "2000/2000 [==============================] - 18s 9ms/step - loss: 0.1063 - acc: 0.9645 - val_loss: 0.3584 - val_acc: 0.8950\n"
     ]
    }
   ],
   "source": [
    "model = models.Sequential()\n",
    "model.add(layers.Dense(256, activation = 'relu', input_dim = 4 * 4* 512))\n",
    "model.add(layers.Dropout(0.5))\n",
    "model.add(layers.Dense(1, activation = 'sigmoid'))\n",
    "\n",
    "model.compile(optimizer = optimizers.RMSprop(lr = 2e-5),\n",
    "              loss = 'binary_crossentropy',\n",
    "              metrics = ['acc'])\n",
    "\n",
    "history = model.fit(train_features, train_labels,\n",
    "                    epochs = 30,\n",
    "                    batch_size = 2,\n",
    "                    validation_data = (validation_features, validation_labels))"
   ]
  },
  {
   "cell_type": "code",
   "execution_count": 17,
   "metadata": {},
   "outputs": [],
   "source": [
    "model.save('cats_vs_dogs_simple_feature_extraction_VGG16.h5')"
   ]
  },
  {
   "cell_type": "code",
   "execution_count": 20,
   "metadata": {},
   "outputs": [
    {
     "data": {
      "image/png": "[encoded data removed]",
      "text/plain": [
       "<Figure size 432x288 with 1 Axes>"
      ]
     },
     "metadata": {
      "needs_background": "light"
     },
     "output_type": "display_data"
    },
    {
     "data": {
      "image/png": "[encoded data removed]",
      "text/plain": [
       "<Figure size 432x288 with 1 Axes>"
      ]
     },
     "metadata": {
      "needs_background": "light"
     },
     "output_type": "display_data"
    }
   ],
   "source": [
    "acc = history.history['acc']\n",
    "val_acc = history.history['val_acc']\n",
    "loss = history.history['loss']\n",
    "val_loss = history.history['val_loss']\n",
    "\n",
    "epochs  = range(1, len(acc) + 1)\n",
    "plt.plot(epochs, acc, 'bo', label = 'Training acc')\n",
    "plt.plot(epochs, val_acc, 'b', label = 'Validation acc')\n",
    "plt.title('Training and validation acccuracy')\n",
    "plt.legend()\n",
    "\n",
    "plt.show()\n",
    "plt.clf()\n",
    "\n",
    "plt.plot(epochs, loss, 'bo', label = 'Training loss')\n",
    "plt.plot(epochs, val_loss, 'b', label = 'Validation loss')\n",
    "plt.title('Training and validation loss')\n",
    "plt.legend()\n",
    "\n",
    "plt.show()"
   ]
  },
  {
   "cell_type": "markdown",
   "metadata": {},
   "source": [
    "**CNN with freezed convolutional layers of VGG16 (frozen VGG 16 CN layers + Dense layers)**"
   ]
  },
  {
   "cell_type": "code",
   "execution_count": 6,
   "metadata": {},
   "outputs": [],
   "source": [
    "model = models.Sequential()\n",
    "model.add(conv_base)\n",
    "model.add(layers.Flatten())\n",
    "model.add(layers.Dense(256, activation = 'relu'))\n",
    "model.add(layers.Dense(1, activation = 'sigmoid'))"
   ]
  },
  {
   "cell_type": "code",
   "execution_count": 7,
   "metadata": {},
   "outputs": [
    {
     "name": "stdout",
     "output_type": "stream",
     "text": [
      "Model: \"sequential_1\"\n",
      "_________________________________________________________________\n",
      "Layer (type)                 Output Shape              Param #   \n",
      "=================================================================\n",
      "vgg16 (Model)                (None, 4, 4, 512)         14714688  \n",
      "_________________________________________________________________\n",
      "flatten_1 (Flatten)          (None, 8192)              0         \n",
      "_________________________________________________________________\n",
      "dense_1 (Dense)              (None, 256)               2097408   \n",
      "_________________________________________________________________\n",
      "dense_2 (Dense)              (None, 1)                 257       \n",
      "=================================================================\n",
      "Total params: 16,812,353\n",
      "Trainable params: 16,812,353\n",
      "Non-trainable params: 0\n",
      "_________________________________________________________________\n"
     ]
    }
   ],
   "source": [
    "model.summary()"
   ]
  },
  {
   "cell_type": "code",
   "execution_count": 23,
   "metadata": {},
   "outputs": [],
   "source": [
    "#freez VGG16 layers\n",
    "conv_base.trainable = False"
   ]
  },
  {
   "cell_type": "code",
   "execution_count": 8,
   "metadata": {},
   "outputs": [
    {
     "name": "stdout",
     "output_type": "stream",
     "text": [
      "Found 2000 images belonging to 2 classes.\n",
      "Found 1000 images belonging to 2 classes.\n",
      "WARNING:tensorflow:From C:\\Users\\Grigoriy\\.conda\\envs\\tf_gpu\\lib\\site-packages\\keras\\optimizers.py:793: The name tf.train.Optimizer is deprecated. Please use tf.compat.v1.train.Optimizer instead.\n",
      "\n",
      "WARNING:tensorflow:From C:\\Users\\Grigoriy\\.conda\\envs\\tf_gpu\\lib\\site-packages\\tensorflow\\python\\ops\\nn_impl.py:180: add_dispatch_support.<locals>.wrapper (from tensorflow.python.ops.array_ops) is deprecated and will be removed in a future version.\n",
      "Instructions for updating:\n",
      "Use tf.where in 2.0, which has the same broadcast rule as np.where\n"
     ]
    }
   ],
   "source": [
    "train_datagen = ImageDataGenerator(\n",
    "    rescale = 1./255,\n",
    "    rotation_range = 40,\n",
    "    width_shift_range = 0.2,\n",
    "    shear_range = 0.2,\n",
    "    zoom_range = 0.2,\n",
    "    horizontal_flip = True,\n",
    "    fill_mode = 'nearest')\n",
    "\n",
    "test_datagen = ImageDataGenerator(\n",
    "    rescale = 1./255)\n",
    "\n",
    "train_generator = train_datagen.flow_from_directory(\n",
    "    train_dir,\n",
    "    target_size = (150, 150),\n",
    "    batch_size = 20,\n",
    "    class_mode = 'binary')# Since we use binary_crossentropy loss, we need binary labels\n",
    "\n",
    "validation_generator = test_datagen.flow_from_directory(\n",
    "    validation_dir,\n",
    "    target_size = (150, 150),\n",
    "    batch_size = 20,\n",
    "    class_mode = 'binary')\n",
    "\n",
    "model.compile(loss='binary_crossentropy',\n",
    "              optimizer=optimizers.RMSprop(lr=2e-5),\n",
    "              metrics=['acc'])"
   ]
  },
  {
   "cell_type": "code",
   "execution_count": null,
   "metadata": {},
   "outputs": [],
   "source": [
    "history = model.fit_generator(\n",
    "    train_generator,\n",
    "    steps_per_epoch = 100,\n",
    "    epochs = 30,\n",
    "    validation_data = validation_generator,\n",
    "    validation_steps = 50,\n",
    "    verbose = 2)"
   ]
  },
  {
   "cell_type": "code",
   "execution_count": 29,
   "metadata": {},
   "outputs": [],
   "source": [
    "model.save('cats_vs_dogs_frozen_VGG16.h5')"
   ]
  },
  {
   "cell_type": "code",
   "execution_count": 30,
   "metadata": {},
   "outputs": [
    {
     "data": {
      "image/png": "[encoded data removed]",
      "text/plain": [
       "<Figure size 432x288 with 1 Axes>"
      ]
     },
     "metadata": {
      "needs_background": "light"
     },
     "output_type": "display_data"
    },
    {
     "data": {
      "image/png": "[encoded data removed]",
      "text/plain": [
       "<Figure size 432x288 with 1 Axes>"
      ]
     },
     "metadata": {
      "needs_background": "light"
     },
     "output_type": "display_data"
    }
   ],
   "source": [
    "acc = history.history['acc']\n",
    "val_acc = history.history['val_acc']\n",
    "loss = history.history['loss']\n",
    "val_loss = history.history['val_loss']\n",
    "\n",
    "epochs  = range(1, len(acc) + 1)\n",
    "plt.plot(epochs, acc, 'bo', label = 'Training acc')\n",
    "plt.plot(epochs, val_acc, 'b', label = 'Validation acc')\n",
    "plt.title('Training and validation acccuracy')\n",
    "plt.legend()\n",
    "\n",
    "plt.show()\n",
    "plt.clf()\n",
    "\n",
    "plt.plot(epochs, loss, 'bo', label = 'Training loss')\n",
    "plt.plot(epochs, val_loss, 'b', label = 'Validation loss')\n",
    "plt.title('Training and validation loss')\n",
    "plt.legend()\n",
    "\n",
    "plt.show()"
   ]
  },
  {
   "cell_type": "markdown",
   "metadata": {},
   "source": [
    "**Fine-tuning (partly frozen CN VGG 16 + Dense layers)**"
   ]
  },
  {
   "cell_type": "markdown",
   "metadata": {},
   "source": [
    "We can froze only part of VGG16`s convolutions layers  "
   ]
  },
  {
   "cell_type": "code",
   "execution_count": 31,
   "metadata": {},
   "outputs": [
    {
     "name": "stdout",
     "output_type": "stream",
     "text": [
      "Model: \"vgg16\"\n",
      "_________________________________________________________________\n",
      "Layer (type)                 Output Shape              Param #   \n",
      "=================================================================\n",
      "input_1 (InputLayer)         (None, 150, 150, 3)       0         \n",
      "_________________________________________________________________\n",
      "block1_conv1 (Conv2D)        (None, 150, 150, 64)      1792      \n",
      "_________________________________________________________________\n",
      "block1_conv2 (Conv2D)        (None, 150, 150, 64)      36928     \n",
      "_________________________________________________________________\n",
      "block1_pool (MaxPooling2D)   (None, 75, 75, 64)        0         \n",
      "_________________________________________________________________\n",
      "block2_conv1 (Conv2D)        (None, 75, 75, 128)       73856     \n",
      "_________________________________________________________________\n",
      "block2_conv2 (Conv2D)        (None, 75, 75, 128)       147584    \n",
      "_________________________________________________________________\n",
      "block2_pool (MaxPooling2D)   (None, 37, 37, 128)       0         \n",
      "_________________________________________________________________\n",
      "block3_conv1 (Conv2D)        (None, 37, 37, 256)       295168    \n",
      "_________________________________________________________________\n",
      "block3_conv2 (Conv2D)        (None, 37, 37, 256)       590080    \n",
      "_________________________________________________________________\n",
      "block3_conv3 (Conv2D)        (None, 37, 37, 256)       590080    \n",
      "_________________________________________________________________\n",
      "block3_pool (MaxPooling2D)   (None, 18, 18, 256)       0         \n",
      "_________________________________________________________________\n",
      "block4_conv1 (Conv2D)        (None, 18, 18, 512)       1180160   \n",
      "_________________________________________________________________\n",
      "block4_conv2 (Conv2D)        (None, 18, 18, 512)       2359808   \n",
      "_________________________________________________________________\n",
      "block4_conv3 (Conv2D)        (None, 18, 18, 512)       2359808   \n",
      "_________________________________________________________________\n",
      "block4_pool (MaxPooling2D)   (None, 9, 9, 512)         0         \n",
      "_________________________________________________________________\n",
      "block5_conv1 (Conv2D)        (None, 9, 9, 512)         2359808   \n",
      "_________________________________________________________________\n",
      "block5_conv2 (Conv2D)        (None, 9, 9, 512)         2359808   \n",
      "_________________________________________________________________\n",
      "block5_conv3 (Conv2D)        (None, 9, 9, 512)         2359808   \n",
      "_________________________________________________________________\n",
      "block5_pool (MaxPooling2D)   (None, 4, 4, 512)         0         \n",
      "=================================================================\n",
      "Total params: 14,714,688\n",
      "Trainable params: 0\n",
      "Non-trainable params: 14,714,688\n",
      "_________________________________________________________________\n"
     ]
    }
   ],
   "source": [
    "conv_base.summary()"
   ]
  },
  {
   "cell_type": "code",
   "execution_count": 9,
   "metadata": {},
   "outputs": [],
   "source": [
    "# Froze everything above block5\n",
    "conv_base.trainable = True\n",
    "\n",
    "set_trainable = False\n",
    "for layer in conv_base.layers:\n",
    "    if layer.name == 'block5_conv1':\n",
    "        set_trainable = True\n",
    "    if set_trainable:\n",
    "        layer.trainable = True\n",
    "    else:\n",
    "        layer.trainable = False\n",
    "        "
   ]
  },
  {
   "cell_type": "code",
   "execution_count": 10,
   "metadata": {},
   "outputs": [
    {
     "name": "stdout",
     "output_type": "stream",
     "text": [
      "Model: \"vgg16\"\n",
      "_________________________________________________________________\n",
      "Layer (type)                 Output Shape              Param #   \n",
      "=================================================================\n",
      "input_1 (InputLayer)         (None, 150, 150, 3)       0         \n",
      "_________________________________________________________________\n",
      "block1_conv1 (Conv2D)        (None, 150, 150, 64)      1792      \n",
      "_________________________________________________________________\n",
      "block1_conv2 (Conv2D)        (None, 150, 150, 64)      36928     \n",
      "_________________________________________________________________\n",
      "block1_pool (MaxPooling2D)   (None, 75, 75, 64)        0         \n",
      "_________________________________________________________________\n",
      "block2_conv1 (Conv2D)        (None, 75, 75, 128)       73856     \n",
      "_________________________________________________________________\n",
      "block2_conv2 (Conv2D)        (None, 75, 75, 128)       147584    \n",
      "_________________________________________________________________\n",
      "block2_pool (MaxPooling2D)   (None, 37, 37, 128)       0         \n",
      "_________________________________________________________________\n",
      "block3_conv1 (Conv2D)        (None, 37, 37, 256)       295168    \n",
      "_________________________________________________________________\n",
      "block3_conv2 (Conv2D)        (None, 37, 37, 256)       590080    \n",
      "_________________________________________________________________\n",
      "block3_conv3 (Conv2D)        (None, 37, 37, 256)       590080    \n",
      "_________________________________________________________________\n",
      "block3_pool (MaxPooling2D)   (None, 18, 18, 256)       0         \n",
      "_________________________________________________________________\n",
      "block4_conv1 (Conv2D)        (None, 18, 18, 512)       1180160   \n",
      "_________________________________________________________________\n",
      "block4_conv2 (Conv2D)        (None, 18, 18, 512)       2359808   \n",
      "_________________________________________________________________\n",
      "block4_conv3 (Conv2D)        (None, 18, 18, 512)       2359808   \n",
      "_________________________________________________________________\n",
      "block4_pool (MaxPooling2D)   (None, 9, 9, 512)         0         \n",
      "_________________________________________________________________\n",
      "block5_conv1 (Conv2D)        (None, 9, 9, 512)         2359808   \n",
      "_________________________________________________________________\n",
      "block5_conv2 (Conv2D)        (None, 9, 9, 512)         2359808   \n",
      "_________________________________________________________________\n",
      "block5_conv3 (Conv2D)        (None, 9, 9, 512)         2359808   \n",
      "_________________________________________________________________\n",
      "block5_pool (MaxPooling2D)   (None, 4, 4, 512)         0         \n",
      "=================================================================\n",
      "Total params: 14,714,688\n",
      "Trainable params: 7,079,424\n",
      "Non-trainable params: 7,635,264\n",
      "_________________________________________________________________\n"
     ]
    }
   ],
   "source": [
    "conv_base.summary()"
   ]
  },
  {
   "cell_type": "code",
   "execution_count": 11,
   "metadata": {},
   "outputs": [
    {
     "name": "stdout",
     "output_type": "stream",
     "text": [
      "Epoch 1/100\n",
      "100/100 [==============================] - 98s 983ms/step - loss: 0.5037 - acc: 0.7615 - val_loss: 0.3118 - val_acc: 0.8730\n",
      "Epoch 2/100\n",
      "100/100 [==============================] - 90s 905ms/step - loss: 0.3319 - acc: 0.8555 - val_loss: 0.2452 - val_acc: 0.9020\n",
      "Epoch 3/100\n",
      "100/100 [==============================] - 90s 905ms/step - loss: 0.2754 - acc: 0.8795 - val_loss: 0.2248 - val_acc: 0.9090\n",
      "Epoch 4/100\n",
      "100/100 [==============================] - 90s 904ms/step - loss: 0.2602 - acc: 0.8955 - val_loss: 0.2607 - val_acc: 0.8960\n",
      "Epoch 5/100\n",
      "100/100 [==============================] - 90s 904ms/step - loss: 0.2358 - acc: 0.9040 - val_loss: 0.2027 - val_acc: 0.9160\n",
      "Epoch 6/100\n",
      "100/100 [==============================] - 92s 915ms/step - loss: 0.2200 - acc: 0.9090 - val_loss: 0.2099 - val_acc: 0.9110\n",
      "Epoch 7/100\n",
      "100/100 [==============================] - 95s 953ms/step - loss: 0.2139 - acc: 0.9190 - val_loss: 0.1928 - val_acc: 0.9170\n",
      "Epoch 8/100\n",
      "100/100 [==============================] - 93s 933ms/step - loss: 0.1777 - acc: 0.9300 - val_loss: 0.1793 - val_acc: 0.9250\n",
      "Epoch 9/100\n",
      "100/100 [==============================] - 94s 942ms/step - loss: 0.1767 - acc: 0.9280 - val_loss: 0.1784 - val_acc: 0.9270\n",
      "Epoch 10/100\n",
      "100/100 [==============================] - 96s 956ms/step - loss: 0.1673 - acc: 0.9285 - val_loss: 0.1864 - val_acc: 0.9260\n",
      "Epoch 11/100\n",
      "100/100 [==============================] - 96s 960ms/step - loss: 0.1627 - acc: 0.9390 - val_loss: 0.1757 - val_acc: 0.9260\n",
      "Epoch 12/100\n",
      "100/100 [==============================] - 94s 943ms/step - loss: 0.1542 - acc: 0.9390 - val_loss: 0.1774 - val_acc: 0.9290\n",
      "Epoch 13/100\n",
      "100/100 [==============================] - 95s 946ms/step - loss: 0.1566 - acc: 0.9390 - val_loss: 0.1779 - val_acc: 0.9260\n",
      "Epoch 14/100\n",
      "100/100 [==============================] - 94s 943ms/step - loss: 0.1467 - acc: 0.9360 - val_loss: 0.1732 - val_acc: 0.9280\n",
      "Epoch 15/100\n",
      "100/100 [==============================] - 94s 942ms/step - loss: 0.1256 - acc: 0.9490 - val_loss: 0.1698 - val_acc: 0.9330\n",
      "Epoch 16/100\n",
      "100/100 [==============================] - 94s 938ms/step - loss: 0.1282 - acc: 0.9470 - val_loss: 0.2259 - val_acc: 0.9180\n",
      "Epoch 17/100\n",
      "100/100 [==============================] - 94s 944ms/step - loss: 0.1188 - acc: 0.9575 - val_loss: 0.1895 - val_acc: 0.9300\n",
      "Epoch 18/100\n",
      "100/100 [==============================] - 94s 942ms/step - loss: 0.1097 - acc: 0.9600 - val_loss: 0.1777 - val_acc: 0.9360\n",
      "Epoch 19/100\n",
      "100/100 [==============================] - 94s 940ms/step - loss: 0.0964 - acc: 0.9615 - val_loss: 0.1933 - val_acc: 0.9340\n",
      "Epoch 20/100\n",
      "100/100 [==============================] - 94s 940ms/step - loss: 0.1088 - acc: 0.9565 - val_loss: 0.1702 - val_acc: 0.9340\n",
      "Epoch 21/100\n",
      "100/100 [==============================] - 94s 941ms/step - loss: 0.0918 - acc: 0.9670 - val_loss: 0.1870 - val_acc: 0.9350\n",
      "Epoch 22/100\n",
      "100/100 [==============================] - 94s 937ms/step - loss: 0.0958 - acc: 0.9585 - val_loss: 0.1725 - val_acc: 0.9310\n",
      "Epoch 23/100\n",
      "100/100 [==============================] - 91s 910ms/step - loss: 0.0854 - acc: 0.9700 - val_loss: 0.1819 - val_acc: 0.9350\n",
      "Epoch 24/100\n",
      "100/100 [==============================] - 95s 954ms/step - loss: 0.0775 - acc: 0.9710 - val_loss: 0.1712 - val_acc: 0.9370\n",
      "Epoch 25/100\n",
      "100/100 [==============================] - 95s 952ms/step - loss: 0.0913 - acc: 0.9660 - val_loss: 0.1880 - val_acc: 0.9250\n",
      "Epoch 26/100\n",
      "100/100 [==============================] - 95s 951ms/step - loss: 0.0759 - acc: 0.9750 - val_loss: 0.1680 - val_acc: 0.9300\n",
      "Epoch 27/100\n",
      "100/100 [==============================] - 95s 953ms/step - loss: 0.0825 - acc: 0.9650 - val_loss: 0.1699 - val_acc: 0.9350\n",
      "Epoch 28/100\n",
      "100/100 [==============================] - 95s 952ms/step - loss: 0.0640 - acc: 0.9750 - val_loss: 0.1777 - val_acc: 0.9380\n",
      "Epoch 29/100\n",
      "100/100 [==============================] - 95s 952ms/step - loss: 0.0739 - acc: 0.9750 - val_loss: 0.1733 - val_acc: 0.9390\n",
      "Epoch 30/100\n",
      "100/100 [==============================] - 95s 953ms/step - loss: 0.0715 - acc: 0.9700 - val_loss: 0.1733 - val_acc: 0.9390\n",
      "Epoch 31/100\n",
      "100/100 [==============================] - 95s 953ms/step - loss: 0.0585 - acc: 0.9800 - val_loss: 0.1774 - val_acc: 0.9360\n",
      "Epoch 32/100\n",
      "100/100 [==============================] - 95s 952ms/step - loss: 0.0481 - acc: 0.9820 - val_loss: 0.1808 - val_acc: 0.9410\n",
      "Epoch 33/100\n",
      "100/100 [==============================] - 95s 952ms/step - loss: 0.0577 - acc: 0.9795 - val_loss: 0.2006 - val_acc: 0.9340\n",
      "Epoch 34/100\n",
      "100/100 [==============================] - 95s 954ms/step - loss: 0.0534 - acc: 0.9775 - val_loss: 0.2150 - val_acc: 0.9260\n",
      "Epoch 35/100\n",
      "100/100 [==============================] - 95s 953ms/step - loss: 0.0583 - acc: 0.9775 - val_loss: 0.1859 - val_acc: 0.9370\n",
      "Epoch 36/100\n",
      "100/100 [==============================] - 95s 952ms/step - loss: 0.0535 - acc: 0.9810 - val_loss: 0.2411 - val_acc: 0.9280\n",
      "Epoch 37/100\n",
      "100/100 [==============================] - 95s 952ms/step - loss: 0.0488 - acc: 0.9855 - val_loss: 0.1950 - val_acc: 0.9310\n",
      "Epoch 38/100\n",
      "100/100 [==============================] - 95s 952ms/step - loss: 0.0477 - acc: 0.9815 - val_loss: 0.2164 - val_acc: 0.9330\n",
      "Epoch 39/100\n",
      "100/100 [==============================] - 95s 953ms/step - loss: 0.0437 - acc: 0.9845 - val_loss: 0.2112 - val_acc: 0.9310\n",
      "Epoch 40/100\n",
      "100/100 [==============================] - 95s 953ms/step - loss: 0.0490 - acc: 0.9840 - val_loss: 0.2044 - val_acc: 0.9360\n",
      "Epoch 41/100\n",
      "100/100 [==============================] - 95s 953ms/step - loss: 0.0314 - acc: 0.9880 - val_loss: 0.2429 - val_acc: 0.9280\n",
      "Epoch 42/100\n",
      "100/100 [==============================] - 95s 952ms/step - loss: 0.0448 - acc: 0.9805 - val_loss: 0.2319 - val_acc: 0.9330\n",
      "Epoch 43/100\n",
      "100/100 [==============================] - 95s 951ms/step - loss: 0.0392 - acc: 0.9870 - val_loss: 0.2105 - val_acc: 0.9330\n",
      "Epoch 44/100\n",
      "100/100 [==============================] - 95s 952ms/step - loss: 0.0333 - acc: 0.9895 - val_loss: 0.2045 - val_acc: 0.9380\n",
      "Epoch 45/100\n",
      "100/100 [==============================] - 95s 951ms/step - loss: 0.0350 - acc: 0.9870 - val_loss: 0.2232 - val_acc: 0.9320\n",
      "Epoch 46/100\n",
      "100/100 [==============================] - 95s 953ms/step - loss: 0.0398 - acc: 0.9860 - val_loss: 0.2039 - val_acc: 0.9420\n",
      "Epoch 47/100\n",
      "100/100 [==============================] - 95s 953ms/step - loss: 0.0327 - acc: 0.9890 - val_loss: 0.2540 - val_acc: 0.9330\n",
      "Epoch 48/100\n",
      "100/100 [==============================] - 95s 952ms/step - loss: 0.0317 - acc: 0.9895 - val_loss: 0.2442 - val_acc: 0.9290\n",
      "Epoch 49/100\n",
      "100/100 [==============================] - 95s 952ms/step - loss: 0.0315 - acc: 0.9885 - val_loss: 0.2241 - val_acc: 0.9370\n",
      "Epoch 50/100\n",
      "100/100 [==============================] - 95s 953ms/step - loss: 0.0329 - acc: 0.9910 - val_loss: 0.2328 - val_acc: 0.9360\n",
      "Epoch 51/100\n",
      "100/100 [==============================] - 95s 953ms/step - loss: 0.0330 - acc: 0.9865 - val_loss: 0.2133 - val_acc: 0.9320\n",
      "Epoch 52/100\n",
      "100/100 [==============================] - 92s 915ms/step - loss: 0.0311 - acc: 0.9895 - val_loss: 0.2277 - val_acc: 0.9310\n",
      "Epoch 53/100\n",
      "100/100 [==============================] - 91s 908ms/step - loss: 0.0276 - acc: 0.9905 - val_loss: 0.2218 - val_acc: 0.9360\n",
      "Epoch 54/100\n",
      "100/100 [==============================] - 93s 934ms/step - loss: 0.0324 - acc: 0.9905 - val_loss: 0.2554 - val_acc: 0.9340\n",
      "Epoch 55/100\n",
      "100/100 [==============================] - 95s 953ms/step - loss: 0.0234 - acc: 0.9915 - val_loss: 0.2416 - val_acc: 0.9300\n",
      "Epoch 56/100\n",
      "100/100 [==============================] - 95s 952ms/step - loss: 0.0192 - acc: 0.9945 - val_loss: 0.2563 - val_acc: 0.9310\n",
      "Epoch 57/100\n",
      "100/100 [==============================] - 95s 952ms/step - loss: 0.0200 - acc: 0.9935 - val_loss: 0.2670 - val_acc: 0.9320\n",
      "Epoch 58/100\n",
      "100/100 [==============================] - 95s 953ms/step - loss: 0.0305 - acc: 0.9885 - val_loss: 0.2401 - val_acc: 0.9360\n",
      "Epoch 59/100\n",
      "100/100 [==============================] - 93s 935ms/step - loss: 0.0247 - acc: 0.9920 - val_loss: 0.2895 - val_acc: 0.9260\n",
      "Epoch 60/100\n",
      "100/100 [==============================] - 91s 910ms/step - loss: 0.0206 - acc: 0.9925 - val_loss: 0.5164 - val_acc: 0.9020\n"
     ]
    },
    {
     "name": "stdout",
     "output_type": "stream",
     "text": [
      "Epoch 61/100\n",
      "100/100 [==============================] - 92s 918ms/step - loss: 0.0202 - acc: 0.9925 - val_loss: 0.2279 - val_acc: 0.9330\n",
      "Epoch 62/100\n",
      "100/100 [==============================] - 94s 936ms/step - loss: 0.0166 - acc: 0.9950 - val_loss: 0.2359 - val_acc: 0.9340\n",
      "Epoch 63/100\n",
      "100/100 [==============================] - 91s 909ms/step - loss: 0.0214 - acc: 0.9920 - val_loss: 0.2439 - val_acc: 0.9370\n",
      "Epoch 64/100\n",
      "100/100 [==============================] - 91s 907ms/step - loss: 0.0228 - acc: 0.9915 - val_loss: 0.3557 - val_acc: 0.9180\n",
      "Epoch 65/100\n",
      "100/100 [==============================] - 93s 926ms/step - loss: 0.0177 - acc: 0.9945 - val_loss: 0.3184 - val_acc: 0.9270\n",
      "Epoch 66/100\n",
      "100/100 [==============================] - 91s 913ms/step - loss: 0.0237 - acc: 0.9910 - val_loss: 0.3426 - val_acc: 0.9250\n",
      "Epoch 67/100\n",
      "100/100 [==============================] - 91s 905ms/step - loss: 0.0194 - acc: 0.9930 - val_loss: 0.2356 - val_acc: 0.9320\n",
      "Epoch 68/100\n",
      "100/100 [==============================] - 91s 906ms/step - loss: 0.0240 - acc: 0.9910 - val_loss: 0.2505 - val_acc: 0.9360\n",
      "Epoch 69/100\n",
      "100/100 [==============================] - 91s 905ms/step - loss: 0.0253 - acc: 0.9935 - val_loss: 0.2954 - val_acc: 0.9310\n",
      "Epoch 70/100\n",
      "100/100 [==============================] - 94s 935ms/step - loss: 0.0119 - acc: 0.9965 - val_loss: 0.3426 - val_acc: 0.9210\n",
      "Epoch 71/100\n",
      "100/100 [==============================] - 92s 925ms/step - loss: 0.0117 - acc: 0.9970 - val_loss: 0.2842 - val_acc: 0.9300\n",
      "Epoch 72/100\n",
      "100/100 [==============================] - 92s 924ms/step - loss: 0.0195 - acc: 0.9935 - val_loss: 0.2526 - val_acc: 0.9360\n",
      "Epoch 73/100\n",
      "100/100 [==============================] - 93s 931ms/step - loss: 0.0209 - acc: 0.9920 - val_loss: 0.2512 - val_acc: 0.9390\n",
      "Epoch 74/100\n",
      "100/100 [==============================] - 94s 940ms/step - loss: 0.0116 - acc: 0.9955 - val_loss: 0.3332 - val_acc: 0.9300\n",
      "Epoch 75/100\n",
      "100/100 [==============================] - 92s 915ms/step - loss: 0.0230 - acc: 0.9910 - val_loss: 0.2978 - val_acc: 0.9360\n",
      "Epoch 76/100\n",
      "100/100 [==============================] - 91s 906ms/step - loss: 0.0218 - acc: 0.9925 - val_loss: 0.2776 - val_acc: 0.9330\n",
      "Epoch 77/100\n",
      "100/100 [==============================] - 91s 906ms/step - loss: 0.0159 - acc: 0.9945 - val_loss: 0.2588 - val_acc: 0.9420\n",
      "Epoch 78/100\n",
      "100/100 [==============================] - 91s 906ms/step - loss: 0.0196 - acc: 0.9935 - val_loss: 0.2738 - val_acc: 0.9360\n",
      "Epoch 79/100\n",
      "100/100 [==============================] - 91s 906ms/step - loss: 0.0141 - acc: 0.9950 - val_loss: 0.2316 - val_acc: 0.9350\n",
      "Epoch 80/100\n",
      "100/100 [==============================] - 91s 905ms/step - loss: 0.0198 - acc: 0.9930 - val_loss: 0.2920 - val_acc: 0.9260\n",
      "Epoch 81/100\n",
      "100/100 [==============================] - 91s 906ms/step - loss: 0.0168 - acc: 0.9935 - val_loss: 0.2977 - val_acc: 0.9340\n",
      "Epoch 82/100\n",
      "100/100 [==============================] - 90s 896ms/step - loss: 0.0104 - acc: 0.9950 - val_loss: 0.2569 - val_acc: 0.9370\n",
      "Epoch 83/100\n",
      "100/100 [==============================] - 89s 889ms/step - loss: 0.0173 - acc: 0.9935 - val_loss: 0.3230 - val_acc: 0.9290\n",
      "Epoch 84/100\n",
      "100/100 [==============================] - 89s 889ms/step - loss: 0.0090 - acc: 0.9975 - val_loss: 0.2680 - val_acc: 0.9340\n",
      "Epoch 85/100\n",
      "100/100 [==============================] - 89s 889ms/step - loss: 0.0189 - acc: 0.9945 - val_loss: 0.2658 - val_acc: 0.9360\n",
      "Epoch 86/100\n",
      "100/100 [==============================] - 89s 889ms/step - loss: 0.0122 - acc: 0.9940 - val_loss: 0.2695 - val_acc: 0.9360\n",
      "Epoch 87/100\n",
      "100/100 [==============================] - 89s 889ms/step - loss: 0.0178 - acc: 0.9950 - val_loss: 0.4717 - val_acc: 0.9150\n",
      "Epoch 88/100\n",
      "100/100 [==============================] - 89s 889ms/step - loss: 0.0156 - acc: 0.9940 - val_loss: 0.3910 - val_acc: 0.9190\n",
      "Epoch 89/100\n",
      "100/100 [==============================] - 89s 889ms/step - loss: 0.0097 - acc: 0.9960 - val_loss: 0.2865 - val_acc: 0.9350\n",
      "Epoch 90/100\n",
      "100/100 [==============================] - 89s 889ms/step - loss: 0.0257 - acc: 0.9910 - val_loss: 0.2972 - val_acc: 0.9340\n",
      "Epoch 91/100\n",
      "100/100 [==============================] - 89s 889ms/step - loss: 0.0089 - acc: 0.9980 - val_loss: 0.3132 - val_acc: 0.9290\n",
      "Epoch 92/100\n",
      "100/100 [==============================] - 89s 889ms/step - loss: 0.0171 - acc: 0.9950 - val_loss: 0.3185 - val_acc: 0.9280\n",
      "Epoch 93/100\n",
      "100/100 [==============================] - 89s 889ms/step - loss: 0.0147 - acc: 0.9950 - val_loss: 0.2810 - val_acc: 0.9300\n",
      "Epoch 94/100\n",
      "100/100 [==============================] - 89s 889ms/step - loss: 0.0157 - acc: 0.9955 - val_loss: 0.3333 - val_acc: 0.9290\n",
      "Epoch 95/100\n",
      "100/100 [==============================] - 482s 5s/step - loss: 0.0145 - acc: 0.9950 - val_loss: 0.4124 - val_acc: 0.9190\n",
      "Epoch 96/100\n",
      "100/100 [==============================] - 91s 909ms/step - loss: 0.0084 - acc: 0.9970 - val_loss: 0.3205 - val_acc: 0.9330\n",
      "Epoch 97/100\n",
      "100/100 [==============================] - 91s 909ms/step - loss: 0.0124 - acc: 0.9945 - val_loss: 0.3427 - val_acc: 0.9340\n",
      "Epoch 98/100\n",
      "100/100 [==============================] - 91s 905ms/step - loss: 0.0132 - acc: 0.9950 - val_loss: 0.2850 - val_acc: 0.9360\n",
      "Epoch 99/100\n",
      "100/100 [==============================] - 91s 906ms/step - loss: 0.0126 - acc: 0.9960 - val_loss: 0.2881 - val_acc: 0.9340\n",
      "Epoch 100/100\n",
      "100/100 [==============================] - 91s 906ms/step - loss: 0.0191 - acc: 0.9945 - val_loss: 0.2984 - val_acc: 0.9390\n"
     ]
    }
   ],
   "source": [
    "model.compile(loss = 'binary_crossentropy',\n",
    "              optimizer = optimizers.RMSprop(lr = 1e-5),\n",
    "              metrics = ['acc'])\n",
    "history = model.fit_generator(\n",
    "    train_generator,\n",
    "    steps_per_epoch = 100,\n",
    "    epochs = 100,\n",
    "    validation_data = validation_generator,\n",
    "    validation_steps = 50)            "
   ]
  },
  {
   "cell_type": "code",
   "execution_count": 12,
   "metadata": {},
   "outputs": [],
   "source": [
    "model.save('cats_vs_dogs_partly_frozen_VGG16.h5')"
   ]
  },
  {
   "cell_type": "code",
   "execution_count": 13,
   "metadata": {},
   "outputs": [
    {
     "data": {
      "image/png": "[encoded data removed]",
      "text/plain": [
       "<Figure size 432x288 with 1 Axes>"
      ]
     },
     "metadata": {
      "needs_background": "light"
     },
     "output_type": "display_data"
    },
    {
     "data": {
      "image/png": "[encoded data removed]",
      "text/plain": [
       "<Figure size 432x288 with 1 Axes>"
      ]
     },
     "metadata": {
      "needs_background": "light"
     },
     "output_type": "display_data"
    }
   ],
   "source": [
    "acc = history.history['acc']\n",
    "val_acc = history.history['val_acc']\n",
    "loss = history.history['loss']\n",
    "val_loss = history.history['val_loss']\n",
    "\n",
    "epochs  = range(1, len(acc) + 1)\n",
    "plt.plot(epochs, acc, 'bo', label = 'Training acc')\n",
    "plt.plot(epochs, val_acc, 'b', label = 'Validation acc')\n",
    "plt.title('Training and validation acccuracy')\n",
    "plt.legend()\n",
    "\n",
    "plt.show()\n",
    "plt.clf()\n",
    "\n",
    "plt.plot(epochs, loss, 'bo', label = 'Training loss')\n",
    "plt.plot(epochs, val_loss, 'b', label = 'Validation loss')\n",
    "plt.title('Training and validation loss')\n",
    "plt.legend()\n",
    "\n",
    "plt.show()"
   ]
  },
  {
   "cell_type": "code",
   "execution_count": 14,
   "metadata": {},
   "outputs": [],
   "source": [
    "def smooth_curve(points, factor = 0.8):\n",
    "    smoothed_points = []\n",
    "    for point in points:\n",
    "        if smoothed_points:\n",
    "            previous = smoothed_points[-1]\n",
    "            smoothed_points.append(previous * factor + point * (1 - factor))\n",
    "        else:\n",
    "            smoothed_points.append(point)\n",
    "    return smoothed_points"
   ]
  },
  {
   "cell_type": "code",
   "execution_count": 15,
   "metadata": {},
   "outputs": [
    {
     "data": {
      "image/png": "[encoded data removed]",
      "text/plain": [
       "<Figure size 432x288 with 1 Axes>"
      ]
     },
     "metadata": {
      "needs_background": "light"
     },
     "output_type": "display_data"
    },
    {
     "data": {
      "image/png": "[encoded data removed]",
      "text/plain": [
       "<Figure size 432x288 with 1 Axes>"
      ]
     },
     "metadata": {
      "needs_background": "light"
     },
     "output_type": "display_data"
    }
   ],
   "source": [
    "plt.plot(epochs, smooth_curve(acc), 'bo', label = 'Training acc')\n",
    "plt.plot(epochs, smooth_curve(val_acc), 'b', label = 'Validation acc')\n",
    "plt.title('Training and validation acccuracy')\n",
    "plt.legend()\n",
    "\n",
    "plt.show()\n",
    "plt.clf()\n",
    "\n",
    "plt.plot(epochs, smooth_curve(loss), 'bo', label = 'Training loss')\n",
    "plt.plot(epochs, smooth_curve(val_loss), 'b', label = 'Validation loss')\n",
    "plt.title('Training and validation loss')\n",
    "plt.legend()\n",
    "\n",
    "plt.show()"
   ]
  },
  {
   "cell_type": "code",
   "execution_count": 16,
   "metadata": {},
   "outputs": [
    {
     "name": "stdout",
     "output_type": "stream",
     "text": [
      "Found 1000 images belonging to 2 classes.\n",
      "test acc: 0.9379999947547912\n"
     ]
    }
   ],
   "source": [
    "test_generator = test_datagen.flow_from_directory(\n",
    "    test_dir,\n",
    "    target_size = (150, 150),\n",
    "    batch_size = 20,\n",
    "    class_mode = 'binary')\n",
    "test_loss, test_acc = model.evaluate_generator(test_generator, steps = 50)\n",
    "print('test acc:', test_acc)"
   ]
  },
  {
   "cell_type": "code",
   "execution_count": null,
   "metadata": {},
   "outputs": [],
   "source": []
  }
 ],
 "metadata": {
  "kernelspec": {
   "display_name": "Python 3",
   "language": "python",
   "name": "python3"
  },
  "language_info": {
   "codemirror_mode": {
    "name": "ipython",
    "version": 3
   },
   "file_extension": ".py",
   "mimetype": "text/x-python",
   "name": "python",
   "nbconvert_exporter": "python",
   "pygments_lexer": "ipython3",
   "version": "3.6.9"
  }
 },
 "nbformat": 4,
 "nbformat_minor": 2
}

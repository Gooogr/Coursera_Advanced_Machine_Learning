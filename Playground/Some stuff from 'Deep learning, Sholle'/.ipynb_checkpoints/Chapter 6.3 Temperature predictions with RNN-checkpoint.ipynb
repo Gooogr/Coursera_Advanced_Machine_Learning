{
 "cells": [
  {
   "cell_type": "code",
   "execution_count": 27,
   "metadata": {},
   "outputs": [],
   "source": [
    "import pandas as pd\n",
    "import os\n",
    "import numpy as np\n",
    "import matplotlib.pyplot as plt \n",
    "\n",
    "from keras.models import Sequential\n",
    "from keras import layers\n",
    "from keras.optimizers import RMSprop"
   ]
  },
  {
   "cell_type": "markdown",
   "metadata": {},
   "source": [
    "Официальный ноутбук: https://github.com/fchollet/deep-learning-with-python-notebooks/blob/master/6.3-advanced-usage-of-recurrent-neural-networks.ipynb"
   ]
  },
  {
   "cell_type": "markdown",
   "metadata": {},
   "source": [
    "Загрузим исходные данные"
   ]
  },
  {
   "cell_type": "code",
   "execution_count": 28,
   "metadata": {},
   "outputs": [],
   "source": [
    "# url - https://s3.amazonaws.com/keras-datasets/jena_climate_2009_2016.csv.zip\n",
    "data_dir = './RNN models and data  for chapter 6/'\n",
    "fname = os.path.join(data_dir, 'jena_climate_2009_2016.csv')\n",
    "data = pd.read_csv(fname)"
   ]
  },
  {
   "cell_type": "code",
   "execution_count": 29,
   "metadata": {},
   "outputs": [
    {
     "name": "stdout",
     "output_type": "stream",
     "text": [
      "Размерность датафрейма: (420551, 15)\n"
     ]
    }
   ],
   "source": [
    "print('Размерность датафрейма:',data.shape)"
   ]
  },
  {
   "cell_type": "code",
   "execution_count": 30,
   "metadata": {},
   "outputs": [
    {
     "data": {
      "text/html": [
       "<div>\n",
       "<style scoped>\n",
       "    .dataframe tbody tr th:only-of-type {\n",
       "        vertical-align: middle;\n",
       "    }\n",
       "\n",
       "    .dataframe tbody tr th {\n",
       "        vertical-align: top;\n",
       "    }\n",
       "\n",
       "    .dataframe thead th {\n",
       "        text-align: right;\n",
       "    }\n",
       "</style>\n",
       "<table border=\"1\" class=\"dataframe\">\n",
       "  <thead>\n",
       "    <tr style=\"text-align: right;\">\n",
       "      <th></th>\n",
       "      <th>Date Time</th>\n",
       "      <th>p (mbar)</th>\n",
       "      <th>T (degC)</th>\n",
       "      <th>Tpot (K)</th>\n",
       "      <th>Tdew (degC)</th>\n",
       "      <th>rh (%)</th>\n",
       "      <th>VPmax (mbar)</th>\n",
       "      <th>VPact (mbar)</th>\n",
       "      <th>VPdef (mbar)</th>\n",
       "      <th>sh (g/kg)</th>\n",
       "      <th>H2OC (mmol/mol)</th>\n",
       "      <th>rho (g/m**3)</th>\n",
       "      <th>wv (m/s)</th>\n",
       "      <th>max. wv (m/s)</th>\n",
       "      <th>wd (deg)</th>\n",
       "    </tr>\n",
       "  </thead>\n",
       "  <tbody>\n",
       "    <tr>\n",
       "      <td>0</td>\n",
       "      <td>01.01.2009 00:10:00</td>\n",
       "      <td>996.52</td>\n",
       "      <td>-8.02</td>\n",
       "      <td>265.40</td>\n",
       "      <td>-8.90</td>\n",
       "      <td>93.3</td>\n",
       "      <td>3.33</td>\n",
       "      <td>3.11</td>\n",
       "      <td>0.22</td>\n",
       "      <td>1.94</td>\n",
       "      <td>3.12</td>\n",
       "      <td>1307.75</td>\n",
       "      <td>1.03</td>\n",
       "      <td>1.75</td>\n",
       "      <td>152.3</td>\n",
       "    </tr>\n",
       "    <tr>\n",
       "      <td>1</td>\n",
       "      <td>01.01.2009 00:20:00</td>\n",
       "      <td>996.57</td>\n",
       "      <td>-8.41</td>\n",
       "      <td>265.01</td>\n",
       "      <td>-9.28</td>\n",
       "      <td>93.4</td>\n",
       "      <td>3.23</td>\n",
       "      <td>3.02</td>\n",
       "      <td>0.21</td>\n",
       "      <td>1.89</td>\n",
       "      <td>3.03</td>\n",
       "      <td>1309.80</td>\n",
       "      <td>0.72</td>\n",
       "      <td>1.50</td>\n",
       "      <td>136.1</td>\n",
       "    </tr>\n",
       "    <tr>\n",
       "      <td>2</td>\n",
       "      <td>01.01.2009 00:30:00</td>\n",
       "      <td>996.53</td>\n",
       "      <td>-8.51</td>\n",
       "      <td>264.91</td>\n",
       "      <td>-9.31</td>\n",
       "      <td>93.9</td>\n",
       "      <td>3.21</td>\n",
       "      <td>3.01</td>\n",
       "      <td>0.20</td>\n",
       "      <td>1.88</td>\n",
       "      <td>3.02</td>\n",
       "      <td>1310.24</td>\n",
       "      <td>0.19</td>\n",
       "      <td>0.63</td>\n",
       "      <td>171.6</td>\n",
       "    </tr>\n",
       "    <tr>\n",
       "      <td>3</td>\n",
       "      <td>01.01.2009 00:40:00</td>\n",
       "      <td>996.51</td>\n",
       "      <td>-8.31</td>\n",
       "      <td>265.12</td>\n",
       "      <td>-9.07</td>\n",
       "      <td>94.2</td>\n",
       "      <td>3.26</td>\n",
       "      <td>3.07</td>\n",
       "      <td>0.19</td>\n",
       "      <td>1.92</td>\n",
       "      <td>3.08</td>\n",
       "      <td>1309.19</td>\n",
       "      <td>0.34</td>\n",
       "      <td>0.50</td>\n",
       "      <td>198.0</td>\n",
       "    </tr>\n",
       "    <tr>\n",
       "      <td>4</td>\n",
       "      <td>01.01.2009 00:50:00</td>\n",
       "      <td>996.51</td>\n",
       "      <td>-8.27</td>\n",
       "      <td>265.15</td>\n",
       "      <td>-9.04</td>\n",
       "      <td>94.1</td>\n",
       "      <td>3.27</td>\n",
       "      <td>3.08</td>\n",
       "      <td>0.19</td>\n",
       "      <td>1.92</td>\n",
       "      <td>3.09</td>\n",
       "      <td>1309.00</td>\n",
       "      <td>0.32</td>\n",
       "      <td>0.63</td>\n",
       "      <td>214.3</td>\n",
       "    </tr>\n",
       "  </tbody>\n",
       "</table>\n",
       "</div>"
      ],
      "text/plain": [
       "             Date Time  p (mbar)  T (degC)  Tpot (K)  Tdew (degC)  rh (%)  \\\n",
       "0  01.01.2009 00:10:00    996.52     -8.02    265.40        -8.90    93.3   \n",
       "1  01.01.2009 00:20:00    996.57     -8.41    265.01        -9.28    93.4   \n",
       "2  01.01.2009 00:30:00    996.53     -8.51    264.91        -9.31    93.9   \n",
       "3  01.01.2009 00:40:00    996.51     -8.31    265.12        -9.07    94.2   \n",
       "4  01.01.2009 00:50:00    996.51     -8.27    265.15        -9.04    94.1   \n",
       "\n",
       "   VPmax (mbar)  VPact (mbar)  VPdef (mbar)  sh (g/kg)  H2OC (mmol/mol)  \\\n",
       "0          3.33          3.11          0.22       1.94             3.12   \n",
       "1          3.23          3.02          0.21       1.89             3.03   \n",
       "2          3.21          3.01          0.20       1.88             3.02   \n",
       "3          3.26          3.07          0.19       1.92             3.08   \n",
       "4          3.27          3.08          0.19       1.92             3.09   \n",
       "\n",
       "   rho (g/m**3)  wv (m/s)  max. wv (m/s)  wd (deg)  \n",
       "0       1307.75      1.03           1.75     152.3  \n",
       "1       1309.80      0.72           1.50     136.1  \n",
       "2       1310.24      0.19           0.63     171.6  \n",
       "3       1309.19      0.34           0.50     198.0  \n",
       "4       1309.00      0.32           0.63     214.3  "
      ]
     },
     "execution_count": 30,
     "metadata": {},
     "output_type": "execute_result"
    }
   ],
   "source": [
    "data.head()"
   ]
  },
  {
   "cell_type": "code",
   "execution_count": 31,
   "metadata": {},
   "outputs": [],
   "source": [
    "data['Date Time'] = pd.to_datetime(data['Date Time'])\n",
    "data.set_index('Date Time', inplace = True)"
   ]
  },
  {
   "cell_type": "code",
   "execution_count": 32,
   "metadata": {},
   "outputs": [
    {
     "data": {
      "text/plain": [
       "p (mbar)           float64\n",
       "T (degC)           float64\n",
       "Tpot (K)           float64\n",
       "Tdew (degC)        float64\n",
       "rh (%)             float64\n",
       "VPmax (mbar)       float64\n",
       "VPact (mbar)       float64\n",
       "VPdef (mbar)       float64\n",
       "sh (g/kg)          float64\n",
       "H2OC (mmol/mol)    float64\n",
       "rho (g/m**3)       float64\n",
       "wv (m/s)           float64\n",
       "max. wv (m/s)      float64\n",
       "wd (deg)           float64\n",
       "dtype: object"
      ]
     },
     "execution_count": 32,
     "metadata": {},
     "output_type": "execute_result"
    }
   ],
   "source": [
    "data.dtypes"
   ]
  },
  {
   "cell_type": "code",
   "execution_count": 33,
   "metadata": {},
   "outputs": [
    {
     "data": {
      "image/png": "[encoded data removed]",
      "text/plain": [
       "<Figure size 1440x360 with 1 Axes>"
      ]
     },
     "metadata": {
      "needs_background": "light"
     },
     "output_type": "display_data"
    }
   ],
   "source": [
    "plt.figure(figsize = (20, 5))\n",
    "plt.plot(range(len(data)), data['T (degC)'].values)\n",
    "plt.title('Распределение температур за весь исторический отрезок')\n",
    "plt.show()"
   ]
  },
  {
   "cell_type": "code",
   "execution_count": 34,
   "metadata": {
    "scrolled": true
   },
   "outputs": [
    {
     "data": {
      "image/png": "[encoded data removed]",
      "text/plain": [
       "<Figure size 1440x360 with 1 Axes>"
      ]
     },
     "metadata": {
      "needs_background": "light"
     },
     "output_type": "display_data"
    }
   ],
   "source": [
    "plt.figure(figsize = (20, 5))\n",
    "plt.plot(range(1440), data['T (degC)'][:1440].values)\n",
    "plt.title('Распределение температур за первые 10 дней')\n",
    "plt.show()"
   ]
  },
  {
   "cell_type": "markdown",
   "metadata": {},
   "source": [
    "Сформулируем задачу: <br>\n",
    "По lookback интервалам (интервал равен 10 минутам) за прошлый период, за который отобраны образцы через каждые step интервалов, предсказать температуру на следующие delay интервалов."
   ]
  },
  {
   "cell_type": "code",
   "execution_count": 35,
   "metadata": {},
   "outputs": [],
   "source": [
    "lookback = 720 #5 дней\n",
    "step = 6 # Один образец в чаас\n",
    "delay = 144 # 24 часа в будущем"
   ]
  },
  {
   "cell_type": "markdown",
   "metadata": {},
   "source": [
    "Для обучения мы будем использовать только первые 200000 замеров"
   ]
  },
  {
   "cell_type": "code",
   "execution_count": 36,
   "metadata": {},
   "outputs": [],
   "source": [
    "# Нормализация данных\n",
    "mean = data[:200000].mean(axis = 0)\n",
    "data -= mean\n",
    "std = data[:200000].std(axis = 0)\n",
    "data /= std"
   ]
  },
  {
   "cell_type": "code",
   "execution_count": 37,
   "metadata": {},
   "outputs": [
    {
     "data": {
      "text/html": [
       "<div>\n",
       "<style scoped>\n",
       "    .dataframe tbody tr th:only-of-type {\n",
       "        vertical-align: middle;\n",
       "    }\n",
       "\n",
       "    .dataframe tbody tr th {\n",
       "        vertical-align: top;\n",
       "    }\n",
       "\n",
       "    .dataframe thead th {\n",
       "        text-align: right;\n",
       "    }\n",
       "</style>\n",
       "<table border=\"1\" class=\"dataframe\">\n",
       "  <thead>\n",
       "    <tr style=\"text-align: right;\">\n",
       "      <th></th>\n",
       "      <th>p (mbar)</th>\n",
       "      <th>T (degC)</th>\n",
       "      <th>Tpot (K)</th>\n",
       "      <th>Tdew (degC)</th>\n",
       "      <th>rh (%)</th>\n",
       "      <th>VPmax (mbar)</th>\n",
       "      <th>VPact (mbar)</th>\n",
       "      <th>VPdef (mbar)</th>\n",
       "      <th>sh (g/kg)</th>\n",
       "      <th>H2OC (mmol/mol)</th>\n",
       "      <th>rho (g/m**3)</th>\n",
       "      <th>wv (m/s)</th>\n",
       "      <th>max. wv (m/s)</th>\n",
       "      <th>wd (deg)</th>\n",
       "    </tr>\n",
       "    <tr>\n",
       "      <th>Date Time</th>\n",
       "      <th></th>\n",
       "      <th></th>\n",
       "      <th></th>\n",
       "      <th></th>\n",
       "      <th></th>\n",
       "      <th></th>\n",
       "      <th></th>\n",
       "      <th></th>\n",
       "      <th></th>\n",
       "      <th></th>\n",
       "      <th></th>\n",
       "      <th></th>\n",
       "      <th></th>\n",
       "      <th></th>\n",
       "    </tr>\n",
       "  </thead>\n",
       "  <tbody>\n",
       "    <tr>\n",
       "      <td>2009-01-01 00:10:00</td>\n",
       "      <td>0.900145</td>\n",
       "      <td>-1.931354</td>\n",
       "      <td>-1.982105</td>\n",
       "      <td>-1.862796</td>\n",
       "      <td>1.072850</td>\n",
       "      <td>-1.307418</td>\n",
       "      <td>-1.473754</td>\n",
       "      <td>-0.798684</td>\n",
       "      <td>-1.476264</td>\n",
       "      <td>-1.478152</td>\n",
       "      <td>2.123745</td>\n",
       "      <td>-0.729503</td>\n",
       "      <td>-0.780678</td>\n",
       "      <td>-0.276135</td>\n",
       "    </tr>\n",
       "    <tr>\n",
       "      <td>2009-01-01 00:20:00</td>\n",
       "      <td>0.906041</td>\n",
       "      <td>-1.975409</td>\n",
       "      <td>-2.025665</td>\n",
       "      <td>-1.915825</td>\n",
       "      <td>1.078828</td>\n",
       "      <td>-1.320424</td>\n",
       "      <td>-1.495192</td>\n",
       "      <td>-0.800750</td>\n",
       "      <td>-1.495021</td>\n",
       "      <td>-1.499318</td>\n",
       "      <td>2.171993</td>\n",
       "      <td>-0.931238</td>\n",
       "      <td>-0.887943</td>\n",
       "      <td>-0.463173</td>\n",
       "    </tr>\n",
       "    <tr>\n",
       "      <td>2009-01-01 00:30:00</td>\n",
       "      <td>0.901324</td>\n",
       "      <td>-1.986705</td>\n",
       "      <td>-2.036834</td>\n",
       "      <td>-1.920011</td>\n",
       "      <td>1.108719</td>\n",
       "      <td>-1.323025</td>\n",
       "      <td>-1.497574</td>\n",
       "      <td>-0.802816</td>\n",
       "      <td>-1.498772</td>\n",
       "      <td>-1.501669</td>\n",
       "      <td>2.182349</td>\n",
       "      <td>-1.276140</td>\n",
       "      <td>-1.261224</td>\n",
       "      <td>-0.053306</td>\n",
       "    </tr>\n",
       "  </tbody>\n",
       "</table>\n",
       "</div>"
      ],
      "text/plain": [
       "                     p (mbar)  T (degC)  Tpot (K)  Tdew (degC)    rh (%)  \\\n",
       "Date Time                                                                  \n",
       "2009-01-01 00:10:00  0.900145 -1.931354 -1.982105    -1.862796  1.072850   \n",
       "2009-01-01 00:20:00  0.906041 -1.975409 -2.025665    -1.915825  1.078828   \n",
       "2009-01-01 00:30:00  0.901324 -1.986705 -2.036834    -1.920011  1.108719   \n",
       "\n",
       "                     VPmax (mbar)  VPact (mbar)  VPdef (mbar)  sh (g/kg)  \\\n",
       "Date Time                                                                  \n",
       "2009-01-01 00:10:00     -1.307418     -1.473754     -0.798684  -1.476264   \n",
       "2009-01-01 00:20:00     -1.320424     -1.495192     -0.800750  -1.495021   \n",
       "2009-01-01 00:30:00     -1.323025     -1.497574     -0.802816  -1.498772   \n",
       "\n",
       "                     H2OC (mmol/mol)  rho (g/m**3)  wv (m/s)  max. wv (m/s)  \\\n",
       "Date Time                                                                     \n",
       "2009-01-01 00:10:00        -1.478152      2.123745 -0.729503      -0.780678   \n",
       "2009-01-01 00:20:00        -1.499318      2.171993 -0.931238      -0.887943   \n",
       "2009-01-01 00:30:00        -1.501669      2.182349 -1.276140      -1.261224   \n",
       "\n",
       "                     wd (deg)  \n",
       "Date Time                      \n",
       "2009-01-01 00:10:00 -0.276135  \n",
       "2009-01-01 00:20:00 -0.463173  \n",
       "2009-01-01 00:30:00 -0.053306  "
      ]
     },
     "execution_count": 37,
     "metadata": {},
     "output_type": "execute_result"
    }
   ],
   "source": [
    "data.head(3)"
   ]
  },
  {
   "cell_type": "markdown",
   "metadata": {},
   "source": [
    "Подготовим необходимые генераторы данных"
   ]
  },
  {
   "cell_type": "code",
   "execution_count": 38,
   "metadata": {},
   "outputs": [],
   "source": [
    "def generator(data, lookback, delay, min_index, max_index, shuffle = False, batch_size = 128, step = 6):\n",
    "    '''\n",
    "    Функция-генератор, возвращающая временные последовательности образцов и их целей\n",
    "    data - исходный массив данных\n",
    "    lookback - количество интервалов в прошлом от заданного момента, за которое отбираются данные\n",
    "    delay - количество интервалов в будущем от заданного момента, за которое отбираютс целевые данные\n",
    "    min_index, max_index - индексы, ограничивающие область для извлечения данных\n",
    "    shuffle - флаг, определяющий порядок извлечения образцов\n",
    "    batch_size - количество образцов в пакете\n",
    "    sep - период в интервалах, за который извлекается один образец    \n",
    "    '''\n",
    "    if max_index is None:\n",
    "        max_index = len(data) - delay - 1\n",
    "    i = min_index + lookback\n",
    "    while 1:\n",
    "        if shuffle:\n",
    "            rows = np.random.randint(min_index + lookback, max_index, size=batch_size)\n",
    "        else:\n",
    "            if i + batch_size >= max_index:\n",
    "                i = min_index + lookback\n",
    "            rows = np.arange(i, min(i + batch_size, max_index))\n",
    "            i += len(rows)\n",
    "            \n",
    "        samples = np.zeros((len(rows), lookback // step, data.shape[-1]))\n",
    "        targets = np.zeros((len(rows), ))\n",
    "        \n",
    "        for j, row in enumerate(rows):\n",
    "            indices = range(rows[j] - lookback, rows[j], step)\n",
    "            samples[j] = data[indices]\n",
    "            targets[j] = data[rows[j] + delay][1]\n",
    "        yield samples, targets"
   ]
  },
  {
   "cell_type": "code",
   "execution_count": 39,
   "metadata": {},
   "outputs": [],
   "source": [
    "lookback = 1440\n",
    "step = 6\n",
    "delay = 144\n",
    "batch_size = 128\n",
    "\n",
    "train_gen = generator(data.values, lookback=lookback, delay=delay, min_index=0, max_index=200000, shuffle = True,\n",
    "                     step=step, batch_size=batch_size) #Почему shuffle = True???\n",
    "val_gen = generator(data.values, lookback=lookback, delay=delay, min_index=200001, max_index=300000,\n",
    "                     step=step, batch_size=batch_size)\n",
    "test_gen = generator(data.values, lookback=lookback, delay=delay, min_index=300001, max_index=None,\n",
    "                     step=step, batch_size=batch_size)"
   ]
  },
  {
   "cell_type": "code",
   "execution_count": 40,
   "metadata": {},
   "outputs": [],
   "source": [
    "val_steps = (300000 - 200001 - lookback) // batch_size #Cколько раз нужно обратиться к val_gen, чтобы получить проверочный набор данных  целиком\n",
    "test_steps = (len(data) - 300001 - lookback) // batch_size #Cколько раз нужно обратиться к test_gen, чтобы получить контрольный набор данных целиком "
   ]
  },
  {
   "cell_type": "markdown",
   "metadata": {},
   "source": [
    "**Базовое решение без привлечения машинного обучения**"
   ]
  },
  {
   "cell_type": "markdown",
   "metadata": {},
   "source": [
    "Наивная гипотеза - темепературы в следующие 24 часа будут постоянны и равны текущей температуре."
   ]
  },
  {
   "cell_type": "code",
   "execution_count": 41,
   "metadata": {},
   "outputs": [],
   "source": [
    "def evaluate_naive_method():\n",
    "    '''\n",
    "    Функция возвращает MAE оценку наивного алгоритма\n",
    "    '''\n",
    "    batch_maes = []\n",
    "    for step in range(val_steps):\n",
    "        samples, targets = next(val_gen)\n",
    "        preds = samples[:, -1, 1]\n",
    "        mae = np.mean(np.abs(preds - targets))\n",
    "        batch_maes.append(mae)\n",
    "    return(np.mean(batch_maes))"
   ]
  },
  {
   "cell_type": "code",
   "execution_count": 42,
   "metadata": {},
   "outputs": [
    {
     "name": "stdout",
     "output_type": "stream",
     "text": [
      "0.2897352486497107\n"
     ]
    }
   ],
   "source": [
    "naive_approach_mae = evaluate_naive_method()\n",
    "print(naive_approach_mae)"
   ]
  },
  {
   "cell_type": "code",
   "execution_count": 43,
   "metadata": {},
   "outputs": [
    {
     "name": "stdout",
     "output_type": "stream",
     "text": [
      "Средняя абсолютная ошибка температуры: 2.565 degC\n"
     ]
    }
   ],
   "source": [
    "print('Средняя абсолютная ошибка температуры: {:.3f} degC'.format(naive_approach_mae * std[1]))"
   ]
  },
  {
   "cell_type": "markdown",
   "metadata": {},
   "source": [
    "**Базовое решение с привлечнием машинного обучения**"
   ]
  },
  {
   "cell_type": "markdown",
   "metadata": {},
   "source": [
    "Построим базовое решение с помощью двухслойной полносвязной модели"
   ]
  },
  {
   "cell_type": "code",
   "execution_count": 44,
   "metadata": {},
   "outputs": [
    {
     "name": "stdout",
     "output_type": "stream",
     "text": [
      "Epoch 1/20\n",
      "500/500 [==============================] - 7s 14ms/step - loss: 1.2804 - val_loss: 0.7200\n",
      "Epoch 2/20\n",
      "500/500 [==============================] - 7s 13ms/step - loss: 0.4921 - val_loss: 0.3417\n",
      "Epoch 3/20\n",
      "500/500 [==============================] - 7s 13ms/step - loss: 0.3068 - val_loss: 0.2962\n",
      "Epoch 4/20\n",
      "500/500 [==============================] - 7s 13ms/step - loss: 0.2703 - val_loss: 0.3387\n",
      "Epoch 5/20\n",
      "500/500 [==============================] - 7s 13ms/step - loss: 0.2550 - val_loss: 0.3097\n",
      "Epoch 6/20\n",
      "500/500 [==============================] - 7s 13ms/step - loss: 0.2449 - val_loss: 0.3302\n",
      "Epoch 7/20\n",
      "500/500 [==============================] - 7s 13ms/step - loss: 0.2398 - val_loss: 0.3243\n",
      "Epoch 8/20\n",
      "500/500 [==============================] - 7s 13ms/step - loss: 0.2329 - val_loss: 0.3181\n",
      "Epoch 9/20\n",
      "500/500 [==============================] - 7s 13ms/step - loss: 0.2272 - val_loss: 0.3152\n",
      "Epoch 10/20\n",
      "500/500 [==============================] - 7s 13ms/step - loss: 0.2234 - val_loss: 0.3155\n",
      "Epoch 11/20\n",
      "500/500 [==============================] - 7s 13ms/step - loss: 0.2189 - val_loss: 0.3336\n",
      "Epoch 12/20\n",
      "500/500 [==============================] - 7s 14ms/step - loss: 0.2154 - val_loss: 0.3146\n",
      "Epoch 13/20\n",
      "500/500 [==============================] - 7s 13ms/step - loss: 0.2135 - val_loss: 0.3289\n",
      "Epoch 14/20\n",
      "500/500 [==============================] - 7s 13ms/step - loss: 0.2104 - val_loss: 0.3191\n",
      "Epoch 15/20\n",
      "500/500 [==============================] - 7s 13ms/step - loss: 0.2079 - val_loss: 0.3222\n",
      "Epoch 16/20\n",
      "500/500 [==============================] - 7s 13ms/step - loss: 0.2068 - val_loss: 0.3589\n",
      "Epoch 17/20\n",
      "500/500 [==============================] - 7s 14ms/step - loss: 0.2046 - val_loss: 0.3288\n",
      "Epoch 18/20\n",
      "500/500 [==============================] - 7s 13ms/step - loss: 0.2031 - val_loss: 0.3817\n",
      "Epoch 19/20\n",
      "500/500 [==============================] - 7s 13ms/step - loss: 0.2003 - val_loss: 0.3242\n",
      "Epoch 20/20\n",
      "500/500 [==============================] - 7s 14ms/step - loss: 0.1988 - val_loss: 0.3406\n"
     ]
    }
   ],
   "source": [
    "model = Sequential()\n",
    "model.add(layers.Flatten(input_shape=(lookback // step, data.shape[-1])))\n",
    "model.add(layers.Dense(32, activation='relu'))\n",
    "model.add(layers.Dense(1))\n",
    "\n",
    "model.compile(optimizer=RMSprop(), loss='mae')\n",
    "history = model.fit_generator(train_gen, \n",
    "                             steps_per_epoch = 500,\n",
    "                             epochs = 20,\n",
    "                             validation_data = val_gen,\n",
    "                             validation_steps = val_steps)"
   ]
  },
  {
   "cell_type": "code",
   "execution_count": 45,
   "metadata": {},
   "outputs": [],
   "source": [
    "model.save('./RNN models and data  for chapter 6/Simple_RNN_model.h5')"
   ]
  },
  {
   "cell_type": "code",
   "execution_count": 46,
   "metadata": {},
   "outputs": [],
   "source": [
    "def plot_results():\n",
    "    loss = history.history['loss']\n",
    "    val_loss = history.history['val_loss']\n",
    "    epochs = range(1, len(loss) + 1)\n",
    "    \n",
    "    plt.figure()\n",
    "    plt.plot(epochs, loss, 'bo', label = 'Training loss')\n",
    "    plt.plot(epochs, val_loss, 'r', label = 'Validation loss')\n",
    "    plt.legend()\n",
    "    plt.show()\n",
    "    \n",
    "    print(\"Минимальное значение ошибки:{:.4f} Эпоха: {}\".format(np.min(history.history['val_loss']), \n",
    "                                                                np.argmin(history.history['val_loss']) + 1))"
   ]
  },
  {
   "cell_type": "code",
   "execution_count": 47,
   "metadata": {},
   "outputs": [
    {
     "data": {
      "image/png": "[encoded data removed]",
      "text/plain": [
       "<Figure size 432x288 with 1 Axes>"
      ]
     },
     "metadata": {
      "needs_background": "light"
     },
     "output_type": "display_data"
    },
    {
     "name": "stdout",
     "output_type": "stream",
     "text": [
      "Минимальное значение ошибки:0.2962 Эпоха: 3\n"
     ]
    }
   ],
   "source": [
    "plot_results()"
   ]
  },
  {
   "cell_type": "markdown",
   "metadata": {},
   "source": [
    "Решение полученное в пространстве двухслойных полносвязных моделей оказалось хуже, чем наивное. Воспользуемся реккорентной структурой как более подходящей для данной задачи."
   ]
  },
  {
   "cell_type": "markdown",
   "metadata": {},
   "source": [
    "**Первое базовое рекуррентное решение**"
   ]
  },
  {
   "cell_type": "code",
   "execution_count": 48,
   "metadata": {},
   "outputs": [
    {
     "name": "stdout",
     "output_type": "stream",
     "text": [
      "Epoch 1/20\n",
      "500/500 [==============================] - 35s 69ms/step - loss: 0.3053 - val_loss: 0.2730\n",
      "Epoch 2/20\n",
      "500/500 [==============================] - 34s 68ms/step - loss: 0.2879 - val_loss: 0.2742\n",
      "Epoch 3/20\n",
      "500/500 [==============================] - 34s 69ms/step - loss: 0.2809 - val_loss: 0.2652\n",
      "Epoch 4/20\n",
      "500/500 [==============================] - 35s 69ms/step - loss: 0.2767 - val_loss: 0.2629\n",
      "Epoch 5/20\n",
      "500/500 [==============================] - 34s 69ms/step - loss: 0.2711 - val_loss: 0.2628\n",
      "Epoch 6/20\n",
      "500/500 [==============================] - 35s 69ms/step - loss: 0.2654 - val_loss: 0.2641\n",
      "Epoch 7/20\n",
      "500/500 [==============================] - 35s 70ms/step - loss: 0.2586 - val_loss: 0.2679\n",
      "Epoch 8/20\n",
      "500/500 [==============================] - 35s 70ms/step - loss: 0.2572 - val_loss: 0.2646\n",
      "Epoch 9/20\n",
      "500/500 [==============================] - 46s 92ms/step - loss: 0.2512 - val_loss: 0.2686\n",
      "Epoch 10/20\n",
      "500/500 [==============================] - 42s 83ms/step - loss: 0.2455 - val_loss: 0.2705\n",
      "Epoch 11/20\n",
      "500/500 [==============================] - 41s 83ms/step - loss: 0.2422 - val_loss: 0.2713\n",
      "Epoch 12/20\n",
      "500/500 [==============================] - 38s 76ms/step - loss: 0.2374 - val_loss: 0.2762\n",
      "Epoch 13/20\n",
      "500/500 [==============================] - 34s 69ms/step - loss: 0.2352 - val_loss: 0.2767\n",
      "Epoch 14/20\n",
      "500/500 [==============================] - 34s 69ms/step - loss: 0.2310 - val_loss: 0.2816\n",
      "Epoch 15/20\n",
      "500/500 [==============================] - 33s 66ms/step - loss: 0.2277 - val_loss: 0.2880\n",
      "Epoch 16/20\n",
      "500/500 [==============================] - 35s 70ms/step - loss: 0.2244 - val_loss: 0.2887\n",
      "Epoch 17/20\n",
      "500/500 [==============================] - 35s 70ms/step - loss: 0.2220 - val_loss: 0.2889\n",
      "Epoch 18/20\n",
      "500/500 [==============================] - 41s 82ms/step - loss: 0.2197 - val_loss: 0.2899\n",
      "Epoch 19/20\n",
      "500/500 [==============================] - 40s 79ms/step - loss: 0.2166 - val_loss: 0.2943\n",
      "Epoch 20/20\n",
      "500/500 [==============================] - 39s 78ms/step - loss: 0.2134 - val_loss: 0.2956\n"
     ]
    }
   ],
   "source": [
    "model = Sequential()\n",
    "model.add(layers.GRU(32, input_shape = (None, data.shape[-1]))) #https://keras.io/layers/recurrent/\n",
    "model.add(layers.Dense(1))\n",
    "\n",
    "model.compile(optimizer = RMSprop(), loss = 'mae')\n",
    "history = model.fit_generator(train_gen, \n",
    "                             steps_per_epoch = 500,\n",
    "                             epochs = 20,\n",
    "                             validation_data = val_gen,\n",
    "                             validation_steps = val_steps)"
   ]
  },
  {
   "cell_type": "code",
   "execution_count": 49,
   "metadata": {},
   "outputs": [
    {
     "data": {
      "image/png": "[encoded data removed]",
      "text/plain": [
       "<Figure size 432x288 with 1 Axes>"
      ]
     },
     "metadata": {
      "needs_background": "light"
     },
     "output_type": "display_data"
    },
    {
     "name": "stdout",
     "output_type": "stream",
     "text": [
      "Минимальное значение ошибки:0.2628 Эпоха: 5\n"
     ]
    }
   ],
   "source": [
    "plot_results()"
   ]
  },
  {
   "cell_type": "markdown",
   "metadata": {},
   "source": [
    "Оценка MAE улучшилась, однако мы сталкнулись с переобучением. "
   ]
  },
  {
   "cell_type": "code",
   "execution_count": 51,
   "metadata": {},
   "outputs": [],
   "source": [
    "model.save('./RNN models and data  for chapter 6/Simple_GRU_model.h5')"
   ]
  },
  {
   "cell_type": "markdown",
   "metadata": {},
   "source": [
    "**Модель GRU с прореживанием**"
   ]
  },
  {
   "cell_type": "markdown",
   "metadata": {},
   "source": [
    "Определим dropout-ы для входного слоя и прореживаемых рекуррентных значений. Из-за замедления сходимости, увеличим количесвво эпох в 2 раза. "
   ]
  },
  {
   "cell_type": "code",
   "execution_count": 52,
   "metadata": {},
   "outputs": [
    {
     "name": "stdout",
     "output_type": "stream",
     "text": [
      "Epoch 1/40\n",
      "500/500 [==============================] - 39s 78ms/step - loss: 0.3356 - val_loss: 0.2787\n",
      "Epoch 2/40\n",
      "500/500 [==============================] - 39s 78ms/step - loss: 0.3146 - val_loss: 0.2796\n",
      "Epoch 3/40\n",
      "500/500 [==============================] - 40s 80ms/step - loss: 0.3092 - val_loss: 0.2715\n",
      "Epoch 4/40\n",
      "500/500 [==============================] - 39s 78ms/step - loss: 0.3042 - val_loss: 0.2704\n",
      "Epoch 5/40\n",
      "500/500 [==============================] - 39s 77ms/step - loss: 0.3028 - val_loss: 0.2693\n",
      "Epoch 6/40\n",
      "500/500 [==============================] - 40s 80ms/step - loss: 0.2976 - val_loss: 0.2682\n",
      "Epoch 7/40\n",
      "500/500 [==============================] - 39s 77ms/step - loss: 0.2972 - val_loss: 0.2656\n",
      "Epoch 8/40\n",
      "500/500 [==============================] - 39s 78ms/step - loss: 0.2929 - val_loss: 0.2689\n",
      "Epoch 9/40\n",
      "500/500 [==============================] - 39s 78ms/step - loss: 0.2934 - val_loss: 0.2680\n",
      "Epoch 10/40\n",
      "500/500 [==============================] - 39s 78ms/step - loss: 0.2908 - val_loss: 0.2657\n",
      "Epoch 11/40\n",
      "500/500 [==============================] - 44s 88ms/step - loss: 0.2908 - val_loss: 0.2673\n",
      "Epoch 12/40\n",
      "500/500 [==============================] - 41s 81ms/step - loss: 0.2875 - val_loss: 0.2684\n",
      "Epoch 13/40\n",
      "500/500 [==============================] - 39s 79ms/step - loss: 0.2885 - val_loss: 0.2657\n",
      "Epoch 14/40\n",
      "500/500 [==============================] - 40s 80ms/step - loss: 0.2878 - val_loss: 0.2668\n",
      "Epoch 15/40\n",
      "500/500 [==============================] - 42s 83ms/step - loss: 0.2856 - val_loss: 0.2644\n",
      "Epoch 16/40\n",
      "500/500 [==============================] - 40s 81ms/step - loss: 0.2825 - val_loss: 0.2654\n",
      "Epoch 17/40\n",
      "500/500 [==============================] - 41s 83ms/step - loss: 0.2831 - val_loss: 0.2669\n",
      "Epoch 18/40\n",
      "500/500 [==============================] - 41s 81ms/step - loss: 0.2818 - val_loss: 0.2734\n",
      "Epoch 19/40\n",
      "500/500 [==============================] - 41s 82ms/step - loss: 0.2793 - val_loss: 0.2674\n",
      "Epoch 20/40\n",
      "500/500 [==============================] - 41s 82ms/step - loss: 0.2807 - val_loss: 0.2676\n",
      "Epoch 21/40\n",
      "500/500 [==============================] - 39s 77ms/step - loss: 0.2777 - val_loss: 0.2638\n",
      "Epoch 22/40\n",
      "500/500 [==============================] - 39s 77ms/step - loss: 0.2781 - val_loss: 0.2660\n",
      "Epoch 23/40\n",
      "500/500 [==============================] - 39s 78ms/step - loss: 0.2780 - val_loss: 0.2658\n",
      "Epoch 24/40\n",
      "500/500 [==============================] - 39s 77ms/step - loss: 0.2762 - val_loss: 0.2677\n",
      "Epoch 25/40\n",
      "500/500 [==============================] - 39s 77ms/step - loss: 0.2765 - val_loss: 0.2640\n",
      "Epoch 26/40\n",
      "500/500 [==============================] - 39s 77ms/step - loss: 0.2761 - val_loss: 0.2676\n",
      "Epoch 27/40\n",
      "500/500 [==============================] - 39s 78ms/step - loss: 0.2748 - val_loss: 0.2668\n",
      "Epoch 28/40\n",
      "500/500 [==============================] - 39s 78ms/step - loss: 0.2750 - val_loss: 0.2673\n",
      "Epoch 29/40\n",
      "500/500 [==============================] - 40s 80ms/step - loss: 0.2722 - val_loss: 0.2659\n",
      "Epoch 30/40\n",
      "500/500 [==============================] - 39s 78ms/step - loss: 0.2728 - val_loss: 0.2680\n",
      "Epoch 31/40\n",
      "500/500 [==============================] - 38s 77ms/step - loss: 0.2714 - val_loss: 0.2666\n",
      "Epoch 32/40\n",
      "500/500 [==============================] - 39s 78ms/step - loss: 0.2711 - val_loss: 0.2628\n",
      "Epoch 33/40\n",
      "500/500 [==============================] - 40s 79ms/step - loss: 0.2715 - val_loss: 0.2660\n",
      "Epoch 34/40\n",
      "500/500 [==============================] - 40s 80ms/step - loss: 0.2706 - val_loss: 0.2674\n",
      "Epoch 35/40\n",
      "500/500 [==============================] - 40s 79ms/step - loss: 0.2703 - val_loss: 0.2712\n",
      "Epoch 36/40\n",
      "500/500 [==============================] - 40s 80ms/step - loss: 0.2728 - val_loss: 0.2655\n",
      "Epoch 37/40\n",
      "500/500 [==============================] - 40s 80ms/step - loss: 0.2697 - val_loss: 0.2655\n",
      "Epoch 38/40\n",
      "500/500 [==============================] - 38s 76ms/step - loss: 0.2688 - val_loss: 0.2692\n",
      "Epoch 39/40\n",
      "500/500 [==============================] - 38s 76ms/step - loss: 0.2676 - val_loss: 0.2769\n",
      "Epoch 40/40\n",
      "500/500 [==============================] - 38s 76ms/step - loss: 0.2681 - val_loss: 0.2658\n"
     ]
    }
   ],
   "source": [
    "model = Sequential()\n",
    "model.add(layers.GRU(32, input_shape = (None, data.shape[-1]), \n",
    "                     dropout = 0.2, recurrent_dropout = 0.2)) #https://keras.io/layers/recurrent/\n",
    "model.add(layers.Dense(1))\n",
    "\n",
    "model.compile(optimizer = RMSprop(), loss = 'mae')\n",
    "history = model.fit_generator(train_gen, \n",
    "                             steps_per_epoch = 500,\n",
    "                             epochs = 40,\n",
    "                             validation_data = val_gen,\n",
    "                             validation_steps = val_steps)"
   ]
  },
  {
   "cell_type": "code",
   "execution_count": 53,
   "metadata": {},
   "outputs": [
    {
     "data": {
      "image/png": "[encoded data removed]",
      "text/plain": [
       "<Figure size 432x288 with 1 Axes>"
      ]
     },
     "metadata": {
      "needs_background": "light"
     },
     "output_type": "display_data"
    },
    {
     "name": "stdout",
     "output_type": "stream",
     "text": [
      "Минимальное значение ошибки:0.2628 Эпоха: 32\n"
     ]
    }
   ],
   "source": [
    "plot_results()"
   ]
  },
  {
   "cell_type": "code",
   "execution_count": 54,
   "metadata": {},
   "outputs": [],
   "source": [
    "model.save('./RNN models and data  for chapter 6/Simple_GRU_with_dropout_model.h5')"
   ]
  },
  {
   "cell_type": "markdown",
   "metadata": {},
   "source": [
    "**Модель с несколькими наложенными рекуррентными слоями**"
   ]
  },
  {
   "cell_type": "code",
   "execution_count": 55,
   "metadata": {},
   "outputs": [
    {
     "name": "stdout",
     "output_type": "stream",
     "text": [
      "Epoch 1/40\n",
      "500/500 [==============================] - 92s 183ms/step - loss: 0.3325 - val_loss: 0.2764\n",
      "Epoch 2/40\n",
      "500/500 [==============================] - 87s 173ms/step - loss: 0.3117 - val_loss: 0.2743\n",
      "Epoch 3/40\n",
      "500/500 [==============================] - 87s 175ms/step - loss: 0.3025 - val_loss: 0.2665\n",
      "Epoch 4/40\n",
      "500/500 [==============================] - 88s 176ms/step - loss: 0.3007 - val_loss: 0.2749\n",
      "Epoch 5/40\n",
      "500/500 [==============================] - 88s 177ms/step - loss: 0.2977 - val_loss: 0.2770\n",
      "Epoch 6/40\n",
      "500/500 [==============================] - 89s 177ms/step - loss: 0.2928 - val_loss: 0.2681\n",
      "Epoch 7/40\n",
      "500/500 [==============================] - 88s 177ms/step - loss: 0.2890 - val_loss: 0.2683\n",
      "Epoch 8/40\n",
      "500/500 [==============================] - 88s 175ms/step - loss: 0.2879 - val_loss: 0.2665\n",
      "Epoch 9/40\n",
      "500/500 [==============================] - 88s 175ms/step - loss: 0.2860 - val_loss: 0.2674\n",
      "Epoch 10/40\n",
      "500/500 [==============================] - 88s 176ms/step - loss: 0.2846 - val_loss: 0.2659\n",
      "Epoch 11/40\n",
      "500/500 [==============================] - 88s 175ms/step - loss: 0.2821 - val_loss: 0.2646\n",
      "Epoch 12/40\n",
      "500/500 [==============================] - 88s 176ms/step - loss: 0.2808 - val_loss: 0.2708\n",
      "Epoch 13/40\n",
      "500/500 [==============================] - 88s 176ms/step - loss: 0.2788 - val_loss: 0.2658\n",
      "Epoch 14/40\n",
      "500/500 [==============================] - 88s 176ms/step - loss: 0.2781 - val_loss: 0.2646\n",
      "Epoch 15/40\n",
      "500/500 [==============================] - 88s 177ms/step - loss: 0.2770 - val_loss: 0.2680\n",
      "Epoch 16/40\n",
      "500/500 [==============================] - 88s 176ms/step - loss: 0.2748 - val_loss: 0.2693\n",
      "Epoch 17/40\n",
      "500/500 [==============================] - 88s 176ms/step - loss: 0.2740 - val_loss: 0.2711\n",
      "Epoch 18/40\n",
      "500/500 [==============================] - 88s 176ms/step - loss: 0.2733 - val_loss: 0.2699\n",
      "Epoch 19/40\n",
      "500/500 [==============================] - 88s 176ms/step - loss: 0.2728 - val_loss: 0.2691\n",
      "Epoch 20/40\n",
      "500/500 [==============================] - 88s 175ms/step - loss: 0.2694 - val_loss: 0.2693\n",
      "Epoch 21/40\n",
      "500/500 [==============================] - 88s 176ms/step - loss: 0.2692 - val_loss: 0.2662\n",
      "Epoch 22/40\n",
      "500/500 [==============================] - 88s 176ms/step - loss: 0.2688 - val_loss: 0.2758\n",
      "Epoch 23/40\n",
      "500/500 [==============================] - 88s 176ms/step - loss: 0.2681 - val_loss: 0.2677\n",
      "Epoch 24/40\n",
      "500/500 [==============================] - 88s 177ms/step - loss: 0.2680 - val_loss: 0.2702\n",
      "Epoch 25/40\n",
      "500/500 [==============================] - 89s 177ms/step - loss: 0.2664 - val_loss: 0.2674\n",
      "Epoch 26/40\n",
      "500/500 [==============================] - 87s 174ms/step - loss: 0.2662 - val_loss: 0.2674\n",
      "Epoch 27/40\n",
      "500/500 [==============================] - 88s 176ms/step - loss: 0.2660 - val_loss: 0.2677\n",
      "Epoch 28/40\n",
      "500/500 [==============================] - 88s 176ms/step - loss: 0.2640 - val_loss: 0.2698\n",
      "Epoch 29/40\n",
      "500/500 [==============================] - 88s 177ms/step - loss: 0.2635 - val_loss: 0.2792\n",
      "Epoch 30/40\n",
      "500/500 [==============================] - 88s 177ms/step - loss: 0.2626 - val_loss: 0.2720\n",
      "Epoch 31/40\n",
      "500/500 [==============================] - 87s 174ms/step - loss: 0.2616 - val_loss: 0.2731\n",
      "Epoch 32/40\n",
      "500/500 [==============================] - 88s 175ms/step - loss: 0.2618 - val_loss: 0.2704\n",
      "Epoch 33/40\n",
      "500/500 [==============================] - 88s 176ms/step - loss: 0.2606 - val_loss: 0.2733\n",
      "Epoch 34/40\n",
      "500/500 [==============================] - 88s 176ms/step - loss: 0.2590 - val_loss: 0.2707\n",
      "Epoch 35/40\n",
      "500/500 [==============================] - 88s 177ms/step - loss: 0.2599 - val_loss: 0.2698\n",
      "Epoch 36/40\n",
      "500/500 [==============================] - 88s 176ms/step - loss: 0.2594 - val_loss: 0.2734\n",
      "Epoch 37/40\n",
      "500/500 [==============================] - 88s 176ms/step - loss: 0.2590 - val_loss: 0.2737\n",
      "Epoch 38/40\n",
      "500/500 [==============================] - 88s 176ms/step - loss: 0.2572 - val_loss: 0.2707\n",
      "Epoch 39/40\n",
      "500/500 [==============================] - 88s 177ms/step - loss: 0.2561 - val_loss: 0.2747\n",
      "Epoch 40/40\n",
      "500/500 [==============================] - 88s 177ms/step - loss: 0.2570 - val_loss: 0.2710\n"
     ]
    }
   ],
   "source": [
    "model = Sequential()\n",
    "model.add(layers.GRU(32, input_shape = (None, data.shape[-1]), \n",
    "                     dropout = 0.1, recurrent_dropout = 0.5,\n",
    "                     return_sequences = True))\n",
    "model.add(layers.GRU(64, activation = 'relu',\n",
    "                    dropout = 0.1, recurrent_dropout = 0.5))\n",
    "model.add(layers.Dense(1))\n",
    "\n",
    "model.compile(optimizer = RMSprop(), loss = 'mae')\n",
    "history = model.fit_generator(train_gen, \n",
    "                              steps_per_epoch = 500,\n",
    "                              epochs = 40,\n",
    "                              validation_data = val_gen,\n",
    "                              validation_steps = val_steps)"
   ]
  },
  {
   "cell_type": "code",
   "execution_count": 56,
   "metadata": {},
   "outputs": [
    {
     "data": {
      "image/png": "[encoded data removed]",
      "text/plain": [
       "<Figure size 432x288 with 1 Axes>"
      ]
     },
     "metadata": {
      "needs_background": "light"
     },
     "output_type": "display_data"
    },
    {
     "name": "stdout",
     "output_type": "stream",
     "text": [
      "Минимальное значение ошибки:0.2646 Эпоха: 14\n"
     ]
    }
   ],
   "source": [
    "plot_results()"
   ]
  },
  {
   "cell_type": "code",
   "execution_count": 57,
   "metadata": {},
   "outputs": [],
   "source": [
    "model.save('./RNN models and data  for chapter 6/Double_GRU_with_dropout_model.h5')"
   ]
  },
  {
   "cell_type": "markdown",
   "metadata": {},
   "source": [
    "Значение ошибки практически не изменилось, однако и проблема переобучения не проявила себя. Можно продожить увеличивать количество слоев, возможно, это даст прирост в точности.\n",
    "В целом наблюдается уменьшение отдачи от увеличения емкости."
   ]
  }
 ],
 "metadata": {
  "kernelspec": {
   "display_name": "Python 3",
   "language": "python",
   "name": "python3"
  },
  "language_info": {
   "codemirror_mode": {
    "name": "ipython",
    "version": 3
   },
   "file_extension": ".py",
   "mimetype": "text/x-python",
   "name": "python",
   "nbconvert_exporter": "python",
   "pygments_lexer": "ipython3",
   "version": "3.6.9"
  }
 },
 "nbformat": 4,
 "nbformat_minor": 2
}

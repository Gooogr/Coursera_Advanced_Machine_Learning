{
 "cells": [
  {
   "cell_type": "code",
   "execution_count": 1,
   "metadata": {},
   "outputs": [
    {
     "name": "stderr",
     "output_type": "stream",
     "text": [
      "Using TensorFlow backend.\n"
     ]
    }
   ],
   "source": [
    "import numpy as np\n",
    "from scipy.sparse import csr_matrix\n",
    "\n",
    "import matplotlib.pyplot as plt\n",
    "\n",
    "import keras\n",
    "from keras.datasets import reuters\n",
    "from keras import models\n",
    "from keras import layers\n",
    "from keras.utils.np_utils import to_categorical"
   ]
  },
  {
   "cell_type": "code",
   "execution_count": 2,
   "metadata": {},
   "outputs": [
    {
     "name": "stdout",
     "output_type": "stream",
     "text": [
      "1.15.4\n"
     ]
    }
   ],
   "source": [
    "print(np.__version__) "
   ]
  },
  {
   "cell_type": "markdown",
   "metadata": {},
   "source": [
    "**Data downloading**"
   ]
  },
  {
   "cell_type": "code",
   "execution_count": 3,
   "metadata": {},
   "outputs": [
    {
     "name": "stdout",
     "output_type": "stream",
     "text": [
      "(8982,)\n",
      "(2246,)\n"
     ]
    }
   ],
   "source": [
    "(train_data, train_labels), (test_data, test_labels) = reuters.load_data(num_words = 10000)\n",
    "print(train_data.shape)\n",
    "print(test_data.shape)"
   ]
  },
  {
   "cell_type": "code",
   "execution_count": 4,
   "metadata": {},
   "outputs": [
    {
     "data": {
      "text/plain": [
       "'? ? ? said as a result of its december acquisition of space co it expects earnings per share in 1987 of 1 15 to 1 30 dlrs per share up from 70 cts in 1986 the company said pretax net should rise to nine to 10 mln dlrs from six mln dlrs in 1986 and rental operation revenues to 19 to 22 mln dlrs from 12 5 mln dlrs it said cash flow per share this year should be 2 50 to three dlrs reuter 3'"
      ]
     },
     "execution_count": 4,
     "metadata": {},
     "output_type": "execute_result"
    }
   ],
   "source": [
    "word_index = reuters.get_word_index()\n",
    "reverse_word_index = dict([(value, key) for (key, value) in word_index.items()])\n",
    "decoded_newswire_example = ' '.join([reverse_word_index.get(i-3, '?') for i in train_data[0]])\n",
    "decoded_newswire_example"
   ]
  },
  {
   "cell_type": "markdown",
   "metadata": {},
   "source": [
    "**Data preparation**"
   ]
  },
  {
   "cell_type": "code",
   "execution_count": 5,
   "metadata": {},
   "outputs": [],
   "source": [
    "def vectorize_sequence(sequences, dimension = 10000):\n",
    "    results = np.zeros((len(sequences), dimension))\n",
    "    for i, sequence in enumerate(sequences):\n",
    "        results[i, sequence] = 1\n",
    "    return results"
   ]
  },
  {
   "cell_type": "code",
   "execution_count": 6,
   "metadata": {},
   "outputs": [
    {
     "name": "stdout",
     "output_type": "stream",
     "text": [
      "CPU times: user 1.74 s, sys: 236 ms, total: 1.97 s\n",
      "Wall time: 1.99 s\n"
     ]
    }
   ],
   "source": [
    "%%time\n",
    "x_train = csr_matrix(vectorize_sequence(train_data))\n",
    "x_test = csr_matrix(vectorize_sequence(test_data))"
   ]
  },
  {
   "cell_type": "markdown",
   "metadata": {},
   "source": [
    "Let`s one-hote encode our train/test labels"
   ]
  },
  {
   "cell_type": "code",
   "execution_count": 7,
   "metadata": {},
   "outputs": [],
   "source": [
    "# def to_one_hot(labels, dimension = 46):\n",
    "#     results = np.zeros((len(labels), dimension))\n",
    "#     for i, label in enumerate(labels):\n",
    "#         results[i, label] = 1\n",
    "#     return results\n",
    "\n",
    "# one_hot_train_labes = to_one_hot(train_labels)\n",
    "# one_hot_test_labels = to_one_hot(test_labels)"
   ]
  },
  {
   "cell_type": "code",
   "execution_count": 8,
   "metadata": {},
   "outputs": [],
   "source": [
    "one_hot_train_labels = to_categorical(train_labels)\n",
    "one_hot_test_labels = to_categorical(test_labels)"
   ]
  },
  {
   "cell_type": "markdown",
   "metadata": {},
   "source": [
    "**Set model**"
   ]
  },
  {
   "cell_type": "code",
   "execution_count": 9,
   "metadata": {},
   "outputs": [
    {
     "name": "stderr",
     "output_type": "stream",
     "text": [
      "WARNING: Logging before flag parsing goes to stderr.\n",
      "W0822 17:53:51.362470 139730524071744 deprecation_wrapper.py:119] From /home/grigoriy/anaconda3/envs/tf_cpu/lib/python3.6/site-packages/keras/backend/tensorflow_backend.py:74: The name tf.get_default_graph is deprecated. Please use tf.compat.v1.get_default_graph instead.\n",
      "\n",
      "W0822 17:53:51.384643 139730524071744 deprecation_wrapper.py:119] From /home/grigoriy/anaconda3/envs/tf_cpu/lib/python3.6/site-packages/keras/backend/tensorflow_backend.py:517: The name tf.placeholder is deprecated. Please use tf.compat.v1.placeholder instead.\n",
      "\n",
      "W0822 17:53:51.390042 139730524071744 deprecation_wrapper.py:119] From /home/grigoriy/anaconda3/envs/tf_cpu/lib/python3.6/site-packages/keras/backend/tensorflow_backend.py:4138: The name tf.random_uniform is deprecated. Please use tf.random.uniform instead.\n",
      "\n"
     ]
    }
   ],
   "source": [
    "model = models.Sequential()\n",
    "model.add(layers.Dense(64, activation = 'relu', input_shape = (10000, )))\n",
    "model.add(layers.Dense(64, activation = 'relu'))\n",
    "model.add(layers.Dense(46, activation = 'softmax'))"
   ]
  },
  {
   "cell_type": "code",
   "execution_count": 10,
   "metadata": {},
   "outputs": [
    {
     "name": "stderr",
     "output_type": "stream",
     "text": [
      "W0822 17:53:51.489130 139730524071744 deprecation_wrapper.py:119] From /home/grigoriy/anaconda3/envs/tf_cpu/lib/python3.6/site-packages/keras/optimizers.py:790: The name tf.train.Optimizer is deprecated. Please use tf.compat.v1.train.Optimizer instead.\n",
      "\n",
      "W0822 17:53:51.525239 139730524071744 deprecation_wrapper.py:119] From /home/grigoriy/anaconda3/envs/tf_cpu/lib/python3.6/site-packages/keras/backend/tensorflow_backend.py:3295: The name tf.log is deprecated. Please use tf.math.log instead.\n",
      "\n"
     ]
    }
   ],
   "source": [
    "model.compile(optimizer = 'Adam',\n",
    "             loss = 'categorical_crossentropy',\n",
    "             metrics = ['accuracy'])"
   ]
  },
  {
   "cell_type": "code",
   "execution_count": 11,
   "metadata": {},
   "outputs": [],
   "source": [
    "x_val = x_train[:1000]\n",
    "partial_x_train = x_train[1000:]\n",
    "y_val = one_hot_train_labels[:1000]\n",
    "partial_y_train = one_hot_train_labels[1000:]"
   ]
  },
  {
   "cell_type": "code",
   "execution_count": 12,
   "metadata": {},
   "outputs": [
    {
     "name": "stderr",
     "output_type": "stream",
     "text": [
      "W0822 17:53:51.855646 139730524071744 deprecation.py:323] From /home/grigoriy/anaconda3/envs/tf_cpu/lib/python3.6/site-packages/tensorflow/python/ops/math_grad.py:1250: add_dispatch_support.<locals>.wrapper (from tensorflow.python.ops.array_ops) is deprecated and will be removed in a future version.\n",
      "Instructions for updating:\n",
      "Use tf.where in 2.0, which has the same broadcast rule as np.where\n",
      "W0822 17:53:51.942939 139730524071744 deprecation_wrapper.py:119] From /home/grigoriy/anaconda3/envs/tf_cpu/lib/python3.6/site-packages/keras/backend/tensorflow_backend.py:986: The name tf.assign_add is deprecated. Please use tf.compat.v1.assign_add instead.\n",
      "\n"
     ]
    },
    {
     "name": "stdout",
     "output_type": "stream",
     "text": [
      "Train on 7982 samples, validate on 1000 samples\n",
      "Epoch 1/20\n",
      "7982/7982 [==============================] - 3s 356us/step - loss: 3.2396 - acc: 0.4132 - val_loss: 2.4536 - val_acc: 0.5350\n",
      "Epoch 2/20\n",
      "7982/7982 [==============================] - 2s 207us/step - loss: 1.9656 - acc: 0.5740 - val_loss: 1.6403 - val_acc: 0.6200\n",
      "Epoch 3/20\n",
      "7982/7982 [==============================] - 2s 215us/step - loss: 1.3934 - acc: 0.6971 - val_loss: 1.3563 - val_acc: 0.7070\n",
      "Epoch 4/20\n",
      "7982/7982 [==============================] - 2s 216us/step - loss: 1.1037 - acc: 0.7582 - val_loss: 1.1950 - val_acc: 0.7420\n",
      "Epoch 5/20\n",
      "7982/7982 [==============================] - 2s 213us/step - loss: 0.8878 - acc: 0.8071 - val_loss: 1.0824 - val_acc: 0.7640\n",
      "Epoch 6/20\n",
      "7982/7982 [==============================] - 2s 213us/step - loss: 0.7112 - acc: 0.8472 - val_loss: 0.9981 - val_acc: 0.7860\n",
      "Epoch 7/20\n",
      "7982/7982 [==============================] - 2s 214us/step - loss: 0.5652 - acc: 0.8796 - val_loss: 0.9491 - val_acc: 0.7980\n",
      "Epoch 8/20\n",
      "7982/7982 [==============================] - 2s 210us/step - loss: 0.4463 - acc: 0.9075 - val_loss: 0.9030 - val_acc: 0.8170\n",
      "Epoch 9/20\n",
      "7982/7982 [==============================] - 2s 213us/step - loss: 0.3533 - acc: 0.9247 - val_loss: 0.8845 - val_acc: 0.8100\n",
      "Epoch 10/20\n",
      "7982/7982 [==============================] - 2s 215us/step - loss: 0.2805 - acc: 0.9387 - val_loss: 0.8837 - val_acc: 0.8150\n",
      "Epoch 11/20\n",
      "7982/7982 [==============================] - 2s 211us/step - loss: 0.2290 - acc: 0.9449 - val_loss: 0.8878 - val_acc: 0.8170\n",
      "Epoch 12/20\n",
      "7982/7982 [==============================] - 2s 214us/step - loss: 0.1906 - acc: 0.9529 - val_loss: 0.9082 - val_acc: 0.8130\n",
      "Epoch 13/20\n",
      "7982/7982 [==============================] - 2s 213us/step - loss: 0.1680 - acc: 0.9560 - val_loss: 0.9130 - val_acc: 0.8150\n",
      "Epoch 14/20\n",
      "7982/7982 [==============================] - 2s 211us/step - loss: 0.1456 - acc: 0.9577 - val_loss: 0.9510 - val_acc: 0.8100\n",
      "Epoch 15/20\n",
      "7982/7982 [==============================] - 2s 224us/step - loss: 0.1324 - acc: 0.9570 - val_loss: 0.9535 - val_acc: 0.8130\n",
      "Epoch 16/20\n",
      "7982/7982 [==============================] - 2s 229us/step - loss: 0.1219 - acc: 0.9593 - val_loss: 0.9573 - val_acc: 0.8180\n",
      "Epoch 17/20\n",
      "7982/7982 [==============================] - 2s 213us/step - loss: 0.1158 - acc: 0.9593 - val_loss: 0.9739 - val_acc: 0.8070\n",
      "Epoch 18/20\n",
      "7982/7982 [==============================] - 2s 213us/step - loss: 0.1056 - acc: 0.9599 - val_loss: 1.0061 - val_acc: 0.8100\n",
      "Epoch 19/20\n",
      "7982/7982 [==============================] - 2s 215us/step - loss: 0.1021 - acc: 0.9605 - val_loss: 0.9893 - val_acc: 0.8140\n",
      "Epoch 20/20\n",
      "7982/7982 [==============================] - 2s 212us/step - loss: 0.0967 - acc: 0.9645 - val_loss: 1.0021 - val_acc: 0.8050\n"
     ]
    }
   ],
   "source": [
    "history = model.fit(partial_x_train, partial_y_train,\n",
    "                   epochs = 20,\n",
    "                   batch_size = 512,\n",
    "                   validation_data = (x_val, y_val))"
   ]
  },
  {
   "cell_type": "code",
   "execution_count": 13,
   "metadata": {},
   "outputs": [
    {
     "data": {
      "text/plain": [
       "dict_keys(['val_loss', 'val_acc', 'loss', 'acc'])"
      ]
     },
     "execution_count": 13,
     "metadata": {},
     "output_type": "execute_result"
    }
   ],
   "source": [
    "history_dict = history.history\n",
    "history_dict.keys()"
   ]
  },
  {
   "cell_type": "code",
   "execution_count": 14,
   "metadata": {},
   "outputs": [
    {
     "data": {
      "image/png": "[encoded data removed]",
      "text/plain": [
       "<Figure size 432x288 with 1 Axes>"
      ]
     },
     "metadata": {
      "needs_background": "light"
     },
     "output_type": "display_data"
    }
   ],
   "source": [
    "loss_values = history_dict['loss']\n",
    "val_loss_values = history_dict['val_loss']\n",
    "\n",
    "acc = history.history['acc']\n",
    "epochs = range(1, len(acc) + 1)\n",
    "\n",
    "plt.plot(epochs, loss_values, 'bo', label = 'Training loss')\n",
    "plt.plot(epochs, val_loss_values, 'b', label = 'Validation loss')\n",
    "plt.title('Training and validation loss')\n",
    "plt.xlabel('Epochs')\n",
    "plt.ylabel('Loss')\n",
    "plt.legend()\n",
    "\n",
    "plt.show()"
   ]
  },
  {
   "cell_type": "code",
   "execution_count": 15,
   "metadata": {},
   "outputs": [
    {
     "data": {
      "image/png": "[encoded data removed]",
      "text/plain": [
       "<Figure size 432x288 with 1 Axes>"
      ]
     },
     "metadata": {
      "needs_background": "light"
     },
     "output_type": "display_data"
    }
   ],
   "source": [
    "plt.clf()   # clear figure\n",
    "acc_values = history_dict['acc']\n",
    "val_acc_values = history_dict['val_acc']\n",
    "\n",
    "plt.plot(epochs, acc_values, 'bo', label='Training acc')\n",
    "plt.plot(epochs, val_acc_values, 'b', label='Validation acc')\n",
    "plt.title('Training and validation accuracy')\n",
    "plt.xlabel('Epochs')\n",
    "plt.ylabel('Loss')\n",
    "plt.legend()\n",
    "\n",
    "plt.show()"
   ]
  },
  {
   "cell_type": "markdown",
   "metadata": {},
   "source": [
    "Overfit after 9-th epoch"
   ]
  },
  {
   "cell_type": "markdown",
   "metadata": {},
   "source": [
    "**Train model**"
   ]
  },
  {
   "cell_type": "code",
   "execution_count": 18,
   "metadata": {},
   "outputs": [],
   "source": [
    "model = models.Sequential()\n",
    "model.add(layers.Dense(64, activation = 'relu', input_shape = (10000, )))\n",
    "model.add(layers.Dense(64, activation = 'relu'))\n",
    "model.add(layers.Dense(46, activation = 'softmax'))\n",
    "\n",
    "model.compile(optimizer = 'Adam',\n",
    "             loss = 'categorical_crossentropy',\n",
    "             metrics = ['accuracy'])"
   ]
  },
  {
   "cell_type": "code",
   "execution_count": 19,
   "metadata": {},
   "outputs": [
    {
     "name": "stdout",
     "output_type": "stream",
     "text": [
      "Epoch 1/9\n",
      "8982/8982 [==============================] - 3s 289us/step - loss: 3.1205 - acc: 0.4343\n",
      "Epoch 2/9\n",
      "8982/8982 [==============================] - 2s 168us/step - loss: 1.8128 - acc: 0.6363\n",
      "Epoch 3/9\n",
      "8982/8982 [==============================] - 2s 169us/step - loss: 1.2528 - acc: 0.7224\n",
      "Epoch 4/9\n",
      "8982/8982 [==============================] - 2s 169us/step - loss: 0.9559 - acc: 0.8007\n",
      "Epoch 5/9\n",
      "8982/8982 [==============================] - 2s 169us/step - loss: 0.7377 - acc: 0.8498\n",
      "Epoch 6/9\n",
      "8982/8982 [==============================] - 2s 178us/step - loss: 0.5734 - acc: 0.8844\n",
      "Epoch 7/9\n",
      "8982/8982 [==============================] - 2s 189us/step - loss: 0.4460 - acc: 0.9071\n",
      "Epoch 8/9\n",
      "8982/8982 [==============================] - 2s 168us/step - loss: 0.3507 - acc: 0.9291\n",
      "Epoch 9/9\n",
      "8982/8982 [==============================] - 2s 173us/step - loss: 0.2778 - acc: 0.9402\n",
      "2246/2246 [==============================] - 1s 306us/step\n"
     ]
    }
   ],
   "source": [
    "model.fit(x_train, one_hot_train_labels,\n",
    "                   epochs = 9, batch_size = 512)\n",
    "results = model.evaluate(x_test, one_hot_test_labels)"
   ]
  },
  {
   "cell_type": "code",
   "execution_count": 21,
   "metadata": {},
   "outputs": [
    {
     "data": {
      "text/plain": [
       "[0.9268513868031285, 0.7978628673196795]"
      ]
     },
     "execution_count": 21,
     "metadata": {},
     "output_type": "execute_result"
    }
   ],
   "source": [
    "results"
   ]
  },
  {
   "cell_type": "code",
   "execution_count": 27,
   "metadata": {},
   "outputs": [
    {
     "name": "stdout",
     "output_type": "stream",
     "text": [
      "0.99999994\n"
     ]
    }
   ],
   "source": [
    "predictions = model.predict(x_test)\n",
    "print(np.sum(predictions[0]))"
   ]
  },
  {
   "cell_type": "code",
   "execution_count": 32,
   "metadata": {},
   "outputs": [
    {
     "name": "stdout",
     "output_type": "stream",
     "text": [
      "Output example of argmax function:\n",
      " [6.06897775e-05 2.13365784e-04 1.01099486e-05 9.48840618e-01\n",
      " 4.44885716e-02 1.47119636e-05 7.76167872e-06 1.42519557e-05\n",
      " 1.09012600e-03 3.85498861e-05 7.49369747e-06 1.11950166e-03\n",
      " 1.09883884e-04 2.50425714e-04 1.43316620e-05 5.77494120e-06\n",
      " 8.56476661e-04 3.19174615e-05 2.94677484e-05 6.85300911e-04\n",
      " 5.44371025e-04 1.55394126e-04 2.34063846e-05 1.79053633e-04\n",
      " 2.60104935e-06 3.49859438e-05 1.90777555e-05 7.96849872e-06\n",
      " 3.07357041e-05 5.02702373e-04 2.05804772e-05 6.23125889e-05\n",
      " 7.89603218e-05 4.70722898e-06 2.25890089e-05 1.06517582e-05\n",
      " 6.78299766e-05 1.24323060e-05 1.10591773e-05 1.61237971e-04\n",
      " 2.61303808e-06 1.28925443e-04 1.84546172e-06 1.27310268e-05\n",
      " 6.63309902e-06 5.17239960e-06]\n",
      "The most probable theme`s number of example:  3\n"
     ]
    }
   ],
   "source": [
    "print('Output example of argmax function:\\n', predictions[0])\n",
    "print('The most probable theme`s number of example: ', np.argmax(predictions[0]))"
   ]
  },
  {
   "cell_type": "code",
   "execution_count": null,
   "metadata": {},
   "outputs": [],
   "source": []
  }
 ],
 "metadata": {
  "kernelspec": {
   "display_name": "Python 3",
   "language": "python",
   "name": "python3"
  },
  "language_info": {
   "codemirror_mode": {
    "name": "ipython",
    "version": 3
   },
   "file_extension": ".py",
   "mimetype": "text/x-python",
   "name": "python",
   "nbconvert_exporter": "python",
   "pygments_lexer": "ipython3",
   "version": "3.6.9"
  }
 },
 "nbformat": 4,
 "nbformat_minor": 2
}

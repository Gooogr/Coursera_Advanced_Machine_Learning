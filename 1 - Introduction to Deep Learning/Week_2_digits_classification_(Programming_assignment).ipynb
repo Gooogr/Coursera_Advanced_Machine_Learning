{
  "nbformat": 4,
  "nbformat_minor": 0,
  "metadata": {
    "colab": {
      "name": "Week 2 -  digits_classification (Programming assignment).ipynb",
      "version": "0.3.2",
      "provenance": [],
      "collapsed_sections": [],
      "include_colab_link": true
    },
    "language_info": {
      "codemirror_mode": {
        "name": "ipython",
        "version": 3
      },
      "file_extension": ".py",
      "mimetype": "text/x-python",
      "name": "python",
      "nbconvert_exporter": "python",
      "pygments_lexer": "ipython3",
      "version": "3.6.5"
    },
    "kernelspec": {
      "display_name": "Python 3",
      "language": "python",
      "name": "python3"
    }
  },
  "cells": [
    {
      "cell_type": "markdown",
      "metadata": {
        "id": "view-in-github",
        "colab_type": "text"
      },
      "source": [
        "<a href=\"https://colab.research.google.com/github/Gooogr/Coursera_Advanced_Machine_Learning/blob/master/1%20-%20Introduction%20to%20Deep%20Learning/Week_2_digits_classification_(Programming_assignment).ipynb\" target=\"_parent\"><img src=\"https://colab.research.google.com/assets/colab-badge.svg\" alt=\"Open In Colab\"/></a>"
      ]
    },
    {
      "metadata": {
        "id": "Kg9XKmAdtaQf",
        "colab_type": "text"
      },
      "cell_type": "markdown",
      "source": [
        "# MNIST digits classification with TensorFlow"
      ]
    },
    {
      "metadata": {
        "id": "_vgskC1LtaQh",
        "colab_type": "text"
      },
      "cell_type": "markdown",
      "source": [
        "<img src=\"https://github.com/hse-aml/intro-to-dl/blob/master/week2/v2/images/mnist_sample.png?raw=1\" style=\"width:30%\">"
      ]
    },
    {
      "metadata": {
        "id": "HjAHmjEVt_dB",
        "colab_type": "code",
        "outputId": "4876206e-6778-4832-a69a-af14bc8a5b31",
        "colab": {
          "base_uri": "https://localhost:8080/",
          "height": 323
        }
      },
      "cell_type": "code",
      "source": [
        "! shred -u setup_google_colab.py\n",
        "! wget https://raw.githubusercontent.com/hse-aml/intro-to-dl/master/setup_google_colab.py -O setup_google_colab.py\n",
        "import setup_google_colab\n",
        "# please, uncomment the week you're working on\n",
        "# setup_google_colab.setup_week1()\n",
        "setup_google_colab.setup_week2()\n",
        "# setup_google_colab.setup_week3()\n",
        "# setup_google_colab.setup_week4()\n",
        "# setup_google_colab.setup_week5()\n",
        "# setup_google_colab.setup_week6()\n",
        "\n",
        "# If you're using the old version of the course (check a path of notebook on Coursera, you'll see v1 or v2),\n",
        "# use setup_week2_old()."
      ],
      "execution_count": 1,
      "outputs": [
        {
          "output_type": "stream",
          "text": [
            "shred: setup_google_colab.py: failed to open for writing: No such file or directory\n",
            "--2019-04-16 12:14:50--  https://raw.githubusercontent.com/hse-aml/intro-to-dl/master/setup_google_colab.py\n",
            "Resolving raw.githubusercontent.com (raw.githubusercontent.com)... 151.101.0.133, 151.101.64.133, 151.101.128.133, ...\n",
            "Connecting to raw.githubusercontent.com (raw.githubusercontent.com)|151.101.0.133|:443... connected.\n",
            "HTTP request sent, awaiting response... 200 OK\n",
            "Length: 3792 (3.7K) [text/plain]\n",
            "Saving to: ‘setup_google_colab.py’\n",
            "\n",
            "setup_google_colab. 100%[===================>]   3.70K  --.-KB/s    in 0s      \n",
            "\n",
            "2019-04-16 12:14:50 (63.9 MB/s) - ‘setup_google_colab.py’ saved [3792/3792]\n",
            "\n",
            "**************************************************\n",
            "inception_v3_weights_tf_dim_ordering_tf_kernels_notop.h5\n",
            "**************************************************\n",
            "cifar-10-batches-py.tar.gz\n",
            "**************************************************\n",
            "mnist.npz\n"
          ],
          "name": "stdout"
        }
      ]
    },
    {
      "metadata": {
        "id": "O8pEDZdQtaQh",
        "colab_type": "code",
        "outputId": "635fa187-00f6-4927-e181-6531ee48cdbc",
        "colab": {
          "base_uri": "https://localhost:8080/",
          "height": 51
        }
      },
      "cell_type": "code",
      "source": [
        "import numpy as np\n",
        "from sklearn.metrics import accuracy_score\n",
        "from matplotlib import pyplot as plt\n",
        "%matplotlib inline\n",
        "import tensorflow as tf\n",
        "print(\"We're using TF\", tf.__version__)\n",
        "\n",
        "import sys\n",
        "sys.path.append(\"../..\")\n",
        "import grading\n",
        "\n",
        "import matplotlib_utils\n",
        "from importlib import reload\n",
        "reload(matplotlib_utils)\n",
        "\n",
        "import grading_utils\n",
        "reload(grading_utils)\n",
        "\n",
        "import keras_utils\n",
        "from keras_utils import reset_tf_session"
      ],
      "execution_count": 2,
      "outputs": [
        {
          "output_type": "stream",
          "text": [
            "We're using TF 1.13.1\n"
          ],
          "name": "stdout"
        },
        {
          "output_type": "stream",
          "text": [
            "Using TensorFlow backend.\n"
          ],
          "name": "stderr"
        }
      ]
    },
    {
      "metadata": {
        "id": "1JG9O4zStaQk",
        "colab_type": "text"
      },
      "cell_type": "markdown",
      "source": [
        "# Fill in your Coursera token and email\n",
        "To successfully submit your answers to our grader, please fill in your Coursera submission token and email"
      ]
    },
    {
      "metadata": {
        "id": "HlYqCerFtaQk",
        "colab_type": "code",
        "colab": {}
      },
      "cell_type": "code",
      "source": [
        "grader = grading.Grader(assignment_key=\"XtD7ho3TEeiHQBLWejjYAA\", \n",
        "                        all_parts=[\"9XaAS\", \"vmogZ\", \"RMv95\", \"i8bgs\", \"rE763\"])"
      ],
      "execution_count": 0,
      "outputs": []
    },
    {
      "metadata": {
        "id": "AZPpTLIstaQm",
        "colab_type": "code",
        "colab": {}
      },
      "cell_type": "code",
      "source": [
        "# token expires every 30 min\n",
        "COURSERA_TOKEN = \"bQW330XvoXjRKOjj\"\n",
        "COURSERA_EMAIL = \"gusarovga@ya.ru\""
      ],
      "execution_count": 0,
      "outputs": []
    },
    {
      "metadata": {
        "id": "EQUvVmn0taQo",
        "colab_type": "text"
      },
      "cell_type": "markdown",
      "source": [
        "# Look at the data\n",
        "\n",
        "In this task we have 50000 28x28 images of digits from 0 to 9.\n",
        "We will train a classifier on this data."
      ]
    },
    {
      "metadata": {
        "id": "ipG4LL7CtaQp",
        "colab_type": "code",
        "outputId": "e6810dd9-9894-4b9c-d656-c407b7ff4a15",
        "colab": {
          "base_uri": "https://localhost:8080/",
          "height": 51
        }
      },
      "cell_type": "code",
      "source": [
        "import preprocessed_mnist\n",
        "X_train, y_train, X_val, y_val, X_test, y_test = preprocessed_mnist.load_dataset()"
      ],
      "execution_count": 5,
      "outputs": [
        {
          "output_type": "stream",
          "text": [
            "Downloading data from https://s3.amazonaws.com/img-datasets/mnist.npz\n",
            " 9633792/11490434 [========================>.....] - ETA: 0s"
          ],
          "name": "stdout"
        }
      ]
    },
    {
      "metadata": {
        "id": "0njRMzxftaQr",
        "colab_type": "code",
        "outputId": "958cd004-0fba-4b4e-f2f5-3929de143e6d",
        "colab": {
          "base_uri": "https://localhost:8080/",
          "height": 691
        }
      },
      "cell_type": "code",
      "source": [
        "# X contains rgb values divided by 255\n",
        "print(\"X_train [shape %s] sample patch:\\n\" % (str(X_train.shape)), X_train[1, 15:20, 5:10])\n",
        "print(\"A closeup of a sample patch:\")\n",
        "plt.imshow(X_train[1, 15:20, 5:10], cmap=\"Greys\")\n",
        "plt.show()\n",
        "print(\"And the whole sample:\")\n",
        "plt.imshow(X_train[1], cmap=\"Greys\")\n",
        "plt.show()\n",
        "print(\"y_train [shape %s] 10 samples:\\n\" % (str(y_train.shape)), y_train[:10])"
      ],
      "execution_count": 6,
      "outputs": [
        {
          "output_type": "stream",
          "text": [
            "X_train [shape (50000, 28, 28)] sample patch:\n",
            " [[0.         0.29803922 0.96470588 0.98823529 0.43921569]\n",
            " [0.         0.33333333 0.98823529 0.90196078 0.09803922]\n",
            " [0.         0.33333333 0.98823529 0.8745098  0.        ]\n",
            " [0.         0.33333333 0.98823529 0.56862745 0.        ]\n",
            " [0.         0.3372549  0.99215686 0.88235294 0.        ]]\n",
            "A closeup of a sample patch:\n"
          ],
          "name": "stdout"
        },
        {
          "output_type": "display_data",
          "data": {
            "image/png": "[encoded data removed]",
            "text/plain": [
              "<Figure size 432x288 with 1 Axes>"
            ]
          },
          "metadata": {
            "tags": []
          }
        },
        {
          "output_type": "stream",
          "text": [
            "And the whole sample:\n"
          ],
          "name": "stdout"
        },
        {
          "output_type": "display_data",
          "data": {
            "image/png": "[encoded data removed]",
            "text/plain": [
              "<Figure size 432x288 with 1 Axes>"
            ]
          },
          "metadata": {
            "tags": []
          }
        },
        {
          "output_type": "stream",
          "text": [
            "y_train [shape (50000,)] 10 samples:\n",
            " [5 0 4 1 9 2 1 3 1 4]\n"
          ],
          "name": "stdout"
        }
      ]
    },
    {
      "metadata": {
        "id": "jnlBXGd4taQs",
        "colab_type": "text"
      },
      "cell_type": "markdown",
      "source": [
        "# Linear model\n",
        "\n",
        "Your task is to train a linear classifier $\\vec{x} \\rightarrow y$ with SGD using TensorFlow.\n",
        "\n",
        "You will need to calculate a logit (a linear transformation) $z_k$ for each class: \n",
        "$$z_k = \\vec{x} \\cdot \\vec{w_k} + b_k \\quad k = 0..9$$\n",
        "\n",
        "And transform logits $z_k$ to valid probabilities $p_k$ with softmax: \n",
        "$$p_k = \\frac{e^{z_k}}{\\sum_{i=0}^{9}{e^{z_i}}} \\quad k = 0..9$$\n",
        "\n",
        "We will use a cross-entropy loss to train our multi-class classifier:\n",
        "$$\\text{cross-entropy}(y, p) = -\\sum_{k=0}^{9}{\\log(p_k)[y = k]}$$ \n",
        "\n",
        "where \n",
        "$$\n",
        "[x]=\\begin{cases}\n",
        "       1, \\quad \\text{if $x$ is true} \\\\\n",
        "       0, \\quad \\text{otherwise}\n",
        "    \\end{cases}\n",
        "$$\n",
        "\n",
        "Cross-entropy minimization pushes $p_k$ close to 1 when $y = k$, which is what we want.\n",
        "\n",
        "Here's the plan:\n",
        "* Flatten the images (28x28 -> 784) with `X_train.reshape((X_train.shape[0], -1))` to simplify our linear model implementation\n",
        "* Use a matrix placeholder for flattened `X_train`\n",
        "* Convert `y_train` to one-hot encoded vectors that are needed for cross-entropy\n",
        "* Use a shared variable `W` for all weights (a column $\\vec{w_k}$ per class) and `b` for all biases.\n",
        "* Aim for ~0.93 validation accuracy"
      ]
    },
    {
      "metadata": {
        "id": "PrU5G9dFtaQt",
        "colab_type": "code",
        "outputId": "3021bd6f-2656-420a-be54-36d588badda3",
        "colab": {
          "base_uri": "https://localhost:8080/",
          "height": 51
        }
      },
      "cell_type": "code",
      "source": [
        "X_train_flat = X_train.reshape((X_train.shape[0], -1))\n",
        "print(X_train_flat.shape)\n",
        "\n",
        "X_val_flat = X_val.reshape((X_val.shape[0], -1))\n",
        "print(X_val_flat.shape)"
      ],
      "execution_count": 7,
      "outputs": [
        {
          "output_type": "stream",
          "text": [
            "(50000, 784)\n",
            "(10000, 784)\n"
          ],
          "name": "stdout"
        }
      ]
    },
    {
      "metadata": {
        "id": "tuTIET9JtaQv",
        "colab_type": "code",
        "outputId": "56d88b92-a19d-48bb-9855-25058d48dfac",
        "colab": {
          "base_uri": "https://localhost:8080/",
          "height": 85
        }
      },
      "cell_type": "code",
      "source": [
        "import keras\n",
        "\n",
        "y_train_oh = keras.utils.to_categorical(y_train, 10)\n",
        "y_val_oh = keras.utils.to_categorical(y_val, 10)\n",
        "\n",
        "print(y_train_oh.shape)\n",
        "print(y_train_oh[:3], y_train[:3])"
      ],
      "execution_count": 8,
      "outputs": [
        {
          "output_type": "stream",
          "text": [
            "(50000, 10)\n",
            "[[0. 0. 0. 0. 0. 1. 0. 0. 0. 0.]\n",
            " [1. 0. 0. 0. 0. 0. 0. 0. 0. 0.]\n",
            " [0. 0. 0. 0. 1. 0. 0. 0. 0. 0.]] [5 0 4]\n"
          ],
          "name": "stdout"
        }
      ]
    },
    {
      "metadata": {
        "id": "-iI15nJOtaQx",
        "colab_type": "code",
        "colab": {}
      },
      "cell_type": "code",
      "source": [
        "# run this again if you remake your graph\n",
        "s = reset_tf_session()"
      ],
      "execution_count": 0,
      "outputs": []
    },
    {
      "metadata": {
        "id": "Ql1NMEZktaQz",
        "colab_type": "code",
        "outputId": "378063d3-5c21-481a-e999-fc01343ba798",
        "colab": {
          "base_uri": "https://localhost:8080/",
          "height": 122
        }
      },
      "cell_type": "code",
      "source": [
        "## Model parameters: W and b\n",
        "# W = ### YOUR CODE HERE ### tf.get_variable(...) with shape[0] = 784\n",
        "# b = ### YOUR CODE HERE ### tf.get_variable(...)\n",
        "\n",
        "\n",
        "W = tf.get_variable('Weights', shape = (784, 10), dtype = tf.float32)\n",
        "b = tf.get_variable('Bias', shape = (1, 10), dtype = tf.float32)\n",
        "print(W.shape)\n",
        "print(b.shape)\n",
        "\n",
        "\n",
        "# Alternative approach\n",
        "# W =tf.Variable(tf.zeros([784, 10]))\n",
        "# b = tf.Variable(tf.zeros([10]))"
      ],
      "execution_count": 10,
      "outputs": [
        {
          "output_type": "stream",
          "text": [
            "WARNING:tensorflow:From /usr/local/lib/python3.6/dist-packages/tensorflow/python/framework/op_def_library.py:263: colocate_with (from tensorflow.python.framework.ops) is deprecated and will be removed in a future version.\n",
            "Instructions for updating:\n",
            "Colocations handled automatically by placer.\n",
            "(784, 10)\n",
            "(1, 10)\n"
          ],
          "name": "stdout"
        }
      ]
    },
    {
      "metadata": {
        "id": "gbljOV21K5IO",
        "colab_type": "code",
        "colab": {}
      },
      "cell_type": "code",
      "source": [
        ""
      ],
      "execution_count": 0,
      "outputs": []
    },
    {
      "metadata": {
        "id": "HV8ryXLPtaQ1",
        "colab_type": "code",
        "colab": {}
      },
      "cell_type": "code",
      "source": [
        "## Placeholders for the input data\n",
        "# input_X = ### YOUR CODE HERE ### tf.placeholder(...) for flat X with shape[0] = None for any batch size\n",
        "# input_y = ### YOUR CODE HERE ### tf.placeholder(...) for one-hot encoded true labels\n",
        "input_X = tf.placeholder(tf.float32, shape = (None, 784))\n",
        "input_y = tf.placeholder(tf.float32, shape = (None, 10))  "
      ],
      "execution_count": 0,
      "outputs": []
    },
    {
      "metadata": {
        "id": "ME02draNLtWT",
        "colab_type": "code",
        "outputId": "a4463ae1-08ea-4dce-c2da-68ca9d498093",
        "colab": {
          "base_uri": "https://localhost:8080/",
          "height": 34
        }
      },
      "cell_type": "code",
      "source": [
        "tf.matmul(input_X,W).shape"
      ],
      "execution_count": 12,
      "outputs": [
        {
          "output_type": "execute_result",
          "data": {
            "text/plain": [
              "TensorShape([Dimension(None), Dimension(10)])"
            ]
          },
          "metadata": {
            "tags": []
          },
          "execution_count": 12
        }
      ]
    },
    {
      "metadata": {
        "id": "hHp72vkRtaQ3",
        "colab_type": "code",
        "colab": {}
      },
      "cell_type": "code",
      "source": [
        "# # Compute predictions\n",
        "# logits = ### YOUR CODE HERE ### logits for input_X, resulting shape should be [input_X.shape[0], 10]\n",
        "# probas = ### YOUR CODE HERE ### apply tf.nn.softmax to logits\n",
        "# classes = ### YOUR CODE HERE ### apply tf.argmax to find a class index with highest probability\n",
        "logits = tf.add(tf.matmul(input_X,W), b) #input_X @ W + b\n",
        "probas = tf.nn.softmax(logits)\n",
        "classes = tf.argmax(probas, axis = 1)\n",
        "\n",
        "\n",
        "# # Loss should be a scalar number: average loss over all the objects with tf.reduce_mean().\n",
        "# # Use tf.nn.softmax_cross_entropy_with_logits on top of one-hot encoded input_y and logits.\n",
        "# # It is identical to calculating cross-entropy on top of probas, but is more numerically friendly (read the docs).\n",
        "# loss = ### YOUR CODE HERE ### cross-entropy loss\n",
        "loss = tf.reduce_mean(tf.nn.softmax_cross_entropy_with_logits_v2(input_y, logits))\n",
        "\n",
        "# # Use a default tf.train.AdamOptimizer to get an SGD step\n",
        "# step = ### YOUR CODE HERE ### optimizer step that minimizes the loss\n",
        "step = tf.train.AdamOptimizer().minimize(loss)"
      ],
      "execution_count": 0,
      "outputs": []
    },
    {
      "metadata": {
        "scrolled": false,
        "id": "YPx504l0taQ5",
        "colab_type": "code",
        "outputId": "1ed21f64-06c7-43c2-b7c3-2aed42db1fe9",
        "colab": {
          "base_uri": "https://localhost:8080/",
          "height": 309
        }
      },
      "cell_type": "code",
      "source": [
        "s.run(tf.global_variables_initializer())\n",
        "\n",
        "BATCH_SIZE = 512\n",
        "EPOCHS = 40\n",
        "\n",
        "# for logging the progress right here in Jupyter (for those who don't have TensorBoard)\n",
        "simpleTrainingCurves = matplotlib_utils.SimpleTrainingCurves(\"cross-entropy\", \"accuracy\")\n",
        "\n",
        "for epoch in range(EPOCHS):  # we finish an epoch when we've looked at all training samples\n",
        "    \n",
        "    batch_losses = []\n",
        "    for batch_start in range(0, X_train_flat.shape[0], BATCH_SIZE):  # data is already shuffled\n",
        "        _, batch_loss = s.run([step, loss], {input_X: X_train_flat[batch_start:batch_start+BATCH_SIZE], \n",
        "                                             input_y: y_train_oh[batch_start:batch_start+BATCH_SIZE]})\n",
        "        # collect batch losses, this is almost free as we need a forward pass for backprop anyway\n",
        "        batch_losses.append(batch_loss)\n",
        "\n",
        "    train_loss = np.mean(batch_losses)\n",
        "    val_loss = s.run(loss, {input_X: X_val_flat, input_y: y_val_oh})  # this part is usually small\n",
        "    train_accuracy = accuracy_score(y_train, s.run(classes, {input_X: X_train_flat}))  # this is slow and usually skipped\n",
        "    valid_accuracy = accuracy_score(y_val, s.run(classes, {input_X: X_val_flat}))  \n",
        "    simpleTrainingCurves.add(train_loss, val_loss, train_accuracy, valid_accuracy)"
      ],
      "execution_count": 14,
      "outputs": [
        {
          "output_type": "display_data",
          "data": {
            "text/html": [
              "<img src=\"data:image/jpeg;base64,/9j/4AAQSkZJRgABAQEASABIAAD/2wBDAAIBAQEBAQIBAQECAgICAgQDAgICAgUEBAMEBgUGBgYFBgYGBwkIBgcJBwYGCAsICQoKCgoKBggLDAsKDAkKCgr/2wBDAQICAgICAgUDAwUKBwYHCgoKCgoKCgoKCgoKCgoKCgoKCgoKCgoKCgoKCgoKCgoKCgoKCgoKCgoKCgoKCgoKCgr/wAARCAEgA2ADASIAAhEBAxEB/8QAHwAAAQUBAQEBAQEAAAAAAAAAAAECAwQFBgcICQoL/8QAtRAAAgEDAwIEAwUFBAQAAAF9AQIDAAQRBRIhMUEGE1FhByJxFDKBkaEII0KxwRVS0fAkM2JyggkKFhcYGRolJicoKSo0NTY3ODk6Q0RFRkdISUpTVFVWV1hZWmNkZWZnaGlqc3R1dnd4eXqDhIWGh4iJipKTlJWWl5iZmqKjpKWmp6ipqrKztLW2t7i5usLDxMXGx8jJytLT1NXW19jZ2uHi4%2BTl5ufo6erx8vP09fb3%2BPn6/8QAHwEAAwEBAQEBAQEBAQAAAAAAAAECAwQFBgcICQoL/8QAtREAAgECBAQDBAcFBAQAAQJ3AAECAxEEBSExBhJBUQdhcRMiMoEIFEKRobHBCSMzUvAVYnLRChYkNOEl8RcYGRomJygpKjU2Nzg5OkNERUZHSElKU1RVVldYWVpjZGVmZ2hpanN0dXZ3eHl6goOEhYaHiImKkpOUlZaXmJmaoqOkpaanqKmqsrO0tba3uLm6wsPExcbHyMnK0tPU1dbX2Nna4uPk5ebn6Onq8vP09fb3%2BPn6/9oADAMBAAIRAxEAPwD9/KKKKACiiigAooooAKKKKACiiigAooooAKKKKACiiigAooooAKKKKACiiigAooooAKKKKACiiigAooooAKKKKACiiigAooooAKKKKACiiigAooooAKKKKACiiigAooooAKKKKACiiigAooooAKKKKACiiigAooooAKKKKACiiigAooooAKKKKACiiigAooooAKKKKACiiigAooooAKKKKACiiigAooooAKKKKACiiigAooooAKKKKACiiigAooooAKKKKACiiigAooooAKKKKACiiigAooooAKKKKACiiigAooooAKKKKACiiigAooooAKKKKACiiigAooooAKKKKACiiigAooooAKKKKACvPfjt%2B1J8FP2b5NGsfil4g1Maj4ilnTQNB8OeF9R1zVNR8lVed4bHTbee5kjiVkMkixlI96biu5c%2BhV4N%2B0P8D/j5/wANJ%2BDv2tv2bLLwfrWueH/B2seFNX8KeOdcutLtLywv7mwuxcQXtraXj288U2noCpt3WVJSCUKK1ABpf/BTL9izWLvxPb2nxXv0h8FWsk/jLUrvwXrEFjoIS0iu9l5dy2iwWsrQzRskMjrJIWKorMrKL2n/APBQ/wDZK1HwBrXxFTx/q9vB4f1ay0vVdE1DwNrNrrkV5ebfscC6PNaLqEr3AYGER27eaAxTcFYjy2b9gH4y%2BMf2a/jn8NfGHinwppHin4o/FS38daHc6U1xeWFpeW0OiywQ3IkihkkiN3pRRwoyYHGDuJVaPi79i/8AaV%2BLmr/Ef45fG34S/CjWvFnjWx8KaPp/gKy%2BI2s2Wm6fY6Hcaldw3qa7b6al5DqDXOqTOksVoPJSKNFZiWcgHsviH9vv9mzwv4a8OeI9XvvG3meK0v5NE8P2vwm8SXGuSRWUscV3NJpMWntf28MLzQq8s0CIpmiy37xM%2Bmaz8RPBHhv4e3XxX8T%2BJbbSvDljo76rf6vqrfZYbSySIzPPMZdvlKsYLNvxtAOcYNfGHin9hH9s/WPgX4X8Nay3hfxV470a58RHRfGV/wDHbxNpGr%2BCLW%2BuUktLO11q1sJLzXIYkjhEy3qw/aTbReYCFGPUfjR/wTotfj1%2Bzb4n%2BHHxD%2BOfjW78d%2BMPhfH4Z17xS3jbWho818tpDE2oJoS3y2FuzzQLK3kRRSEPIBIrSM5AOkg/4KUfsZf8K58V/FbWPite6Jo3giysr7xQ/ifwdq%2Bk3NlZXkxhtb37LeWsVxJaSyK6pcxxtC3luQ%2BEYjj/AI3f8FZP2d/hn8ENU%2BMfgPRfFXiqbQfiD4X8L674Y/4QXXbHU7A6zqVrax3T2cmnNdeV5Fw88DeT5d48aW8MhknjB8r1T/gmJ8ZPHfwq8faR4i8DeG9G8Y%2BI9D0fR7DxDqv7RfjPxut3aWusW%2BoTRyf27AfsEZ8likUSzHe%2BGkxknv8A9qH9gz40/GD4g/F/4g%2BBfEPheOTxfB8LbzwlZ6tfXMSvf%2BE/EdzrUsN40dvJ5ENwGt4VljEzrl2MfyKrgHqFh/wUE/Zb1H4m2XwZh8T%2BJo/Fd5oun6xLoF38N9egudO0%2B9adILu/SSyU6dDut5VeS68pYiFEhQum6j4a/wCCmH7FPi3wZ4s%2BIWkfGC4TR/Bfgi68Zaxe6h4S1W0Fx4et0Z5tWsVntUbVLNVQ4nsxPGxZArEugbB0P9kP4ofEP4mfG74g/G9fD2gxfGj4O%2BHfCF1Y%2BE9duNRl0u4tE11Ltlnns7XzYwNViMT7FZikm6OPA3fN37Y37Kn7UOj/ALDHxS%2BJv7TF34AtIfhD%2BxT8QfBHhePwFqF5cNrzXukWxn1G6W5toBYqE0i3CWcbXAVppCZ22oKAPrPw9/wUl/Yy8TaHrHiPT/i1dQWehppU1/JqnhLVbJmtNSu1s7HUIUuLVGubCWdgovoQ9qoDO0qorMPT9E%2BLvw88R/FLX/gvofiH7T4k8LaXp%2Boa/YR2k22zgvmuBa7pinlF3%2ByzHy1cyKoRmVVkjLfJOofsz%2BIPFegeKfjb/wAFIvF/wz8J%2BBbf9nu5%2BHUlx4f8QTLay6beyQyXmq3k17BbpYOTBbCG2QzCAmT/AEiQsuOw/wCCPngP4u2f7I9r8f8A9pDUDf8AxJ%2BL15H4n8V6g9nJbtJCLSCy01fKl%2BeH/iX2lpI0TYKSzTZAYtkA%2BqqKKKACiiigAooooAKKKKACiiigAooooAKKKKACiiigAooooAKKKKACiiigAooooAKKKKACiiigAooooAKKKKACiiigAooooAK8R0j/AIKMfse6ld69Z6n8Urzw83hzw5c%2BINQk8a%2BEdV0GObSbd0jnv7WTUrWBb63R5IlaW2MqAyxjOXXPtN7FczWcsNndCCZ4mWKYx7/LYjhtp64POO9fmJq//BHL9uX4v6t4X1z43fHHQ31vw14P1Cz1DxRqHxW8TeJx4h1v7ZpV9a6idLvoobLSbaS50xfPsLIBRHJtWWQKgUA%2B2X/b/wD2YbX4aN8WNY8QeKtK0ttcg0axs9c%2BGWv2GqanfzIZIYLLTbixS9v2kQM6/Z4ZAyo7AkIxHReA/wBqz4H/ABH1%2By8J%2BHPEOqQ6vf8AhSfxJDpGteFdS0y7TTYbv7JLLLDeW8UkDrP8hhkVZe%2BzbzXk3xO%2BDn7bvxib4e/G3XPBvwq0P4h/Cjx1NrHh/wAM2vjjUr/Rdcs7jSbvTLmO4vn0qGaxmKXskkbpa3AjMQU%2BYJGxV%2BJPwG/bg1/4y%2BHf2mvA%2BjfCu08WX3ww1XwX4x0LUvFepSWGkLcX8N1a39lcJpwk1AxCN1kt5YrQSlxiWLHIB3Gk/wDBRv8AZA8R694F8LeFfiNqus6n8SfBuleLfBunaJ4H1m9nvND1F9lrqMiQWjNa2%2B7HmSTiNbcMpm8oMCdj4a/tufs3fFf4jXPwn8M%2BL9Ws9ft9LudThsvE/gzVtEW/sbeRI57uyl1G1gjv4I3liDy2zSIvmISQGUnyj9hT9hL4sfsw6/8ADjWfHniDw1dnwd%2Byl4R%2BGN%2B%2BkXM8rNq2lvM1zNF5kEe61bemxmKu235o0wK8a%2BGn/BKv9sbxP8UfC/ib9qb4w2eqRaf4A8V%2BF/GniaD4v%2BJNavPEUur2KW39p2umX0Men6EcqWNpaKUXKgTOI1WgD6l8J/8ABRf9kfxrosfirQfHeuf2Hcarpen6f4lvfh/rdrpWoy6lex2VlJaX09mlteQS3M0UYuIJHhBlQs4VgT6X4W%2BLvw88a/EDxT8LvC/iH7XrnguSzj8T2iWkwWxkuoPtEEZlZBG7tCVkKIzMiyRlgokTd8w%2BOPAnxF8K/wDBPbxp8CP%2BChnif4VeCPAWg/DSLQLb4meHfFt2GadI0trXUntLqzgTTZlmFvJDBHcXTGcoiOTtDdr/AMEr/h98WPDf7ImlfFX9oqwS3%2BJ3xYvpfHXxEhW3aL7Pf36xmG02N8yfZbGOys9pyQLXBoA%2BjaKKKACiiigAooooAKKKKACiiigAooooAKKKKACiiigAooooAKKKKACiiigAooooAKKKKACiiigAooooAKKKKACiiigAooooAKKKKACvF/j14/8A2i/%2BGi/AvwI%2BAvjPwV4fTX/BXiXXtX1Pxf4Lu9aJOnXeh28MMMdvqVj5Yb%2B1JWZmZ8%2BWgAXkn2ivCviLrSWX/BSr4Q6LIoxe/BP4hsjd90ereDTj8mY/hSbS3LhCVR2j2b%2B7Vl//AIQf/goX/wBHQfBn/wAMPq3/AM1FH/CD/wDBQv8A6Og%2BDP8A4YfVv/mor2aimQeM/wDCD/8ABQv/AKOg%2BDP/AIYfVv8A5qKP%2BEH/AOChf/R0HwZ/8MPq3/zUV7NRQB4z/wAIP/wUL/6Og%2BDP/hh9W/8Amoo/4Qf/AIKF/wDR0HwZ/wDDD6t/81FezUUAeM/8IP8A8FC/%2BjoPgz/4YfVv/moo/wCEH/4KF/8AR0HwZ/8ADD6t/wDNRXs1FAHjP/CD/wDBQv8A6Og%2BDP8A4YfVv/moo/4Qf/goX/0dB8Gf/DD6t/8ANRXs1FAHjP8Awg//AAUL/wCjoPgz/wCGH1b/AOaij/hB/wDgoX/0dB8Gf/DD6t/81FezUUAeM/8ACD/8FC/%2BjoPgz/4YfVv/AJqKP%2BEH/wCChf8A0dB8Gf8Aww%2Brf/NRXs1FAHjP/CD/APBQv/o6D4M/%2BGH1b/5qKP8AhB/%2BChf/AEdB8Gf/AAw%2Brf8AzUVa1/43/sifCm00jSfjp8Yfhz4c1zUNFg1A23i7xDYWl3cRyZHn7bh1dkZ0kAbplGGeCBm/8Nf/APBOD/o6L4I/%2BFto/wD8drmnjMHTk4zqxTXRyin9zkme1h%2BG%2BJMXQjWoYGvOEldSjRrSi13Uo0ZRa0eqbWm5Y/4Qf/goX/0dB8Gf/DD6t/8ANRR/wg//AAUL/wCjoPgz/wCGH1b/AOaiq/8Aw1//AME4P%2Bjovgj/AOFto/8A8dr07QNF%2BFnivQrLxT4W0nw/qWmalaR3Wnajp8EE0F1BIoeOWORAVdGUhlZSQQQQcGrpYnD121TnGVu0k/ybOfHZNnOVwjPG4WrSUnZOpTqU03vZOdOCbtrZNu2trannP/CD/wDBQv8A6Og%2BDP8A4YfVv/moo/4Qf/goX/0dB8Gf/DD6t/8ANRXnnw%2B/4KNfsX%2BL/A9n4w8Q/D3xPoM%2BqeONa8LaJo1z8HtbnvNWvdOuL%2BORbSKHT2e6Jh0%2BedliVzCAY5Nkiso7L4hftUfsteBbLx7aXmiRafrHgLwhrXiG8tvFngTVtJs7uz0xf9Lnt7qTTnF7bxM0QklskuiomjYI%2B9FfY800f%2BEH/wCChf8A0dB8Gf8Aww%2Brf/NRR/wg/wDwUL/6Og%2BDP/hh9W/%2Baiqth%2B1Z%2BxhqHxnk/Z%2BhvLf/AISi38QR6DdR/wDCDX4sIdVfTo9SjsW1BrQWizvaSpMkZlDODhQWBUbPxr%2BKvwV%2BEn7POu/tD6P4R0bxRp2l2DSabb6GttINVumlEEFrFMAUDSXDJDuJ2qzEt0NAFD/hB/8AgoX/ANHQfBn/AMMPq3/zUUf8IP8A8FC/%2BjoPgz/4YfVv/mop/wCzh8QLb4uXnjLwP8UfgV4b8K%2BMPAfiCHTNf0rR9RXVbGRZ7G2vbe5trqS0tnljeK5VTvgjZZYpVwyhXfyT4mfto%2BIfgN4Z%2BJ8vxy/ZD8Ead4g8AfCweO7LTdC8dC%2Bs7qyM88AgvLqTS4GsJt8DcrDcRsqyFHfymFAHrH/CD/8ABQv/AKOg%2BDP/AIYfVv8A5qKP%2BEH/AOChf/R0HwZ/8MPq3/zUV5p40/bb%2BHXw%2B/Z88LfFzxD4X%2BBt3qHjfxXJonhq70T4swT%2BFP3dtcXUtzda7JpsQt40htLgNttpD5vlRLuaQY2vjH8f/Gfwd%2BE2jfHy7/Zi%2BGut%2BDf7J0278U6noPxCE8qvd3SQCPSE/soJqoxJG8bSSWhm8xERdxxQB2P/AAg//BQv/o6D4M/%2BGH1b/wCaij/hB/8AgoX/ANHQfBn/AMMPq3/zUVX0b4lXk37Y2q/sxeJP2dvDFjpC%2BCT4i8N%2BKrfWlnn1BEuILeWKazNmi2uJJiFYTylghJVMgVxvgz48fGbWfin8R/g/4v8A2SvhHpmo/D7wVpmuTatafFG4n0pri9luhHZ3VxLoMDWpSCzkuJJFjm2JLDlf3gIAO6/4Qf8A4KF/9HQfBn/ww%2Brf/NRR/wAIP/wUL/6Og%2BDP/hh9W/8AmoryL4f/ALdMXxk8HaBb/Bf9mXwD4m8YeI/GesaHpKaf46V/C9/baZaLc3Wp2utR6Y73NqDJFagpaZN0zxnCRvKIU/4KIeB/EGgaZ8TPh/8Ast6bfeDLHwf4Y8RfEfVNT1WK0vvDsGtXUtukEFqlrKl9Na%2BRLLcgzQKsYXymndtgAPY/%2BEH/AOChf/R0HwZ/8MPq3/zUUf8ACD/8FC/%2BjoPgz/4YfVv/AJqK8Pm/4KY/CrSvjN47%2BHGt/s9%2BHJLTwHZeLLrVtP0TxBFeeKLG30GNpHvL/RjaJ9itLxVBs5/tMnni5tTtXzjs63wh%2B1P4n8W%2BHPH/AIbtP2Wvh1J8SfBXg/QvFcHhXT/iEtzpd7pOqtdC3kk1JdLDwSqthes8a20owkJR3WZWAB6H/wAIP/wUL/6Og%2BDP/hh9W/8Amoo/4Qf/AIKF/wDR0HwZ/wDDD6t/81FeOfHr/god8Pfgp8BPhP8AGu%2B%2BCHgHTk%2BKHgSTxMsvjzxpHoek2DR2Npd/2Wl/9gn%2B0ahMLoi3t/Kj89bW4bcnl7T13xH/AGgfiX4K8XfCeHTP2OPBc%2Bg/FfxJpOkWEWr%2BMJbLxDpzXFlJfXrS6aNIlh3WdrbXcjJ9sG/7Pt3IWGADtf8AhB/%2BChf/AEdB8Gf/AAw%2Brf8AzUUf8IP/AMFC/wDo6D4M/wDhh9W/%2BaiuG%2BCn7WXhv9ovx7438M/B34U/CrU7bwxFq8OlaY/xGt18RX13Y3T2iPc6Wli/2CyuJ4pBHdNO7GMxOYf3m1e0/Zv%2BJR%2BLXivx38MPin8BfCvhvxT8P9VsrTV4vDesDWdNmF1ZRXcJjupbK0k80RyDzIngQpmNgWWRWIBL/wAIP/wUL/6Og%2BDP/hh9W/8Amoqh4H8cftWeDv2rPDnwR%2BN3xH%2BHvibRvE3w98Q65DN4V%2BHl9ot1aXWm32iW6Kz3Gr3ySxumqSkqERg0SENjIPqHizwn4W03wtqWpab4csba5trGWW3uLe0RHjdULKysoBBBArz7xx/ykL%2BF/wD2Rnx5/wCnbwhQB7NRRRQAUUUUAFFFFABXzj8JvFX7d/x10fXvHfhf43/CTQNLt/iF4q0PS9Kv/g/ql/cRWul69f6ZC0twniKBZZHjs1dmWKNdzkBQAK%2Bjq8Z/YP8A%2BSIa5/2Wb4j/APqa63QAf8IP/wAFC/8Ao6D4M/8Ahh9W/wDmoo/4Qf8A4KF/9HQfBn/ww%2Brf/NRXs1FAHjP/AAg//BQv/o6D4M/%2BGH1b/wCaij/hB/8AgoX/ANHQfBn/AMMPq3/zUV7NRQB4z/wg/wDwUL/6Og%2BDP/hh9W/%2Baij/AIQf/goX/wBHQfBn/wAMPq3/AM1FezUUAeM/8IP/AMFC/wDo6D4M/wDhh9W/%2Baij/hB/%2BChf/R0HwZ/8MPq3/wA1FezUUAeM/wDCD/8ABQv/AKOg%2BDP/AIYfVv8A5qKP%2BEH/AOChf/R0HwZ/8MPq3/zUV7NRQB4z/wAIP/wUL/6Og%2BDP/hh9W/8Amoo/4Qf/AIKF/wDR0HwZ/wDDD6t/81FezUUAeM/8IP8A8FC/%2BjoPgz/4YfVv/moo/wCEH/4KF/8AR0HwZ/8ADD6t/wDNRXs1FAHjP/CD/wDBQv8A6Og%2BDP8A4YfVv/moo/4Qf/goX/0dB8Gf/DD6t/8ANRXs1FAHjP8Awg//AAUL/wCjoPgz/wCGH1b/AOaij/hB/wDgoX/0dB8Gf/DD6t/81FezUUAeM/8ACD/8FC/%2BjoPgz/4YfVv/AJqKP%2BEH/wCChf8A0dB8Gf8Aww%2Brf/NRXs1FAHjP/CD/APBQv/o6D4M/%2BGH1b/5qKP8AhB/%2BChf/AEdB8Gf/AAw%2Brf8AzUV7NVS81/QtOuVs9Q1q0gmcZSKa5VWb6AnJpNpbibS3PJP%2BEH/4KF/9HQfBn/ww%2Brf/ADUUf8IP/wAFC/8Ao6D4M/8Ahh9W/wDmor2C41Cws7RtQu76GKBVy08koVAPUk8VwXij9rv9lDwPK0HjP9p34e6RIn3o9T8aWMDD8HlBqKlajRV6klH1aX5tGdXEYegr1ZqK82l%2BbRzn/CD/APBQv/o6D4M/%2BGH1b/5qKP8AhB/%2BChf/AEdB8Gf/AAw%2Brf8AzUVm6p/wVA/4J6aPKYbv9sPwG5HU2uvRzj849wrF1T/gr7/wTX0eIzXf7Wvh1wOotYLqc/lHExrjlm2VQ%2BLEQ/8AA4//ACRwSzzJYfFiqa/7iQ/%2BSOs/4Qf/AIKF/wDR0HwZ/wDDD6t/81FH/CD/APBQv/o6D4M/%2BGH1b/5qK8yk/wCC3X/BOq6kMHhP4r654hkU48vRPAmrSEn0G62UH86aP%2BCxfwEuP3mk/s/fHK/gP3bmz%2BFl00bfQlgf0rL%2B3Mm6V4v0d/yTMP8AWTIOmJg/R83/AKSpHp//AAg//BQv/o6D4M/%2BGH1b/wCaij/hB/8AgoX/ANHQfBn/AMMPq3/zUV5gf%2BCx/wCztZ/vPEXwQ%2BNWkQ/8/OpfC67VPzUsf0o/4fc/8E91/cz/ABC8SxXA%2B/aSeANW8xPqBb4/Wj%2B3cm614r1dvzSD/WTIOuKgvV2/NI9P/wCEH/4KF/8AR0HwZ/8ADD6t/wDNRR/wg/8AwUL/AOjoPgz/AOGH1b/5qK8wP/BZ/wDZI1H934H8IfFHxPMelvoPw1v5HP4SKg/WkP8AwVa1G8Qz6B/wTa/afuoeqXE3wwWBHHqC1x096P7cyl/DWT9FKX/pMGH%2BseRv4a6l/hU5f%2Bk05HqH/CD/APBQv/o6D4M/%2BGH1b/5qKP8AhB/%2BChf/AEdB8Gf/AAw%2Brf8AzUV4Lr3/AAWz8PeGJHj8R/sRfF7Tih%2BZdRtNPgZfqHuhiuU1L/g4Y%2BCtq5t7X9nfxKky9YtU8VaLaH/x67J/SuefE2RU/irpfKX6xR6%2BGlicar4bDV6n%2BDDYqX/pOFkfUv8Awg//AAUL/wCjoPgz/wCGH1b/AOaij/hB/wDgoX/0dB8Gf/DD6t/81FfHmqf8HE%2BiwgnRf2VbW4x0%2B1fGHRoc/wDfO%2BuV1r/g5I8SWu4RfsneGrEDpJP8WY73PvttbJj%2BFc0%2BMOHYb1v/ACWX%2BR7WH4b4xxjth8mx0/8ADgcY/wA8PE%2B7f%2BEH/wCChf8A0dB8Gf8Aww%2Brf/NRVv8AZW%2BI3xp8Yax8UPAnx01/wvq2qeAfiFFodnqvhPw1c6Tb3VrLoOj6mrPb3F7eMsiyajKhYS7SsaHapzn8%2B4f%2BDhn436yofQfgF4LIb7ubvW5v/QLAZr6i/wCCQPx78V/tO%2BDfjP8AHLxv4dstJ1TXPjMPtNhp6XCwxeT4X8PW67RcokvKRKx3KOScZGCezLuIMrzas6WGk20r7NK2i3fqLHcPcVZRSVXM8rxWFg3ZSr4epRi5b8qc7XlZN2teyb6H17RRRXtHlBRRRQAUUUUAFFFFABRRRQAUUUUAFFFFABRRRQAUUUUAFFFFAHOfF3xH8QPCPw31bxL8LPBOm%2BI9fs7cSafo2r682mW1ydy7vMukt7holVNzZEMhO3AXmuW%2BFPxy8bfG/wDZF8H/ALR3w4%2BGdjJrnjTwLpPiDTfCmp%2BI2t7eGS9tYbj7PLerbOwSMSkGVYGJCZEeSFrrfijonjzxL8PtV0D4ZeKdI0TXby1MVhquvaFLqdpbkkBmktorm1eUbNwAE0eCQckAqfGvhb%2By9%2B1Z8KP2KNM/ZS8M/tXeFbLXPD3w7t/C3hjx7pvwsmSSwe3hjtoL5rSbVpklkWCPlC4Uy4k4QeSQDtv2Yfj94g%2BO2meLrDxr4CsvD3iHwL40n8NeILTR9ebVNPluY7W1u/Mtbtre3aePy7yJG3Qxsk0c0ZXMeT5X%2B0LrX9l/8FaP2ZrHfj%2B0vhj8TLbHriTwxNj/AMhfpXqv7I3wK8T/ALNvwVsvg/4l8SeGdVGmXEpsrvwx4Yu9LSSOTEkklyLvUL%2BW5u5Z2nmlunm3SvMWZd253%2BXv2pPh98Lfhb/wW0/ZL8ceCvht4f0XVvGmi/EpPFesaVo0FtdaxIun6V5LXUsaB7hlZmCmQsV3tjqa5cZP2dDm84/jKK/U93hzDfW809l3p1n/AOA0K0v/AG0%2B7qKKK6jwgooooAKKKKACiiigAooooAKKKKACiiigDzPUv2ZP2bfjRo%2Bg%2BKfjF%2Bz34H8Wanb%2BH7W1g1HxL4Ts7%2BeOBVLrEsk8bMEDO7BQcAuxxkmqX/DA/wCwr/0ZZ8Jf/Dc6Z/8AGK5P4vf8FIP2L/2PpfDnw0/aL%2BMv/CO63feFLPU7Wy/4R3UbvfavviWTfa28iDLwyjaWDfLnGCCeQ/4fm/8ABLL/AKOi/wDLJ1z/AOQq8XEYvh2nXlGvOkpp683s7387q9/U0XiHiMqX1SOcTpKnpyLE1IKPWyiq8VHfZRW%2B2p63/wAMD/sK/wDRlnwl/wDDc6Z/8Yr07QNA0LwpoVl4W8LaLaabpmm2kdrp2nafbLDBawRqEjijjQBURVAVVUAAAADAr5W/4fm/8Esv%2Bjov/LJ1z/5Cr6e8A%2BOvCvxQ8CaL8S/AuqfbtE8RaRbano975DxfaLW4iWWKTZIqum5HU7WUMM4IB4rowOIyetOSwcqbaWvJy3t58qWl%2B4pcXVeJP3U8xlieTWzrzq8t9L2lVqWvtdJX2v0PCfhh%2Bwv4r8AePPCmtan8Z9N1DQfA/wAUPFXi/wANaXD4Qkguwuu/2s89pcXJvXSUxS6qxSVIYv3cIRkLMZB5HrX/AARhl17xT498SXnx28OxXHjLwF4/8L/21a/C9E1u5j8TSK4uNV1E3xfVHstojhQLbp5Y27UwGHu1h%2B358I9X06xm0nwp4jmvrrRfFupXeky/YLeXS08OXq2Gox3ck92kEDC7dIEZpfLYksXWNXdeE8G/8FPvA/x2m%2BHGo/ASCzlsdd%2BM%2Bo%2BBvG8F/fWOpS6ebfwbq/iFDbXOlX1xZyuxtLA70nmQJNNGwSVT5XpEHXSfsMB/EOq6%2BPihg6n8ddJ%2BI5iGif6v7FpGn6b9gz5/zb/sHmedgbfN2%2BW23c3efGv4Hah%2B0B%2BzzrvwS8f%2BMYre/wBasGjTxBoelmAWV0komtbqKCWWXLQypC%2B1nZXaM5wGwPnjxb/wVWlf4IeFPGvwi%2BFOv%2BI73VIPh7J4j8Uy%2BH4LfRtFbxJd6cqQXMA1JrmO4a1vfNVIDdRQNNB5szKSW%2BkPjD8ePD/wk%2BAXjz4%2B3Wjalc2PgLw/rGqX1lcafNaS3A06GWWVYxOillbyWCSqGjcEMjMpBIBzvwF/Z/8Aih8KdX8ReO/Gvxa0PxD4q8ceLYtW8aajZeD5rC0ktYNMisLeysbdr6ZrTZ9nglMkstyWZrgbVEqeTxf7OP7Jf7U/wP0Xxxf%2BLP2mPh/4s8Y%2BNbs6jd%2BM7n4RXsE818HAhFzGddkWWzggAt4bSE24jUBg5dpGfb/Za%2BNnx%2B8Q/FTxN8Bv2lR4RufEWjeCvDviu11LwXpVzZWgtdVk1KA2TR3NzcO8tvPpc2Zw6LKk0ZEUZDLXNeMv2if2qPhl8eNf%2BEd9c%2BBvGksnwv8AEXi7R9K8L%2BFL%2B3vfDxtJoY9Mhv2a%2BnF6LwyTRoY0tXZ7Kby0dVcxAFdP%2BCefi8OPijN8ZvDcvxTi%2BML/ABFtfEMnw8f%2BwoNRfQB4feFdKGoCYRGwG4t9t803J84yEfuqzLX/AIJ0/GnwvN8KtH8E/tM%2BFpfDHwyiuNQXwr4r%2BF9xfWl94iuLya5fVlW11e0WEQiZ0tLZlljtd28GSRImiw9P/bf/AGmr/wDZDv8A4h6Dr2ia98TNP8UeFrLxH4btP2ePFNpd%2BFLPUbyzjvJbjQJL99SvvJt5bqeOWJokkEBKhgjV1vxX/ag%2BNei/sZL%2B1d8Jvj/8K9Vs/D2iapdeILvVPhtq0Ca7qFvOYIdKtbM6otxply1wj2bxzG6mFyVQQb8x0Adzefs7/Hi4/bitv2o4Pjf4RTwnbeEpPDq%2BC3%2BHl02otayPFcO/9p/2qIvN%2B1RBgfse0RExlS376tDwN%2Bzv49%2BF%2Bi/ErW/AnxT0s%2BOPiJ46uPEcviTW/C0l1aWq7Le1tLR7SO7ieaODT7S2tsrPFvdXmAjLlByvxf8Ajv8AtJ/DD4l/Da%2BM3gt9F%2BIHirStEh%2BGsmgXbeIlE8HmX90moJe%2BQVskWa4kT7GVMNuw81WdcYfin9sX41fBDUv2ndU%2BMNh4W13Sfg14Cg8ZeEbPw1pdzY3NxZSwatMlldyz3M6zTbdPiXzo0hTMrfu8AGgB1n%2BwR8WtD1EfGDwv%2B0dolp8VZfH%2Bo%2BJ7vxBL8PZJNBYX2k22lz2MelDUVlihMVlaT7vthc3UTSuzrK8ZyU/4JbDw/oGmfDP4f/HVrHwZfeD/AAx4d%2BI%2Bl6p4aF3feIoNFupbhJ4LpLmJLGa68%2BWK5JhnVoyvlLA67zh/FD9vz9oH9nFtd%2BCnxun8E33xCGueFLTw74i8NeDtVfSvJ1wahgvpkd1cXl3PA2j6kEhhmDXbG2RfIMrFMP8AaQ/4KXfGf4TfCvwp4s%2BGvi7wd4pe98EeKdb1PxDZ/CXXZ4L2/wBIu4Lf%2By5dOivvtPhxA0kkVzqGoSPb2csDLMEJCgA9X8F/sEeNPCnxcsPGd38dtNvvD/hrxj4s8VeENJfwUV1GHUdeN4Z476/%2B2Fb60i%2B3ziOBYIGKx2weRzAGMPwj/wCCf3iL4K%2BEPiTqXw88XfDLQPHfxD0ix0k6h4W%2BD7aX4c02ytXumRV0eDUxLLMzX987zNehmeaPPyQrGeU1T/goJ8bLb9tqy%2BBCaF4dg8OzeONH8Pi0PhrULhbmC90GLUnvR4jScaZbXCTSPDHpUkRu7hIklT5LmIjM%2BH//AAUE/aJX4AfET4gfEkaBJ4%2B8N%2BHptVsPhnL8Itf8PXOm2ovntv7QllvruU6vZRx7JZJrKJFwrAMC6gAHW6d%2BwB8fNI%2BFfww8MWP7TvhB/Evw4%2BG%2BqeA21O9%2BFE1xpOp6NeRafF5h059XLRXqJpsAE32h4mEs6tAVkCp6P4B/Y60jwH47%2BFOvx%2BPLzUdG%2BD/wyn8KeF9I1G23zSXEqWUDapPcb/nnFtZeSAIxgXVwdx34HgfiP/goj8c9X/Yw/aF%2BL/wL%2BJ3wl8W%2BJfgFDfakfF9h4YvpvDfijT4PD6auBbQRamXjkLu1ozreTRq0Dyck%2BSnof7Z/7X/xx%2BCvijxvH8G9K8LSaZ8IvhB/wsfx3B4j065uLjWrIzXwj06xeG5hWzmaLSr8/aJVnUOYB5WCzAAh8I/8E7/Gnw28WHWvhn8ddD0ex8Nv4yv/AIX2qfD3fcaLqniKeW5mm1Cb7cBqdtBPM7JbJHal1WISSu8Ykr0P9in9nD4i/su/C2b4dfEP4m%2BHfF11NfPfXPiHSPB9zpV5ql7MS11fag9xqN6bq5mkIYupiVAAioEVFXzzSP2zPjTqfx4sr0af4VPwv1X4x3fw2srJdMuRrcd3Bps8/wDaj3JufJaJry2ktvsotwwjZJvPJzDVPwF%2B3V8S/BPjr4r%2BBvj2%2BneJT8PtJ0mTTLnw78ONU8K3Or6tfXt5ZQ6VaWWrXdw%2BoLNPBbpBqEEn2SV7gorHy3YAH0745/5EnWP%2BwVcf%2Bi2ry3xx/wApC/hf/wBkZ8ef%2BnbwhWf%2ByX8afi58fP2QNV8d/HfSvD1l4ts/EfjXw9rNv4USddPD6Rr%2BqaSrQ%2Be7yEMlkjFmPzMzEKgIRdDxx/ykL%2BF//ZGfHn/p28IUAezUUUUAFFFc78V/iv4B%2BCPgK9%2BJnxN1xtP0eweCOaaKzmuZZJZpkgggiggR5Z5pZpY4o4o0aSSSRERWZgCAdFRXndl%2B1b8BL74F3X7SKeOmh8IWMk8N9e3mkXdvc21zDcm0ktJLKWJbpLoXKmD7K0QmMuIwhchTlS/tt/s/p4Bi%2BI1rd%2BML2yk1ebS5tO0z4Ya/d6rZXcSCSSK602Gxa9tCsZRyZ4UGySNs4kQsAes14z%2Bwf/yRDXP%2ByzfEf/1Ndbr1HwL448I/E3wVpHxH%2BH/iG11fQtf0yDUdG1WxlDw3lrNGskUyMOqsjKwPoa8u/YP/AOSIa5/2Wb4j/wDqa63QB7NRRRQAUUUUAFFFFABRRRQAUUkkkcMbSyyKqKpLMxwAB1JNfPXxo/4KnfsSfBbWh4OuPi9F4q8SvIY4PC3gK1fWb%2BWQdY9tsGRH/wBmR1Nc%2BIxeFwcOevNRXm0vu6v5JnLi8dgsBT58TUjBf3mlf06t%2BSTfkfQ1FfIo/bk/bv8Ai/hP2av%2BCZ3iTT7OX/V698Xtft9CEQ7M1kN0zg/7LcU5fhT/AMFl/igfN8YftX/Cb4XRvysXgPwNLrUqDsGOpMFLepHHpXD/AGvTqfwKVSp5qDS%2B%2BbgvwPN/t2lV/wB2oVavmoOK/wDAqjpr8D64or5K/wCGG/8AgoHqHzeIf%2BCufiiVu/8AZvww0qzH5Kxpl1%2BwH%2B2JLbvHrv8AwVq%2BIq2RX/SjbeGtPtpBH32yjmM4/iHTrT%2Bv47phJ/8AgVP/AOSY/wC08ze2Bqf%2BB0v/AJNn1R4k8V%2BFvBumtrPi/wAS6fpVmpw13qV4kEQPoWcgfrXk3jz/AIKN/sGfDW2mufFn7XXgBTApMttYeJYL2cY7eTbNJIT7Bc188an%2Bxf8A8EgfhdqTeKf2qP2iNP8AH/iCFTv1X4u/Ftb26Y/xAQedGjZ9PLJ4qDRP2x/%2BCIvwp1ldN%2BA3wh8M%2BItbtWBji%2BHnwie8ugR0InFsoY56ESGuCtm%2BJpv350KXlKo5y%2B6FlfyPqss4I8WeIIc%2BX5TLk7%2BzrzSXdyVOlS/8qW8zvf8Ah7PpfxQb7N%2Bxx%2Bx/8V/ivv8A%2BPfW7Xw%2BdJ0aT0ze3mNmfePpSpr3/BaP4ut9r0zwH8GPhFYNz9l1zU7rXtTTPQbrbFuQO/Tmnr/wUz%2BLnjECP4I/8Exvjpq%2B7iCbxRosGgW8noRJPI/y%2B%2BKUfGP/AILIfED954P/AGOPhR4AR/uL48%2BIEuqMo9/7NUVz/WliPjxFWp5UqcoL7%2BW/3zPW/wCIP8Z75vj6OGXVSxWEoW/7dhUxNb%2BtdRP%2BGU/%2BCqPivjxf/wAFRdN0OFv9baeFfg/YMSPRZp5N6/XFH/Dr74jeJv3vxR/4KcftD6jIfvp4e8XRaPC/sY4oWGPbNKfhR/wWZ8aDyvEv7WPwd8FLJ9%2BXwd4FudSaL/dF%2BwDfjSD/AIJrfHfxx8/x4/4Kh/GnVy3%2Buh8GXVt4bgk9QY7dH%2BU%2Bmaf1aFXbC1p/9fKrivxqv8g/4hbwXh9cyz%2BjLypyx2Kf/kkaEP8AydfcR3v/AAR3/Zaktmu/iZ8ZPi74jt1GZ28T/FK7ZGH%2B0UMf9K4zX/2Av%2BCDXw3gltvHcfw6sZCczSa98WrhZmb6yX4YH2GK72y/4Iq/sEXdyuo/EnwZ4n8cXqHIvfGHjrUrmTPqQkyKfxWu%2B8Kf8Ezf%2BCfngsKNF/Y98ASFPutqfh2G%2BYe%2BbkOc%2B9NZPOeqwdBf4nKb/wDSf1GuD/A3Cv8AeTxOIf8AdwuHgvlLEYitL74pnxr4l%2BF//Bs94DujeanrnhidYm3G303xhr%2BpRFvXZbzyBv1FavhX42f8EQNJiWL4M/sI33jtB/qpNI%2BCVxqZf0w19GCfxr7/APCnwP8Agt4DZG8DfCDwvopT7h0nw/bW236eWgxXUVdPIqsXeMaEP8NFP8ZS/Q1pYLwTwDvh8jrVH3qV6FNfdRwkn90z4O0v9pX4RSRi3%2BD3/BDn4lsv/LI6n8H9M0aJvQhnJ498VtaX8Z/205ZhcfDP/giNo%2BmJ/Be6x8RdDsWX0zEsO/8AI19r0V2RyjEdcQ1/hp0o/wDtkjujxDwPhf8AdeGsOv8Ar5WxVT8pUF%2BFj5Ki%2BLH/AAWO1WMJo37H3wh0FMYSPV/Hs1xsHv8AZ1A/KlLf8FwteOwR/sy6BEerltdup1%2Bg%2B4fxr60orX%2Bypv4sTVf/AG8l%2BUDf/XzDU/4OSYCPrQnP/wBOYp/imfJf/Civ%2BCwXiL/kM/t3/Drw5u6/8I/8MFvNv0%2B1OM/jR/wwt%2B3t4h%2BX4h/8FbPF1wrffXw18OtL0k/QNGzEV9aUUf2NhH8c6kvWrU/SUUH/ABErP6f%2B74fCUv8ABgcIn8nKlVl%2BJ8l/8OpZ9a/eeP8A/gol%2B0trBP8ArLeP4li1t2/7ZRwcfnQP%2BCK/7EersD8S4fHnjUZyV8VfETUZg318qWOvrSij%2BwsofxUVL/FzS/8ASpSD/iKviJH%2BFmVSl/16VKjb0dGhSa%2B/5nztoH/BJf8A4JxeGo0i079kfwrIE6HUIpbs/iZ5HJ/Guu0f9gX9hrQcHSv2OvhhGy9JG8CWDuP%2BBNET%2Btet0V0QyzLafwUIL/tyP/yJ4%2BJ4442xrbr5piZ374iv/wDLkcVp37Nf7OmjgDSfgF4KtQv3RbeFbNMf98xiug0fwN4J8PEHw/4O0qxI6Gz0%2BOLH/fKitWiuqNGjD4YpeiS/JI8SvmeZYpWrV5z/AMU5y/8ASpsK8Z/Zf/5Lf%2B0d/wBlmsf/AFCvC9ezV4z%2By/8A8lv/AGjv%2ByzWP/qFeF60OI9mooooAKKKKACiiigAooooAKKKKACiiigAooooAKKKKACiiigAooooAKKKKACvgv8A4KX6p/YX/BVb9h/Vd23dqvjC1z/13/sOLH47q%2B9K/Ov/AILH3kukf8FBP2JvEEfCWXjzUTcN/difVPDcbH/x%2BvMziXJls5duV/8Ak9M%2B48N6KxPGmFov7arR%2B/C4v9Uj9FKKKK9M%2BHCiiigAooooAKKKKACiiigAooooAKKKKAMrwN/yJOj/APYLt/8A0WtatZQ8GaGmVga%2BhTJIit9WuY0X2VVkCqPYACl/4Q/Sf%2BfvVf8AweXf/wAdoA1KKy/%2BEP0n/n71X/weXf8A8do/4Q/Sf%2BfvVf8AweXf/wAdoA8P8Qf8E0/2fPEviP4zeJdQ1fxMJfjbp1tZ65bpqMPk6IIlJaTTUMJEDTTkXMwl81JZlUspX5C/wV/wTu%2BHPhbxdH8QvEHxi8feKfEB%2BJ0nju81jxBe6f5l3qbeFZ/C/lslrZQxJbiwnLLHEkeJkRs7N0be2/8ACH6T/wA/eq/%2BDy7/APjtH/CH6T/z96r/AODy7/8AjtAHzl/w6k%2BDFn4X0DwD4c%2BM/wASNI8O6RY%2BEIdU0HTtT08QeIJvDTWp0y7vGexaUTbbK2SX7O8EcqRKGT5Vx9A6x8OtI8W%2BB9d%2BHXxCvrnxHpPiKG%2BttStdUjhUNZXQdXsx5EcYMSxuY1LZkKgb3dssbn/CH6T/AM/eq/8Ag8u//jtH/CH6T/z96r/4PLv/AOO0AeZ/A79j3S/gXJqWs6d8c/HfiDX9Uh0WxuvFHiafTZ746RpUkr2mkjy7KOL7MPtF2Gcxm5Y3kzmfzCsi53wl/YmuPg9478f%2BP9B/ar%2BJd9dfEXUL2/1mPVoPD8pt7qZfLgkhnXSVuNtpEEitoZZZIY0QBo35z67/AMIfpP8Az96r/wCDy7/%2BO0f8IfpP/P3qv/g8u/8A47QB5V4c/Y51DwuvifxHp/7VXxKfxt4tbTo9V%2BIs8WgtqYs7Hzvs1lHB/ZX9npApublsfZN5a4di%2BdpXlvEP/BNTwfqmk%2BBNO8P/ALSfxN0KXwL4m1fxNHd2T6JdnWte1Gd7ibVb6K/0u4ge5SWa4aHyo4o4DcN5aLtj8v37/hD9J/5%2B9V/8Hl3/APHaP%2BEP0n/n71X/AMHl3/8AHaAPJ5v2L5Zf2pIP2r1/af8AiMNYh0Sy0c6JJb6BNpxsIXWSaCMS6U89qt3KokuTbzRNKyx4KrDCsdSb9gvwzrvxR%2BKHj/4ifHfx34q0j4ueF38OeLfAmtRaKmkf2Ztuo4reJrXTYbxRFHeXMas1yzMsuZDIyqw9j/4Q/Sf%2BfvVf/B5d/wDx2j/hD9J/5%2B9V/wDB5d//AB2gDxSy/wCCe3ggeHNTTxF8cfiDrnjC/wBa0nVLb4mavc6Y%2Bt6dNpilLBYPLsUs9kSyXAKyW0gl%2B13Bl8wysaytV/4JifC%2B58Px6X4e%2BOXxI0LULzSdd03xf4h0rUNNN74qttYvmv8AUFvPOsZIomkuZJXV7SO2eESMkTRphR9Af8IfpP8Az96r/wCDy7/%2BO0f8IfpP/P3qv/g8u/8A47QB4zaf8E8/hHpfxJj8YaH478X2Ph1PFWm%2BJpfhvbXlp/Yk2safZ29paXjFrY3imOOztG8pLlYGkt0doyxctreG/wBj%2B40fxhqnxN8QftN/EbxD4tufCl14e0DxRrC6Ktx4asriaKeYWUVtpsVs7tLBbOXuobgt9mjByoZW9Q/4Q/Sf%2BfvVf/B5d/8Ax2j/AIQ/Sf8An71X/wAHl3/8doA8T8df8E%2BfCvj/APZv%2BIX7O2r/ALQPxDik%2BLD3X/CyPHUDaOda12K4sF06WB/M057S3j%2BxxxQKLe2iKLErIVcu7SfFb/gn94Q%2BNdnaxfEb47/EC9ubrwm/hbx3fQyaTbv440Rp2maw1NItPWJY8yTJus0tZAlzMocCRs%2B0f8IfpP8Az96r/wCDy7/%2BO0f8IfpP/P3qv/g8u/8A47QB5T/wwz8OV%2BOb/GuH4g%2BLo4P%2BEmn8T2vgpLu0/se08QTaa2myarGv2b7R5xt3k/dtO1uJZGmEPmnzKr6X%2BwH8INe1bWdd/aW1zUfjhda1pNnpcg%2BLWjaNeW1vZW073MUMdpaafbWufPkMhkeJ5Syp8%2BEUD17/AIQ/Sf8An71X/wAHl3/8do/4Q/Sf%2BfvVf/B5d/8Ax2gDzT4HfslfA39jH4A%2BKPhT%2Bz/4LstD0bUta8Q%2BIrm2stOtrZTdajdT3bpttook8uFZEtYQVLR21rbxFm8sEweOP%2BUhfwv/AOyM%2BPP/AE7eEK9RPgzQ3ws7X0yZBMVxq1zIjezK0hVh7EEV5d44/wCUhfwv/wCyM%2BPP/Tt4QoA9mooooAK8g/bX%2BG/j74h/CfSL74ZeGW13WPCfj/w74nh8OpdwwPq0Wn6nb3E9tHJO6RLMYUkMXmukZlWMO6KS6%2Bv0UAfJ/hX4E%2BO/E/7O3xQ8PfGT9n7xnbXfjvxveeONP0Dw5r%2BjLqWl3CX8EmnW8M7Xv2ZdSiNha3pLObQSybPOlAbPC%2BHvhv8At8fAn4J%2BPtY%2BGfwy%2BIHiDxl8bvi8NU1jUdS1/wAMTeIPB2jLomnaY99IhurTS579l0sGGC2Y28JuYd4lW3dJfuqigDzv4W/Cqy8N/sweG/gz8NbXxL8MrXS/CdlpejW4l0%2B71XQYoYUjjjZ5PttpNMioFZz56McnLZ3Vx/8AwTp0m/0H9m6%2B0TVfE99rdzZ/Fv4hw3GsanHAlzfOvjPWgZpVt4ooQ7kbiI40TJO1VGAPdK8Z/YP/AOSIa5/2Wb4j/wDqa63QB7NRRRQAUUUEgDJNABXM/Fn40fCb4D%2BEJvHvxl%2BIuj%2BGdHg4e/1m%2BSBGbGQibjl3PZFBY9ga%2BbfjN%2B3v8RvjR8RL79l3/gmv4fsfFviuzk8jxV8R78bvDnhEHIJaUAi7uRg7Yk3DI5D7XQa3wj/4JX/CDS/F8Hxk/ar8Zaz8b/iAgDDXfHriWxsmyCVs9PGYII8gEKQ5UjKla8iWY1sTN08DBTto5t2gn2TWs2uqjotnK%2Bi8Kea18XUlSy2CnbR1JO1NPqk1eVRrqoaJ6Od7pZl3/wAFmv2UNfuJLD4BeDvib8WLpGKCH4efD28uQX9N06wjHuMjvzVYfFH/AIK2/tKnZ8L/AIGeD/gR4fm%2B7rfxAv8A%2B19aaPtJFZQARRP6xz%2BnWvrq1tLWxtks7K2jhhiULHFEgVUA6AAcAV89ftA/8FMv2e/gx4v/AOFP%2BBY9V%2BJvxGlYx2/gL4eWn9oXiOOD9odP3dsqkjdvbeoOdhFYYqFWjT58di%2BWPaCULvsn782/KOp7OScGcXcWYz6rhZ1KskruNGCpqMVvKdRuXJBdZTqU4rrLocbH/wAEm7H4qut9%2B21%2B1z8Tfi67kG40OfWDo2hue5FjZEbPwk6V63pvhb9h/wD4J/eBDqNlpfgH4XaMV8t76X7PYvdkY%2BVpXxJcP04JZjxXkJtf%2BCvP7T4/0u98Ffs6eG7jrHbhfEfiPYexY7bWPI7ja6k%2BorpvhN/wSi/ZW8EeJl%2BJfxbstY%2BLfjQ4M3iv4pak2rS7s5/dwSfuI1B5X5Cy8YbisMPSSnz4HC2f/PyrdP8AFzqv/wAkR9thPD7gPhep7bOMfCVZb08JbE1n5SxNRrDw8%2BWdZ9kzG1T/AILI/sq61fy6H%2Bzz4T%2BInxe1KJ/LNr8OfAt3dKr%2BjSzLEgX1ZSwA55qAftA/8FZfjScfB39irwZ8NLCQ/udX%2BLXi9ruV0/vGz08CSJv9lyefavrHS9K0vRLCLStF023s7WBdsNtawrHHGvoqqAAPpU9d/wBRzGt/HxLS7U4qH/kz55fkeh/rRwdl2mV5JCUv58XWqYh%2Bvs6f1aj8mpL838kn9lD/AIKffEnn4sf8FJ7Hwzayf6/SPhv8OraM/wDALy4bzl/KnQf8EbP2Y/FMy3/7RnxF%2BKPxcuQ29m%2BIHxBu5ow/%2BzHbmEKo7LyAOOa%2BtKKP7Ey6X8WLqf45Sn%2BEpcv/AJKT/wARQ4zoq2ArQwi/6hqNHDv/AMDpUva/%2BVb92zxDwP8A8E1f2BPh00cnhj9kTwH5kRBim1HQIr6RCO4e5EjA%2B%2Bc17FoHhvw74U05NH8L6DZabaR/6u1sLVIY1%2BioABV2iu%2BhhcLhlajTjH0il%2BSR8rmef59ncubMcXVrv/p5UqVP/S5yS%2BSQUUUVueSFFFFABRRRQAUUUUAFFFFABRRRQAUUUUAFFFFABRRRQAUUUUAFeM/sv/8AJb/2jv8Ass1j/wCoV4Xr2avGf2X/APkt/wC0d/2Wax/9QrwvQB7NRRRQAUUUUAFFFFABRRRQAUUUUAFFFFABRRRQAUUUUAFFFFABRRRQAUVzXxik%2BJsPwy1if4Oa1oOneJYrXfpl74m0qa%2BsYirAuZYIJ7eSUeWHwqyx/MVy2M143H%2B2D4%2Bh/wCCaXg79sOfwxpFx4v8W%2BAPDN9baWgli04azrK2UMKkF3kW2W6vUyN7OI1I3FuaAPomvzl/4Lmf6B8bPgR4v6f8I9barqO7%2B7t8R%2BD0z/5Er6//AGWvi78UfHOsfET4VfGyfQLzxP8ADfxhDpF3rXhfSp7Cx1WC40ux1KC4S1nuLmS3YLemFozPLloC4YBwq/En/Bcj4o/C/wAfXF74X%2BH3xM8Paz4k8CfCfX7jXtF0rWoLi70iX/hLfAxRbmGNy9uWVZMBwpO1sdDXlZ7/AMibEPtBv7rP9D7/AMKmv%2BIl5PF7TxFOH/gxypv/ANOH6bUVFZXcOoWUN/bNmOeJZIz6qRkfzqWvV3PgWnF2YUUUUCCiiigAooooAKKKKACiiigAooooAKKKKACiiigAooooAKKKKACiiigAooooAKKKKACiiigAooooAKKKKACiiigArxnxx/ykL%2BF//ZGfHn/p28IV7NXjPjj/AJSF/C//ALIz48/9O3hCgD2aiiigAooooAKKKKACvGf2D/8AkiGuf9lm%2BI//AKmut17NXjP7B/8AyRDXP%2ByzfEf/ANTXW6APZqKKy/HHjTw18OPBmrfEHxnqsdjpGh6bPf6peS/dgt4YzJI5%2BiqT%2BFKUoxi5N2SJlKMIuUnZLVlnX/EGheFNDu/E3ijWbXTtN0%2B2e4vr%2B%2BuFiht4kBZpHdiFVQASSTgAV8T%2BIPiP8a/%2BCs%2Bu3fw4/Z/1jVvA37PNrcva%2BKPiNHG0GpeNNrFZLPTAwzFanBV5yPm5Ujho2j8IfDv4y/8ABXG%2B0/4t/tA2WoeDP2eVmjvPCHw2iuvLv/GSKd0V9qbxn5Lc4DJAp54IPCyv9t%2BH/D%2BheE9Ds/DHhfRrXTtN0%2B2S3sbCxt1iht4kAVY0RQAqgAAADAArxP32dd4Yf5qVRfg4038pTX8sXr86vrHEKvrDCv1U6q/BwpP5TqL%2BWD97B%2BC/wS%2BFX7PHw7sPhR8GPBFjoGg6bHttrGxjwC3G6R2OWkkbGWkYlmPJJrG/aU/ao%2BBn7JPw/f4jfHPxxb6TZsxjsLQDzLvUZu0FtAvzzSHI4AwM5YquSPLf2q/297zwN4%2BT9ln9kvwSnxG%2BMuoRZXRIJf8AiX%2BHYjj/AEvVJ1IEKLuDeVkO2VGV3oWZ%2BzV/wTwsvB/j%2BP8Aaa/a18eSfFT4vyqGTX9Uhxp%2BgDr5GmWpGyBVJOJNoc8sBHuYG5YycpfVcvim46OX2IeWluaS/kjt9px2P2LKuD8qyTLKOZcSSdChKKdHD00liK8ejimuWhQdre3qR95X9hSqv31wS%2BE/24v%2BClBF18R5tZ%2BAnwWueY/DVjME8WeJoD/z9SjjT4WHWIAsQWVg6lXH0t%2Bz3%2Byz%2Bz7%2Byt4SHgr4A/CvSvDdmyqLmSzh3XF2R0aedyZZm93Y47YFd/RXRhcto4ep7abc6r3nLV%2BkekV5RS829ziz3jXM83way7DRjhcDF3jh6N1C62lVbfPXqd6laU3/ACRpq0UUUUV6J8cFFFFABRRRQAUUUUAFFFFABRRRQAUUUUAFFFFABRRRQAUUUUAFFFFABRRRQAUUUUAFFFFABXjP7L//ACW/9o7/ALLNY/8AqFeF69mrxn9l/wD5Lf8AtHf9lmsf/UK8L0AezUUUUAFFFFABRRRQAUUUUAFFFFABRRRQAUUUUAFFFFABRRRQAUUUUAYXxM8Hap8QfAep%2BC9G%2BIOs%2BFbjUbfyU8QeH4bOS8swSCzRLe29xbkkAqfMhcYY4AOCPKPBP7B/hTwx%2Byta/sd%2BJvjh488VeENP8IQeHtLbXG0qG9soLbyxZ3Ec1jYW5FxbCGLy5CDzGrOHfLH3SigDgfgF%2Bz/o/wABNN14x%2BOdf8V654r186z4p8VeKGtPt2qXf2a3tEZ1s7e3t41jtrW2hVIoY1CwgkFmZm%2BT/wDgs/ov9v6beWO3Pl/s3eP7nH/XHW/Bk3/slfd1fH3/AAUz0b/hIPE2paSE3NJ%2ByX8WTEPV1n8LMv8A48BXDmcPaZbXj3hP/wBJkfUcD4n6nxtldf8AlxOHf3V6P%2BZ9LfAbWv8AhJPgb4M8Rb932/wpp1zuz1320bZ/Wurryf8AYM1n/hIf2IPg9rDPuef4Y6EZTn%2BMWEIb/wAeBr1itsJP2mEpz7xi/vjF/qedxDhvqXEGNw/8latH/wABq1Y/%2B2hRRRXQeQFFFFABRRRQAUUUUAFFFFABRRRQAUUUUAFFFFABRRRQAUUUUAFFFFABRRRQAUUUUAFFFFABRRRQAUUUUAFFFFABXjPjj/lIX8L/APsjPjz/ANO3hCvZq8Z8cf8AKQv4X/8AZGfHn/p28IUAezUUUUAFeYftbfGTxl8GPhhYX3w1s9Ml8S%2BJPGGi%2BGtAk1uCSWytbjUL%2BG2N1PHFJG8scMckk3lLJGZTEIw8e/evp9cb8ePgl4a/aB%2BHUvw78Taxqel7dSsdT0vWtEmjjvdL1Cyuoru0u4Gljkj3xzwxttkR43AKOjozKQDxO/8A2x/jP4Z/ZD%2BInxI13w94evfHPw38bzeFtbvrDTbpNGAW%2Btov7Za286SdLWGyu476eATMyCGaMTHAlrivhl/wUI%2BMHx51CD4GfBDx/wDDPW/F4%2BKeoeGJPibaeG7y48M3lha%2BHbTW2v7Wxj1ESylvt9rZ7RfFN6zTCRlVY299%2BHP7LA%2BFPw91bwN4L%2BPXjiC61yS8vdS8TSrpMuoTatdXT3E%2BqkvYGHzyXEYi8r7KkUUaJAoWucuP2AvBR8NWZ0v41%2BPdP8bWvjO48VS/FS1n0xtdu9UnsDp00kyyWL2LRtYiO2EItBEkdvAURHiR1AOk%2BAf7T/hz4h/sleHf2n/i3qGjeDra60FbrxPNqGqpDp%2Bl3MbGK5H2iYqvkrMjhXfbldpIBOKwP%2BCdPifw141/ZuvvGHg3xDY6vpGqfFv4h3emappl2lxbXcEnjPWmjlilQlZEZSGDKSCCCDXqHwd%2BFHg74FfCrw98G/h9aTQ6L4Z0iDTtNW5nMszRxIFDyyNzJI2CzueWZmY8k157%2Bwf/AMkQ1z/ss3xH/wDU11ugD2avkP8A4Kha5q/xt1v4ef8ABOTwLqEsN/8AFrW1ufGdzavh7DwxZMJrtyR9wysixoTwxV0/ir65uLiC0t3urqZI4okLySSMAqKBkkk9AB3r4/8A%2BCcNrc/tNfGr4m/8FJvEdu7Wni2/bwv8LlnQgweGrCUoZkB5X7RcK0jL2aNscGvIzVuuoYKO9V%2B95QjZz%2B/SH/bzPCztvEqnl0d6z97ypxs6j/7eVoLzmz650LQ9I8MaJZ%2BG/D%2BnRWdhp9rHbWNpAu1IIY1CIijsAoAA9BXyn%2B1J%2B1V8WPjh8Wbr9hD9gvVI18WRoB8SPiSE8yy8D2bEhkVhxJfsAwSMHKEHowZotz/goZ%2B0p8Q/C8egfsg/swXKyfF74pM9ro86MceHdMGRdavMRyixoHEZ6lwSu4xlT6h%2Byh%2Byv8Lv2P8A4PWHwi%2BGGnfJF%2B/1jWLgZutYvmA828uH5LyORnk4UYVcKoFTiJ1cfXeDoPlhG3tJLfXaEeza1k/sxaS95rl/ZckwWW8H5LR4gzKkqterf6pQkk4Wi%2BV4mtF/FShNctGk1y1qkJSnejSaqQfspfsg/Bj9jv4ft4J%2BFOiyNdXsn2jxD4j1KTztR1u7OS1xdTn5nYsWIXhV3HaBk59Roor1KFCjhqSpUoqMVslt/X9M%2BFzPM8xzrH1Mdj6sqtao7ynJ3k35v7kkrJJJRSSSRRRRWpwhRRRQAUUUUAFFFFABRRRQAUUUUAFFFFABRRRQAUUUUAFFFFABRRRQAUUUUAFFFFABRRRQAUUUUAFeM/sv/wDJb/2jv%2ByzWP8A6hXhevZq8Z/Zf/5Lf%2B0d/wBlmsf/AFCvC9AHs1FFFABRRRQAUUUUAFFFFABRRRQAUUUUAFFFFABRRRQAUUUUAFFFFABRRRQAV81ftc6L/wAJH%2B0jo3h7Zu%2B3/s1fE622%2Bu%2B88KLj9a%2Bla8T%2BJVjDqn7fXw20y5GY7j4J%2BP4pB/stqvhAH%2BdRUh7SnKHdNfemv1OnBYh4TG0q6%2BxKMv8AwGUZf%2B2mN/wSg1r%2B3v8AgnN8Ir7fu8vwjFbZ/wCuLvDj/wAcr6Fr5S/4IkX091/wTN%2BHVjdn/SNOk1iznH91o9XvAB/3ztr6trgyaftMnw8u9OH/AKSv8j63xLw6wniNnNFbRxWI/wDT1Rr/ANKCiiivSPiQooooAKKKKACiiigAooooAKKKKACiiigAooooAKKKKACiiigAooooAKKKKACiiigAooooAKKKKACiiigAooooAK8Z8cf8pC/hf/2Rnx5/6dvCFezV4z44/wCUhfwv/wCyM%2BPP/Tt4QoA9mooooAKKKKACiiigArxn9g//AJIhrn/ZZviP/wCprrdezV4z%2Bwf/AMkQ1z/ss3xH/wDU11ugDnv%2BCqfxj1T4M/sMeN7zwtvfxB4mtI/DHhu3hOJZr3UXFqoj/wBtUkkkH/XOul0Y/Dz/AIJ7/sO2Y8R3CLofwv8AAkS3kkRCm7kt4AG256yTTZx6vKPWvJP2vf8AjID/AIKNfAT9lqH99pngz7X8TfFkHUL9lzbaYxHT/j6ZwQezVB%2B3s7/tZftR/DP/AIJ1aQ5m0Np18cfFwRnK/wBjWcoFrZSY7XFyACOCNsbDg181iMVOGJxGJpq8ly0aa7zfvP5c0lfygzv8Psiw3FPHNWWMk44XDx/fSX2aNGPt8Q1/eleFKHepOCN3/gm38CPGlzp%2Brft2ftFxLN8T/i7bxXrwsp2%2BHtEID2elwBuUAj2PJ0JbaGyyFm%2Bp6RESNBHGgVVGFUDAA9KWvbwWEp4LDRpR1tu3u29XJ%2Bbd2/u2SO/ibiDFcT51VzCulHmsoQj8NOnFctOlBdIU4KMIrycneU5NlFFFdR4IUUUUAFFFFABRRRQAUUUUAFFFFABRRRQAUUUUAFFFFABRRRQAUUUUAFFFFABRRRQAUUUUAFFFFABRRRQAV4z%2By/8A8lv/AGjv%2ByzWP/qFeF69mrxn9l//AJLf%2B0d/2Wax/wDUK8L0AezUUUUAFFFFABRRRQAUUUUAFFFFABRRRQAUUUUAFFFFABRRRQAUUUUAef8A7Vfxquf2c/2b/G3xx0/QU1W88MeHLq%2B0/TJZjFHd3SofIhdwCURpSis4BKqScHGK8/8Aht%2B0P8d9G0/4xeA/jHZ%2BEvEHjP4WaXBqlle%2BGraXRNM1m2udOe5t0dLy6uTZuJ4LiF3ad02IkvybjGnr3xc%2BFng344fCzxF8G/iHYSXWheKdFudK1aCGZopGt54mjfY64aNwGJV1IKsAQQQK808MfsN%2BC9O8J%2BNPCfj/AOLXjTxwvxIsbqy%2BIN94ol04XGvWstgmnxwSGysrdYI4bdGEa2yw5aaWSTzHctQBxv8AwTp/bJ%2BKv7VF/wCK9I%2BJi6VN/YmheH9Ts7y08Bar4WuN2oxXTyW76dqs81xLDF9nTytRQi2ujJKsQzbSE7F/8XPhR45/4KbeC/AXgn4neHtY13wx8HvHEXiXRdK1qC4u9JeTVvCXlrcwxuXgLbHwHCk7Tjoa7T9n/wDZW0j4EeJ9a8fah8W/GPjrxHrmi6Zo1z4g8aT2LXEWmae109paRrY2ltEFSS9u5DIyNLI0xLyOFQLmeOP%2BUhfwv/7Iz48/9O3hCgDzH/gjP/oH7Kuv%2BD%2Bn/CPfFfxNp2z%2B7tvmfH/kSvrSvkv/AIJQf8SyP9ojwe3H9lftO%2BKhCnpDJ9mdP5tX1pXk5FplFFdk190pr9D9A8VPe8Q8xqfzzjP/AMGUcPU/9yMKKKK9Y/PwooooAKKKKACiiigAooooAKKKKACiiigAooooAKKKKACiiigAooooAKKKKACiiigAooooAKKKKACiiigAooooAK8Z8cf8pC/hf/2Rnx5/6dvCFezV4z44/wCUhfwv/wCyM%2BPP/Tt4QoA9mooooAKKK%2Bfv%2BClx0wfs12v/AAmnl/8ACFf8LC8L/wDCyPtH/Hv/AMI9/bNp9t%2B1Z4%2Bx%2BX/x87v3f2bz/M/d76APoGivzv1HxR8OX/4JmfGjwR8MfE%2Bnw%2BCpvHF%2B/wAO7fR7iNrOx8KT63Bbm/8AITJfQI7n7e7iMCF7CKVImEZQjxiTSfhXcfD2y8E6l8S/glZeAIv2htdmsPHeueDYpvg9er/wiVoyR2ujtfJDEPPmljjQX7IL%2B01CYSPI/wBmAB%2Bu9eM/sH/8kQ1z/ss3xH/9TXW6z/2JNQ%2BIVv8A8E6PhXd%2BEvCE114ig%2BGGjx2WleOvEM9u9xKlpEgN1eC0klXeBv3m23fMMxqcgc9%2ByT488ReAv2E/G3xN8b6ZYadqui%2BOPihqeq2mm6i93bW08PizXZZEjnkhhaaNWUgO0UZYAEoucCZzjTg5PZJv7tf0IqTjTpuctkm36JN/ocb%2Bwxr%2BlfEj9ob9pL9vnxRdqmiJ4jPhPw5eyfch0jRYf9InjPeOWU%2BZ/vRnpWn/AMEpvC%2Bt/Ejwz40/b%2B%2BIti0fiP43eIHvtPgm5fTdAtWa30%2B0B7YRWckcMGjJGRXhdnqWsfAX/g3u8NeD/DMbHxH8R9Ei0bSIs4kvLnXb%2BRmGepY288pB64UV%2Bg3wd%2BG2kfBv4S%2BGPhJoAH2Lwx4fs9KtSFxuS3hSIN9SFyfc18tlMHXr0ef7EPav/r5Wbf4Qvb1PreFozyLwc%2BtbV80rcsn19jSUcRVS8pYitRi%2B6opbJo6Siiivqz5UKKKKACiiigAooooAKKKKACiiigAooooAKKKKACiiigAooooAKKKKACiiigAooooAKKKKACiiigAooooAKKKKACvGf2X/APkt/wC0d/2Wax/9QrwvXs1eM/sv/wDJb/2jv%2ByzWP8A6hXhegD2aiiigAooooAKKKKACiiigAooooAKKKKACiiigAooooAKKKKACiiigAooooAK8Z8cf8pC/hf/ANkZ8ef%2BnbwhXs1fNHx3%2BI8Xgv8A4Krfs6eE7iUBfF/wt%2BJOmxIT1ljuPC16D9QlrJ%2BBNROcaceaW2i%2B9pfmzOpUhSjzS2ul97SX4tGF/wAE7v8AiUftR/tWeEOnkfFuDUdnp9rskfP47K%2BtK%2BS/2QM6N/wU%2B/a18OnhLo%2BCtRt19d%2BkyrIf%2B%2BgK%2BtK8zJdMC49p1F91Sf8Amfonib73FMa3/PzDYKf/AIFgsN%2BsQooor1j8/CiiigAooooAKKKKACiiigAooooAKKKKACiiigAooooAKKKKACiiigAooooAKKKKACiiigAooooAKKKKACiiigArxnxx/wApC/hf/wBkZ8ef%2BnbwhXs1eM%2BOP%2BUhfwv/AOyM%2BPP/AE7eEKAPZqKKKACiiigAooooAK%2BF/jP43/4V9/wR7%2BPevebs8/xp8TtNDZx/x%2BeN9Ys8fj5%2BPxr7or84/wBqz/iof%2BCdEPwZ%2B9/wsb9sDxD4a8r/AJ6%2Bb8QtZn247/8AHvn8K83OZyp5TXcd%2BSSXq1yr8ZI8jiCpKlkeJlHfkkl6yXKvxkjrvHfgj/hIP2hf2Of2II4d1j8PPDMXjXxNa4/1P9l2Mdpp7kf9fXmLk%2Btfd1fIv7HePjb/AMFFv2iP2lJP3th4Wm0/4ceG5%2Bvl/ZEE%2Box5/wCvpo2wPXmvrqsMlhH2dWstpSaX%2BGmlTj/6RJ/M/VeOqccpo5VkENFg8JSUl/09rr6zUv5pVaMX/ht0QUUUV7J8CFFFFABRRRQAUUUUAFFFFABRRRQAUUUUAFFFFABRRRQAUUUUAFFFFABRRRQAUUUUAFFFFABRRRQAUUUUAFFFFABXjP7L/wDyW/8AaO/7LNY/%2BoV4Xr2avGf2X/8Akt/7R3/ZZrH/ANQrwvQB7NRRRQAUUUUAFFFFABRRRQAUUUUAFFFFABRRRQAUUUUAFFFFABRRRQAUV5h%2B2n8XvFXwD/ZM%2BIfxj8DR2p1vw/4UvLrR3voi9vDdCMiKWVQQWiRyruuRlVYZGcjzLwV8dviz8B9J/aC8MfE3x/qXxMk%2BD3h6DxHo%2Bt6tp9jZ31/BNpMl01jONPt4Lcus1rKVdIVPlXESsHZC7gH05X57/wDBXHxZe/DP/gof%2Bxr8WbbK22ha54ii1acHHkWV5e%2BHbKZz7YuAPxr3D/gnn8cvHPxKttR8O/Gfx78Qr7xlN4V0TxLPpHjjw5omn2sVjfi5Ed1pa6WhcWkksE6CG9lkvIRAglCl8v8APv8AwWIvdF%2BOviHWfAXhbTPEdvrPgP4D%2BM9aa91HwjqNjbiSz17wbeeZaXdzbpBeAR28gZrd5QoYbiNy583OFN5XWcN4x5l6xal/7aeRn6qPJa8qfxRi5L1g1P8AHkt8z2b4Pf8AEk/4LIfGPS%2Bn9ufCfw9qOP73kyvb5/XFfWlfD/iX4h2/h79u/wDZt/bOsGEehfHP4bnwhrUyH92k80Uep6dx0LSSuYweuFNfcFY5POLjXgulST%2BU1GcX81L8z9V46lHHYfJ80pO9OvgcOk/71D2lCa9U4w%2BUovqFFFFewfAhRRRQAUUUUAFFFFABRRRQAUUUUAFFFFABRRRQAUUUUAFFFFABRRRQAUUUUAFFFFABRRRQAUUUUAFFFFABRRRQAV4z44/5SF/C/wD7Iz48/wDTt4Qr2avGfHH/ACkL%2BF//AGRnx5/6dvCFAHs1FFFABRRXO/Ff4r%2BAfgj4CvfiZ8TdcbT9HsHgjmmis5rmWSWaZIIIIoIEeWeaWaWOKOKNGkkkkREVmYAgHRUV55ZftWfAW/8AgVd/tJJ45eLwhp7XEd/e3mkXcFzbXEFw1rLayWUkS3SXS3CmD7M0Qm83EYQsQpxo/wBuf9mmX4fyfEZPFutfZ4vE/wDwjj6KfA%2BsDXP7X8gXP2AaObT%2B0DP9mIufLFvu8g%2BdjyvnoA9cr82PG2sWuo%2BM/wBnj4c3p3QD9qn4s%2BLJ48/w6L4k125L/h5h5r9GPCviTTfGXhnTvF2jR3iWeqWMV3apqOmz2dwsciB1EtvcIk0D4I3RyIrocqygggflP4l8UeZ8ePE90smf%2BFY/DP48eKYzn/VzXfjTX7FQPRjtA/GvF4gqKnl3rKH4S5n%2BEGceKwTzTEYTLo74jEYal/4HXpJ/gmfXf/BFvQ7mD/gn74Y8f6zl9Z8c6zrHiPX7gjm4urjUJx5h%2BsUcQ/CvqyvFf%2BCcXhf/AIQ79gj4PaIY9jH4d6VcyJjG157ZJ2B990hr2qunKKXscqoQfSEfvcU3%2BLZ974iY1Zjx/m2JW0sTXt5RVWcIpeSjTil2SS2QUUUV6J8cFFFFABRRRQAUUUUAFFFFABRRRQAUUUUAFFFFABRRRQAUUUUAFFFFABRRRQAUUUUAFFFFABRRRQAUUUUAFFFFABXjP7L/APyW/wDaO/7LNY/%2BoV4Xr2avGf2X/wDkt/7R3/ZZrH/1CvC9AHs1FFFABRRRQAUUUUAFFFFABRRRQAUUUUAFFFFABRRRQAUUUUAFFFFAGZ408G%2BFfiL4O1b4feOtAtdV0TXdNn0/WNLvYg8N5azRtHLDIp4ZHRmUjuCa4v4U/sn/AAQ%2BC1nc2PgTRNa239zNPq0mt%2BMdU1WXVZJbeG2JvZL65me92wW8MUYnMgiSMLHsGQfR6KAPO/gV%2Byr8Df2bptQu/hH4XvrS41OztLK5utV8SahqkyWVr5v2Wyikvp5ngtYfOm8q2iKwxmVyqLuOeE%2BP/gvTviR%2B2R4N%2BHesAfZNf%2BAHxG066yMjy59R8JRNx34Y17/XjPjj/lIX8L/%2ByM%2BPP/Tt4QqZRjOLi9noTOMZwcZK6ej9Hp%2Bp8W6LpXi74w/8EG9C8RaSpTxz8CtROp2GRuayvNA1GUH3yLIN6dRX6LfCL4k6F8Y/hV4b%2BLXhh92neJtCtNUsvmyRHPCsqg%2B4DYPuDXy9/wAE9dD0rQfjF%2B1X%2ByV4gs0msLH4qS63/Z8o%2BX7Br1mJhEB/c2xsMf7R9a0v%2BCQOuar4c/Z%2B8SfsreK715dZ%2BC3j/VfCsjzH95PZLO09pP8A7jRylV9oq%2BWyeUqFaipfbpuD/wAdCTj97h%2BR9XwzOWdeC8aMnerlldevsq/NQn8o4jDU5Ps6vmfWNFFFfVnywUUUUAFFFFABRRRQAUUUUAFFFFABRRRQAUUUUAFFFFABRRRQAUUUUAFFFFABRRRQAUUUUAFFFFABRRRQAUUUUAFeM%2BOP%2BUhfwv8A%2ByM%2BPP8A07eEK9mrxnxx/wApC/hf/wBkZ8ef%2BnbwhQB7NRRRQAV5B%2B2v8N/H3xD%2BE%2BkX3wy8MtruseE/H/h3xPD4dS7hgfVotP1O3uJ7aOSd0iWYwpIYvNdIzKsYd0Ul19fooA%2BMte%2BAP7RHjX9kH4u%2BB7v4D3tnrvxL8bXHiseGr3WtM329hJqdsr6bHcxXTxwaq1haNOk6k28F1cxstwxiLjz60/Yg%2BOVrDpvxIHwf%2BKcXh/SvjZq2vWvw8svitbr42m0e98NW%2Bnma513%2B1QZ7hdRhkkXdqbSrYyJD5xWMWlfodRQB5Z8BvAnx7P7JHhj4f/Gr4m6ppfxAHhmC31vxNpMlld31rcgD5t9xby2086rhHkaFkdw7BcMK/JnQ73VNE%2BH37dXinW/FF/rNx4HOq%2BCf7d1WOBLi%2BbUvG%2BrSySOLeKKEO7SBmEUaIGb5UUYA/bmvxnj8Itf/ALL37T0M0OJPiX%2B31qPhVFI5mjt/Ekkqj3G4v/3ya%2Ba4pUpYBcvTnf8A5Tml%2BM0fR8BYOOO8UuHKc/gjjaVSX%2BGkp1X9yg38j9dfg94X/wCEH%2BEnhbwV5ez%2Bx/DljZbMfd8q3SPH/jtdHRRX0cIqEFFbJJfcrfoeFia9TFYmdefxTlKT9ZNyf4yYUUUVRiFFFFABRRRQAUUUUAFFFFABRRRQAUUUUAFFFFABRRRQAUUUUAFFFFABRRRQAUUUUAFFFFABRRRQAUUUUAFFFFABXjP7L/8AyW/9o7/ss1j/AOoV4Xr2avGf2X/%2BS3/tHf8AZZrH/wBQrwvQB7NRRRQAUUUUAFFFFABRRRQAUUUUAFFFFABRRRQAUUUUAFFFFABRRRQAUUUUAFeM%2BOP%2BUhfwv/7Iz48/9O3hCvZq8Z8cf8pC/hf/ANkZ8ef%2BnbwhQB5F8RNRk/ZO/wCCr2ifFXxFEI/B3x%2B8MW/hWfUs7VtPEdkxa0WU9MTQnyo%2B5YnoFNVvilq1x%2BwZ/wAFGB%2B0Br0aR/DH4/xafoPinUxlU0PxHaxtHZTyn7qxTRFkLcYbezEBRu9x/bi/Zg079rz9mnxD8GnuxZatNCt74W1YMVfTtWgPmWtwrDlcOArEc7HcDrXm37PXifwh/wAFQv2BdQ%2BGn7QehGPXPKuPC3xJ0lkVbjS9dtCFklVeRHIJFjuE6hSyjnBFfMV8NVp4qdCm7Sbdak3tzLSpB%2BTvf/DNv7J6HAGe4PhbijEZfmUXLA46E41Evi5JuDqOHT2lGrGliaae9pRekm19SUV8r/8ABOn9ofxnbS61%2Bwl%2B03rsZ%2BKvwtZbRLq4k2t4o0UAfZNUh3HMmY9qydSG2lyGcgfVFe7gsXTxuHVWGnRp7xa0cX5p3T%2B/Zo7uJeH8ZwxnNTAYhqVrShON%2BSrTkuanVg3vCpBxlF9LuLtKEkiiiiuo8EKKKKACiiigAooooAKKKKACiiigAooooAKKKKACiiigAooooAKKKKACiiigAooooAKKKKACiiigAooooAK8Z8cf8pC/hf8A9kZ8ef8Ap28IV7NXjPjj/lIX8L/%2ByM%2BPP/Tt4QoA9mooooAKKKKACiiigAr8xdX8DQaf4f8AhD4ChlWSTxf/AMFDPGnia8RB99LLxVrgKn1ARI8/Sv06r85fBv8AxVH7ZP7N/glfmi0/4z/HbW71PTy/EerpA3/fwmvHzyMZ4Hle7lCP/gVSCf4I%2B%2B8MoRjxfDFv/lxQxlVeXJg8T%2Bs0vVo/RqiiivYPgQooooAKKKKACiiigAooooAKKKKACiiigAooooAKKKKACiiigAooooAKKKKACiiigAooooAKKKKACiiigAooooAKKKKACvGf2X/%2BS3/tHf8AZZrH/wBQrwvXs1eM/sv/APJb/wBo7/ss1j/6hXhegD2aiiigAooooAKKKKACiiigAooooAKKKKACiiigAooooAKKKKACiiigDyL9vr4heNPhR%2BxR8U/iR8PNZk0zWdF8DajdWWrwxhn00rA268UMCpMC7phuBXMfIIyK86%2BBvjnUv2fta/aE8KeHb/x58RfC3wztNO1fQNNn1q%2B8S61LdS6MLu50m2nuZJrm6kfZbzxws7sG1AKu2Mxov07e2VnqVnLp2o2kVxb3ETRzwTRh0kRhhlZTwQQSCDwQa5T4c/s8/AH4PafYaT8I/gd4P8LWuly3MmmW3hzwza2Mdm9wEFw0SwxqIzKETeVwX2LuzgUAfMv/AASj%2BNvj34o%2BPvjtonxP8aePdY1mz8baXqE0Hi7wjrulWekG80LT5pdP0%2BLVrWAwW0U7TLHCFWRo9k8ik3HmSeh3/jTxJ4h/4KbeC/DurfCPxDoVnpPwe8cJYa9qtzpz2mtBtW8JZe2W2u5Z0CbRn7RFAfnG0N82PeNK8K%2BF9C1bU9e0Tw3YWd9rdzHcaze2tmkct/MkKQpJM6gGV1ijjjDMSQkaqOFAHlHjj/lIX8L/APsjPjz/ANO3hCgD2avjL9pLwb8V/wBgX9oPX/2%2BfgT4Wn8S/D/xalufjd4E0%2BLN1b%2BQpVdcsh0Z0QkypxuG5mOGMkP2bSOqupR1BUjBBHBFceNwaxlNJScZRd4yW8X3801o09Gm12a4MxwEcfRSUnCcXzQkt4y1V7bNNNqUXpKLafRr5v8Ajn%2Bz38C/%2BCj/AMJvDH7QHwQ%2BJn9k%2BKNPgGofDX4qeG2xdafJz%2B6kHBkh3bklt3wQd4wrZrD/AGcP%2BChGo6D41i/ZR/b%2B06z8AfFe1cQWGpTZi0TxhGMBLuwuGAjDPkZhYghjtUbt0aY3jP8AY9/aR/Yz8ea18bv%2BCbt5pl/4e1u9OoeK/gRrsgg0%2B7nIxJPpc/SymYD/AFZxHnGcqqRjV8M/tOfsJf8ABSHwvdfs3ftD%2BC7bR/Fkcvkat8LviPbix1exu9uC1qzFWdsElZYGD7Tkhc4rwnUq08VzaUcQ9Gnf2Va2zT/m7PSpHaUZxSZ9hw74gZfVy%2Bnw3xjRk6UW/Yzg0qlFt3k8NOfuVKU3708JVlH3veg6dS85/WNFfG1p%2Bzx/wUO/YhjMH7JPxNsfjD8PrU5tfht8Sb0wavYQj/lhZaoPlcDACrOAiKMBSeT0PgH/AIK5fs2vr0Xw7/aa0fxF8E/GBO2XQ/iRpclrbuwxl4b0KYJIuRiRmTI5AxXpwzehTkoYtOjL%2B98L/wAM17r%2Bbi/I%2BhxHh1muLpSxPD1SOY0Frehd1or/AKe4WX7%2BDXVxhWp32qWsfVFFUfDfijw14y0WDxJ4P8RWOq6ddJutr/TbtJ4Jl9VdCVYe4NXq9VNSV1sfAVKdSlNwmmmtGmmmmt000mn5NJ%2BQUUUUyAooooAKKKKACiiigAooooAKKKKACiiigAooooAKKKKACiiigAooooAKKKKACiiigAooooAK8Z8cf8pC/hf/ANkZ8ef%2BnbwhXs1eM%2BOP%2BUhfwv8A%2ByM%2BPP8A07eEKAPZqKKKACvMP2tvjJ4y%2BDHwwsL74a2emS%2BJfEnjDRfDWgSa3BJLZWtxqF/DbG6njikjeWOGOSSbylkjMpiEYePfvX0%2BuN%2BPHwS8NftA/DqX4d%2BJtY1PS9upWOp6XrWiTRx3ul6hZXUV3aXcDSxyR7454Y22yI8bgFHR0ZlIB4lqv7ZPxm8Kfsa/FD4p654f8OX/AI9%2BFvibUPD%2BpPYWU8WmXssNxCI76K1a4edgbW5hn%2BxLO8ryhreOV2ZHPC2//BSL40H9lrx14k0jRPD2u/ErS/FmraH4IgufCOp6BFdxWWl2%2Bo3Gpalot7O2oaXFbRyy7oJ5Ue4CWpjeMahb17RH%2Bwd4Bk%2BC2sfBHV/ir41v7TXtT/trU9aubmwTUZdfGprqaa0JYrRFW6S5jgKRhBaoltFGtuEUqcrV/wDgmJ%2Byr8QPAXifwn%2B0F4Sg%2BKmr%2BLdTvNR1Xxp8RdA0m/1WK8uNPtdOM9rsso7ezZLWxs41EEEa/wCjIzBn3MwB6f4N%2BM2gJ%2BzxoXx3%2BLnibRfDljdeFLHVtc1O/vUs7CyM0Ecjs0kz4jjDPgF24GMk18EfsQ%2BNvB/xN/4KL6N4n8N%2BKLDVdA0Pwn8UPEGnaxpt0lzbXCX3xJ1i3jkikjLLIHjKlSpO4MCM5r9Cvg98J/A3wI%2BFfh74NfDTRINO0HwzpEGnaXaW9tFCqRRIFB2RIiBmwWbaqgsxOBmvz0/4Jo/8VX/wUC/aH1/73/CJ%2BL9T0TP9z7V8QNYvNvtnGa8nNfelhod6sP8AyVTl%2BiP0DgL9zRznFf8APvAV186s8PRX/pcl8z9Gv%2BEw0n/n01T/AMEd3/8AGqX/AITDSf8An01X/wAEd3/8ar528ff8Fkf%2BCb3wv8d618NPHP7Rv2HW/DurXOmaxZf8IhrEv2e6t5Wilj3x2jI%2B10YblJU4yCRzWT/w/L/4Jaf9HQ/%2BWTrf/wAhVUs8yWEnGWJppr%2B/H/Mzo%2BFviZiKMatLJMXKMkmmsPVaaaTTTULNNNNPqmn1Pp//AITDSf8An01X/wAEd3/8ao/4TDSf%2BfTVf/BHd/8AxqvnbwD/AMFkf%2BCb3xQ8d6L8NPA37Rv27W/EWrW2maPZf8IhrEX2i6uJViij3yWiom53UbmIUZySBzXfft/fGD4mfs%2B/sTfFP44/Bu002bxP4S8D6hqujrq8zJbrLBC0m99scm7aoZgm3DsoQsgYuvXhcbg8bFyw9SM0t%2BVp29bHz%2BecM8ScMVoUs4wVXDSmm4qrTnTcknZtKaTaT0bXXQ9L/wCEw0n/AJ9NV/8ABHd//GqP%2BEw0n/n01X/wR3f/AMar571P9tz42%2BFfiH458F/EL4FeBNC0/wCGXw8tPE3jnxPd/FS6Njbvdxao1vbW2NHEs6h9PjEsrpEUS4LRxzOgik5n4bf8FKtX%2BKuqeGdD1b4T6v4X1uL40S%2BDvEOkLLeW0MiHwfqGvwz7dY0e0vXhdIYk2/Z7SQSoGWWSFStx0nhn1V/wmGk/8%2Bmq/wDgju//AI1R/wAJhpP/AD6ar/4I7v8A%2BNV88/slft8/En9ofT9EuPHP7MH/AAj934s%2BE2i/EHwnpfh7xrDqs91p18wR4JzcQWUVvcQl4mKh5EdHyHDKY66n9qvxZ8VdS%2BLXwv8A2ePhb8V9Q8CN42utYutW8V6NptjdXsVvYWQkW2gW/t7i3VpJpoWZnic%2BVBKq7WYSIAeu/wDCYaT/AM%2Bmq/8Agju//jVH/CYaT/z6ar/4I7v/AONV85QftCftI/E//gmR4Q%2BP/wAPrS5/4TnXdI8OzeIbvwroa3txb2kt/aRaxqGnWUiyCeVLM3lzbwFZdzLGuyc4jfi/AXxx/aV%2BNH7NXxB1DwL4u%2BNuoa78M/iVf6HpVz4d8KeF9M8SeKLMWNpeW8t5Z69Zw2kGwXoRkjitpm8gfu1ctFQB9g/8JhpP/Ppqv/gju/8A41R/wmGk/wDPpqv/AII7v/41XLfsrfEXWvi/%2BzD8Ofix4l17SNU1LxN4E0jVdS1Lw/FKlhdXFxZxSyy26zBZFhZ3YorgOFIDAEEV3tAFLTfEOl6rcNZ2zTpMqbzFc2ksLFc43ASKpIzxketXayrv/kdtP/7BV5/6Mtq1aACiiigAooooAKKKKACiiigAooooAKKKKACiiigAooooAKKKKACiiigAooooAK8Z/Zf/AOS3/tHf9lmsf/UK8L17NXjP7L//ACW/9o7/ALLNY/8AqFeF6APZqKKKACiiigAooooAKKKKACiiigAooooAKKKKACiiigAooooAKKKKACiiigArxnxx/wApC/hf/wBkZ8ef%2BnbwhXs1eM%2BOP%2BUhfwv/AOyM%2BPP/AE7eEKAPZqKKKACvMv2jP2N/2Zf2sdGGj/H34PaRr7xx7LXUpITFfWo6/urqIrNGM84VgCeoNem0VnWo0cRTdOrFSi900mvuZjXw9DFUnSrQUovdNJp/Jpnx/D%2BxT%2B3n%2BzapX9jH9uFtd0KA5s/Afxs09tSgjUdI01GHFzHGPuqgUADHJxmszxt%2B1v8AtHaR4dm8D/t7f8EpNb8S6IeLzUvh6lp4q065XoZTZSYkiQZPDksBk19p0V5csoVOPLh6soL%2BV2nD05Z81l5KSXkebRyqvl9WNXLcVUoSi7q0uaKa2spvmjbpy1I26WPy40T/AIcq%2BJ/E8%2BofAb9qbxr%2Bzl4vkl3XtrpWt6j4d8qXss0N4jWwXoCiMq49K9u8CaN/wUe020F7%2BzB/wUW%2BD/xv0uNd1va%2BNNHjjk8v%2B79q0mRzK2P43xk9eK%2Bu/Hfwq%2BF/xSsP7L%2BJvw30HxFbbSv2fXdHgu48em2VWFeD%2BOf%2BCPn/AATh8e3R1G8/Zg0jSrrdviufDN7daWYm/vKtrLGgx6bce1eY8lxtB3oqC/wSqUX9ydSn/wCSn3kPEzxQUFTzGeGzKC0ti6KqSsuntJxlUWnav6WRzw/bI/4KOfDT918a/wDgmPeazbxf63Wvhn46tL8S%2BuyzkAmH4tzSj/gsr%2BzR4Y%2BT47fCn4u/DFk4nPjj4a3kSRnuc24myPfFH/DpLw34X%2Bf4MftuftBeCwn%2BpsdN%2BI7z2S%2BgMM0bbgPdqP8Ahi7/AIKO%2BExj4c/8FX9TuIE%2B7ZeL/hbpt/vHo0%2B8OPqBR/xkdDbmfr7Gp%2BKdGX6lf678P4n/AJGXCii%2BssJjJ0/uhW9tD5bdkd14I/4Kkf8ABPL4ghD4f/a98EwmT7i6zqo01vpi7EZB9q9b8I/Fz4UfEBVfwH8TvD2thxlDpGtQXO4e3luc18Y%2BN/2LP%2BCj3iEufFWifsj/ABIz99/HfwyuIpJfcmBGw3uO9eS%2BLv8Agmr8dNSZm8Yf8Env2ftcbOS3gX4i6poeT6qDIm2j%2B1s8pfHh7/8AblRf%2Bkuohf2z4UYj46GaYV%2BdHC4mK%2BdOpRk/uR%2BpNFfksP2Nv2kvBQ2%2BH/8AgnF8bPByJ9y4%2BHH7WNtJt/3I5Udh9CaPsn7c/gcf8Sq1/bq07Z0%2B1ajpvijH5iPfR/rLXh/Ewsl6c3/t1JB/xq6t/Dz2pT8q%2BW42H3uk60fuTP1por8lv%2BGr/wDgo94P%2B78ZP2nbSJP%2BWHi/9kDTpU/GeK7Lke%2BKP%2BHqf7e3hP8A4/8A4q6PPs6/8Jl8A9bss/732Pfj8KP9bsBH%2BJTnH5J/qg/szgup/A4mwD/xvF0fv9tgUl979T9aaK/Jdf8AgvJ%2B0n4awvjDxP8AAO4IONkHhzxlZsf%2B/wBaMAf0rU07/g4j%2BIEAH2r4O/DTWf8AsHfEC6sN30%2B12Yx%2BNNcZ5C3aU2vWP%2BTY48PZdVf%2Bz55llT0zDDx/9Oqj%2BNj9VKK/M3SP%2BDih5gDrv7JWjQDubP436RN%2BjRpW5a/8HFfwTtxnxF%2Bz9rEH97%2Bz/G2i3X5YuVzW8eLeHpf8v0vVSX6Gq4OzGo7UcTg6n%2BDMMBL8sYj9FqK/PnTv%2BDkD9i65lFtffCP4oRydzaaVptyg/wCBR3/9K6fS/wDgv/8AsM6iAZ/DnxJtAe9x4O3Y/wC/crVtDifh%2Be2Jh97/APkTWXAXFa2oRl/hr4SX/pONl%2BR9v0V8eWf/AAXW/wCCeM4B1Dxx4osB3N34Iv8Aj/viJq0rT/guH/wS/unEUn7TBt5O8dz4O1hCPxNpj9a3WfZG/wDmJp/%2BBJfnYlcAcbS%2BDLqsv8MVP/0ipM%2BsaK%2BZ7D/gsX/wTS1LH2f9rDRFz/z30%2B9i/wDQ4BWzY/8ABVD/AIJ26hj7P%2B194LXP/PfU/K/9DArWOb5TLbEQ/wDA4/8AyQpcA8dx3yrE/wDgiq/yps9/orxiy/4KMfsDX%2BPI/bL%2BGa5/57%2BNLOL/ANDkFa1n%2B3D%2BxXqOP7P/AGvvhdPnp5Pj/Tm/lNW0cwwEtq0P/A4//JHHU4R4to/xMuxC9cPXX/uE9Rorg7P9qb9mLUMfYP2jfAc%2Benk%2BL7Jv5S1qWnxv%2BC%2BoY%2BwfF7wvPnp5Ov2zfyetViMPLacX/wBvL/M4KmTZzR/iYWrH1p1F%2BdNHUUVlWnjrwRf4%2Bw%2BMdKmz08rUIm/k1aMF3a3S7rW5jkHrG4P8q0Uoy2Zwzo1qXxxa9U1%2BaRJRRRVGYUUUUAFeM%2BOP%2BUhfwv8A%2ByM%2BPP8A07eEK9mrxnxx/wApC/hf/wBkZ8ef%2BnbwhQB7NRRRQAUUUUAFFFFABX51/wDBIPw/t%2BNf7YPjnZ/x/wD7UN/p%2B/1%2By%2BIb5sfh9o/Wv0Ur4n/4JR%2BGG0b4f/tB67Knz6z%2B2j45nVyOscfiQQAfQNG/5muDFU/aYrDv%2BWUn/wCSNfqfWZBjFhMgzeN9atKlD5PFU5v/ANNo%2B2KK%2BYvH/wDwU1/4QLx3rfgX/h3z%2B09rX9i6vc2H9saB8J/tNhf%2BTK0fn20v2kebC%2B3ej4G5WU4GayP%2BHsP/AFjU/a0/8M3/APdVZSzrLIycXU1X92f/AMrPzqXEOTQk4yq6rT4anTT/AJ9H1pWL8R/h54M%2BLnw%2B1z4VfEbQYtV8P%2BJdIudL1zTJ2ZUurS4iaKaIlCGAZGYZUgjOQQea%2BfPAP/BTX/hPfHei%2BBf%2BHfP7T2i/21q9tYf2xr/wn%2BzWFh50qx%2Bfcy/aT5UKbt7vg7VVjg4r2b9pPxh8Tvh58AvF/wAQfgz4ctNZ8T6DoFzqWj6Lewu6alJAhlNqAjoQ8qo0aNuwrurEMAVPXhsZhsZFyoyulvpJf%2BlRj%2Bp24PH4PMIuWHlzJaPSS8/tRj%2BFzGg/Y1/Z4Xwr4p8Han4Q1LV7Pxr4bt9B8VS%2BIvFep6ndalYQfafJjkubu5kn3p9rnxKHEo3L8/yJtzvA/wCwV%2By18PdSXXPD/gLUptSHi4eKJdW1rxjq2pXlxq40ibRhdzXF5dSyzsNPnlt8SMy7SpxuRGXw3xH/AMFH/ib8SPC1z4x/ZcbQ9VsPEfjubSPhRLF4SXVG8QadYaQt1qt7I1zrelW0McV358Adrhdos3ASVpB5fE%2BDf26viN8XPEeifHiy%2B02unePPhl%2BzvqsfhRtfvfsOlT%2BIvF2u21/JB9mni3OYvJRmOUnW1hWZJYl8o9J2H2H4Y/ZO%2BBHgmx0Sw8HeE73Sl8OeBrTwdok2neI9QhmtNFtXjeC1WVJw52mKPMhYyMAQzsGYHR%2BN/wCz18Kf2idE0/Q/ilo%2BozDSNRN9pF/oniK%2B0i%2BsbgwywM8N5YTQ3EW6GaaJwkgDpIysCpIr5N%2BCf7VP7UHxu/ak%2BEHjDU/FXhH%2BxPHfwt8f634c%2BHulXV7p7Wslnf6NBbQatKZrhLqWPzSjXCW0RtpHuEWKTOT7d%2B2/q3iSfTPhR8N5fFWq%2BHdI8d/Few0PxnqXhvXbjT7qGzOn390kEN7btFPb%2Bfe2tna%2BZG0cjLcFVKlxQB6FJ%2Bzv8LE8Bj4YaNY6xougReHLDQrLTPDPivUdKj0%2BxsyTbpafY7iI2bqDtMsBSV0REZ2WNFXnbv8AYl/Z%2Bn%2BHmnfC2xsPFul6Rpt1eXIOgfEvXtNu72e7cyXMt7d2t7HcX7yuS7tcySlmO4knmvL/AIRaj%2B0L8U/%2BCbfjfQ/hP8SbufxpZ6l478OeAfFmsaqWuLi30/XtU0/TLiS8lDlpTa20A%2B1uHLtidt%2B454r9n2z%2BKvxZ0743/As%2BC/H1hYeEvFOjHwT4e8cftCataarDfy6VFPd6fd%2BINJur66SMbkuhCs11tW6TcqqyxRAH2Z4N8HeFfh34Q0r4f%2BBfD9ppOiaFpsGn6PpVhCI4LO1hjWOKGNBwqIiqoUcAACtKvgvwR4g8e%2BKP2df2Xfi5rPxs8bT%2BIrP4ux%2BGNeNp4yvo7PUFW%2Bv7S6trpYphHq8cbWgijurgSGZIxPhWlNereM9Om1f9v/wzo3wE%2BIfje61vSNROsfGVJvHGoXHh7StDk0y4gtNMOnSTNZRXlzcm2uIlhiSZY7eaZ5ArolwAfRV3/wAjtp//AGCrz/0ZbVqVl3f/ACO2n/8AYKvP/RltWpQAUUUUAFFFFABRRRQAUUUUAFFFFABRRRQAUUUUAFFFFABRRRQAUUUUAFFFFABXjP7L/wDyW/8AaO/7LNY/%2BoV4Xr2avGf2X/8Akt/7R3/ZZrH/ANQrwvQB7NRRRQAUUUUAFFFFABRRRQAUUUUAFFFFABRRRQAUUUUAFFFFABRRRQAUUUUAFeM%2BOP8AlIX8L/8AsjPjz/07eEK9mr5w/aP1f416P%2B3h8J5/gd8P/C3iLUm%2BEfjtbu08V%2BMLnRYI4P7U8JEuktvp96zvu2jYY1GCTvyApAPo%2BivGf%2BE4/wCChf8A0a/8Gf8Aw/Grf/MvR/wnH/BQv/o1/wCDP/h%2BNW/%2BZegD2aivGf8AhOP%2BChf/AEa/8Gf/AA/Grf8AzL0f8Jx/wUL/AOjX/gz/AOH41b/5l6APZqK%2BcdJ/aO/bt1j4z6/8Drf9lD4SLqnh3wvpGu3ly/x11TyJINRudSt4UQjwxuLq2lzlgVAAePBYlgvUf8Jx/wAFC/8Ao1/4M/8Ah%2BNW/wDmXoA9morxn/hOP%2BChf/Rr/wAGf/D8at/8y9H/AAnH/BQv/o1/4M/%2BH41b/wCZegD2aivGf%2BE4/wCChf8A0a/8Gf8Aw/Grf/MvXL%2BAf2jv27fiJ4r8b%2BENH/ZQ%2BEkNx4D8URaFqslz8ddUCTzyaVp%2Bph4tvhgkp5OowqSwU70cYwAzAH0dRXjP/Ccf8FC/%2BjX/AIM/%2BH41b/5l6P8AhOP%2BChf/AEa/8Gf/AA/Grf8AzL0AezUV4z/wnH/BQv8A6Nf%2BDP8A4fjVv/mXo/4Tj/goX/0a/wDBn/w/Grf/ADL0AezUV84/CL9o79u34y%2BFLvxf4c/ZQ%2BEltb2fijW9CkjvfjrqiuZ9L1W60ydxt8MMNjTWkjIc5KMpIU5UdR/wnH/BQv8A6Nf%2BDP8A4fjVv/mXoA9lZVYFWAIPUGsvUPAvgnVs/wBq%2BDtKuc9ftGnxPn81ry7/AITj/goX/wBGv/Bn/wAPxq3/AMy9H/Ccf8FC/wDo1/4M/wDh%2BNW/%2BZek4xlurkyjGStJXO2v/wBnr4A6rn%2B0/gd4Puc9fP8ADNq%2BfzjrHvf2Nv2QtSz/AGj%2Byr8N7jPXz/A2nvn84awf%2BE4/4KF/9Gv/AAZ/8Pxq3/zL1y/wR/aO/bt%2BPHwY8IfHHwr%2Byh8JLXS/GfhfT9d0221D466os8MF3bR3EaSBPDDKHCyAMFZhkHBI5rGWFwsvipxf/bsf/kTCWCwc/ipRfrGL/wDbTsLz/gn3%2Bwhf5%2B0fsYfCvJ6mPwBpyH81hFZV3/wTL/4J83ufO/Y5%2BHy5/wCePhqCP/0FRV3/AITj/goX/wBGv/Bn/wAPxq3/AMy9H/Ccf8FC/wDo1/4M/wDh%2BNW/%2BZesnl2XS3ow/wDAI/8AyJhLKcqlvh6f/gEP/kDAuv8AglD/AME5bzPnfsh%2BEBn/AJ5Wjx/%2BguKzrn/gjz/wTTu/9b%2ByZoI/65Xl4n/oMwrsP%2BE4/wCChf8A0a/8Gf8Aw/Grf/MvXL/G79o79u34D/Bjxf8AHHxV%2Byh8JLrS/BnhfUNd1K20/wCOuqNPNBaW0lxIkYfwwqlysZChmUZIyQOayeUZTLfDw/8AAI//ACJk8iyOW%2BFp/wDguH/yJkXP/BFX/gmFdf639lWwGf8Ann4i1RP/AEG6FUZ/%2BCGv/BLac7j%2By%2BEPrH4z1pf/AG8xXpv/AAnH/BQv/o1/4M/%2BH41b/wCZej/hOP8AgoX/ANGv/Bn/AMPxq3/zL1DyPJXvhqf/AIBH/IyfDnDz3wdL/wAFx/yPJ7j/AIIR/wDBMKf7nwAvYv8Ac8aasf8A0K5NUp/%2BCBv/AATMl/1fwe1eL/c8YX/9ZTXsv/Ccf8FC/wDo1/4M/wDh%2BNW/%2BZej/hOP%2BChf/Rr/AMGf/D8at/8AMvUPh/In/wAwtP8A8BRrDIsmp/Bh4L0VvyaPD5v%2BDfz/AIJry/c%2BHniKP/c8W3X9WNVZv%2BDez/gnHJ/q/DHi2P8A3PFUn9VNepfF39o79u34NeFLTxf4j/ZQ%2BElzb3nijRNCjjsvjrqjOJ9U1W10yBzu8MKNizXcbOc5CKxAY4U9R/wnH/BQv/o1/wCDP/h%2BNW/%2BZeofDmQP/mFh/wCAo6I5dg4fDFr0lUX5VUfPkv8Awbvf8E7ZPuWPjZP9zxR/jEaryf8ABul/wT4Y7or3x/Eexj8TRcfnbmvov/hOP%2BChf/Rr/wAGf/D8at/8y9H/AAnH/BQv/o1/4M/%2BH41b/wCZepfDPDz/AOYWH3f8E2jQUfhnNelWuvyro%2BdF/wCDd/8AYfg/48fiH8VLb08jxXbjH52pqaL/AIN%2B/wBlC1/48fj98bLfHTyPGtsv/tnX0L/wnH/BQv8A6Nf%2BDP8A4fjVv/mXrl/H37R37dvw78V%2BCPCGsfsofCSa48eeKJdC0qS2%2BOuqFIJ49K1DUy8u7wwCE8nTplBUMd7oMYJZRcM5AtsNH8f/AJIboc29Sp/4Or//ADQeWwf8EIfgDZ/8eP7Wn7QVvjp5PxAt1x/5JVft/wDgid8NLIYsP25/2loPTyvibCv8rOva/wDhOP8AgoX/ANGv/Bn/AMPxq3/zL0f8Jx/wUL/6Nf8Agz/4fjVv/mXq1w7kkdqC%2B%2BX/AMmc88uw1T4nN/8AcWv/APNB4/F/wR10i0/48f8Agon%2B1FD6bPioo/lbCj4E/skXH7LH/BQnwak37TPxU%2BIq658GfGWwfEzxYdU/s7ydW8Lf8e3yL5Xmeb8/Xd5Uf92vYP8AhOP%2BChf/AEa/8Gf/AA/Grf8AzL1Q8D%2BB/wBqzxj%2B1Z4c%2BN3xu%2BHHw98M6N4Z%2BHviHQ4YfCvxDvtauru61K%2B0S4RmS40ixSKNE0uUFg7sWlQBcZI6MPlOXYWqqlKnaS85fk5tfgTRyvA4esqsIvmXedR/hKpJfgz3WiiivRPQCiiigAooooAK%2Bcv2IfDOneF/2ePFl5Y%2BYRe/tDeP9TvnYZwf%2BE81Te3A6KkY/Ba%2Bja%2BSv2SvFn7Z2n/D3xRZ/DH4B/DDV9CT40/EX%2Bz9R174u6jpt3Mv/CZ6yWMltFoFykRDbgAJnyADkE7Qmk2n2LjUnGEoJ6Stfzs7r7nqfUH/AAnPgn/ocNL/APBhH/8AFUv/AAnPgn/ocNK/8GEf/wAVXlv/AAnH/BQv/o1/4M/%2BH41b/wCZej/hOP8AgoX/ANGv/Bn/AMPxq3/zL0yD1L/hOfBP/Q4aV/4MI/8A4qj/AITnwT/0OGlf%2BDCP/wCKry3/AITj/goX/wBGv/Bn/wAPxq3/AMy9H/Ccf8FC/wDo1/4M/wDh%2BNW/%2BZegDUvvgZ%2BxRqnw40n4O6n8HfhbceEdAvftmheFZ/D2mvpum3O6RvOgtinlQybpZTvRQcyOc/Mc6Gn/AA4/ZR0m1tbLSvAfw9tobK00m0sobfS7FFt4NLnkuNMiQBQES0nlllt1GBBJI7xhWYk%2BZ/BH9o79u348fBjwh8cfCv7KHwktdL8Z%2BF9P13TbbUPjrqizwwXdtHcRpIE8MMocLIAwVmGQcEjmuo/4Tj/goX/0a/8ABn/w/Grf/MvQBq2PwP8A2KtL8U63450z4QfC631vxLBdQ%2BI9Yg8P6al1qsd1j7SlzKE3zrLtXzA5IfA3ZxXQeN9K%2BAHxM8EXPwy%2BJGm%2BDvEHhu8hSK78Pa5DaXdjPGjKyI8EoaNlVlUgFcAqCOgriv8AhOP%2BChf/AEa/8Gf/AA/Grf8AzL0f8Jx/wUL/AOjX/gz/AOH41b/5l6AOqHgn9mEeHrfwiPCPgMaTaeG5/D1rpf2Cy%2Bzw6ROI1m05I9u1bWQQxB4APLYRICp2jGHdfs%2BfsMX3wttfgde/BD4TzeCrK/N9Z%2BD5fDWmNpcF0d%2BZ0tDH5KSfvH%2BcKG%2BdueTXE/G79o79u34D/Bjxf8cfFX7KHwkutL8GeF9Q13UrbT/jrqjTzQWltJcSJGH8MKpcrGQoZlGSMkDmuo/4Tj/goX/0a/8ABn/w/Grf/MvQBZ%2BI/wCzb%2BwX8YtE0Dwz8XPgH8IfFWm%2BFLZrbwtp/iPwtpd9Bo8JCAx2sc0bLboRHGCsYUYjX%2B6MWIvgL%2BxDB8WH%2BPUHwY%2BFSeOpLoXUnjRPDumjVmnEQhEpvNnnFxEqxht2dihc4GKzv%2BE4/wCChf8A0a/8Gf8Aw/Grf/MvR/wnH/BQv/o1/wCDP/h%2BNW/%2BZegD0m21fS9c8Y2txouowXcdvplys8ttKHVGeSAqCVyASEbj2rdrxn/hOP8AgoX/ANGv/Bn/AMPxq3/zL1y/xd/aO/bt%2BDXhS08X%2BI/2UPhJc2954o0TQo47L466ozifVNVtdMgc7vDCjYs13GznOQisQGOFIB9HUV4z/wAJx/wUL/6Nf%2BDP/h%2BNW/8AmXo/4Tj/AIKF/wDRr/wZ/wDD8at/8y9AHs1FeM/8Jx/wUL/6Nf8Agz/4fjVv/mXo/wCE4/4KF/8ARr/wZ/8AD8at/wDMvQB7NRXzj4%2B/aO/bt%2BHfivwR4Q1j9lD4STXHjzxRLoWlSW3x11QpBPHpWoamXl3eGAQnk6dMoKhjvdBjBLL1H/Ccf8FC/wDo1/4M/wDh%2BNW/%2BZegD2aivGf%2BE4/4KF/9Gv8AwZ/8Pxq3/wAy9H/Ccf8ABQv/AKNf%2BDP/AIfjVv8A5l6APZqK8Z/4Tj/goX/0a/8ABn/w/Grf/MvXL6t%2B0d%2B3bo/xn0D4HXH7KHwkbVPEXhfV9ds7lPjrqnkRwadc6bbzI5PhjcHZtUgKgKQQkmSpChgD6Oorxn/hOP8AgoX/ANGv/Bn/AMPxq3/zL0f8Jx/wUL/6Nf8Agz/4fjVv/mXoA9morxn/AITj/goX/wBGv/Bn/wAPxq3/AMy9H/Ccf8FC/wDo1/4M/wDh%2BNW/%2BZegD2aivnHSf2jv27dY%2BM%2Bv/A63/ZQ%2BEi6p4d8L6Rrt5cv8ddU8iSDUbnUreFEI8Mbi6tpc5YFQAHjwWJYL1H/Ccf8ABQv/AKNf%2BDP/AIfjVv8A5l6APZqK8Z/4Tj/goX/0a/8ABn/w/Grf/MvR/wAJx/wUL/6Nf%2BDP/h%2BNW/8AmXoA9morxn/hOP8AgoX/ANGv/Bn/AMPxq3/zL1y/gH9o79u34ieK/G/hDR/2UPhJDceA/FEWharJc/HXVAk88mlafqYeLb4YJKeTqMKksFO9HGMAMwB9HUV4z/wnH/BQv/o1/wCDP/h%2BNW/%2BZej/AITj/goX/wBGv/Bn/wAPxq3/AMy9AHs1eM/sv/8AJb/2jv8Ass1j/wCoV4Xo/wCE4/4KF/8ARr/wZ/8AD8at/wDMvVv9lb4c/GnwfrHxQ8d/HTQPC%2Bk6p4%2B%2BIUWuWeleE/Etzq1va2sWg6Ppiq9xcWVmzSNJp0rlRFtCyINzHOAD1uiiigAooooAKKKKACiiigAooooAKKKKACiiigAooooAKKKKACiiigAooooAK%2BV/2nv2tPi58MPjH4s1rwD4d8HyeGPg/wCH/D9741OtaRcTarqlvq9/KlzBYXEdxGll5FtZx3GZIpxcyFIyIfL80/VFeM/Gf9iH4cfG74pH4ma5458VaXFqNrpFr4v8NaNdWqad4pg0u9kvbGK%2BWW3kmCxzTS5%2BzywGWOQxTGWMKgAPZqKKKACiiigD5j8OftK/EyH9v/xR8H/iNrHh7wn4bXxBaaJ4Mi1H4Rayl14xgGgQajiDxG12unNLHd3OoAWgheTy7SYBQWaRfpyvK/Fn7LUHj/4yaR8U/Hvxv8a6vpXh7XY9a0DwBcHTItGsdQjt3gjnDQ2SXsuzzJJFSa6kjEj7tnyIF9UoAKKKKAPF/wDgoL8Xfjh%2Bz9%2ByP40%2BPXwCvfCkeseCdCu9cuoPGGi3N9bXdpa20sz26JbXVsySuyIokLlUBYlH4Fef%2BPP2tPi54L%2BPHi3U/Cnh3whF8PPCHxj8I/D7xlZzaRcHW9V1XXYNFSPUIbtLhYY44P7c0mMxSW8ryJDPiWPagr2H9rH9nGy/a0%2BBGvfs%2B618VfFPhHSfE9lLY65f%2BEF077Xc2UsTxTW26/tLqNEdX5ZEWQFRtdec8XB%2BwD4On%2BItn8RfFXxx8fa6x1nSdc8TaNqEulRWPifXNMSNLHVr2O2sImW4iEFphbZoIGNjbF4mMeSAe90UUUAFeL/tk/F344fBK18A%2BMfhZe%2BFP7G1D4meHPD3i%2Bx8QaLc3N1c2uq6zY6aDZyw3UKW0ka3Msm%2BRJ1JRF2ck17RXlX7V37Lb/tVeG9C8Lz/AB98b%2BBrfQvElhrqN4Lh0dnu72xvILyzaU6lp94NsVxbxuFjCBuVk3qdoAPOP2ef2lfiZrf7VXi34I/FDV/D3hPTofFOt2/gnwlJ8ItZ0y5162hdJTf2%2BtXF39g1B2Mk0ssVtAX5LsVwxP05Xkuk/soh/jJovxl%2BI/7QHjvxrN4Xu7y78J6F4hGkw2Gj3VzbyWslxEthp9tLK/2eaeFfPklVFnfaASCPWqACiiigDw/9u74ufHj9n74Nav8AHX4UeMfAtjp/hbRbm8vdF8WeGb2/ufEN7lFs9Ms5La9g%2BzzXEpFujeVdM0s8QWFj8ref/BH9r74z658S/BX9reDPCWkfDTxv8T/FHw28K%2BGtO0uaPV9Ev9Ah1bfPPci4a3mgkbw/qaLDHbxGNWtj5kmWA9P/AGlf2QYP2kvHngj4gTftA%2BO/CFz4Bu7m90Wx8MRaNPZyXsqCNbyaDU9OvEeeGPzFhkAUxieUj5myKvgP9hr4e%2BA/jLb/ABdh%2BIvi7UoNO13U9e0TwhqVzZf2TpWt6jG8eoapAkVqk/nzie7LK8zwo19cmOKPzOAD2uiiigAr5f8A2ufjx%2B0v8FviJp/hTSofAHjXR/HMOtW2i/DmLwffSawlraaHdXcl/cTi9eK6thdRW9tJCLWIH7fCgmMjIkn1BXh037E1xH%2B0f4r/AGmtE/ar%2BJenav4t02HTrnS4YPD89pp9nDA0cNtZtc6TLc28Syu91sWba87l3Dg7aAGfsIftB%2BN/j38Pby6%2BK/j7Rr7xdpws21/w3ZfC7V/CN5oDz2yyiC5stXup7hwW3%2BXcAJHIqHaG2k17pXm/wO/Zu074M%2BJ/EnxD1j4peKfHHirxXFY2%2BseJ/FzWC3L2lmJvstqkWn2trbRxRtc3LjbCGZriQszZGPSKACiiigD45/4KCftx/FT9jDxz/aeuaLoHjHwi%2Bjajrdv4Vl%2BHOp2Utumm6Nfakkn/AAkU10%2BmT3f2vTRssVgS6EcyygbYWkb179mj4u/HPVvip43/AGev2jrnwpqHifwjpOh61HrXgrSLmwsbmx1QXkaRGC5ubl1liuNOu1L%2BbiRDE2yMkqK3x1/YS8EftOa1dWvx/wDi3418UeC7mS4kX4ZXkmmw6LFJNYzWTNvt7KO%2BkAjuJmCS3ToHfdt%2BRAvT/s%2BfszaR8A7zXvEV38UPFnjjxH4kNnHq3irxrcWb30ttaRGK1tR9jtreFYog8rDEe9nnld2dnJoA9KooooAK%2BI/2p/2yv2s/g38avEHwo8HeG/DnjXU7DRbjXfDAT4H%2BII5NFA1HTLVDC325x4mkFjqlx539l%2BU8LQlZRGJhHX25Xh%2BvfsW6n4l8en4na1%2B1z8UZtb0%2BC8i8G3hTQAPCq3U0Mk/2SMaTsnZo4Ft916t0yxM4Uq7s5AOq/ZY%2BLD/GT4RweLL34maN4qv4dRurLVL7RvBl94dFtcRSsrWs2m6hcT3VnPGMK8czh8/NtUMBXo1cN8A/gL4e%2BAHhnU9G0rxTrfiDUdf1641vxJ4k8RzQNe6rfzBEaeUW8UMCYjihiVIYo41SJAFGCT3NABRRRQAUUUUAFFFFABRRRQBR8UeIbDwl4a1HxXqoc2umWM13ciJct5caF2wO5wpr5z/Ym/aT%2BNfj/wAU6P4M%2BNnh7wZZjx18LbL4jeGYfBmlXFoNMjvLgm70%2B7M1xKLuaN7m2f7YggE7SzEwR7QX%2Blru0tb%2B1lsb23SaGaNo5opVDK6kYKkHggjjFeQ/szfsV%2BAv2YNVfV9A%2BIPi3xLLbeGLHwz4dHiy9tZhoGhWbyPb6bam3t4S0amT5pZzNcSCOLzJn8tcAHsVFFFABXC/tQePPiL8LP2aPiJ8Tvg/4UXXvFvhzwLq%2BqeFtDaxmuhqOo29nLLbWxhgZZZhJKiJ5cbB23YUgkGu6rO8W6Jf%2BJfDGoeH9L8V6joVze2kkNvrWkLA11YuykCaIXEUsRdTyBJG6ZHzKwyCAeXfsU/Fqf4ofDO%2BstW%2BIXh/WdT8O6qunXmmaJ8MNT8HPoaC2gkis7jStUuZ7mFwjiRXby0eKWLYmBvf2KvPPgP%2BztpPwOvPEviO5%2BIniTxj4k8X6jDeeIvFPit7MXd0YbdLeCIR2NtbW0UUcaAKscKZLOzFmZmPodABRRRQB8uftUftY/FD9nD4veOLL4laN4S8RfC%2Bw/Z38X%2BPbbQrfRLhNVdtEGlrPbXFzJcvbzRTrfTgILZCoRMu%2BWFdv%2BzP8X/j5qnxc8Zfs6/tLP4SvPFHhjwx4e8Sx6r4K0m5sbKSy1Z9St1tjDc3Ny5lhuNIuwZRIFkR4m8uM7lqD4x/sK%2BHfjp8dW%2BMvjz47eOZdNm8Fan4Rvvh7DBov9iXejaktt9vtJC%2BmtekTtaQOzi6DqUIRkRmQ9J%2Bzv8Asu6H%2Bz7fa14jn%2BKHi3xv4h1%2B1sLK/wDE/ja5tJL02Fiki2dmPsltbx%2BVEZ7hwShkd7mV3d2bNAHp9FFFABXyJ8a/2l/2tvBmu/tAeBLfwr4M8WXvgLw/4U8SfDax0n4f6nfzrHqOq6lCEvLWK8eXUZ4F02OdTbC3JckKvyq1fXdeFy/sUeIYvjp42%2BP%2BhftofFbStW8b6RY6Zc2NlZ%2BGGtNNtrK4uZ7NLYS6K8n7o3l0oMzyl1nIk8wqhUA6v9lT4tzfGX4UjxNqPxO0bxTqNrqtzY6tdaP4Iv8Aw2bO4ib5rWfTNRuJ7q0nRSu5JmDEMrbVVhXpNcJ8A/gHoHwB0LWbHT/FuueI9V8TeIJdc8T%2BJvEktu17qt/JDDB5sgtoYYIwsFvbwqkUUaKkKALnJPd0AFFFFAHxt%2B0t%2B13%2B0t%2Bzx8ZoPhtrKfDPxrfa3BBN4Rh07wte2kvgu81LxDpnh7SJtTle%2BmF1FO2rzgtEtnI4sbpYwy%2BYYvcf2Vfi/wDEj4jDx/8AD74xHRJ/FXw08eN4a1nVfDWnTWdhqfmaXp2rW9xDbzTzyW%2BbXVLdHjaaXEkcmGIIxwtt/wAE1fCTXXxDfxD%2B0v8AE7Wbf4k68dc1i31I6F5lnqUVxDPp9zbXUWlpdKbB7e3FpG80kUSwoGR%2Bc%2BsfAP4C6H8A/D2rabZeL9c8Sat4i16bWvE/ijxK9sb/AFe%2Bkjih86YWsEEC7IILeBEiijRY4I1C8EkA7qiiigBlz9p%2BzSfY9nnbD5Xm527scZxzjNfEHxW/a5/bT%2BGnxE1z4bW9t4D8Z694YvfDVvq3jrwR8Fdf1aPw5b6s1497YS6VZ6lPd3M0cNlY3RMU6fu7qFpYEBiaT7eu4ZLi1lt4bqSB5I2VZ4gpeMkYDLuBXI6jII9Qa%2Be/gx%2BwF4g%2BAnw2uPhp8O/26vjFFHdas%2BpzazeWXhOfUJbuV5ZLmeaZ9CP2mSd5d0kk4kfMabCgGCAes/AT4h2XxW%2BDvh/4hWHxA0bxUmp6eJH1/wAP6TNYWl3ICVkKWs800tsVdWRoZJHeNlZWO5SB19cl8C/gv4S/Z9%2BF%2BnfCnwVc39xZWEt1cTX2q3Imur67urmW6urqZwqhpZrieaV9qqu6Q7VVcKOtoAKo%2BJ4fElz4b1C38G6nY2WryWUq6XeanYPdW0FwUIjklhjliaaNWwWRZIywBAdSdwvVm%2BMdBv8AxR4Wv/Dul%2BLdS0G5vLV4oNa0cQG6sXI4miFxFLEXU8gSRuhx8ysMigD4e%2BG/7dn7Wvxg%2BKet/BL4Wab8Pk8Z6ba67fSeM/Ffwu1rQ11TTNItdFlSxl0S8vk1DT5Xu/EOxJp5nj8qGS4SF1nQH7G%2BAXxa034%2BfAnwV8ddG02Wzs/GvhLTdetLOZ9zwRXlrHcLGxAGSokAJ9RXi2r/APBMjwPrWuX3xFu/2lPimnxA1ZLy11r4k217pEOrX%2BmXVta202mFE00WcNsUsrRh5FtFKskCyrKHLMfoPwX4P8NfDzwdpPgDwZpMWn6PoemQafpNhDnZbW0MaxxRrnnCoqqPpQBp0UUUAcv8adR8caN8Lda1v4c%2BIbHS9WsLM3UN9qHg%2B98QIkcZDygadYzwXN5I0SuqRQyBy7LhXPyN8W/CX/goj8fvEnjTQ9T8b3HhHwJ4M1KedfEHji8%2BBniKa21i/h1%2B60hEuZVvo08MzyWtpa/uNUaSWB5VjfOwJX238TPBmu%2BPfCU3hzw38Utf8G3kksbxa/4ZisXu4NrAlVW/trmBgwBUh4m4Jxg4I8Vuv%2BCc3hTUPB9x8NtW/aQ%2BJt34Y1zUJr/x5oE1xo4i8YXc9411cTX0q6aLiLzSywtHZy2sQhiSNUUbtwB9E0UUUAFFFFABRRRQAUUUUAFFFFABRRRQAUUUUAFFFFABRRRQAUUUUAFFFFABRRRQAUUUUAFFFFABRRRQAUUUUAFFFFABRRRQAUUUUAFFFFABRRRQAUUUUAFFFFABRRRQAUUUUAFFFFABRRRQAUUUUAFFFFABRRRQAUUUUAFFFFABRRRQAUUUUAFFFFABRRRQAUUUUAFFFFABRRRQAUUUUAFFFFABRRRQAUUUUAFFFFABRRRQAUUUUAFFFFABRRRQAUUUUAFFFFABRRRQAUUUUAFFFFABRRRQAUUUUAFFFFABRRRQAUUUUAFFFFABRRRQAUUUUAf/2Q%3D%3D\">"
            ]
          },
          "metadata": {
            "tags": []
          }
        }
      ]
    },
    {
      "metadata": {
        "id": "ISRprTFttaQ6",
        "colab_type": "text"
      },
      "cell_type": "markdown",
      "source": [
        "# Submit a linear model"
      ]
    },
    {
      "metadata": {
        "id": "rigM6HdRtaQ7",
        "colab_type": "code",
        "colab": {}
      },
      "cell_type": "code",
      "source": [
        "## GRADED PART, DO NOT CHANGE!\n",
        "# Testing shapes \n",
        "grader.set_answer(\"9XaAS\", grading_utils.get_tensors_shapes_string([W, b, input_X, input_y, logits, probas, classes]))\n",
        "# Validation loss\n",
        "grader.set_answer(\"vmogZ\", s.run(loss, {input_X: X_val_flat, input_y: y_val_oh}))\n",
        "# Validation accuracy\n",
        "grader.set_answer(\"RMv95\", accuracy_score(y_val, s.run(classes, {input_X: X_val_flat})))"
      ],
      "execution_count": 0,
      "outputs": []
    },
    {
      "metadata": {
        "id": "wvbphSD2taQ8",
        "colab_type": "code",
        "outputId": "1f7ebc35-e68a-42e8-8584-b33c967547eb",
        "colab": {
          "base_uri": "https://localhost:8080/",
          "height": 34
        }
      },
      "cell_type": "code",
      "source": [
        "# you can make submission with answers so far to check yourself at this stage\n",
        "grader.submit(COURSERA_EMAIL, COURSERA_TOKEN)"
      ],
      "execution_count": 16,
      "outputs": [
        {
          "output_type": "stream",
          "text": [
            "Submitted to Coursera platform. See results on assignment page!\n"
          ],
          "name": "stdout"
        }
      ]
    },
    {
      "metadata": {
        "id": "-QrdbaY-taRA",
        "colab_type": "text"
      },
      "cell_type": "markdown",
      "source": [
        "# MLP with hidden layers"
      ]
    },
    {
      "metadata": {
        "id": "WSZ2-Z0QtaRA",
        "colab_type": "text"
      },
      "cell_type": "markdown",
      "source": [
        "Previously we've coded a dense layer with matrix multiplication by hand. \n",
        "But this is not convenient, you have to create a lot of variables and your code becomes a mess. \n",
        "In TensorFlow there's an easier way to make a dense layer:\n",
        "```python\n",
        "hidden1 = tf.layers.dense(inputs, 256, activation=tf.nn.sigmoid)\n",
        "```\n",
        "\n",
        "That will create all the necessary variables automatically.\n",
        "Here you can also choose an activation function (remember that we need it for a hidden layer!).\n",
        "\n",
        "Now define the MLP with 2 hidden layers and restart training with the cell above.\n",
        "\n",
        "You're aiming for ~0.97 validation accuracy here."
      ]
    },
    {
      "metadata": {
        "id": "bsEwWsXJOwst",
        "colab_type": "text"
      },
      "cell_type": "markdown",
      "source": [
        "<img src=\"https://raw.githubusercontent.com/Gooogr/Coursera_Advanced_Machine_Learning/master/1%20-%20Introduction%20to%20Deep%20Learning/fig1.png?raw=1\" style=\"width:30%\">"
      ]
    },
    {
      "metadata": {
        "id": "k-r5LdMVPyhj",
        "colab_type": "code",
        "colab": {}
      },
      "cell_type": "code",
      "source": [
        "s = reset_tf_session()"
      ],
      "execution_count": 0,
      "outputs": []
    },
    {
      "metadata": {
        "id": "NRQmw_4ftaRB",
        "colab_type": "code",
        "colab": {}
      },
      "cell_type": "code",
      "source": [
        "# write the code here to get a new `step` operation and then run the cell with training loop above.\n",
        "# name your variables in the same way (e.g. logits, probas, classes, etc) for safety.\n",
        "### YOUR CODE HERE ###\n",
        "\n",
        "\n",
        "# W = tf.get_variable('Weights', shape = (784, 10), dtype = tf.float32)\n",
        "# b = tf.get_variable('Bias', shape = (1, 10), dtype = tf.float32)\n",
        "\n",
        "W1 = tf.get_variable('Weights1', shape = (784, 256), dtype = tf.float32)\n",
        "b1 = tf.get_variable('Bias1', shape = (1, 256), dtype = tf.float32)\n",
        "\n",
        "W2 = tf.get_variable('Weights2', shape = (256, 10), dtype = tf.float32)\n",
        "b2 = tf.get_variable('Bias2', shape = (1, 10), dtype = tf.float32)\n",
        "\n",
        "input_X = tf.placeholder(tf.float32, shape = (None, 784))\n",
        "input_y = tf.placeholder(tf.float32, shape = (None, 10))  \n",
        "\n",
        "hidden1 = tf.layers.dense((input_X @ W1 +b1), 256, activation=tf.nn.sigmoid)\n",
        "hidden2 = tf.layers.dense((hidden1  @ W2 +b2), 256, activation=tf.nn.sigmoid)\n",
        "\n",
        "logits = hidden2 @ W2 +b2 \n",
        "probas = tf.nn.softmax(logits)\n",
        "classes = tf.argmax(probas, axis = 1)\n",
        "\n",
        "loss = tf.reduce_mean(tf.nn.softmax_cross_entropy_with_logits_v2(input_y, logits))\n",
        "\n",
        "step = tf.train.AdamOptimizer().minimize(loss)"
      ],
      "execution_count": 0,
      "outputs": []
    },
    {
      "metadata": {
        "id": "dRoUYFl9LDOV",
        "colab_type": "code",
        "colab": {
          "base_uri": "https://localhost:8080/",
          "height": 309
        },
        "outputId": "d1b100a7-984c-4a2b-9ff5-3d58c31758b3"
      },
      "cell_type": "code",
      "source": [
        "s.run(tf.global_variables_initializer())\n",
        "\n",
        "BATCH_SIZE = 512\n",
        "EPOCHS = 40\n",
        "\n",
        "# for logging the progress right here in Jupyter (for those who don't have TensorBoard)\n",
        "simpleTrainingCurves = matplotlib_utils.SimpleTrainingCurves(\"cross-entropy\", \"accuracy\")\n",
        "\n",
        "for epoch in range(EPOCHS):  # we finish an epoch when we've looked at all training samples\n",
        "    \n",
        "    batch_losses = []\n",
        "    for batch_start in range(0, X_train_flat.shape[0], BATCH_SIZE):  # data is already shuffled\n",
        "        _, batch_loss = s.run([step, loss], {input_X: X_train_flat[batch_start:batch_start+BATCH_SIZE], \n",
        "                                             input_y: y_train_oh[batch_start:batch_start+BATCH_SIZE]})\n",
        "        # collect batch losses, this is almost free as we need a forward pass for backprop anyway\n",
        "        batch_losses.append(batch_loss)\n",
        "\n",
        "    train_loss = np.mean(batch_losses)\n",
        "    val_loss = s.run(loss, {input_X: X_val_flat, input_y: y_val_oh})  # this part is usually small\n",
        "    train_accuracy = accuracy_score(y_train, s.run(classes, {input_X: X_train_flat}))  # this is slow and usually skipped\n",
        "    valid_accuracy = accuracy_score(y_val, s.run(classes, {input_X: X_val_flat}))  \n",
        "    simpleTrainingCurves.add(train_loss, val_loss, train_accuracy, valid_accuracy)"
      ],
      "execution_count": 34,
      "outputs": [
        {
          "output_type": "display_data",
          "data": {
            "text/html": [
              "<img src=\"data:image/jpeg;base64,/9j/4AAQSkZJRgABAQEASABIAAD/2wBDAAIBAQEBAQIBAQECAgICAgQDAgICAgUEBAMEBgUGBgYFBgYGBwkIBgcJBwYGCAsICQoKCgoKBggLDAsKDAkKCgr/2wBDAQICAgICAgUDAwUKBwYHCgoKCgoKCgoKCgoKCgoKCgoKCgoKCgoKCgoKCgoKCgoKCgoKCgoKCgoKCgoKCgoKCgr/wAARCAEgA2ADASIAAhEBAxEB/8QAHwAAAQUBAQEBAQEAAAAAAAAAAAECAwQFBgcICQoL/8QAtRAAAgEDAwIEAwUFBAQAAAF9AQIDAAQRBRIhMUEGE1FhByJxFDKBkaEII0KxwRVS0fAkM2JyggkKFhcYGRolJicoKSo0NTY3ODk6Q0RFRkdISUpTVFVWV1hZWmNkZWZnaGlqc3R1dnd4eXqDhIWGh4iJipKTlJWWl5iZmqKjpKWmp6ipqrKztLW2t7i5usLDxMXGx8jJytLT1NXW19jZ2uHi4%2BTl5ufo6erx8vP09fb3%2BPn6/8QAHwEAAwEBAQEBAQEBAQAAAAAAAAECAwQFBgcICQoL/8QAtREAAgECBAQDBAcFBAQAAQJ3AAECAxEEBSExBhJBUQdhcRMiMoEIFEKRobHBCSMzUvAVYnLRChYkNOEl8RcYGRomJygpKjU2Nzg5OkNERUZHSElKU1RVVldYWVpjZGVmZ2hpanN0dXZ3eHl6goOEhYaHiImKkpOUlZaXmJmaoqOkpaanqKmqsrO0tba3uLm6wsPExcbHyMnK0tPU1dbX2Nna4uPk5ebn6Onq8vP09fb3%2BPn6/9oADAMBAAIRAxEAPwD9/KKKKACiiigAooooAKKKKACiiigAooooAKKKKACiiigAooooAKKKKACiiigAooooAKKKKACiiigAooooAKKKKACiiigAooooAKKKKACiiigAooooAKKKKACiiigAooooAKKKKACiiigAooooAKKKKACiiigAooooAKKKKACiiigAooooAKKKKACiiigAooooAKKKKACiiigAooooAKKKKACiiigAooooAKKKKACiiigAooooAKKKKACiiigAooooAKKKKACiiigAooooAKKKKACiiigAooooAKKKKACiiigAooooAKKKKACiiigAooooAKKKKACiiigAooooAKKKKACiiigAooooAKKKKACvPfjt%2B1J8FP2b5NGsfil4g1Maj4ilnTQNB8OeF9R1zVNR8lVed4bHTbee5kjiVkMkixlI96biu5c%2BhV4N%2B0P8D/j5/wANJ%2BDv2tv2bLLwfrWueH/B2seFNX8KeOdcutLtLywv7mwuxcQXtraXj288U2noCpt3WVJSCUKK1ABpf/BTL9izWLvxPb2nxXv0h8FWsk/jLUrvwXrEFjoIS0iu9l5dy2iwWsrQzRskMjrJIWKorMrKL2n/APBQ/wDZK1HwBrXxFTx/q9vB4f1ay0vVdE1DwNrNrrkV5ebfscC6PNaLqEr3AYGER27eaAxTcFYjy2b9gH4y%2BMf2a/jn8NfGHinwppHin4o/FS38daHc6U1xeWFpeW0OiywQ3IkihkkiN3pRRwoyYHGDuJVaPi79i/8AaV%2BLmr/Ef45fG34S/CjWvFnjWx8KaPp/gKy%2BI2s2Wm6fY6Hcaldw3qa7b6al5DqDXOqTOksVoPJSKNFZiWcgHsviH9vv9mzwv4a8OeI9XvvG3meK0v5NE8P2vwm8SXGuSRWUscV3NJpMWntf28MLzQq8s0CIpmiy37xM%2Bmaz8RPBHhv4e3XxX8T%2BJbbSvDljo76rf6vqrfZYbSySIzPPMZdvlKsYLNvxtAOcYNfGHin9hH9s/WPgX4X8Nay3hfxV470a58RHRfGV/wDHbxNpGr%2BCLW%2BuUktLO11q1sJLzXIYkjhEy3qw/aTbReYCFGPUfjR/wTotfj1%2Bzb4n%2BHHxD%2BOfjW78d%2BMPhfH4Z17xS3jbWho818tpDE2oJoS3y2FuzzQLK3kRRSEPIBIrSM5AOkg/4KUfsZf8K58V/FbWPite6Jo3giysr7xQ/ifwdq%2Bk3NlZXkxhtb37LeWsVxJaSyK6pcxxtC3luQ%2BEYjj/AI3f8FZP2d/hn8ENU%2BMfgPRfFXiqbQfiD4X8L674Y/4QXXbHU7A6zqVrax3T2cmnNdeV5Fw88DeT5d48aW8MhknjB8r1T/gmJ8ZPHfwq8faR4i8DeG9G8Y%2BI9D0fR7DxDqv7RfjPxut3aWusW%2BoTRyf27AfsEZ8likUSzHe%2BGkxknv8A9qH9gz40/GD4g/F/4g%2BBfEPheOTxfB8LbzwlZ6tfXMSvf%2BE/EdzrUsN40dvJ5ENwGt4VljEzrl2MfyKrgHqFh/wUE/Zb1H4m2XwZh8T%2BJo/Fd5oun6xLoF38N9egudO0%2B9adILu/SSyU6dDut5VeS68pYiFEhQum6j4a/wCCmH7FPi3wZ4s%2BIWkfGC4TR/Bfgi68Zaxe6h4S1W0Fx4et0Z5tWsVntUbVLNVQ4nsxPGxZArEugbB0P9kP4ofEP4mfG74g/G9fD2gxfGj4O%2BHfCF1Y%2BE9duNRl0u4tE11Ltlnns7XzYwNViMT7FZikm6OPA3fN37Y37Kn7UOj/ALDHxS%2BJv7TF34AtIfhD%2BxT8QfBHhePwFqF5cNrzXukWxn1G6W5toBYqE0i3CWcbXAVppCZ22oKAPrPw9/wUl/Yy8TaHrHiPT/i1dQWehppU1/JqnhLVbJmtNSu1s7HUIUuLVGubCWdgovoQ9qoDO0qorMPT9E%2BLvw88R/FLX/gvofiH7T4k8LaXp%2Boa/YR2k22zgvmuBa7pinlF3%2ByzHy1cyKoRmVVkjLfJOofsz%2BIPFegeKfjb/wAFIvF/wz8J%2BBbf9nu5%2BHUlx4f8QTLay6beyQyXmq3k17BbpYOTBbCG2QzCAmT/AEiQsuOw/wCCPngP4u2f7I9r8f8A9pDUDf8AxJ%2BL15H4n8V6g9nJbtJCLSCy01fKl%2BeH/iX2lpI0TYKSzTZAYtkA%2BqqKKKACiiigAooooAKKKKACiiigAooooAKKKKACiiigAooooAKKKKACiiigAooooAKKKKACiiigAooooAKKKKACiiigAooooAK8R0j/AIKMfse6ld69Z6n8Urzw83hzw5c%2BINQk8a%2BEdV0GObSbd0jnv7WTUrWBb63R5IlaW2MqAyxjOXXPtN7FczWcsNndCCZ4mWKYx7/LYjhtp64POO9fmJq//BHL9uX4v6t4X1z43fHHQ31vw14P1Cz1DxRqHxW8TeJx4h1v7ZpV9a6idLvoobLSbaS50xfPsLIBRHJtWWQKgUA%2B2X/b/wD2YbX4aN8WNY8QeKtK0ttcg0axs9c%2BGWv2GqanfzIZIYLLTbixS9v2kQM6/Z4ZAyo7AkIxHReA/wBqz4H/ABH1%2By8J%2BHPEOqQ6vf8AhSfxJDpGteFdS0y7TTYbv7JLLLDeW8UkDrP8hhkVZe%2BzbzXk3xO%2BDn7bvxib4e/G3XPBvwq0P4h/Cjx1NrHh/wAM2vjjUr/Rdcs7jSbvTLmO4vn0qGaxmKXskkbpa3AjMQU%2BYJGxV%2BJPwG/bg1/4y%2BHf2mvA%2BjfCu08WX3ww1XwX4x0LUvFepSWGkLcX8N1a39lcJpwk1AxCN1kt5YrQSlxiWLHIB3Gk/wDBRv8AZA8R694F8LeFfiNqus6n8SfBuleLfBunaJ4H1m9nvND1F9lrqMiQWjNa2%2B7HmSTiNbcMpm8oMCdj4a/tufs3fFf4jXPwn8M%2BL9Ws9ft9LudThsvE/gzVtEW/sbeRI57uyl1G1gjv4I3liDy2zSIvmISQGUnyj9hT9hL4sfsw6/8ADjWfHniDw1dnwd%2Byl4R%2BGN%2B%2BkXM8rNq2lvM1zNF5kEe61bemxmKu235o0wK8a%2BGn/BKv9sbxP8UfC/ib9qb4w2eqRaf4A8V%2BF/GniaD4v%2BJNavPEUur2KW39p2umX0Men6EcqWNpaKUXKgTOI1WgD6l8J/8ABRf9kfxrosfirQfHeuf2Hcarpen6f4lvfh/rdrpWoy6lex2VlJaX09mlteQS3M0UYuIJHhBlQs4VgT6X4W%2BLvw88a/EDxT8LvC/iH7XrnguSzj8T2iWkwWxkuoPtEEZlZBG7tCVkKIzMiyRlgokTd8w%2BOPAnxF8K/wDBPbxp8CP%2BChnif4VeCPAWg/DSLQLb4meHfFt2GadI0trXUntLqzgTTZlmFvJDBHcXTGcoiOTtDdr/AMEr/h98WPDf7ImlfFX9oqwS3%2BJ3xYvpfHXxEhW3aL7Pf36xmG02N8yfZbGOys9pyQLXBoA%2BjaKKKACiiigAooooAKKKKACiiigAooooAKKKKACiiigAooooAKKKKACiiigAooooAKKKKACiiigAooooAKKKKACiiigAooooA5b42%2BCLH4jfCjXfBupa/r2lwXdiS994Z1%2B60u%2Bj2ESDyrq0kjmhJKBS0bqxUsMjNeGfCH9oD4lfD7/gkh8Nv2gYPDviPx94wl%2BDHhe5WCDTr7WL7UtSu7Gzj%2B03Edqk13cIJpvPuHjSSXykmcK7DB%2Bg/iD8Ovh98WvB198O/ip4E0bxN4f1SNY9S0LxBpcV7Z3aBg4WWGZWSQBlVgGB5UHqKx/hR%2Bzv%2Bz/8B9Ph0n4HfAvwd4Mtbe3e3t7bwp4YtNOjiieTzHjVbeNAqs/zlRwW5PPNAHg//BI74ma18QfgP4w03xJ8RfiB4tv/AA/8WPEVhL4g%2BI3h7VNNvbpBeOyYi1GGJokAOBbxqEt/9SFj2BB0HxQ%2BOf7V3iH9rbQv2Zfg34W0vwFYXPg/xDrlx4x%2BIfhWHXbXW/sF3otvGlhDp2vW88Cj%2B05Gka6RGO2MIv3yPevD/hXwv4TiuoPCvhuw0xL6/mvr1NPs0hFxdTMXlncIBvkdiWZzlmJySTXjXxF1pbP/AIKVfCHRZFGL34J/ENkbvuj1bwacfkzH8KTaW5cISqO0ezf3asvf8IP/AMFC/wDo6D4M/wDhh9W/%2Baij/hB/%2BChf/R0HwZ/8MPq3/wA1FezUUyDxn/hB/wDgoX/0dB8Gf/DD6t/81FH/AAg//BQv/o6D4M/%2BGH1b/wCaivZqKAPGf%2BEH/wCChf8A0dB8Gf8Aww%2Brf/NRR/wg/wDwUL/6Og%2BDP/hh9W/%2BaivZqKAPGf8AhB/%2BChf/AEdB8Gf/AAw%2Brf8AzUUf8IP/AMFC/wDo6D4M/wDhh9W/%2BaivZqKAPGf%2BEH/4KF/9HQfBn/ww%2Brf/ADUUf8IP/wAFC/8Ao6D4M/8Ahh9W/wDmor2aigDxn/hB/wDgoX/0dB8Gf/DD6t/81FH/AAg//BQv/o6D4M/%2BGH1b/wCaivZqKAPGf%2BEH/wCChf8A0dB8Gf8Aww%2Brf/NRR/wg/wDwUL/6Og%2BDP/hh9W/%2BaivQfHd/4U0u7TVvHt/YWuh6bot/qGpXOrTJHaW0cPklp5WkIRERDISzcKMkkda82/4a/wD%2BCcH/AEdF8Ef/AAttH/8AjtY1cTh6DSqTjG/eSX5tHpYHJs5zSEp4LC1aqi7N06dSok97NwpzSdtbNp21tbUsf8IP/wAFC/8Ao6D4M/8Ahh9W/wDmoo/4Qf8A4KF/9HQfBn/ww%2Brf/NRVf/hr/wD4Jwf9HRfBH/wttH/%2BO10Xw0%2BMX7G/xo12Xwt8Hfin8M/Fmp29o11Pp3hrXNOv544FZUaVo4HZggZ0UsRgF1GckVEMZg6klGFWLb6KUW/uUmzoxHDfEmEoSrV8DXhCKu5So1oxS7uUqMYparVtLXcxf%2BEH/wCChf8A0dB8Gf8Aww%2Brf/NRR/wg/wDwUL/6Og%2BDP/hh9W/%2Baio/2jPj98Ev2afHHw28E%2BMPhFqmpP8AEnxLdaNYT%2BGvA13qhs3g065vTJJHZW0z4It9mMA4Z5P9XDKyZ%2Bh/tf8A7HPirw1q/jHwZ4Z8R69peh69Jo19e%2BHvgrr%2BoI99FNdQTRQfZtOc3QilsriOV4d6QsqCRlMse/pPFNT/AIQf/goX/wBHQfBn/wAMPq3/AM1FH/CD/wDBQv8A6Og%2BDP8A4YfVv/morD8Q/tkfsZ%2BEhP4i17WfDTeGj4W8Ka1puraXol5fT3sfiHULqw0zZBBZMHSee3VIzHJJIWZvMihVY3l7f4VfFX9mH406HYa74Bn0d/7Sv76xtNN1fQ30zUPtVk7Jd272V5FFcxSwsp3xvGrKMMRggkAxP%2BEH/wCChf8A0dB8Gf8Aww%2Brf/NRR/wg/wDwUL/6Og%2BDP/hh9W/%2BaiuN%2BMv7VWifC34w6r4R0n9m7RNW8IeD9S8N6f8AEHxXJqqW1zpdxrd2tvbC1svsji8WES289wzzwbIpwYxO6tGOg/aa%2BL958IvGWgfCz4L/ALNHh/xx4s1rw3rXiNtM1LWE0iCLStKNlHcss4tLkvcPNqFnFDCURXLuWljWMmgDS/4Qf/goX/0dB8Gf/DD6t/8ANRR/wg//AAUL/wCjoPgz/wCGH1b/AOaivLdP/b0%2BHvi3WtM8YfDj9nTSNU%2BF76n4O0rXvGl1qMdtfWV/4mSxfTUh08WrrcRKuqaWZ5GuIjGLwlUl8p66NP2lrvQJvj7B8Qf2SdMjm%2BC2hDW9L0/wnqa6teeJ7F7W7uYFSI2cH2e6kW02iBWmG6VR5hORQB1//CD/APBQv/o6D4M/%2BGH1b/5qKP8AhB/%2BChf/AEdB8Gf/AAw%2Brf8AzUV4h4e/4KBP47/ZV%2BK/7Rfwr/Zp%2BFnjSX4Vwtd3E3g/4opf%2BG9XtY9NGoTi21hNJDNcwxnZJB9lIV2jBf5iV9E/a7/au%2BHv7Lvwr8N%2BMtL%2BAun%2BKdf8TSWs1v4ahmitfsunGW2S8v5pvIkKwwfaoUBEZ8ya4t4vk80ugB1f/CD/APBQv/o6D4M/%2BGH1b/5qKP8AhB/%2BChf/AEdB8Gf/AAw%2Brf8AzUVg%2BOP2l/h74b/bL8F/skeG/gbp%2BsJ4gkurfxN4pV4oodAvBptzqNraCPyW%2B0zSwWsjum%2BMwRy2zncJ0FcNP/wUE%2BGcnif4waZon7NdpfaX8PdM8MyeCtXjvIFHjW71rWNT0SCKNDB/okI1TTHgW4LSCVJPOVfL2GQA9X/4Qf8A4KF/9HQfBn/ww%2Brf/NRR/wAIP/wUL/6Og%2BDP/hh9W/8AmorgL39pTxza/CP4heNJ/wBl/wCF%2Bna/8H9bvLP4o6brvxBuLfTNPt4dJttXW7tL6LRJZLuNrK8t3IktrcqxkU5Kc4Grfty6r4e8M6Z4p8SfsWaJYQ6H8N/DPjL4zWtx4lQXHhC31maaNba1T7BjU5rYWt1LOHNoBHEpQyNIEAB69/wg/wDwUL/6Og%2BDP/hh9W/%2Baij/AIQf/goX/wBHQfBn/wAMPq3/AM1Fcn4q%2BPHi74c/tV6R8C/iH%2BzR8Obfwtq3h/xD4ik8W6V41mur3TdF0tYA15dWD6PFHGZJbu1j8tLp8F5CpkERzS/Zq/aV1n9rL4Va58R/g38D/gvfXUMVhNoGgL8WVuLmFbgl3t9b%2ByaTN/Y93HBtbyE%2B1gyFoy6hfMIB3P8Awg//AAUL/wCjoPgz/wCGH1b/AOaij/hB/wDgoX/0dB8Gf/DD6t/81FeHRf8ABRXw/YfBbw3478c/AX4U%2BGNd8XeNPEOj6CniP4nR2Phx9O0e6ktZ9Xl1efS0eOCWVI0gRbR3lN1bkAI7PH614g%2BL2ueFfjx8JPhbrP7NvguXQPidYTx3HijTfFKzvp2qQ6bd3728Nv8AYFF3beXa4FyZYS3mqRDwaANf/hB/%2BChf/R0HwZ/8MPq3/wA1FH/CD/8ABQv/AKOg%2BDP/AIYfVv8A5qKz/BnxT13xB%2B0n8Tf2d9e/Zk8L2MngzwhpHiLwrqNp4gS4bX7bULnVraJJ4mso1sHEmlPwJLgbZlJKlStZHgL4vfFjxr4i8e/Byb9k74a2vxG8D2WiX50yPx/NNod3aak1yEVtRXRhPDcxiznZ4DZt8r27B9s25QDp/wDhB/8AgoX/ANHQfBn/AMMPq3/zUVQ8D%2BOP2rPB37Vnhz4I/G74j/D3xNo3ib4e%2BIdchm8K/Dy%2B0W6tLrTb7RLdFZ7jV75JY3TVJSVCIwaJCGxkGL9l74r3H7R/7Ml38dPEHwU8PeD7xtQ1u30hPD%2BsnUobiCxvLi1h1CC5eztHMU5t/PjzEp8qSMn7xA1PHH/KQv4X/wDZGfHn/p28IUAezUUUUAFFY/xDt/A134A1y1%2BKEmnr4ak0e6TxE2rzLHaCxMTC4MzuQqxeXv3FiAFySQK%2BLP2DfjD8JNU/4JneM/hl%2BxX8VfBN34k07V/idafD7QPBuvWUptpxrmtXGnRW8MDkKvkvayxqox5TxuPkINAH3XRX5TaQ37NX/CM6h/wz82if8M%2Bf2b8J/wDhdP8AZ%2Bz%2By/tv9rah/an9p4%2BX7T5P9l/2r53z%2BRs%2B1/Lvo1dv2av%2BEY08/tAnRP8Ahn3%2Bzfix/wAKW/tDZ/Zf23%2B1tP8A7L/szPy/afJ/tP8Asryfn8jf9k%2BXZQB%2BrNfOPwm8Vft3/HXR9e8d%2BF/jf8JNA0u3%2BIXirQ9L0q/%2BD%2BqX9xFa6Xr1/pkLS3CeIoFlkeOzV2ZYo13OQFAAr0j4SXfx3sf2UvCF3r2g2WqfEiPwNph1fT/EOrSWEM%2Bq/ZYvtKz3EVvcNF%2B98zLLDIc/w1yP/BOm48S3f7N19deMtJsbDV5Pi38Q21Ox0zUXu7a3nPjPWvMjineGFpkDZAdooywAJRc4ABe/4Qf/AIKF/wDR0HwZ/wDDD6t/81FH/CD/APBQv/o6D4M/%2BGH1b/5qK9mooA8Z/wCEH/4KF/8AR0HwZ/8ADD6t/wDNRR/wg/8AwUL/AOjoPgz/AOGH1b/5qK9mooA8Z/4Qf/goX/0dB8Gf/DD6t/8ANRR/wg//AAUL/wCjoPgz/wCGH1b/AOaivZqKAPGf%2BEH/AOChf/R0HwZ/8MPq3/zUUf8ACD/8FC/%2BjoPgz/4YfVv/AJqK9mooA8Z/4Qf/AIKF/wDR0HwZ/wDDD6t/81FH/CD/APBQv/o6D4M/%2BGH1b/5qK9mooA8Z/wCEH/4KF/8AR0HwZ/8ADD6t/wDNRR/wg/8AwUL/AOjoPgz/AOGH1b/5qK9mooA8Z/4Qf/goX/0dB8Gf/DD6t/8ANRR/wg//AAUL/wCjoPgz/wCGH1b/AOaivZqKAPGf%2BEH/AOChf/R0HwZ/8MPq3/zUUf8ACD/8FC/%2BjoPgz/4YfVv/AJqK9mooA8Z/4Qf/AIKF/wDR0HwZ/wDDD6t/81FH/CD/APBQv/o6D4M/%2BGH1b/5qK9mooA8Z/wCEH/4KF/8AR0HwZ/8ADD6t/wDNRR/wg/8AwUL/AOjoPgz/AOGH1b/5qK9mooA8Z/4Qf/goX/0dB8Gf/DD6t/8ANRR/wg//AAUL/wCjoPgz/wCGH1b/AOaivZqKAPGf%2BEH/AOChf/R0HwZ/8MPq3/zUUf8ACD/8FC/%2BjoPgz/4YfVv/AJqK9mooA8Z/4Qf/AIKF/wDR0HwZ/wDDD6t/81FH/CD/APBQv/o6D4M/%2BGH1b/5qK9mooA8Z/wCEH/4KF/8AR0HwZ/8ADD6t/wDNRR/wg/8AwUL/AOjoPgz/AOGH1b/5qK9mooA8Z/4Qf/goX/0dB8Gf/DD6t/8ANRR/wg//AAUL/wCjoPgz/wCGH1b/AOaisf48/wDBT79iX9nPxpP8MviB8ZY7jxTbsEl8NeHtLudSvFkIz5bLbRusb452uynkeoriE/4KwRakPt3hT/gnj%2B01rGmsf3Gp2fwuxHOP7yB5wxX3IFebUznK6VRwlWXMt0rya9eWMrfOx9tgvDfjvH4SGKp5fUVKaTjKfJSjNPZwderQU0%2BjjzLztqen/wDCD/8ABQv/AKOg%2BDP/AIYfVv8A5qKP%2BEH/AOChf/R0HwZ/8MPq3/zUV5if%2BCpPjHUj5Hhn/gmP%2B0zLP3XVfh7HZR5/33uCKP8AhvX9t3Vfm8Kf8EmPHkyn7h1fxrptgT9Q%2B7FZ/wBt5c/hlJ%2BkKj/9xo6v%2BIX8Zx/jUqVP/HisHD88Wz07/hB/%2BChf/R0HwZ/8MPq3/wA1FH/CD/8ABQv/AKOg%2BDP/AIYfVv8A5qK8y/4bF/4Kft%2B8j/4I%2Bz%2BWfulvjzoobHuvlcUn/DX/APwVGuvksv8AgkKYz3kuvjzowA/ARZNH9s4P%2BWp/4Kq//IB/xDTiLrWwn/hfgf8A5oPTv%2BEH/wCChf8A0dB8Gf8Aww%2Brf/NRR/wg/wDwUL/6Og%2BDP/hh9W/%2BaivMv%2BGjv%2BCt2o/8ef8AwTd8I6dnp/aHxhtJsf8AfqOj/hc3/BYv73/DF3wswei/8LFfI/HZR/bFDpTq/wDgqf62D/iHGbL48bgV647Df%2B2uS/E9N/4Qf/goX/0dB8Gf/DD6t/8ANRVv9lb4jfGnxhrHxQ8CfHTX/C%2Brap4B%2BIUWh2eq%2BE/DVzpNvdWsug6Pqas9vcXt4yyLJqMqFhLtKxodqnOfJv8Ahcn/AAWNm4j/AGNPhTD7y/ESRv8A0FK6H/gnZq3xm1zXPjzqn7QXhPRtD8Xy/GaD%2B19L0C/a5tIMeEfDYi8uVgC2YRGxz0ZmHaujDY%2BnipuMYTjpf3oOK%2B99fI8fO%2BFMXkWFVerisNUTfLajiKdaWzd3GCuo6ayva7S6n0nRRRXcfLhRRRQAUUUUAFFFFABRRRQAUUUUAFFFFABRRRQAUUUUAFFFFABRWB8Uvib4S%2BDfgLUfiX46fUl0rSo0e7OkaFd6nckM6xqI7WzilnmYsyjbHGx5zjAJrMs/j78LdU%2BBenftJaLrN9qPhDV9AtNa0q%2B0zQb26uLyyuo45Ld4rOKFrl3dZY8RCIyZbG3ORQB2VfL/AO0DrH9mf8FZf2arLfj%2B0fhf8TLfHriXwvLj/wAhV7l8Gvjn8M/j74bu/FPwx1m7uIdO1OTTdUtNU0W70290%2B8jVHa3ubS9iiuLaTZJG4SWNSUlRwCrqT8yftiaudL/4LG/sZQlsJe%2BGfihbufrYaM4H5oK5cZP2dHm84/jKK/U9zh3D/W8z9l/07rP/AMBoVpf%2B2n2TRRRXUeGFFFFABRRRQAUUUUAFFFFABRRRQBz/AIq0DQvFesJ4W8U6LaalpmpeH9QtdR07ULZZoLqCRrdJIpI3BV0ZSVZWBBBIIwa4b/hgf9hX/oyz4S/%2BG50z/wCMV13xK8deFfhfFdfEvx1qn2HRPDvhTVdT1i98h5fs9rb%2BRLLJsjVnfaiMdqqWOMAE8V87f8Pzf%2BCWX/R0X/lk65/8hV5uOxGT0ZxWMlTTa05%2BW9vLmT0v2LjxdV4b/dQzGWG59bKvOlzW0vaNWne212nba/Q9b/4YH/YV/wCjLPhL/wCG50z/AOMV0Pw0/Zk/Zt%2BC%2Buy%2BKfg7%2Bz34H8J6ncWjWs%2Bo%2BGvCdnYTyQMyu0TSQRqxQsiMVJwSinGQK8D/AOH5v/BLL/o6L/yydc/%2BQq9E/Zo/4KQfsX/tg%2BO7v4afs6fGX/hItbsdIk1O6sv%2BEd1G02WqSxRNJvureNDh5ohtDFvmzjAJHPh8Xw7UrxjQnSc29OX2d7%2BVle/oN%2BIeIzVfVJZxOqqmnI8TUmpdbOLryUttnF7baHRftFfAfxb8XvEHw78c/D74had4d174deMpNd0%2BbWPD0mp2l2k2l3%2BmT28kMd1bOCYr93SRZRteNCVdcqfJfHX/AATXm8V/Ajwd8FofiX4b1CHwp8QNc8S3Fj42%2BHw1nQ9ZXUrjUpvIutMN5EJXgOoBopGlZVlgWQxnIVfePiL8bfCHwt8ceDPBHi63vIT451O707SdUCR/ZIbu3sZ74wzuzhkL29rcuhCsp8hgSpK7vFL3/gq1%2Bzno%2BpfCuDxLoes6RZ/GC00e48JXuraxodvMV1W6FrYb9PfUhqLiWR4CXgtZUjWdWkaPZN5ftGZzXwx/4JQR/Dfwd4R8IJ8eTep4U8MfDLR0nbwosX2keEPEN5rIl2JcbY/tX2oQbFGIPL3jzAfLX3b4LfAnxF8F9b8TXOm%2BO7K90/xX491XxLqVrPobrNH9rSIR28UouNq%2BW0ZLOyN5gbAWMjcfF/Cf/BSmx0Swu9Y%2BNNgYxa3nxLEGm%2BGvDzyyX0Xh7xynhqwiikkvM/a5xPaJ5XlFJpp2cS2yIIn7j9mH9r7xX8bfiN8TfCPxB%2BEWueED4Q8fWHhzSdF1DRvPv4DNoNlqTNfS2M93ahS08m2dJRDtMSFvNOCAVfjN%2Bw5rfxS%2BMWq%2BLtI%2BMUGkeD/GGpeG9Q%2BIPhOXw0bm51S40S7W4tza3v2lBZrMIreC4V4J98UAEZgdmc6fx9/Zf%2BMnxV8T6N8UPh58fNG8JeMtG0jxF4ei1d/A8l/avoWrTWsrQ/ZjfxkXkJ0%2BwZLoyGMyRSk2%2ByXyl5H9s/8Aa/8Ajj8FfFHjeP4N6V4Wk0z4RfCD/hY/juDxHp1zcXGtWRmvhHp1i8NzCtnM0WlX5%2B0SrOocwDysFmHa/t/fGP41/Af9kDxj%2B0F%2Bz5f%2BFE1XwboF1r9xF4w0W6vra8s7a1lmeBEt7q2dJZCqKJC5VAWJR%2BBQBwun/wDBNG08Ja1png/4cfFxNL%2BF6an4O1XXvBd14dNzfXt/4ZSxTTXh1AXKLbxMulaWJ42t5TILQhXi816n8UfsK/Gr4jeM/jvN8RP2kfDx8LfGzwg/h9dM8N/Dy4stT0SGOG4t7SUXs2qzxXLJDcyCUG1RZnCkCJd0bdr%2B0f8AF344fCn44/BzSvB974Ubwd448ct4b8TWWp6Lcy6nvbS9RvY5rW4S6jigCmxVWWSGbcJDgpgGsTx38V/2pvCf7b/w/wDgjo/jn4f6r4U8XQ61rOsaKPAd9DqukaFp9tHGZvt/9rNDJK2oXmnxDNogaOWYgZj5AOf8T/sIfHPxb8I/jL4f1L9o7wfD40%2BM/h638P6vr9l8LbiLSNP0yKxmsh5OmjV/Ma6MdxL%2B/e7IyIV8vZEELPjx/wAExPDX7UPwitNG%2BNfxQ1KL4hw%2BGrLQrnxr4C1bX/D9hcWVrf8A2qONtJt9YMcnUjM0srB28xSNqIvjHw0/4K/fGL/hT/iz4qfFfwx4ZD2Xw/0HWtNsf%2BEU1XRItL1TVdVGmRWZnupp/wDhILCKaWIvq%2BnILZ1UmNWMsYHoHib9vf4k6D4B8Lbv2hfhfYT6r4z1LRvFXxH8X/CzWtB0rwxPb6el3Bpl7pF9qcd1bXtx5iGMz3USvGyskbmSJXAO38T/APBLn4D6p8ffCXx78M%2BKvHOkXWheK73Xtd0wfEzxHPb61cXGly2G4xNqQigfDxF5FjJlSIxPlXauZtf%2BCPfwY8Ia14zvvhN8TPGWh2eufDzwp4c8J6ZqvjDWtch8NXOgateapZXiJqWoTJNGk8tkI7baiwLazrE6i9nzyfh3/grLefFO/wDh7FoviPw78O7TVvhV4c8beM77xR4B1nXYYRq13d2i2Yks5bZNKijl0%2B5DX983lgzW48onzAvpvwp/an%2BNfif9rTxj8FPiX4n8P%2BGrW38Qalp/w78Oar8JtcspvEUFvaQzLdQa7PefYb4gtO0kFvCZFjhY/KFZqAL1/wDsIeJPGfwV8dfDf4ofGiz1LWPit8QdO8Q/E3V9K8KNZ2ep2VuNMtpdJtrR7uZraCfTtLhs3Z55m/fTSYJfaLP7R37Dmt/HT4ka54j0H4xQaB4d8feHNH0D4oeH5/DRvJtX0/Tr25uYks7kXMQsZZUvbm3mkeK4DROmxY3QOfPfHn7an7UnwZ0P4xaD4nufAPjPV/hxZeEnTxN4U8JahaWVleavqD29zp82ntqFzNfXlpa/Z75ba3uEnu1vLeBI45Jomkp/Cr9uL9qz49R6B8JPhlN4DsvG2q674u3eJfE3gXVrO0bTNDNhGTNoU19Hf6ZdTT6paJ5NzOXSJWn2OskcdAH0En7Mmj6t8c/H/wAZvHmvjWY/GvgzT/Clpo5szEulaVb/AGuSeJZBITI9xNeyu7gJ8scCYPlBj5r8CP2CPiN8DtB1dNN/aF0s65a/CCy%2BHfw91jSfAIsY9FsLJbj7Hd3kAvHGo3SSTK7FGtYiEYRxQ%2BaxrndT/a//AGn/AB54D/Z2%2BNfwX17wFY6b8eL3wwsHgPX/AARe3uo2tvdWR1TVZBqMOqwxj7Pp8F4yE2jKZY41JIkFdpB8VP2trT9umP8AZ4Pjz4da14Yk8C6r4n1GO08AX9lf6HE13Ha6NBLdNq00dw07/bSzi3iDDTZioQsAoBJ4l/YOsdE8EfB7SP2ffFui%2BHNb%2BCWiSaN4Q1LxV4UbW7R9Pm09bG4jmt0urVzI6RxP5qzKdyHcHV3U4tt%2Bwd8X/Az/ALPnhz4NftD%2BG9O8MfAXS4LSCw8T/Du41K%2B1phps%2BmTObmDVLWK2VraY7EW3cRyKG%2BdP3Q2f2e/ir%2B1p8avgL4nbUvGfw303x74b%2BJGs%2BHZvEC%2BDb99GNtYXzwmb7AdTExdo16G7Ubju4HyV5Lq//BQD9pm5%2BD/w1%2BJtnN4a0TQtfvfFy%2BKviPbfB3xB4o0drDS737Pp%2BrQ22nXsctjZX0Cm7Wa4mkiSJhiV1xKwB7TZfs3/ALSemftdeNf2ldP/AGg/BKaX4p8DWHhqw8ON8MLtrnT47CXU7iyne8/tnZOwn1SZpVFvGJI40RfJbdIcn9nj9kD9of4Kfs9eO/hRrn7TfhvVfF/i%2Bzu7iD4maX8OLmy1E67cwSRyavfpLq1wt7IrfZvLhiNrHDHbLBGFjEaxZWvftefFDSv2ydP%2BGOrePfDWg/DTUdL8ON4d8R3nwp1q%2BtvFN/qL3SPa2%2BvQ3qabYyMUtFhilWV5GukCiQsoP1DQBxHhj4W%2BEfgd%2BzjYfBbwBZG20Lwj4Lj0bR4CcmO1trQQxAnudiDJ7muQ8cf8pC/hf/2Rnx5/6dvCFepeOf8AkSdY/wCwVcf%2Bi2ry3xx/ykL%2BF/8A2Rnx5/6dvCFAHs1FFFABRRRQAUUUUAFeM/sH/wDJENc/7LN8R/8A1Ndbr2avGf2D/wDkiGuf9lm%2BI/8A6mut0AezUUUUAFFFFABRRRQAUUUUAFFFFABRRRQAUUjMqKXdgABkknpXkXxd/b9/Yr%2BBKTL8Uv2nPB2nXEAJl0%2BLWY7q8XH/AE7QF5T/AN8VjWxGHw0OatNRXdtL82j0csyfN86xCoZfh6laf8tOE5v7oRk/vsvM9eor5Dm/4Kl%2BJ/jBGdP/AGH/ANir4lfEiSf5bLxJq%2Bmf2FoLE8B/td1gsB94rsUkdxniKL9iv9t39qN/7X/bi/a9vPDWjTfMPhr8FJH021VT/BcX8gM9wCMBkwVyMq1ed/a9Ovpg4Sqvuvdh85ySX/gKkfZrw7xeVr2nEmKpYCK%2BxN%2B1xD8o4ajKdRP/AK%2ByoJdex7h8eP22P2Tf2ZYZG%2BOXx98N6BcRLuOmTX4lvmHqtrFumb8ENeLRf8FN/iv8Ynz%2Bxb/wT9%2BI3xAsT/q/EfiWaHwxpc69ngnvAxmHttU%2B1eofAj/gnX%2BxV%2BzfNHqPwq/Z58P2%2BpxtvGuanbnUNQ35yXFzdGSRSTydrAe1e1UexzjEfxKsaS7QXM//AAKen3QJ/tLw4ydWweBq46f8%2BJqexp/Khhm5v/t/E%2BqPkoeOP%2BC1/jI/avDnwM%2BAPgyM8/ZfF/iXU9RlHtusQFzQ4/4Lj6cP7TlP7MGoiPl9MtRr8TTDuFkfhW9CePWvrWin/ZUnviat/wDGl%2BChYn/X6lHSnkuXqPZ4aUnb/FLFOXz3PkaX9ur9ub4Qr5/7S3/BMvxLLpkJ/wBJ1/4V%2BJbbXsr3cWQ2zKo6nc3Su7%2BCn/BT/wDYc%2BO18PD/AIa%2BPGmaRriyeVN4c8XBtIvo5e8Xl3QTzHHpGXr36uB%2BNX7LH7OH7RtibH45fBLw14nxHsjudV0qN7iEf9M58CSP6owo%2BrZtQ1o11Ndqkf8A26Fn98WUs78P82XLmOVywsv58JVbXzoYp1Iv/tyvDy6HexyRyxrLE4ZWAKspyCD3FLXyQv8AwRx%2BAugStpvwl/aC%2BN/gHw7Icy%2BEPB/xOuINNc9spKsj45P8dOP/AARV/Ypf/iYzSfECTWh9zxI/xF1H7cv0bzNnXn7lH1nOXp9Wj/4NVn6e5f77CeS%2BG0XzPOqzT2SwMuaP%2BO%2BJUdOvs3LyPf8A9of9oX4Vfst/CbVfjR8ZfEiaboulRZY8NLcyn7lvCmQZJXPCqPqSACR8sfD34O/8FJf2uUuv2p9b/aq1z4FT6sUPgT4cWehwajbafpgyUfUoJyqy3UuQzZwyDg44jj7j4ff8En/g94T%2BKmgfEjx98cvin8SLTwnO934X8L/Enxd/aunaZeHaBcxxtGpLoF%2BUMSAfm5IBH1LWX1XGZjU5sWnThHaEZu7f80pR5dvsxXm5Xdku1Z/w7wZg/ZcOyji8TV/iYith48sKd9KNKhX9qrytetVkm2uWnS5I885fJEeuf8Fn/hLmz1LwL8G/i5ZRf6q803VLnQdRnH/TRZQbdWP%2BzxWR4o8df8FTv2t5Yfghp/7Pn/DOumTKf%2BEw8f3Hi211q7W3PHkaZ9mCgTON370/cHIZWC7vs6itJZTOS5PrNXke65k7rtzcqmvlK9uvU5qXiDh6dT6z/Y2C%2BsR1jUVKcVGXSfsVWlh5tbpTpOClZ8jtyvzT9mD9kf4Gfsh%2BAk8B/BnwkltvYy6prN4RNqGq3B5ee5nI3Sux57KOiqowK9Loor0qNGjh6Sp0oqMVslokfD5lmWYZxjqmNx1WVWtUd5Tm3KUm%2Brb/AAWiSskkkkiiiitTiCiiigAooooAK8Z/Zf8A%2BS3/ALR3/ZZrH/1CvC9ezV4z%2By//AMlv/aO/7LNY/wDqFeF6APZqKKKACiiigAooooAKKKKACiiigAooooAKKKKACiiigAooooAKKKKAOc%2BLmteIPD/w01rVfCvw81fxXqKWLLaeHtBuLKK7vGfCbY3vri3t1IDFj5kqDCnBJwp8D/Zj8RftR/Az/gnH4N8Dw/sV%2BKp/iN4A%2BEOmaVbeDtS8UeH4Y9U1aytIbQW63cOozRRxu6GUSsRiIHIEmIj9P0UAeI/sGeBfG/g74Tatq/xc8AeJ9F8c%2BJ/FM%2Bs%2BObzxU2liXWNSkt7eM3MEemX17DBaRwxQWcETSmVIbJA%2B8/vZPmD9vHw/4j8B/wDBY79j7xpq/wAW/EGuWmsah4zh0/Q9VttOS10RZItHiaO1a2tIp3V/MG77RLO3yLtK/Nu/Q2vzx/4K86kdF/4KQfsO6qDgDx3q1uzegmv/AA9Ef/Qq83N5cmXzl2cf/S6Z9t4dUPrXGOHo/wA8a6%2B/C4v/ACP0Oooor0j4kKKKKACiiigAooooAKKKKACiiigDKu/%2BR20//sF3n/oy2rVqpqmiadrHltexyb4STFLBcPE6Z6gMhDAHjIzg4FVv%2BEP0n/n71X/weXf/AMdoA1KKy/8AhD9J/wCfvVf/AAeXf/x2j/hD9J/5%2B9V/8Hl3/wDHaAOG/a7/AGU/h9%2B2d8D9Q%2BBPxI1/XtHsb65t7iLWvCt%2BlrqVjJFIG3W8zxyCMunmQudpJjmkUYLZHEfFX/gnD8Jfij8Qf%2BE1h%2BJPjTw1p8934VutU8J%2BGbmwh03UZfDt%2Bl7pfmebZyXCIjxojRRTRxug5Td89e4f8IfpP/P3qv8A4PLv/wCO0f8ACH6T/wA/eq/%2BDy7/APjtAHhmr/8ABND4A65Y3VjqPiLxWwuIfGAilj1KBJLWbxF4mh8S3FzEywArNbahbwtbNyERAJBM3z11nwK/ZMt/gTrfibxZZfHnx34i1rxp4tt9f8Wat4kfS3k1KWHTIdOS3KW9jDFBB5VtA22BIm3xAhwrOrej/wDCH6T/AM/eq/8Ag8u//jtH/CH6T/z96r/4PLv/AOO0AeW/tIfsQ/Dj9pnxFJr/AIm8c%2BKtDj1Xwy/hrxnpvhy6tY7fxXoTTGVtMvhPbzP5OXnXdbtBMEup1EgEhFaX7Tf7LjftR/BLxd8BfEvx58beH9G8Z%2Bbb6nceG4dIFzDp8tqLebT4mutPnVYX%2BeUuytcB5G2zKgVF9A/4Q/Sf%2BfvVf/B5d/8Ax2j/AIQ/Sf8An71X/wAHl3/8doA8j%2BL/AOxj4g%2BMsfw6n1r9sf4o6df/AA31YarY6ppVl4ZE2q6gLee2F1drNo0kW8QXM8eyBIYsSZ2blVl7mD4B%2BCV%2BN/iD496jc399q/iHwjY%2BGpLS8lRrWy0%2B2nu5ykCKgZGmku2MrMzb/JgHyiMV0f8Awh%2Bk/wDP3qv/AIPLv/47R/wh%2Bk/8/eq/%2BDy7/wDjtAHgPhX/AIJg/BnQvB0/gfxH8UfHvieztvBNt4T8IPr%2Bo2Pm%2BE9KtriG5torF7eziLyRT2tnIJ7r7RMWs4d7sAwbptH/AGMb3wz4Q1zR/Cf7V3xO0vxB4r8VHXvGHjq0GhNqutz/AGCDT1ikWTS2tIIktrW1RRbW8Dr9nVg%2B5pGf1j/hD9J/5%2B9V/wDB5d//AB2j/hD9J/5%2B9V/8Hl3/APHaAPD/ABr/AME1/gP4n0Cw8E%2BG/Efinwp4bTwFp3gjxF4d8O3tr9n8S%2BHbF5mtdNvpLq3mn8tPtV4vmQSwzMLycNI24Y6rVv2UB4n%2BMenfGHxr%2B0B471pvDuo32o%2BC/Dt7/ZMen%2BG766s7iya6thBYRzzSJbXd1FGLuW4VVnf5ScEejf8ACH6T/wA/eq/%2BDy7/APjtH/CH6T/z96r/AODy7/8AjtAHgPw9/wCCanhHwL8A9Q/Z41D9pb4neIdKutasdd0/VdabQ11PTdbtdSTVE1Zbm10uFrq7a9iimke8FwshTDKVZ1a5N/wTp8Frp6avo/7QPxJ0zxy/iLUdY1H4oafeaWut6hLfWlvZ3UUqtYNZLC1vZ2MYSK1j8v7FA6FXTefcv%2BEP0n/n71X/AMHl3/8AHaP%2BEP0n/n71X/weXf8A8doA4bwn%2ByX8JPA/iv4ceIvC0F9aWnwo8C3PhTwR4fW4VrGxs5lsozLtZDI06Q2EUKSF8LHLMNpMhNbHhP4F%2BF/B3xS8dfGTTdZ1SXXvHy6fFqF1dSxOLC2sbZoba1th5Y2xK8lzcbZPMPnXc5ztZUXof%2BEP0n/n71X/AMHl3/8AHaP%2BEP0n/n71X/weXf8A8doA%2Bd1/4Jm2Vx8BPHv7PGvftnfGLUtI%2BIviNtZ12/n/AOEbhu0llumub2CM2%2BixxNb3jNsnhljkVogY08tXkD934m/ZS8YeJvhXpnwnP7Y/xP0%2B1s7O7stS1HSLHw1bXOrWk4VRBKE0fyoFijBjja0jt5FViS7NtYem/wDCH6T/AM/eq/8Ag8u//jtH/CH6T/z96r/4PLv/AOO0AeV%2BIf2JvCXiKTwr4Zl%2BLnjO28AeDrjQp9H%2BFtpJpy6N5ujywT6ezymyOoOI5rW2lMf2sRu0KhlZSyt7RWX/AMIfpP8Az96r/wCDy7/%2BO0f8IfpP/P3qv/g8u/8A47QAnjn/AJEnWP8AsF3H/otq8u8cf8pC/hf/ANkZ8ef%2BnbwhXqJ8GaG%2BFna%2BmTIJiuNWuZEb2ZWkKsPYgivLvHH/ACkL%2BF//AGRnx5/6dvCFAHs1FFFAGb4z8Y%2BFfh34P1b4geOdftdK0TQtNn1DWNUvZQkNnawxtJLNIx4VERWYnsAa4/4Z/tT/AAM%2BLPgPX/iV4X8YXFppXhSSRPFB8T6He6Jc6Pstkuma6ttRhgnt1%2BzyxzBpEVWjdXUlSDVL9tT4Q%2BKvj5%2ByZ8Q/g74Fe1Gt%2BIPCl5a6PHfSlLea6MZMUUrAErE7hUdsHCsxwcYPmHw4%2BGHxA%2BKviH40eK/j5%2By94h0bQvjBo0OiS%2BDr/XNJluF0%2B00preX7XJZ30kaSXcl1cQx%2BTJJtjt0eVoSwVQD0Xwx%2B218APGngfVfH3hS68Y39toslqNQ0y2%2BGHiBtWSO5GbeddN%2Bw/bZbeQBilwkLRMI5CH%2BR8Ytn/wAFHf2UdT8MaB4r0XXfGmoxeJ9V1nTdFsNL%2BEniW61CW50m4NtqKPYxae1zCIJwYnaSNV3ggEkGvKf2cvgt%2B1T8JLn41/tO2/hD4g6z4p1X4ZaL4e%2BHXg74qeJdAl1i%2BuNGXWLi3WaXSZBp8EMs2qJChMrSfupZZn3S4D/ip%2BxtL8MP2Z/hf8KfA/wZ%2BJ3jrxp4E8G3%2Bn6J42%2BHHxEt/Dk9hrFxDB9p1C8km1KzM63V0GndfLukyr74G3KrAH2HbzpdW8dzErhZEDKJI2RgCM8qwBU%2BxAI7145%2Bwf8A8kQ1z/ss3xH/APU11uu20Hwn8UdV%2BBeleDfHPxNuNN8ZN4ctLfXPFnhe1td6aisKC4uLaO7t5YAGkDlVkhZQG%2B76ed/8E6dJv9B/ZuvtE1XxPfa3c2fxb%2BIcNxrGpxwJc3zr4z1oGaVbeKKEO5G4iONEyTtVRgAA90ooooAKKKKACiiigAorkvjR8d/g5%2Bzt4Kn%2BInxv%2BI%2BleGdHgyDeapchPMbGdkacvK5HREDMewNfMY/bA/bT/bXkGm/sEfBr/hCfBk5w3xk%2BKFgY1uI/%2BemnacfnnyOVkkzGejBDXBisxw2FmqbvKo9oRXNJ/JbLzk4rzPrMi4LzzPsNLGxUaOFi7SxFaSpUYvtzyV5z/wCndKNWo/5VufYWpalp2j2EuqavfwWtrAhee5uZQkcajqzMxAA9zXz38Vv%2BCr/7BPwn1H/hHbj4%2B6f4k1l3MdvofgiCTWbmaT/nmPsiuit7Oy1ymmf8Ek/APxD1CHxL%2B2z%2B0F4/%2BNmpRyCT7B4h1l7DRYpBzuh0%2B0ZVj5/h3sp9PX6H%2BFP7P/wM%2BBWnf2T8GfhB4a8LQFNrroWiw2rSD/baNQzn3YkmufnzrEfDCFJf3m5y%2B6PLFfOTPWeF8M8n0r4jEY%2BoulGMcNRv/wBfKyq15LzjRp36W6fOo/bw/bW%2BMp8v9ln/AIJs%2BK4bKX/V%2BIvi5q0Hh%2BJF7P8AZCXmlU9RsbOOcU7/AIU7/wAFhvi0M/ED9rj4ZfC62l%2B/a/DnwVJq04T%2B75mosNrY43L0PIr63op/2XUq/wC8YipLyTVNfdBJ/wDkwv8AXrBYHTKMnwlC20qkJYqp6ueJnKF/Sgl5HyQP%2BCQnwu8fEXH7VH7SXxd%2BLLOcz6d4m8bzW%2Bmk9wlta%2BX5YPoHNeu/CT9g79jP4FNDP8K/2ZvBulXUGPK1H%2BxIp7tcdP8ASJg8v/j1etUVtRynLMPPnhRjzd2uaX/gUuZ/iefmfiDxvm%2BH%2Br4nMKvsv%2BfcJeyp/wDgqiqNP/yR%2Bdwooor0D44KKx/FXxE%2BH/gWIT%2BN/HOj6MhGQ%2Bq6nFbgj1zIwrz3Xf2%2BP2HfDU/2XW/2wfhlBLnBhPjiwZx9VWUkfjWFTE4aj/EqRj6yS/No5q2MweHdqtWMfWUV%2BcketUV47pf/AAUK/YR1q/j0zTf2xfhpJPM22KP/AITSyXcfQZkAz7V6vomvaH4l02PWfDms2moWcwzDd2VwssTj1DKSD%2BBp0sThq/8ACnGXo0/ybHQxeExN/Y1Iyt/LKL/Jst0VE17ZpdLYtdxCd1LLCZBvIHUgdcVLWx0XQUUUUAFFFfPvxS/4KlfsK/Bb4z3HwH%2BJfx4stN12zCLqEhsp5bOymbO23muIkaOGXCklXYbQOSDxXPiMVhcJFSrzUE3ZNtLXtqcuKxuDwMFPE1IwTdk5NJN9tWj6CornvB3xd%2BFPxD8Mp408A/Ezw/rejyf6vVNJ1iC4t24zjzI2K59s1zHxS/bC/ZW%2BCmlNrPxU/aG8H6LCudqXevwedIR1CRKxkkPsqk1UsTh4U/aSnFR7tq333sVPF4SnS9rOpFR3u5RSt3ve34npFFfIs3/BWzw18T5W079iv9lf4nfGGUsVh1jTdBfStELdMPfXgXy%2BfWPsfSkX49f8FidFH/CZ61%2Bwh8O9W0ublfCGjfEgQ6xaqOu%2B5lBtpT6BB2968/8AtrAy/hc013hCUl96ST%2BXMeX/AKw5bPWjz1F1dOnOcV/28opP/t3mPruivkhP%2BClfx7mH9iQf8Er/AI5/27Fxc28unWyWCt/sXpfZIPcKKX/huz9vjTv%2BJh4i/wCCR3i%2BLT25ik034j6XeXJX/at1UMp9s0/7ay97OT9KdR29fc0H/rDlb2c36Uqrt6/u9D62or5J/wCHrreHv3fxR/4J7/tHeHtv%2Bsux8Oftdov/AG1im5/BaUf8Fof2QWHlJ4Z%2BJxuBxJaD4bX/AJkZ9GGzGfxo/tzKVvWS9VJfg4oP9ZMiXxV1H/EpRf3SgmfWtFfIsv8AwVH8cfE5zpX7I/7Afxb8c3p4%2B3eINLTw7pSMf4Wu7okZHUjaOMc0%2BO//AOC3vjZBd2%2Bg/s6eCbab5ltNQudX1G%2Btwf4WaL9w5Hcjg0v7Zws/4EZ1POEJNfe%2BRfc2L%2B38FU/3eFSr5wpya/8AApckfubPrevGf2X/APkt/wC0d/2Wax/9QrwvXmA%2BB3/BYfVvm1D9ub4a6SW6rpXwz%2B0Bfp5zjP410X/BOvwx8WvBut/Hnw38c/ijb%2BNPFVt8ZoP7U8S2uiR6dHebvCPht48W8ZKx7Imjj4PzeXuPLGunDYupiJ8sqM4K28uVL00k3f5HXhMfWxVRxlh6lNWveail6aTk7/K3mfSdFFFdp6IUUUUAFFFFABRRRQAUUUUAFFFFABRRRQAUUUUAFFFFABRRRQAUVznxd8R/EDwj8N9W8S/CzwTpviPX7O3Emn6Nq%2BvNpltcncu7zLpLe4aJVTc2RDITtwF5rzaP9syxT9gvw7%2B23efD2fzPE3gbRNb07wjbairu99qsVt9k08XDIqndcXUUPnFFAzvKgfLQB7ZX5y/8Fuv9A/al/Zg8W9P7A1bUdQ3f3duveE0z/wCRK%2Bzv2bvjv4o%2BML%2BMfCPxJ%2BH1j4X8X%2BAfE66L4k0nSdffVLIvLYWmoQT211JbWzzRPb3sOS8EbLIsqbSEDN8Y/wDBe3/QLnwZ4s6f2B4B1zUN393b4r8Dpn/yJXk57pk1d9ot/c4v9D9A8KdfEnKYfz1ow/8ABkalP/3Ifo1RRRXrH5%2BFFFFABRRRQAUUUUAFFFFABRRRQAUUUUAFFFFABRRRQAUUUUAFFFFABRRRQAUUUUAFFFFABRRRQAUUUUAFFFFABRRRQAV4z44/5SF/C/8A7Iz48/8ATt4Qr2avGfHH/KQv4X/9kZ8ef%2BnbwhQB7NRRRQAUUUUAFFFFABXjP7B//JENc/7LN8R//U11uvZq8Z/YP/5Ihrn/AGWb4j/%2BprrdAHs1FFFABRRRQAV8m/Gn9vzx58VPiLe/su/8E4vC1j428aWj%2BT4m8dXrE%2BG/CIJILTTLkXM4wcQx55BzvKNHXzv/AMFLf%2BCndv8AGT4mv%2Bwb%2By9qmuanaT3RsvHGp%2BBoftGqa1JyH0bTCoIXOGE9ycoihgA%2BPLl9R%2BCPwg/4Kf6f8N7D4U/Af4SfCH9mjwZax4htZJX8R65GxAzKxQC2mlOMs8nzMcZNfKYnOnj8TPDYPmcY6SlCPM2%2BsYt2hHzm23/LF2cl9r9Y4a4DpRq5pQeNzKSUoYSKcqdBNJwnjWpRSnJNThhHOEuTlniOSEo0p6t5%2Byb%2ByF%2BybLF%2B1b/wUp/aJj%2BInjRDmDxL8RZlNpayDDGLS9KTci4OGCIkjqRuXbzW/wD8Puv%2BCdt2NnhL4m%2BINexwq6N4B1Z8%2Bw32y10HwJ/4Jg/BL4deMk%2BNPxz1/VvjD8SSQ0njT4gSfafszA5AtLQkw2qKeUADMnRXA4r6VACgKoAA6AV14TBZjSg/YqFFPWzTqTfnOXMk3/4F6nxWecScfcYYlYnMsRGCiuWEHHnVOPSMIQdKjSiv5KVNRXWUndv5J/4e0aN4kPl/CP8AYU/aI8Wbv9VeWfw2a3tD9ZppRt/FaD%2B27/wUM8VDZ8Nf%2BCTPiAK/3brxb8S9M0wR/wC00TKzH6A5r62orr%2BpZjP48W/%2B3YQj%2BfMzxP7Ozaf8TGyX%2BCnTj%2Bamz5HHh/8A4LR/Fw7tV%2BIXwZ%2BEVhJ9xdF0m617UoR/t/aCLdj/ALtOH/BOj9qDxniT41/8FWfi/fueX/4Qa2s/Da59hAsmB7V9bUUf2Php/wAac5/4qkrfdFwX4B/YGDnrXqVKj/vVZ2%2B6Lpx/A%2BSv%2BHWPimP5bf8A4Kb/ALTwXv5nxIRzj6m3oP8AwSYsbgeZqf8AwUT/AGp7qccxzSfF0jy27MoFvgY/GvrWij%2BxMr/59/8Ak0//AJYH%2BrmS9aX/AJPU/wDlp8kH/gn3%2B2T4Y/0H4Xf8FZfiRaWLfLLH4s8M2GuXBj7hZptjK3%2B1jIoH/BJnS/Gh%2B0ftC/tufHXx47/62wufHDWOnn1221ug2Z9nr63oo/sTLX8UW12c5tfc52/MP9XcoekoOS7SnUlH/wABdS35nzF4U/4I1/8ABNnwnKbuP9mTT9TuWOZbrX9Yvr95W9WE87Ln6AV6FoX7A37DvhqHydG/Y%2B%2BGUQxgu3gewdyPdmiLH8TXrdFbU8ryyj8FCC/7cj/8izoo5Lk%2BHX7vDU16Qh/8izyvWP2F/wBirXtOl0rVf2R/hpLBKuHUeB7BT9QyxAqfcEGvJtY/4Isf8E%2Bb3U5dS8OfC/WfDa3JzfWfhrxjqNpb3XoHjWYqAPRdor6tooq5Vllf%2BJQg/wDt2P6JBXyXJ8Tb2uGpu39yP5pJ/ifJVx/wRC/4J2QWJfwl8K9c8O6ysgltPFOi%2BN9TXUrWUdJY5JZ3UNz3Qj2qjJ8F/wDgqT%2BycBefAr49aZ8ePC9t/wAyd8T1Wy1xYh/BDqkfyzSHj57jCjn5a%2Bw6KweSZfDXDx9lLvTfL96Xuy/7eizmfDuVw97Cw9hLvSfI/mleMv8At6MvU%2BQbP/gsz%2Bz14QLeE/2mfhf8RPhj43iwD4M1rwhdXc14e72k1tG0dxFnpIdmc8DHNWF/4KvPr3%2BlfDf/AIJ7ftH%2BILD%2BHU4fhz5EMvoYzJMCw/AV9bYBO4gZHQ0ULCZs9Hilbuqcbv1vK33JAsFnjXK8YrLqqMOZ%2Bt58t/8ADFeh8V%2BO/wBqT9uT9sGK2%2BAv7NH7LPxC%2BDTawzL4n%2BJ3xK0ZbUaLYcBzZRq7eddPkqvIK9Rj/WR%2B%2B/s8/sWfs%2B/s3fBT/hRfhDwPa6lpd2xm8Q3Ov26Xdxrt03%2BsubxnUiZ2PqNqjCqAABXq9FaYfLlCs61ebqTtZNpJJdVGK0V/tPVy6uysbYXKY067xGJqOtUasnJRSjHqoxXuq/2nq5aJuySPmfxT/wAEdP8Agmj4w8SSeK9X/ZO0OK6l%2B/Fpd/e2NsPpb208cK/ggrp/hn/wTT/YJ%2BEOrJr3gT9lPwfBexYMN3faYL2SIjoyNcmQo3%2B0uD717jRVQynK4T540IJ9%2BSP%2BRUMkyWnU9pDDU1Le6hC9/wDwEbDDFbxLBBEqIihURFwFA6AAdBTqKK9A9QKKKKACiiigAooooAK8Z/Zf/wCS3/tHf9lmsf8A1CvC9ezV4z%2By/wD8lv8A2jv%2ByzWP/qFeF6APZqKKKACiiigAooooAKKKKACiiigAooooAKKKKACiiigAooooAKKKKAMD4o6J488S/D7VdA%2BGXinSNE128tTFYarr2hS6naW5JAZpLaK5tXlGzcABNHgkHJAKnw7wT%2Bw/8ULT9h3R/wBin4m/HvQtUt/DngrTNF0HxP4d8BzabcW13pjW7abftFPqN0jtE1rA7x5CyOpIManYPpCigDzL9m74D%2BKfg8/jHxd8SviDY%2BKPF/j7xOuteJNW0nQH0uxV4rC00%2BCC2tZLm5eGJLeyhyHnkZpGlfIDhV%2BJ/wDgtR8C/hRoTeI/GHgn4XeHtI13xJ8CfFl74l1nStEgt7vVntvE3giWN7maNA85T58FyxG44xk1%2BktfEv8AwVv0f%2B3JNSstm7Z%2By18TbjH/AFx1HwjLn/xyvPzeHtMpxEe8J/8ApMj7Hw7xP1PxAyiv/LisO/8AyvS/zPsTwFrH/CQ%2BBdF1/du%2B3aTbXG713xK39a1q8/8A2TdY/wCEh/ZY%2BGmv793274f6NcbvXfYwtn9a9ArroT9pQhPuk/vSf6nzua4b6nmuIw/8lSpH/wABqTj/AO2hRRRWpwBRRRQAUUUUAFFFFABRRRQAUUUUAFFFFABRRRQAUUUUAFFFFABRRRQAUUUUAFFFFABRRRQAUUUUAFFFFABRRRQAV4z44/5SF/C//sjPjz/07eEK9mrxnxx/ykL%2BF/8A2Rnx5/6dvCFAHs1FFFAHn/7Vfxquf2c/2b/G3xx0/QU1W88MeHLq%2B0/TJZjFHd3SofIhdwCURpSis4BKqScHGK838G/tJ/tB%2BFvDXxs8J/FPwtofjXx38JdDj1jS4fAej3OnW/iWG40x7q2to7ae4u5IZzcQXFvjzZAwEcgClzGvs3xc%2BFng344fCzxF8G/iHYSXWheKdFudK1aCGZopGt54mjfY64aNwGJV1IKsAQQQK4n4Pfspp8H7vW9ei%2BPfjrxDr3iedpvEviPxB/ZTXeostpFa2u4W9hDFEttHFmJIY41LySvKJmdjQB8yaT/wUz%2BOHiv4a%2BPdJ%2BEvi7wB8SvF3hRfh5qS%2BJvhz8OdZ1bTLXTvEOvPp2oxPpVrfy3l5c6dbWl7cusU6MQYw0UbRypXoV/%2B138e/H%2Bm%2BBPAH7NfxH%2BHHiLxTr3g/wAWeJNY8U6x4E1Sy00rod7Y2UmljS31AXdhdtc6jFDIZ55GtzaXBeEsyxL6b4a/ZBvvC9h4l1ey/ai%2BI03jjxUdPj1T4mXMWhPq4s7Iym2sY4f7LGnx26G4ujtFpuLXUzli7bhzeqf8E3/hvceEdK0fw78a/iJoPiCwk8QHUfHmkajYDWNYj12eO41aK4aaykt1S4mht5P3EMJhNtD5BhCAUAekfDT9o/4d%2BNv2YfC/7VvijW7Dwr4Z8ReDNO8ST3niDUoreDTra7top1E00hVFCiUKWJAzXF/8E6fE/hrxr%2BzdfeMPBviGx1fSNU%2BLfxDu9M1TTLtLi2u4JPGetNHLFKhKyIykMGUkEEEGvYfBfg/w18PPB2k%2BAPBmkxafo%2Bh6ZBp%2Bk2EOdltbQxrHFGuecKiqo%2BleWfsH/wDJENc/7LN8R/8A1NdboA9mooqDUtS07RtOuNY1e/htbS0gea6uriUJHDGoLM7MeFUAEkngAUNpK7E2krsllligiaeeRURFLO7tgKB1JPYV8E/tH/tpfEr9vz4kaj%2BwX/wTb8QKLfyzH8TvjLHuNjodixKvDZupHnTSYZFdSN2GEZxuni8T/b4/br%2BO/wDwUO8W6T%2ByD%2BxLb3lj4O8ZalJptprPzwXPi5I2K3NwON1vpMIV/MlI3TFWQAhZVT9B/wBiX9jf4XfsO/AnTfgx8NbRZJEUT6/rTxBZtWvioElxJ6DjCJkhECrzgk/LPHVc/wAVLC4VuNCOk6i0cr/Yg%2Bia%2BKe9vh3TOmOWY6rk9LNpVHRo1W/YW0q11F8sqsL/AMPDxknCNa3NWqKSoJQpzrGR%2BxR/wTu/Zq/YR8JDSPhB4TE%2Bt3MATWPF2qKsuo354JBfGIo8gERRhU4BIZssfdKKK%2Biw2Gw%2BDoqjQgoxWySsv6/E4qNClh4clNWWr9W3dtttttttuTbk222222FFFFbmoUUUUAFFFFABRRRQAUUUUAFFFFABRRRQAUUUUAFFFFABRRRQAUUUUAFFFFABRRRQAUUUUAFFFFABXjP7L/8AyW/9o7/ss1j/AOoV4Xr2avGf2X/%2BS3/tHf8AZZrH/wBQrwvQB7NRRRQAUUUUAFFFFABRRRQAUUUUAFFFFABRRRQAUUUUAFFFFABRRRQAUV5F%2B318QvGnwo/Yo%2BKfxI%2BHmsyaZrOi%2BBtRurLV4Ywz6aVgbdeKGBUmBd0w3ArmPkEZFeReDvGV98CPDX7UXgzQvjP4sufCfw18NwatoXifXNYuvE%2Bo6Fcy6A13dRJNezSTXflhILxIJJG5vdqlY2jVQD66r5P/AOCg%2Bj/8JD8SZ9BC7je/sn/FmAD1LzeF1/rWR/wTA1L416F8S/HXwq%2BN%2BvX5v7f4f%2BC/EFrozfFDUPGVpGt8uqxyX6alqIWeGa5ks2D2KKbaFbWKSGSX7RIV3/jTrniT4hftw2Pw91b4QeIdEs7f9n74i2lhruq3OnPaa2Jb/wAKqWtltruWdQvGftEUBO8bQ3zYxxMPaYacO8ZL74tfqenkmJ%2Bp51hcR/JVpS/8BqU5f%2B2nff8ABOHWP7c/YE%2BDd7uzs%2BG2jwE/9crSOL/2Svaq%2BbP%2BCP2sf25/wTW%2BE17v3bPD8tvn/rjdzxY/8cr6TrmyqftMroS7wh/6TE9rj/DfU%2BPM2ofy4rEL/wAr1f8AMKKKK7z5IKKKKACiiigAooooAKKKKACiiigAooooAKKKKACiiigAooooAKKKKACiiigAooooAKKKKACiiigAooooAKKKKACvGfHH/KQv4X/9kZ8ef%2BnbwhXs1eM%2BOP8AlIX8L/8AsjPjz/07eEKAPZqKKKACiiigAooooAK8Z/YP/wCSIa5/2Wb4j/8Aqa63Xs1eM/sH/wDJENc/7LN8R/8A1NdboA9mr8/P%2BCtv7WWm%2BLZNb/ZE8NeJrix8J%2BGtHj1v49%2BItNmCyW2nMV%2By6FA/QXd9IY4wOyuCQyeaF%2Bs/20f2i9M/ZP8A2XfGfx7v/LebQtHdtKt5ORc38hEVrFjqQ07xg46Ak9q%2BA/2KP2YLn48/GzRvg14v87VNE%2BGepxeNfj3rl63mP4p%2BIN0pki06VjxJHYhmVkHyh1lVlzIGPy/EOKrVJRy7D/HU39G7Jejs3J/yRa3mj0eH8iw3FOevB46ThgMPTeIxs4u0vYRkoxoQfSriqnLQh1SlUktItr6Y/wCCXv7H%2Bq/DDwrL%2B1B8afDltZfEHxvpNtDZ6LBCVg8IaBGi/Y9FtlbmMJGEMndnADbmUu31pRRXu4HB0cBhY0Key69W%2Brfm3r9yWiSXVxFn2L4kzaeOrxUE7RhCKtClTguWnSpx%2BzTpwUYRXZNu8pSbKKKK6zxAooooAKKKKACiiigAooooAKKKKACiiigAooooAKKKKACiiigAooooAKKKKACiiigAooooAKKKKACiiigArxn9l/8A5Lf%2B0d/2Wax/9QrwvXs1eM/sv/8AJb/2jv8Ass1j/wCoV4XoA9mooooAKKKKACiiigAooooAKKKKACiiigAooooAKKKKACiiigAooooAivbKz1Kzl07UbSK4t7iJo54Jow6SIwwysp4IIJBB4INcj4A/Zy/Z6%2BFGkWegfC34EeDPDVhp7XTWFloHhe0s4bY3IUXBjSGNVQyhEEmAN4Rd2cCuzooA5T4T/Aj4H/AXSrvQvgZ8GvCnguxv7n7TfWfhPw7badFcTbQvmSJbogd9oA3EE4AFcF49jSb/AIKDfDGGVQyv8F/HoYHuDq3hCvaK8Z8cf8pC/hf/ANkZ8ef%2BnbwhQGx5n/wRDkeD/gm94L8OzMTJouq67YyZ65XV7tsfk4r6yr5L/wCCOH%2Bgfs5eNPCXT%2BwPjP4o0/b/AHdt3vx/5Er60ryci/5E2HXaCX3XX6H6B4ra%2BJebz/nxFSf/AIM5Kn/uQKKKK9Y/PwooooAKKKKACiiigAooooAKKKKACiiigAooooAKKKKACiiigAooooAKKKKACiiigAooooAKKKKACiiigAooooAK8Z8cf8pC/hf/ANkZ8ef%2BnbwhXs1eM%2BOP%2BUhfwv8A%2ByM%2BPP8A07eEKAPZqKKKAPHv%2BCg58cj9hz4sH4b/ANp/2x/wgWp/Z/7E3/btn2d/N%2BzeX8/n%2BV5nl7Pn37dvzYrwD9mxf2fPE2iftD/Cf9jz4v8AhfwZ8NPFOkra/DvWvBN5bpp1hqv9gqmqX2lpCyxutv5lhLMYDtW4EpciUymvuCigD8uvgv8AET9lH4R/Dv42/EP4%2BeA/gfffs%2BaT4Z8EWljoXwx1CLWfCmv%2BMFuNUS4EUt1Db21xfziTRhNvBji/0fzp2MU0qyePvhj%2Bzdpv7Jfwi%2BJnjv8AaR/ZkvovDP8AwnOr%2BGvBHje3tfFHhfUJL%2B9F1/YGkMt5Du/s4NFYRSQpMVAUJbAFYR%2BoNFAHGeGfF3xB8SfATR/HXhL4WWmneJNR8M2d7beDfEmqyafFY3EsKObKeeK2maHyyxQlYHwU%2B76eff8ABOm48S3f7N19deMtJsbDV5Pi38Q21Ox0zUXu7a3nPjPWvMjineGFpkDZAdooywAJRc4HuleL/sKSxwfAzXp5nConxk%2BJDOxPAA8a63k0AfIn/Bbf9pAL8RvCvwO0b/S7XwDp58eeI7JE8wXepeZ9j0KyZB/rN15KJJITktEN2MLmvr79gT9meL9lD9lrw18Lr9PM8QTW/wDafjK/d98t7rFyBJdSu55kIc%2BWGPJSNPSvzl/Ymsbr/goj%2B3/a/F7xBEbjTL/xRcfEnxPFJ8wtrPT5ZNN8OaY%2BeFkjZZp2XpJG6nHy1%2Bv9fI8Pr%2B0cdXzSW0nyw/wr/gcq%2BbPqY3ybgDC4fatmcvr1XuqCUqOApvy9lGtirP7WIhK17MKKKK%2BuPlgooooAKKKKACiiigAooooAKKKKACiiigAooooAKKKKACiiigAooooAKKKKACiiigAooooAKKKKACiiigAooooAK8Z/Zf8A%2BS3/ALR3/ZZrH/1CvC9ezV4z%2By//AMlv/aO/7LNY/wDqFeF6APZqKKKACiiigAooooAKKKKACiiigAooooAKKKKACiiigAooooAKKKKAM3xn4x8K/Dvwfq3xA8c6/a6VomhabPqGsapeyhIbO1hjaSWaRjwqIisxPYA1zXwX/aL%2BEnx/8Pan4l%2BG2u3zQ6LffY9atNe8P32j3unzeRHcBZ7TUIYbiHdDNFKpeMB45FdSVINY/wC2p8IfFXx8/ZM%2BIfwd8CvajW/EHhS8tdHjvpSlvNdGMmKKVgCVidwqO2DhWY4OMHyLw58Ifjl8ah8eNX8b/BzXvh3J8afDA8P6Pbanqul3U2iJbaQ9st7eGxvJk3yz3cwjWBpiI7RGkMRcIAD3L4H/ALR/wp/aM0261z4SXut3unWywyRapqPhDU9NtL%2BGUMYp7Ke8t4o7%2BBwhZZrZpYypUhsOpPJ%2BOP8AlIX8L/8AsjPjz/07eEK4T/gnf8K/2j/hjqGr6f8AE/w1418PeF4fBfh%2BwtdE8eeOoNenm8QW4u11O/snhurkWthLG1iscG6FQYXK2tsM%2BZr6j4S17w5/wU98E6zrHxh8Qa5b6z8G/HMum%2BHtVt9NS10ZI9W8Ih1tWtrSKd1Yuu43Es5G1dpXJyAcr/wSn/4ll9%2B0h4Tbj7B%2B094okhX%2B7FMLZ0H86%2BtK%2BS/%2BCeP/ABKf2qf2rfCfTyfixbaht/6%2BrFXz%2BO2vrSvJyTTLIR7Oa%2B6pUP0DxR97jfEVf%2BfkMNP/AMDwmEf6BRRRXrH5%2BFFFFABRRRQAUUUUAFFFFABRRRQAUUUUAFFFFABRRRQAUUUUAFFFFABRRRQAUUUUAFFFFABRRRQAUUUUAFFFFABXjPjj/lIX8L/%2ByM%2BPP/Tt4Qr2avGfHH/KQv4X/wDZGfHn/p28IUAezUUUUAFFc78XPil4N%2BB/wt8RfGP4h372uheFtFudU1aeKFpZFt4ImkfYi5aRyFIVFBZmIABJFcH4I/bN%2BHuvfDzx/wCPviL4M8S/D6X4XWsl3460Dxhb2pvdMtFsVv1uf9AuLmGaJ7cllaKVzuSSNgskboAD16ivAIv%2BChXgO18L6xfeLfgr4/0DxPpcmgrafD3VLbTW1nVV1u5ktdKe3EF9JbBbieC5jzNPF5RtZ2m8pIy1VNa/4KTfDLTfB%2Bm67o/wY%2BIeta3cxeIZ9b8E6Tp%2Bntq3h%2BDQriO21aa7WS9SBlgmmgQLbzTvcefG1us6tuoA%2Biq%2BZvg74oHgf9gv4seNTLs/sfxn8W73fn7vleKtfkz/AOO19F%2BGPEug%2BNPDWneMfC2qRX2l6tYw3mm3sBylxBKgeORT6MrAj2NfF/xQ8T/8Ij/wSF%2BP2q%2BZt83xV8VbLP8A18%2BMtbtsfj5uK5cdV9jgatT%2BWMn90ZHFmVb6vl1ar/LCb%2B6MmZf/AAb1/APTfh1%2BxEvxvudkusfEfVZZ559uGjsrGSSyt4D6gNFPID/029q%2B8q%2Be/wDglF4c/wCEW/4JzfCHTPL2%2Bb4Phu8Y/wCfh3uM/j5ua%2BhK48hw8MLkuHpxVvci/m0m/vbPfzaeIljfZ1nd0o06S8o0aVKlGK7KKpuK9PNhRRRXrHmhRRRQAUUUUAFFFFABRRRQAUUUUAFFFFABRRRQAUUUUAFFFFABRRRQAUUUUAFFFFABRRRQAUUUUAFFFFABRRRQAV4z%2By//AMlv/aO/7LNY/wDqFeF69mrxn9l//kt/7R3/AGWax/8AUK8L0AezUUUUAFFFFABRRRQAUUUUAFFFFABRRRQAUUUUAFFFFABRRRQAUUUUAFFFFABXx1%2B2R8T5Phj/AMFbP2REnn8qy8TeGfiLoN6%2BcZMy%2BH5YV98zwQivsWvzm/4LmLfeF/jP8Dv2gdNEhl%2BE2m614uKw5LMkPiHwhbOMDqNt0cj0BzXn5rVlh8vqVo/ZtL5KUW//ACXmPLzuvPC5XVrx%2BwlL5RlFy/8AJVI9l/Y%2B/wCJR/wU7/a38PHhJ5PBOoW6%2Bu/SZRIf%2B%2BgK%2BtK%2BSPgXdW9n/wAFgPjRDaTK8XiD4WeGtTidDkSLEXgDA9xg9a%2Bt6xybTDTj2qVf/S2/1P1TxI9/OsJW/wCfmCwMv/LWnD86YUUUV6x%2BfhRRRQAUUUUAFFFFABRRRQAUUUUAFFFFABRRRQAUUUUAFFFFABRRRQAUUUUAFFFFABRRRQAUUUUAFFFFABRRRQAV4z44/wCUhfwv/wCyM%2BPP/Tt4Qr2avGfHH/KQv4X/APZGfHn/AKdvCFAHs1FFFAHn/wC1X8Fbr9oz9m7xt8DtO16PSrzxP4curHTtTmhMsdpdMhMEzoCC6LKEZkBBZQRkZzXnvwj%2BBnx6l8UfEj4i/tAeAfh7c3vxPs4bDVvDWl%2BJ7u%2B060sLOw%2Bz29u0k%2BnQteC4lnvGmLRxCKOSNFWcqzH6CooA%2BHPBv/BM74qeGZNf%2BNGgaP4W8P8Ajr%2B2PBlx4W8KTfErW/EWmLa%2BHru8nW3uNX1G2F2v2iPUryBRHbGK0VLcpFLtdX1E/Yi/a38G3LfGf4d33w8uPiF4osvG9n4w0rVtdvotJ05dfvrK6t5rS4SyeW7axWwgiMckNuLvzJHL23yqPs%2BigDh/BfwH8L%2BEv2d9B/ZtOsaw2kaF4UsdBjvtN1m5029eG2gjhV0ubOWOaByIwd0bqRk818Dftgzaf8Lv%2BCGvxN8HaPeXzxSfGPxbpNlNqeqT3ty6L8RdRJ824uHeadzHE26SR2diSWYkk1%2BmNfk1/wAFS/EE2n/8Eph4Zs8tPrv7WHje2ESnl1XxZ4nl/wDQkQfiK8XiOr7HIMVL%2B5Jffp%2BpyY7BvMcM8Ev%2BXzhS/wDBtSlS/wDcp%2Bjv7HPhz/hEP2RvhZ4UKbTpvw60S2YH1SwhU598g16RVHwxokPhrw1p3hy3x5en2MNsmOmEQKP5Ver1aFP2NCFP%2BVJfckv0PZzTFLHZniMSv%2BXlSc//AAKc5f8AtwUUUVqcIUUUUAFFFFABRRRQAUUUUAFFFFABRRRQAUUUUAFFFFABRRRQAUUUUAFFFFABRRRQAUUUUAFFFFABRRRQAUUUUAFeM/sv/wDJb/2jv%2ByzWP8A6hXhevZq8Z/Zf/5Lf%2B0d/wBlmsf/AFCvC9AHs1FFFABRRRQAUUUUAFFFFABRRRQAUUUUAFFFFABRRRQAUUUUAFFFFAHHftB/GbQv2d/gd4s%2BOfiTTLq%2Bs/CmgXOpSafY7fPvGijLJbxbiF8yRgsa7iBucZIGTXNfs9/tDeL/AIkav40%2BH/xq%2BHGl%2BDPF3gS6tP7asNK8Ttq2nyWd1arcW91DdyWtqzKf30Tq8KFJLaTG5Njt0v7QnwZ0P9on4G%2BLPgZ4k1S6sLPxXoFzpsmoWO3z7NpYyqXEe4FfMjYrIu4EbkGQRkV5p4L/AGNPFOo2XxCg/aT%2BJ%2Bi%2BN2%2BLWnvpfxCj0bwvd6HFcaYunrZW9nZ%2BXqUstmoVrqSSQyyyPJdsUaAIigA0P2OP2x4v2vb34gz6b8Np9B0rwl4pt9P8P6hdaj5r6/p1xptpf22peV5afZkmiuldIizt5ZRmKMzRJ5v/AMFC/hV/wu/4pwfCiK28241v9mX4mQWKbc/6V9v8JNAcd8Sqh/CvR/2Vf2H/AAR%2ByZ8RviT468GeO/Fmqw/EHVtPu47DxN4x1jVzpsdrp1vZiPzdRvbkzOzQs/m4Rwjxw8pDHjFv/hH8KPA3/BTbwX488E/DHw9o%2BueKPg944l8S61pWiwW93qzx6t4S8trqaNA85Xe%2BC5YjccdTWValGvRlSltJNP0aa/UxxFCGJw86M9pJxfo00/zPl/8AZU%2BLkvh745fsuftZ6nd%2Bbovxm%2BDifDXX7x%2BVt9c0990Dk/3p5opIgvPIav0nr8wvBXwO1zxr/wAE9vjz%2By54O3weLP2fvjRq2r/DswrmW3%2ByzjUbN4h2aVHuo1HrJX6BfsxfHHRP2lf2e/B3x48P7Fg8UaBb3skMbZFvOy4mhz6xyiSM%2B6GvnOHas4J0Z7yipr1X7uovlOmn/wBvH2lWtPiLwyyTO3rVw8Hga/8Aio806En/AIqTqwv1dLud3RRRX1B8iFFFFABRRRQAUUUUAFFFFABRRRQAUUUUAFFFFABRRRQAUUUUAFFFFABRRRQAUUUUAFFFFABRRRQAUUUUAFFFFABXjPjj/lIX8L/%2ByM%2BPP/Tt4Qr2avGfHH/KQv4X/wDZGfHn/p28IUAezUUUUAFFef8A7Vfxquf2c/2b/G3xx0/QU1W88MeHLq%2B0/TJZjFHd3SofIhdwCURpSis4BKqScHGK8/8Aht%2B0P8d9G0/4xeA/jHZ%2BEvEHjP4WaXBqlle%2BGraXRNM1m2udOe5t0dLy6uTZuJ4LiF3ad02IkvybjGgB9AUV8e/sfftg/tPftYeG/Gek2vjjwPoOq6Bonh3WLPxF4g%2BEGt6VFFHfxXUlxby6Pf6pDdSwxi3TytTSdbW4MkqxqxtpK5S1/b1/bFX4CfBz4xeMtW8H%2BHdH8f6D4k8Q%2BI/Hlt8CvEeuaZpmkw3Ns%2BiSzWllqfmaaLjT7j7RNNc3DRRtG4yoUmgD7tr8g/8AgoDL/wAJL8PPgR8Hs7v%2BEj/a4%2BI7eV/e2eOdQg6f9vePxr9Yte%2BIvgHwf4El%2BJnjHx7oumeHbaxW7uvEV/qUVvYRwMARM07vsWM5BDFscjmvyH8deLPDfxp/bN/ZU0fwb4isdZ0dvj14/wDEWm6hpl2lxbXdtJ8RNSmSaORCVkjdLMEMpIYcgkV89xS75NKn/PKnH/wKpBflc6cujz53gI/9RFB/KE3Vf4UT9kqKKK%2BhOYKKKKACiiigAooooAKKKKACiiigAooooAKKKKACiiigAooooAKKKKACiiigAooooAKKKKACiiigAooooAKKKKACiiigArxn9l//AJLf%2B0d/2Wax/wDUK8L17NXjP7L/APyW/wDaO/7LNY/%2BoV4XoA9mooooAKKKKACiiigAooooAKKKKACiiigAooooAKKKKACiiigAooooAKKKKACvGfHH/KQv4X/9kZ8ef%2BnbwhXs1eM%2BOP8AlIX8L/8AsjPjz/07eEKAPHfCPiTSP2Xf%2BCuPjvwx47kbStD/AGgPDWj33hO%2BuUK2l5rWnxtazWaP91Z3jYPtOCxZByXQGT/gnBqNl%2Bzl8dfjD/wTw1i%2BitovDHid/E/w4s5ZApm0DUv35hgX%2BJbeYsrkD70pr3j9rX9lb4b/ALYfwavvhD8RY5bcu63Wh65ZfLd6NqEeTDeW78FXQ%2BhG5SynhjXxLeKnx912x/ZT/bF%2BI0Pwx/aq%2BGMy/wDCrfi1bMIF8UW/PkXMMjYW4SXlZrUnJYuVUEyxr8lioV8sxkJRSa5pShd2T59Z0m3opN%2B/Tb0k1yuz39XgfOsqyOrjeG88qeywOYtOnWtzKhiI1HUpynHdxUpVIvltKVKrNRUp01Cf6TUV8wfsoft9XeveM2/ZP/bO0uz8B/GnSisJsJpPL0/xTH0S90yVsLIsmM%2BTneDkAHawT6fr6PCYzD42l7Sk/JrZp9VJbprqn%2BKs3vxDw5m3DGYfVMfCzaUoST5qdSD%2BGpSmvdqU5LWMotro1GSlGJRRRXUeGFFFFABRRRQAUUUUAFFFFABRRRQAUUUUAFFFFABRRRQAUUUUAFFFFABRRRQAUUUUAFFFFABRRRQAUUUUAFeM%2BOP%2BUhfwv/7Iz48/9O3hCvZq8Z8cf8pC/hf/ANkZ8ef%2BnbwhQB7NRRRQBzvxc%2BFng344fCzxF8G/iHYSXWheKdFudK1aCGZopGt54mjfY64aNwGJV1IKsAQQQK808MfsN%2BC9O8J%2BNPCfj/4teNPHC/EixurL4g33iiXThca9ay2CafHBIbKyt1gjht0YRrbLDlppZJPMdy1e20UAeCaZ%2BwF4TTwJ8Q/Cfi/4%2BfEfxJqnxJ8DW/g7WPGOr3%2BnR6rZaLbx3iQW1q1pYwwRlDqF4/nNE8zPOWZ22Jt6740/s1N8WfBNl8M/DPxw8ZfD/wAOW%2BjzaTfaN4Gj0qOPULGSNIvId7yxuZIAkasiNbPC6iRjuyEK%2Bm0UAZ/hPwtoHgbwrpngnwppqWel6Pp8NjptnGxKwW8SCOOMFiSQqqBySeK/IP4NS/8ACwP%2BC4fw38N/ei8OeKviQ8q9kdPFnjG6BPuS8Q/Kv2Mr8b/%2BCZ9tceMf%2BC8XxTupU3R%2BF/FXxDMB/uq2v3aH6fNeMPxr5ziO8o4Wl/NXp/g5S/Q78ljzcQYZ/wAixFT/AMF4PFNfjNfOx%2ByFFFFfRnAFFFFABRRRQAUUUUAFFFFABRRRQAUUUUAFFFFABRRRQAUUUUAFFFFABRRRQAUUUUAFFFFABRRRQAUUUUAFFFFABRRRQAV4z%2By//wAlv/aO/wCyzWP/AKhXhevZq8Z/Zf8A%2BS3/ALR3/ZZrH/1CvC9AHs1FFFABRRRQAUUUUAFFFFABRRRQAUUUUAFFFFABRRRQAUUUUAFFFFAHkX7fXxC8afCj9ij4p/Ej4eazJpms6L4G1G6stXhjDPppWBt14oYFSYF3TDcCuY%2BQRkVxX7L9g2hfET45fs72fxV8V6r4L8OSaR/ZWt6940vNT1DSZr7SVlu7dNSu5ZLj5F8i7XfIxiN78pWPy1X6NvbKz1Kzl07UbSK4t7iJo54Jow6SIwwysp4IIJBB4INcR4Z/ZZ/Zi8F%2BER8P/B37OXgPSdBEF7ANE0zwhZQWYivEEd4nkpEE2zoqrKMYkVQGyBQB5X/wT8TUtavfHnxC8A%2BLfF%2BpfCHWL6xj%2BGEvjfxZf61dagIIpEvdVt7nUZprkWFzI0IgV5Cri2e4jAjuULWb/wAaeJPEP/BTbwX4d1b4R%2BIdCs9J%2BD3jhLDXtVudOe01oNq3hLL2y213LOgTaM/aIoD842hvmx6n8Hf2cP2eP2eLa9svgB8BfBfgaHUvK/tGLwd4WtNMW68oMI/MFtGgfYHcLuzt3NjGTXG%2BOP8AlIX8L/8AsjPjz/07eEKAPZq4H9of9l/4DftWeBn%2BHvx7%2BG2n%2BIdPO42zXMZW4s5CMeZBMuJIH/2kYZHByMiu%2BorOrSpV6bp1IqUXumrp/JmVajRxFJ0qsVKL0aaTTXmmfnf%2B0T/wT6/ao8E%2BA3%2BHNtpWm/tK/CyxYyaR4X8bal9g8Y%2BHBgY/s3VgAHKgDG/qAqCMjIPl3wJ/4KpfGH9kfX/%2BFUePrzxB498P6e6xyeDfiRbf2P4/0CPoI1abFvrC9kCP58nXbEuFr9Ya474y/s9/A39ofw8fCvxx%2BFGg%2BKbEAiKPWdOSZoCerRORvib/AGkKn3r5vE8PVqdX22X1nTmuj95W7X35eylzpdHE9jIuIc%2B4cwP9m0pQxeAbb%2BqYrnnTi3vKhVjJYjCzf81KcovTnpVErHM/sx/ttfs0/teaM2ofBL4l2l7fW6n%2B0vDt7/o2qaewOGWa1kxIuGyu4AoSDhjXq9fnt8Zf%2BDej4D6vr0fjj9mH45%2BMPhprVm6vpYF02oW9iVzsELM8dzEBk8%2Be2Ow4rR8Fr/wXO/ZCgj0nxB4f8FftFeGbPJEkWtjT9cECjp506xhn4/iS4cnABNa0M0zbC%2B5mOGf%2BOl78X5uK99fJSMM0x/D0/wB7hKNeg3vTmo14ryhXo8rku3tcPTntdt3Z98UV8Jxf8F6/gP4B1WHwh%2B1V%2Bzh8Vfhbr5XNxZa54cEkK%2BpR9ySyL/tCEAjpXqPgv/gsj/wTV8cqg079qfSLKRvvRa3p95YFD6E3EKL%2BIJHvXZSz/Jaz5Y4iKfZvlfzUuVniVs0y/DSjHEVPZuW3tFKnfzj7SFPmXnFyXmfTdFebeF/2yf2RfGyofCH7Unw71Mv91LLxpYyN9Cqy5B9iK7zSPEnh3xBEJ9B1%2ByvkIyHtLpJQR9VJr0qdehWX7ual6NP8mzppYnDV1elOMvSSf5Nl2iiitTYKKKKACiiigAooooAKKKKACiob/ULDSrR7/U76G2gjGZJp5QiKPcngV5R8Q/2%2B/wBiX4VeYnjz9qzwFZTRZ8yzTxNbzXA/7YxM0n/jtY1sRh8PG9WaivNpfm0YV8VhcLHmrVIwX96SX5tHrtFfJVz/AMFmv2UfEFy9j8A/BXxQ%2BLE6sU8v4d/Dq8uhuHUbpxCCPcZH1o/4e16Nb/8AIZ/4J8ftS6fj7zXfwgYAfitwa4P7cyjpWT80pNfeoNfieX/rJkXTEJrulKS%2B%2BMJR/E%2BtaK%2BSZP8Agst%2BzZpaGfxj8HPjN4ehQZnn1r4YXcaQqOrMULYAHJr2z4Cftjfsu/tP6cNQ%2BA/xy8PeI28rzJLG1vgl5CuM5ktpNs0Y/wB5BW1DNMtxNT2dKrFy7Xs/udn9yZ0YbOspxlX2dGvFy7Xs/kmot/JM9Korwj41/wDBTX9hD9n6%2BOjfEj9pXw%2BNRWTy30rRHk1S6jf%2B68VmsrRn/fC1wJ/4Lef8E8FHnv8AEvxCtspHnXreAtWEUK93Y/Z8hR34NRVzjKaM3CeIgmunMv8ANkVs/wAjw9R06mKpqS3XPG69bN2PrWiuA%2BCn7VX7Nv7R1iL74GfG/wANeJ/k3vbaXqsb3MQ/6aQEiWP6OoNd/XdSq0q0FOnJST6ppr702ejRr0cRTVSlJSi%2Bqaa%2B9NoKKKK0NQoqvf6vpWlRGfVNTt7ZFGWe4mVAPxJrldQ/aL/Z80m8Gnar8dvBttcMcLBceKLRHJ/3TJmonVpU/ikl6tL82jOdajS%2BOSXq0vzaOyorG0f4j/DzxEofw/480a%2BB6Gz1SGUH/vljWwjpIodGDA9CDkGnGUZK8XcqM4TV4tP01Frxnxx/ykL%2BF/8A2Rnx5/6dvCFezV4z44/5SF/C/wD7Iz48/wDTt4Qqij2aiiigAorx7/goOfHI/Yc%2BLB%2BG/wDaf9sf8IFqf2f%2BxN/27Z9nfzfs3l/P5/leZ5ez59%2B3b82K%2Bc/gf40/Z78NeA/2ltO/Y%2BvdPm%2BGdz4de4%2BHeh/CfULeEajqkHh8Nqq6CIcxmUBrAM0KsqXbyFx5plyAfdtFfkf8FfhJ8APGXwS%2BJXw11z9pX9n3T/BiQfCvWLvx1pfhOGD4fS6jY6ldXculahp8uoLFcanL9jjW8mN1E88V5Yq8EBiVZew8deNv2cvHfwu%2BHeqftS/D3wF4b%2BE9n8OfiXpvgyDQtKWx8Nah4htdWsrfTdS0eBv9Vd3dnHeXWniMvNie4NvJKSJXAP1Ar8jv%2BCNFna/8Pd/2r/H2oSBIdM8X%2BNrMyMCdpl8Xy4AA6k/Z8ADk9K/Sv4SXfx3sf2UvCF3r2g2WqfEiPwNph1fT/EOrSWEM%2Bq/ZYvtKz3EVvcNF%2B98zLLDIc/w1%2BeX/AARB0jxDqX7U37X/AIz8ZaLZWGrRfHS5tb%2B106%2Be7t4bmTxdrMs8cU7xRNNGrKoWRooywAYohO0eHm1P2mMwS7Vb/dTqM%2Bh4doOU8bibaUsLX%2B%2Bp7Civ/S2j9Pv%2BEw0n/n01T/wR3f8A8apf%2BEw0n/n01X/wR3f/AMar528ff8Fkf%2BCb3wv8d618NPHP7Rv2HW/DurXOmaxZf8IhrEv2e6t5Wilj3x2jI%2B10YblJU4yCRzWT/wAPy/8Aglp/0dD/AOWTrf8A8hV0SzzJYScZYmmmv78f8z26Phb4mYijGrSyTFyjJJprD1Wmmk001CzTTTT6pp9T6f8A%2BEw0n/n01X/wR3f/AMao/wCEw0n/AJ9NV/8ABHd//Gq%2BdvAP/BZH/gm98UPHei/DTwN%2B0b9u1vxFq1tpmj2X/CIaxF9ouriVYoo98loqJud1G5iFGckgc1337f3xg%2BJn7Pv7E3xT%2BOPwbtNNm8T%2BEvA%2Boaro66vMyW6ywQtJvfbHJu2qGYJtw7KELIGLr14XG4PGxcsPUjNLfladvWx8/nnDPEnDFaFLOMFVw0ppuKq0503JJ2bSmk2k9G110PS/%2BEw0n/n01X/wR3f/AMao/wCEw0n/AJ9NV/8ABHd//Gq%2Be9T/AG3Pjb4V%2BIfjnwX8QvgV4E0LT/hl8PLTxN458T3fxUujY273cWqNb21tjRxLOofT4xLK6RFEuC0cczoIpOZ%2BG3/BSrV/irqnhnQ9W%2BE%2Br%2BF9bi%2BNEvg7xDpCy3ltDIh8H6hr8M%2B3WNHtL14XSGJNv2e0kEqBllkhUrcdJ4Z9Vf8ACYaT/wA%2Bmq/%2BCO7/APjVH/CYaT/z6ar/AOCO7/8AjVfPP7JX7fPxJ/aH0/RLjxz%2BzB/wj934s%2BE2i/EHwnpfh7xrDqs91p18wR4JzcQWUVvcQl4mKh5EdHyHDKY66n9qvxZ8VdS%2BLXwv/Z4%2BFvxX1DwI3ja61i61bxXo2m2N1exW9hZCRbaBb%2B3uLdWkmmhZmeJz5UEqrtZhIgB67/wmGk/8%2Bmq/%2BCO7/wDjVH/CYaT/AM%2Bmq/8Agju//jVfOUH7Qn7SPxP/AOCZHhD4/wDw%2BtLn/hOdd0jw7N4hu/Cuhre3FvaS39pFrGoadZSLIJ5UszeXNvAVl3Msa7JziN/JfDX7Vf7U/wARfDj%2BH7Dxt8XbHwx4W%2BKOu%2BG9d%2BIuh/CS3u/Fl5HHpljfaSbnSTpkiW0crX0sUsgsYiptYRILYyyFQD7n/wCEw0n/AJ9NV/8ABHd//GqP%2BEw0n/n01X/wR3f/AMar89tZ/wCCg37YEnwY8BftY6/ZeMdG03Vvhd4E8Q6V4a8K%2BBIb/Q/Ed9f3ONct9Q1BredtP8uF4TbAXNtnzUZDeMTCvQJ%2B29%2B094K/aP1jxb4s1rXtR%2BH6eLvHuk6XE%2BnaOPDWsf2JYX9xDpulywRf2smqxtpt0Ll7z/RC1lfrCXKwigD7o/4TDSf%2BfTVP/BHd/wDxqr9hf2mp2iX1jOJIpBlWAI74IweQQcgg8givmT/gnN%2B0B49%2BLFlcad8bPHXxBuvF%2Bq%2BDNE8VDRvGfhzRNPsIrG9Fxi50kaYhmFo8qPH5N/LJeRCGLzApky/0Z4P/AOQTN/2FL7/0rloA1aKKKACiiigAooooAKKKKACiiigAooooAKKKKACiiigAooooAKKKKACiiigArxn9l/8A5Lf%2B0d/2Wax/9QrwvXs1eM/sv/8AJb/2jv8Ass1j/wCoV4XoA9mooooAKKKKACiiigAooooAKKKKACiiigAooooAKKKKACiiigAooooAKKzfGfjHwr8O/B%2BrfEDxzr9rpWiaFps%2Boaxql7KEhs7WGNpJZpGPCoiKzE9gDXK/CT9pj4MfG3wjrHjbwN4nuorLw7ctb%2BIYvEehXui3WluLeO5/0m11GGCeAGCWKZWdFVo5FdSVINAHeV4z44/5SF/C/wD7Iz48/wDTt4QrpvgJ%2B1F8Ev2mrC/1D4O%2BJ729GmC3e8t9V8O3%2BlXCw3EfmW9wsF9BDJJbzIGaK4VTFKEbY7bWxzPjj/lIX8L/APsjPjz/ANO3hCgD2aiiigAooooAKKKKAMjxv8PvAfxN0CXwp8SPBOkeINLn/wBdput6dFdQP9Y5VZT%2BVfK3xS/4Ig/sPeNp7jVfhzpPiP4b6hctvlm8D69JDBI3bdbTiWHZ2KKigjivsCiuLF5bgMev9opRl5ta/J6Nfee/k/FXEeQQlTy/FTpwl8UL81OX%2BKlNVKUv%2B3qT9T82fE//AARi%2BOfgcu/gCf4BfE2zU5j074jfCeLRrnZ3U3ekBXlf/bfGSeeK4bV/2K/APgaQt%2B0N/wAEItWuoojl9d%2BDnxQu9REvq0dkl1HKnsGPNfq/RXjVOFMtbvS93yahNfdOLf8A5Md1XP8AhvNX/wALfD2AxLe8o0Fhqj8%2BfCunFvzdF97Nn5NaZpv/AAQ30q8j0f4jaX8aPhHfyNtTTvGU/iKxeNv7pKPMi492x71698P/ANkT/gkX8UBGnw0/bf1q7lkx5dnZ/HWRZx6fuXlEg/Fa/QDUtM03WLKTTdX0%2BC6tpVxLb3MQdHHoVYEGvI/H/wDwTz/YZ%2BJ5kk8afsm%2BAriaXPmXdt4bgtp2%2BssCo5/76rL/AFfnS%2BGnRn6wlB/%2BSTa/Aw/sXwNxvx5XicK/%2BnVWjXiv%2B3asKE7f9vt%2BZ5Vbf8Edv2ZLu3S6sPjV8YnikXdHJD8UrtlYeoI4Ip//AA5v/Z07fGv40/8Ah0Lv/Cn3P/BFn9h/TJ3vPhVp/jbwBcO277R4L%2BIGo2zK3qBLLIo/AYpg/wCCanxx8Jf8kj/4KjfHLTwv%2BqTxZqdtrqJ6DE0aZHtR/ZsYfHl8X/hqL8pcrD/iHnhBiv8Adsz9n5V8HXj98qGIrR/Bh/w54%2BB8POmftI/Hiy9Da/FS5GPzU0f8OltIs%2BfDn/BQb9qLS8fdS0%2BLjFPxVrc5H40v/DOf/BW7wh/yLP8AwUX8H%2BK1X7kfiz4TW9nkejNZuSfr1o/tH/gt14V/4%2B/Dn7OHiuFen2G81mxuH%2BvmZjB%2BlH1fLY/HgKkfRN/%2BkVhf8Qg4Yrf7pmmAn6169B/dVpQ/NCf8OxvivZf8gT/gqJ%2B0LHjp9u8UQXP57oRmj/h3J%2B0mn%2Bp/4KqfGUf74s2/9kpf%2BGnP%2BCsXhvjX/wDgmR4f19V%2B/L4d%2BMljb8eoW5jJP0o/4eD/ALW%2Bi/8AI7f8EovihBj7/wDYWt2Gp4%2Bnllc0WyFfFCrH1WIX6tB/xBLHz/3d4ep/17zGg/weMg/vSE/4ds/H26/5Cn/BU744vnr9kvrWD%2BUZxR/w6dt9W%2Bbxx/wUL/aa1nP37eT4pGGA/wDbOOAY/Ol/4etXOmfL4s/4Jx/tPafj700fwuFxCv8AwNLj%2BlH/AA%2BK/Z9tP%2BRj%2BBHxt0fH3v7T%2BF12u367S1F%2BFvtS/wDAnW/9uaD/AIgTxVL4crnU/wANaFT/ANIx0/y%2BRJY/8EUv2AJ7tNS%2BIHgHxH40vEOVvPFvjnUrlyfUhZ0U/iuK9W%2BHn7Bf7FXwq8uTwD%2Byr4CsJosbLz/hGLaW4H/baRGk/wDHq8m/4fV/sMW//IY1bxtp%2BOv234eamuP%2B%2BYTR/wAPw/8AgmdDxqfx%2BvrI9xdeBtZGPytDW1HEcI4d80JUYvv7t/vav%2BJvQ8DeNcNLmocO1r944Zyf3pTf4n1hbWttZW6WlnbpFFGoWOKJAqqB0AA4Ap9fJw/4Lj/8Etj0/aiX/wAIvW//AJCpR/wXE/4Jbnp%2B1Gn4%2BDda/wDkOvQ/t3I/%2Bgqn/wCBx/zPT/4hR4oL/mR4z/wmrf8AyB9YV4X8eP8Agmj%2Bwz%2B0nqR174rfs6aHPqbSb5tW0kSabdznv5s1o8by5GQd5bg1wo/4Lgf8EuWOB%2B1JF%2BPhDWR/7Z1p6d/wWT/4Jnapj7N%2B1do656faNKv4f/RluKxrZlw7jIezrVqU12coP82cWO8IvEDEUeTF5BiZR7SwtVr8ab/Q9X%2BCH7JH7Mn7Ntotr8DPgX4a8NOE2NeadpaC6kX0e4YGWT/gTGvQ5I0lRopUDKwIZWGQR6GvBdL/AOCo/wDwTx1ggWn7YHgdN3T7VrCwf%2BjNuK7HQP2zf2QPFShvDP7VXw41DPaz8b2Eh/JZSRXXh8XlUYKFCpTS7RlBL7k1%2BR5dTgfijKaXJPK69KK6fV60Uv8Ayikcd8Zv%2BCX37A3x71H%2B2/iJ%2BzJ4e/tAvvfUdDWXSriRv7zyWTxNIfdya4X/AIckf8E%2B4vl07wH4os07x2vxA1UKR6c3Br6Q0/40fB3Vsf2X8WPDVznp9n123fP5PW1Ya9oeqAHTNZtLnPTyLhX/AJGspZXkuIm5ujTk31tH9D5PF8KZd7RzxOBipPdypcr%2Bd4RPlX/hx/8A8E4ZedQ%2BD%2BtXbf3rnx5q5P6XQo/4cd/8E0zw/wAC9SZe6Hx1rOD/AOTdfWtFH9hZL/0DQ/8AAUcX%2BrXDv/QJT/8AAInylYf8ERP%2BCXmnSieH9luCRwc5ufFmrygn3D3ZB/Kuq0//AIJS/wDBOfTLM2Nt%2ByF4OZGGC1xYtM//AH27Fh%2BdfQdFXDJsop/Dh6a/7cj/AJGkMgyKl8GEpL/uHD/5E%2BZNY/4I1/8ABM3XHL3v7J%2BjIT1%2Bx6pf24/KK4WsZ/8Aghz/AMExgxNn%2BzvdWwPLJb%2BN9ZVT%2BBvDX1pRUyyTJpO7w1P/AMAj/kTLhzh%2Bbu8JS/8ABcf8kfJX/Djj/gmV1H7P16G/vf8ACc6zn/0rqp8FP2Hv2bP2M/8AgoX4MH7PPgq70YeJPgz4y/tZbnXry9Ev2fVvCvlY%2B0yybMefJ93GcjOcDH2BXjPjj/lIX8L/APsjPjz/ANO3hCtKGU5XhqqqUaEIyWzUUn96NcNkeTYOsq1DDQhNbOMUmum68j2aiiivQPUCiiigAooooAK/Pr/gkJoYXxp%2B1p4xCf8AH7%2B1zrtjux1%2Bz6/O2Pw8/wDWv0Fr4v8A%2BCVnh3%2Bxfhj8edUKYOr/ALZ/ju6B9QvifyP/AGia4cTT58VQfZyf/kjX6n1GSYtYbIs1h1qU6MPl9ZhJ/wDpCPtCivmLx/8A8FNf%2BEC8d634F/4d8/tPa1/Yur3Nh/bGgfCf7TYX/kytH59tL9pHmwvt3o%2BBuVlOBmsj/h7D/wBY1P2tP/DN/wD3VWMs6yyMnF1NV/dn/wDKz8%2BlxDk0JOMquq0%2BGp00/wCfR9aVi/Ef4eeDPi58Ptc%2BFXxG0GLVfD/iXSLnS9c0ydmVLq0uImimiJQhgGRmGVIIzkEHmvnzwD/wU1/4T3x3ovgX/h3z%2B09ov9tavbWH9sa/8J/s1hYedKsfn3Mv2k%2BVCm7e74O1VY4OK9m/aT8YfE74efALxf8AEH4M%2BHLTWfE%2Bg6Bc6lo%2Bi3sLumpSQIZTagI6EPKqNGjbsK7qxDAFT14bGYbGRcqMrpb6SX/pUY/qduDx%2BDzCLlh5cyWj0kvP7UY/hcxoP2Nf2eF8K%2BKfB2p%2BENS1ez8a%2BG7fQfFUviLxXqep3WpWEH2nyY5Lm7uZJ96fa58ShxKNy/P8ibc7wP8AsFfstfD3Ul1zw/4C1KbUh4uHiiXVta8Y6tqV5cauNIm0YXc1xeXUss7DT55bfEjMu0qcbkRl8N8R/wDBR/4m/Ejwtc%2BMf2XG0PVbDxH47m0j4USxeEl1RvEGnWGkLdareyNc63pVtDHFd%2BfAHa4XaLNwElaQeXxPg39ur4jfFzxHonx4svtNrp3jz4Zfs76rH4UbX737DpU/iLxdrttfyQfZp4tzmLyUZjlJ1tYVmSWJfKPSdh9h%2BGP2TvgR4JsdEsPB3hO90pfDnga08HaJNp3iPUIZrTRbV43gtVlScOdpijzIWMjAEM7BmB0fjf8As9fCn9onRNP0P4paPqMw0jUTfaRf6J4ivtIvrG4MMsDPDeWE0NxFuhmmicJIA6SMrAqSK%2BTfgn%2B1T%2B1B8bv2pPhB4w1PxV4R/sTx38LfH%2Bt%2BHPh7pV1e6e1rJZ3%2BjQW0GrSma4S6lj80o1wltEbaR7hFikzk%2B3ftv6t4kn0z4UfDeXxVqvh3SPHfxXsND8Z6l4b1240%2B6hszp9/dJBDe27RT2/n3trZ2vmRtHIy3BVSpcUAehSfs7/CxPAY%2BGGjWOsaLoEXhyw0Ky0zwz4r1HSo9PsbMk26Wn2O4iNm6g7TLAUldERGdljRVwL/9ir9n2%2B%2BFVn8FotJ8TWPh%2B0v7m9li0f4h63Y3WoT3LO1y99d294lzqBmaR2k%2B1SSiRmy%2B4gEeWfCLUf2hfin/AME2/G%2Bh/Cf4k3c/jSz1Lx34c8A%2BLNY1UtcXFvp%2Bvapp%2BmXEl5KHLSm1toB9rcOXbE7b9xz5r8O/H9rpfwu/aPi%2BP%2BjfFzw98Pfg/d2euaXpuo/GrU5/EdpOuhrdXenSarpmqSzS7mMcyWpvJx/p0XC5jiiAPqvxL%2ByV8B/FviTw14i1vwtqBi8IQWMXh7w9a%2BJ9Rt9DthZS%2BbZs2kxXC2E0kEm14pJIGeNo4ipBij21fD37F37Nvhf4sTfGnR/ANwuty6lf6jHDceItQn021vr5XW9vLfTZZ2sra4nWSYSzxQpJJ5825j5sm75b/aF%2BDf7QvwJ/4JY6L4pu/in4rn%2BJXw6%2BGtzq/i/xZf8Ax01%2B0n0W4aCS8u75YBLJF4ge2nDrb2eoyLDJHCsLTorNmx49/ay8eeIf%2BCovwr8N3s3xY8OeF4PF%2Bo%2BGdL8PJ8P/ABDb6R4jjk8P3VxLqlzcraCzu0%2B1fZo4VMji2SzmuGKLM3lgH1R8Cv2T/gR%2BzbdX1/8ACHwleWU%2BoWFrYST6l4iv9TeCxtTIbaxt2vZ5Ta2kJmlMdrDshj8xtqDNdl4P/wCQTN/2Fb7/ANK5a1Ky/B//ACCZv%2Bwrff8ApXLQBqUUUUAFFFFABRRRQAUUUUAFFFFABRRRQAUUUUAFFFFABRRRQAUUUUAFFFFABXjP7L//ACW/9o7/ALLNY/8AqFeF69mrxn9l/wD5Lf8AtHf9lmsf/UK8L0AezUUUUAFFFFABRRRQAUUUUAFFFFABRRRQAUUUUAFFFFABRRRQAUUUUAeYftqfCHxV8fP2TPiH8HfAr2o1vxB4UvLXR476UpbzXRjJiilYAlYncKjtg4VmODjB8XX4I/Hb9oDw/wDtDN4y%2BDWt/Dyb45%2BDZPDWi2ur6tpdzLoqwaLJaLeXpsbyZA01xeTLGsDTERWiNIYi4QfW9FAHzv8Asj%2BC/jbq/wAcvF37Q3xi%2BCd18PDqfw48JeELPw3f6vYXk002lTazc3N2r2M80YtmfVlihDMsuIJGeOPeq0t/4L8SeHv%2BCm3gvxFq3xc8Q67Z6t8HvHD2Gg6rbaclpooXVvCWUtmtrSKdw%2B4Z%2B0Szn5BtK/Nn6Hr5w/aP1f416P8At4fCef4HfD/wt4i1JvhH47W7tPFfjC50WCOD%2B1PCRLpLb6fes77to2GNRgk78gKQD6Porxn/AITj/goX/wBGv/Bn/wAPxq3/AMy9H/Ccf8FC/wDo1/4M/wDh%2BNW/%2BZegD2aivGf%2BE4/4KF/9Gv8AwZ/8Pxq3/wAy9H/Ccf8ABQv/AKNf%2BDP/AIfjVv8A5l6APZqK%2BcdJ/aO/bt1j4z6/8Drf9lD4SLqnh3wvpGu3ly/x11TyJINRudSt4UQjwxuLq2lzlgVAAePBYlgvUf8ACcf8FC/%2BjX/gz/4fjVv/AJl6APZqK8Z/4Tj/AIKF/wDRr/wZ/wDD8at/8y9H/Ccf8FC/%2BjX/AIM/%2BH41b/5l6APZqK8Z/wCE4/4KF/8ARr/wZ/8AD8at/wDMvXL%2BAf2jv27fiJ4r8b%2BENH/ZQ%2BEkNx4D8URaFqslz8ddUCTzyaVp%2Bph4tvhgkp5OowqSwU70cYwAzAH0dRXjP/Ccf8FC/wDo1/4M/wDh%2BNW/%2BZej/hOP%2BChf/Rr/AMGf/D8at/8AMvQB7NRXjP8AwnH/AAUL/wCjX/gz/wCH41b/AOZej/hOP%2BChf/Rr/wAGf/D8at/8y9AHs1FfOPwi/aO/bt%2BMvhS78X%2BHP2UPhJbW9n4o1vQpI73466ormfS9VutMncbfDDDY01pIyHOSjKSFOVHUf8Jx/wAFC/8Ao1/4M/8Ah%2BNW/wDmXoA9morxn/hOP%2BChf/Rr/wAGf/D8at/8y9H/AAnH/BQv/o1/4M/%2BH41b/wCZegD2aivGf%2BE4/wCChf8A0a/8Gf8Aw/Grf/MvXL/BH9o79u348fBjwh8cfCv7KHwktdL8Z%2BF9P13TbbUPjrqizwwXdtHcRpIE8MMocLIAwVmGQcEjmgD6OoIBGCK8Z/4Tj/goX/0a/wDBn/w/Grf/ADL0f8Jx/wAFC/8Ao1/4M/8Ah%2BNW/wDmXoA9kMUR6xL/AN80htbY9beM/wDABXjn/Ccf8FC/%2BjX/AIM/%2BH41b/5l65f43ftHft2/Af4MeL/jj4q/ZQ%2BEl1pfgzwvqGu6lbaf8ddUaeaC0tpLiRIw/hhVLlYyFDMoyRkgc0WQ7vufRLWFi33rKI59YxWZqPw88Aaxn%2B1vA2j3Wev2nTInz/30przH/hOP%2BChf/Rr/AMGf/D8at/8AMvR/wnH/AAUL/wCjX/gz/wCH41b/AOZepcIy3RpTr16TvCbT8m1%2BTR1uq/sw/s1a4GXW/wBnnwNeBvvC68JWcmfrujNcdr//AATh/YF8SsW1P9jn4cKWOWaz8JWtsT%2BMKLUn/Ccf8FC/%2BjX/AIM/%2BH41b/5l6P8AhOP%2BChf/AEa/8Gf/AA/Grf8AzL1zzwOCq/HSi/WMX/7aexheKeJ8C74bH14f4a9aP5VUvwOX1D/gkX/wTc1PP2n9krw0uf8An3e4i/8AQJRWJf8A/BEz/gmBqJJn/ZZtUP8A07%2BKNWi/9AuxW38Xf2jv27fg14UtPF/iP9lD4SXNveeKNE0KOOy%2BOuqM4n1TVbXTIHO7wwo2LNdxs5zkIrEBjhT1H/Ccf8FC/wDo1/4M/wDh%2BNW/%2BZeuaWS5PPfDU/8AwCP%2BR7VLxN8SKH8POsWvTE1v/ljPMf8AhyL/AME6rf8A5A3wq17TvT7D491dcf8AfVyaP%2BHLv7G0H/IK1T4j2BHQ2nxI1AY%2BmZDXp3/Ccf8ABQv/AKNf%2BDP/AIfjVv8A5l6P%2BE4/4KF/9Gv/AAZ/8Pxq3/zL1H9hZL0w8F6Rt%2BTR0/8AEV/Ex/FnGIf%2BKq5f%2BlRkeZf8OefgVb8aP%2B0T8dNOHYWXxTulx/30po/4dH%2BDYuLD9uX9pi1HYW/xckA/WA16b/wnH/BQv/o1/wCDP/h%2BNW/%2BZeuX8fftHft2/DvxX4I8Iax%2Byh8JJrjx54ol0LSpLb466oUgnj0rUNTLy7vDAITydOmUFQx3ugxgllP7DyjpRX3yX5TQf8RU8Q3vmM36xoS/9Kw0jmf%2BHTVkn/Hv/wAFGP2rIfaP4wkfztqX/h1HcJ/qv%2BCln7V4/wB/4vBv/bWvTf8AhOP%2BChf/AEa/8Gf/AA/Grf8AzL0f8Jx/wUL/AOjX/gz/AOH41b/5l6P7Dyr/AJ9f%2BTT/APlgf8RT4/643/yjhf8A5iPMf%2BHVWrr/AKv/AIKY/tTj/e%2BKin/22qn8Ff2V9R/Zn/4KF%2BCxf/tNfFH4jDW/gz4y2f8ACyfEw1H%2Bz/J1bwrn7PiNPL8zzRv67vKj6Y59a/4Tj/goX/0a/wDBn/w/Grf/ADL1Q8D%2BB/2rPGP7Vnhz43fG74cfD3wzo3hn4e%2BIdDhh8K/EO%2B1q6u7rUr7RLhGZLjSLFIo0TS5QWDuxaVAFxkjahlWAw1VVKcLSX96b/Bza/A8/NOPuLc6wM8HjcSp052uvZYeN7NNe9DDU5LVLaa7O6un7rRRRXoHx5zvxc%2BKXg34H/C3xF8Y/iHfva6F4W0W51TVp4oWlkW3giaR9iLlpHIUhUUFmYgAEkVxHw7/bA8EeMPBPjnxb428CeKPAd58Nomn8aeG/Fttavf6fb/YlvkuALC4uoZo3gbcpilc7kkjIWSN0Gz%2B1X8Fbr9oz9m7xt8DtO16PSrzxP4curHTtTmhMsdpdMhMEzoCC6LKEZkBBZQRkZzXlfhT9nz9q3W4fi74v8c6n4R8IeL/izoJ0q3v/AAf4ju9Rj8KLa6YbawuIWuLG3N7Kbme6uH3LAI18mMeaVZyAbHw7/b1s/ijpOtL4P/Zc%2BJs/iLRtP0XUv%2BENP9hfbrzTdVFwbO%2BimGqGyWJhaXG5ZbmOVPLG6MeZHvgj/wCChvhbXrbwVbfDX9nf4jeLNb8aN4liTw1pK6LbXmkT6Bfx6dqkF21/qVvAHhu5PJHkyzK5RmRmTa7eQfDP9iL9sv8AZ6%2BGHxBi/ZR8B/BT4W694u0bw3o%2Bm%2BGPCniS9XRrKSza7XUvEImbSP8AkK3NvcQxIHtJVBsLd55LkDy66L4pfsO%2BLvGn7LPhL4GaZ%2Bxl8D7zUtG0PV7CzvfFfxB1C/k8J3Ny67dUsb5tE%2B1Xl3K4%2B1Tyn7HMZ1BEzMxlAB9fxszxq7RlCQCUbGV9jjIr50/Yi8Naf4X/AGePFd5ZGQi8/aG8f6leswztP/CeaoXPA%2B6qR/kK9jtfhl9v%2BD1l8JvHHjHXNUdNDt9P1TX7HWbrTNQvZI40V7gXFpLHNBI7KXLRyKwLEZr5l/Yku/2v/APwa1rwV8HPgX8Ptd8M6V8XfiDbaPq3jH44axHqlzEnjHWBuuQ%2Bh3rtJuDAu9zM74Ds25iAmk2n2LjUnGEoJ6O1/OzuvuZ9Xf8ACc%2BCf%2Bhw0v8A8GEf/wAVS/8ACc%2BCf%2Bhw0r/wYR//ABVeW/8ACcf8FC/%2BjX/gz/4fjVv/AJl6P%2BE4/wCChf8A0a/8Gf8Aw/Grf/MvTIPUv%2BE58E/9DhpX/gwj/wDiqP8AhOfBP/Q4aV/4MI//AIqvLf8AhOP%2BChf/AEa/8Gf/AA/Grf8AzL0f8Jx/wUL/AOjX/gz/AOH41b/5l6ANS%2B%2BBn7FGqfDjSfg7qfwd%2BFtx4R0C9%2B2aF4Vn8Paa%2Bm6bc7pG86C2KeVDJullO9FBzI5z8xzoaf8ADj9lHSbW1stK8B/D22hsrTSbSyht9LsUW3g0ueS40yJAFARLSeWWW3UYEEkjvGFZiT5n8Ef2jv27fjx8GPCHxx8K/sofCS10vxn4X0/XdNttQ%2BOuqLPDBd20dxGkgTwwyhwsgDBWYZBwSOa6j/hOP%2BChf/Rr/wAGf/D8at/8y9AGrY/A/wDYq0vxTrfjnTPhB8LrfW/EsF1D4j1iDw/pqXWqx3WPtKXMoTfOsu1fMDkh8DdnFdB430r4AfEzwRc/DL4kab4O8QeG7yFIrvw9rkNpd2M8aMrIjwSho2VWVSAVwCoI6CuK/wCE4/4KF/8ARr/wZ/8AD8at/wDMvR/wnH/BQv8A6Nf%2BDP8A4fjVv/mXoA6oeCf2YR4et/CI8I%2BAxpNp4bn8PWul/YLL7PDpE4jWbTkj27VtZBDEHgA8thEgKnaMV/D3w1/ZO8I/DcfBvwp4A%2BHemeEFnE6%2BFNP0qwh00SiYTB/syKItwlVZM7c71DdRmvNfjd%2B0d%2B3b8B/gx4v%2BOPir9lD4SXWl%2BDPC%2Boa7qVtp/wAddUaeaC0tpLiRIw/hhVLlYyFDMoyRkgc11H/Ccf8ABQv/AKNf%2BDP/AIfjVv8A5l6AOg%2BIvwt/ZH%2BL/iXSfGfxa%2BHXw48UaxoLBtD1bxFpFhfXOnEOHBglmVnhO9Vb5CPmUHqK6LVL/wCEWuavpmv61eeG7y/0WeSfRr26kt5JrCWSJ4XeF2y0TNFI8ZKkEo7KeCRXnv8AwnH/AAUL/wCjX/gz/wCH41b/AOZej/hOP%2BChf/Rr/wAGf/D8at/8y9AHqP8AwnPgn/ocNL/8GEf/AMVR4MO/QzOoOya%2Bu5YiRjcj3MjK30KkEexry7/hOP8AgoX/ANGv/Bn/AMPxq3/zL1y/xd/aO/bt%2BDXhS08X%2BI/2UPhJc2954o0TQo47L466ozifVNVtdMgc7vDCjYs13GznOQisQGOFIB9HUV4z/wAJx/wUL/6Nf%2BDP/h%2BNW/8AmXo/4Tj/AIKF/wDRr/wZ/wDD8at/8y9AHs1FeM/8Jx/wUL/6Nf8Agz/4fjVv/mXo/wCE4/4KF/8ARr/wZ/8AD8at/wDMvQB7NRXzj4%2B/aO/bt%2BHfivwR4Q1j9lD4STXHjzxRLoWlSW3x11QpBPHpWoamXl3eGAQnk6dMoKhjvdBjBLL1H/Ccf8FC/wDo1/4M/wDh%2BNW/%2BZegD2aivGf%2BE4/4KF/9Gv8AwZ/8Pxq3/wAy9H/Ccf8ABQv/AKNf%2BDP/AIfjVv8A5l6APZqK8Z/4Tj/goX/0a/8ABn/w/Grf/MvXL6t%2B0d%2B3bo/xn0D4HXH7KHwkbVPEXhfV9ds7lPjrqnkRwadc6bbzI5PhjcHZtUgKgKQQkmSpChgD6Oorxn/hOP8AgoX/ANGv/Bn/AMPxq3/zL0f8Jx/wUL/6Nf8Agz/4fjVv/mXoA9morxn/AITj/goX/wBGv/Bn/wAPxq3/AMy9H/Ccf8FC/wDo1/4M/wDh%2BNW/%2BZegD2aivnHSf2jv27dY%2BM%2Bv/A63/ZQ%2BEi6p4d8L6Rrt5cv8ddU8iSDUbnUreFEI8Mbi6tpc5YFQAHjwWJYL1H/Ccf8ABQv/AKNf%2BDP/AIfjVv8A5l6APZqK8Z/4Tj/goX/0a/8ABn/w/Grf/MvR/wAJx/wUL/6Nf%2BDP/h%2BNW/8AmXoA9morxn/hOP8AgoX/ANGv/Bn/AMPxq3/zL1y/gH9o79u34ieK/G/hDR/2UPhJDceA/FEWharJc/HXVAk88mlafqYeLb4YJKeTqMKksFO9HGMAMwB9HUV4z/wnH/BQv/o1/wCDP/h%2BNW/%2BZej/AITj/goX/wBGv/Bn/wAPxq3/AMy9AHs1eM/sv/8AJb/2jv8Ass1j/wCoV4Xo/wCE4/4KF/8ARr/wZ/8AD8at/wDMvVv9lb4c/GnwfrHxQ8d/HTQPC%2Bk6p4%2B%2BIUWuWeleE/Etzq1va2sWg6Ppiq9xcWVmzSNJp0rlRFtCyINzHOAD1uiiigAooooAKKKKACiiigAooooAKKKKACiiigAooooAKKKKACiiigAooooAK%2BV/2nv2tPi58MPjH4s1rwD4d8HyeGPg/wCH/D9741OtaRcTarqlvq9/KlzBYXEdxGll5FtZx3GZIpxcyFIyIfL80/VFeM/Gf9iH4cfG74pH4ma5458VaXFqNrpFr4v8NaNdWqad4pg0u9kvbGK%2BWW3kmCxzTS5%2BzywGWOQxTGWMKgAPZqKKKACiiigD5j8OftK/EyH9v/xR8H/iNrHh7wn4bXxBaaJ4Mi1H4Rayl14xgGgQajiDxG12unNLHd3OoAWgheTy7SYBQWaRfpyvK/Fn7LUHj/4yaR8U/Hvxv8a6vpXh7XY9a0DwBcHTItGsdQjt3gjnDQ2SXsuzzJJFSa6kjEj7tnyIF9UoAKKKKAPF/wDgoL8Xfjh%2Bz9%2ByP40%2BPXwCvfCkeseCdCu9cuoPGGi3N9bXdpa20sz26JbXVsySuyIokLlUBYlH4Fef%2BPP2tPi54L%2BPHi3U/Cnh3whF8PPCHxj8I/D7xlZzaRcHW9V1XXYNFSPUIbtLhYY44P7c0mMxSW8ryJDPiWPagr2H9rH9nGy/a0%2BBGvfs%2B618VfFPhHSfE9lLY65f%2BEF077Xc2UsTxTW26/tLqNEdX5ZEWQFRtdec8XB%2BwD4On%2BItn8RfFXxx8fa6x1nSdc8TaNqEulRWPifXNMSNLHVr2O2sImW4iEFphbZoIGNjbF4mMeSAe90UUUAFeL/tk/F344fBK18A%2BMfhZe%2BFP7G1D4meHPD3i%2Bx8QaLc3N1c2uq6zY6aDZyw3UKW0ka3Msm%2BRJ1JRF2ck17RXlX7V37Lb/tVeG9C8Lz/AB98b%2BBrfQvElhrqN4Lh0dnu72xvILyzaU6lp94NsVxbxuFjCBuVk3qdoAPOP2ef2lfiZrf7VXi34I/FDV/D3hPTofFOt2/gnwlJ8ItZ0y5162hdJTf2%2BtXF39g1B2Mk0ssVtAX5LsVwxP05Xkuk/soh/jJovxl%2BI/7QHjvxrN4Xu7y78J6F4hGkw2Gj3VzbyWslxEthp9tLK/2eaeFfPklVFnfaASCPWqACiiigDw/9u74ufHj9n74Nav8AHX4UeMfAtjp/hbRbm8vdF8WeGb2/ufEN7lFs9Ms5La9g%2BzzXEpFujeVdM0s8QWFj8ref/BH9r74z658S/BX9reDPCWkfDTxv8T/FHw28K%2BGtO0uaPV9Ev9Ah1bfPPci4a3mgkbw/qaLDHbxGNWtj5kmWA9P/AGlf2QYP2kvHngj4gTftA%2BO/CFz4Bu7m90Wx8MRaNPZyXsqCNbyaDU9OvEeeGPzFhkAUxieUj5myKvgP9hr4e%2BA/jLb/ABdh%2BIvi7UoNO13U9e0TwhqVzZf2TpWt6jG8eoapAkVqk/nzie7LK8zwo19cmOKPzOAD2uiiigAr5f8A2ufjx%2B0v8FviJp/hTSofAHjXR/HMOtW2i/DmLwffSawlraaHdXcl/cTi9eK6thdRW9tJCLWIH7fCgmMjIkn1BXh037E1xH%2B0f4r/AGmtE/ar%2BJenav4t02HTrnS4YPD89pp9nDA0cNtZtc6TLc28Syu91sWba87l3Dg7aAGfsIftB%2BN/j38Pby6%2BK/j7Rr7xdpws21/w3ZfC7V/CN5oDz2yyiC5stXup7hwW3%2BXcAJHIqHaG2k17pXm/wO/Zu074M%2BJ/EnxD1j4peKfHHirxXFY2%2BseJ/FzWC3L2lmJvstqkWn2trbRxRtc3LjbCGZriQszZGPSKACiiigD45/4KCftx/FT9jDxz/aeuaLoHjHwi%2Bjajrdv4Vl%2BHOp2Utumm6Nfakkn/AAkU10%2BmT3f2vTRssVgS6EcyygbYWkb179mj4u/HPVvip43/AGev2jrnwpqHifwjpOh61HrXgrSLmwsbmx1QXkaRGC5ubl1liuNOu1L%2BbiRDE2yMkqK3x1/YS8EftOa1dWvx/wDi3418UeC7mS4kX4ZXkmmw6LFJNYzWTNvt7KO%2BkAjuJmCS3ToHfdt%2BRAvT/s%2BfszaR8A7zXvEV38UPFnjjxH4kNnHq3irxrcWb30ttaRGK1tR9jtreFYog8rDEe9nnld2dnJoA9KooooAK%2BI/2p/2yv2s/g38avEHwo8HeG/DnjXU7DRbjXfDAT4H%2BII5NFA1HTLVDC325x4mkFjqlx539l%2BU8LQlZRGJhHX25Xh%2BvfsW6n4l8en4na1%2B1z8UZtb0%2BC8i8G3hTQAPCq3U0Mk/2SMaTsnZo4Ft916t0yxM4Uq7s5AOq/ZY%2BLD/GT4RweLL34maN4qv4dRurLVL7RvBl94dFtcRSsrWs2m6hcT3VnPGMK8czh8/NtUMBXo1cN8A/gL4e%2BAHhnU9G0rxTrfiDUdf1641vxJ4k8RzQNe6rfzBEaeUW8UMCYjihiVIYo41SJAFGCT3NABRRRQAUUUUAFFFFABRRRQBR8UeIbDwl4a1HxXqoc2umWM13ciJct5caF2wO5wpr5z/Ym/aT%2BNfj/wAU6P4M%2BNnh7wZZjx18LbL4jeGYfBmlXFoNMjvLgm70%2B7M1xKLuaN7m2f7YggE7SzEwR7QX%2Blru0tb%2B1lsb23SaGaNo5opVDK6kYKkHggjjFeQ/szfsV%2BAv2YNVfV9A%2BIPi3xLLbeGLHwz4dHiy9tZhoGhWbyPb6bam3t4S0amT5pZzNcSCOLzJn8tcAHsVFFFABXC/tQePPiL8LP2aPiJ8Tvg/4UXXvFvhzwLq%2BqeFtDaxmuhqOo29nLLbWxhgZZZhJKiJ5cbB23YUgkGu6rO8W6Jf%2BJfDGoeH9L8V6joVze2kkNvrWkLA11YuykCaIXEUsRdTyBJG6ZHzKwyCAeXfsU/Fqf4ofDO%2BstW%2BIXh/WdT8O6qunXmmaJ8MNT8HPoaC2gkis7jStUuZ7mFwjiRXby0eKWLYmBvf2KvPPgP%2BztpPwOvPEviO5%2BIniTxj4k8X6jDeeIvFPit7MXd0YbdLeCIR2NtbW0UUcaAKscKZLOzFmZmPodABRRRQB8uftUftY/FD9nD4veOLL4laN4S8RfC%2Bw/Z38X%2BPbbQrfRLhNVdtEGlrPbXFzJcvbzRTrfTgILZCoRMu%2BWFdv%2BzP8X/j5qnxc8Zfs6/tLP4SvPFHhjwx4e8Sx6r4K0m5sbKSy1Z9St1tjDc3Ny5lhuNIuwZRIFkR4m8uM7lqD4x/sK%2BHfjp8dW%2BMvjz47eOZdNm8Fan4Rvvh7DBov9iXejaktt9vtJC%2BmtekTtaQOzi6DqUIRkRmQ9J%2Bzv8Asu6H%2Bz7fa14jn%2BKHi3xv4h1%2B1sLK/wDE/ja5tJL02Fiki2dmPsltbx%2BVEZ7hwShkd7mV3d2bNAHp9FFFABXyJ8a/2l/2tvBmu/tAeBLfwr4M8WXvgLw/4U8SfDax0n4f6nfzrHqOq6lCEvLWK8eXUZ4F02OdTbC3JckKvyq1fXdeFy/sUeIYvjp42%2BP%2BhftofFbStW8b6RY6Zc2NlZ%2BGGtNNtrK4uZ7NLYS6K8n7o3l0oMzyl1nIk8wqhUA6v9lT4tzfGX4UjxNqPxO0bxTqNrqtzY6tdaP4Iv8Aw2bO4ib5rWfTNRuJ7q0nRSu5JmDEMrbVVhXpNcJ8A/gHoHwB0LWbHT/FuueI9V8TeIJdc8T%2BJvEktu17qt/JDDB5sgtoYYIwsFvbwqkUUaKkKALnJPd0AFFFFAHxt%2B0t%2B13%2B0t%2Bzx8ZoPhtrKfDPxrfa3BBN4Rh07wte2kvgu81LxDpnh7SJtTle%2BmF1FO2rzgtEtnI4sbpYwy%2BYYvcf2Vfi/wDEj4jDx/8AD74xHRJ/FXw08eN4a1nVfDWnTWdhqfmaXp2rW9xDbzTzyW%2BbXVLdHjaaXEkcmGIIxwtt/wAE1fCTXXxDfxD%2B0v8AE7Wbf4k68dc1i31I6F5lnqUVxDPp9zbXUWlpdKbB7e3FpG80kUSwoGR%2Bc%2BsfAP4C6H8A/D2rabZeL9c8Sat4i16bWvE/ijxK9sb/AFe%2Bkjih86YWsEEC7IILeBEiijRY4I1C8EkA7qiiigBlz9p%2BzSfY9nnbD5Xm527scZxzjNfEHxW/a5/bT%2BGnxE1z4bW9t4D8Z694YvfDVvq3jrwR8Fdf1aPw5b6s1497YS6VZ6lPd3M0cNlY3RMU6fu7qFpYEBiaT7eu4ZLi1lt4bqSB5I2VZ4gpeMkYDLuBXI6jII9Qa%2Be/gx%2BwF4g%2BAnw2uPhp8O/26vjFFHdas%2BpzazeWXhOfUJbuV5ZLmeaZ9CP2mSd5d0kk4kfMabCgGCAes/AT4h2XxW%2BDvh/4hWHxA0bxUmp6eJH1/wAP6TNYWl3ICVkKWs800tsVdWRoZJHeNlZWO5SB19cl8C/gv4S/Z9%2BF%2BnfCnwVc39xZWEt1cTX2q3Imur67urmW6urqZwqhpZrieaV9qqu6Q7VVcKOtoAKo%2BJ4fElz4b1C38G6nY2WryWUq6XeanYPdW0FwUIjklhjliaaNWwWRZIywBAdSdwvVm%2BMdBv8AxR4Wv/Dul%2BLdS0G5vLV4oNa0cQG6sXI4miFxFLEXU8gSRuhx8ysMigD4e%2BG/7dn7Wvxg%2BKet/BL4Wab8Pk8Z6ba67fSeM/Ffwu1rQ11TTNItdFlSxl0S8vk1DT5Xu/EOxJp5nj8qGS4SF1nQH7G%2BAXxa034%2BfAnwV8ddG02Wzs/GvhLTdetLOZ9zwRXlrHcLGxAGSokAJ9RXi2r/APBMjwPrWuX3xFu/2lPimnxA1ZLy11r4k217pEOrX%2BmXVta202mFE00WcNsUsrRh5FtFKskCyrKHLMfoPwX4P8NfDzwdpPgDwZpMWn6PoemQafpNhDnZbW0MaxxRrnnCoqqPpQBp0UUUAcv8adR8caN8Lda1v4c%2BIbHS9WsLM3UN9qHg%2B98QIkcZDygadYzwXN5I0SuqRQyBy7LhXPyN8W/CX/goj8fvEnjTQ9T8b3HhHwJ4M1KedfEHji8%2BBniKa21i/h1%2B60hEuZVvo08MzyWtpa/uNUaSWB5VjfOwJX238TPBmu%2BPfCU3hzw38Utf8G3kksbxa/4ZisXu4NrAlVW/trmBgwBUh4m4Jxg4I8Vuv%2BCc3hTUPB9x8NtW/aQ%2BJt34Y1zUJr/x5oE1xo4i8YXc9411cTX0q6aLiLzSywtHZy2sQhiSNUUbtwB9E0UUUAFFFFABRRRQAUUUUAFFFFABRRRQAUUUUAFFFFABRRRQAUUUUAFFFFABRRRQAUUUUAFFFFABRRRQAUUUUAFFFFABRRRQAUUUUAFFFFABRRRQAUUUUAFFFFABRRRQAUUUUAFFFFABRRRQAUUUUAFFFFABRRRQAUUUUAFFFFABRRRQAUUUUAFFFFABRRRQAUUUUAFFFFABRRRQAUUUUAFFFFABRRRQAUUUUAFFFFABRRRQAUUUUAFFFFABRRRQAUUUUAFFFFABRRRQAUUUUAFFFFABRRRQAUUUUAFFFFABRRRQAUUUUAFFFFABRRRQAUUUUAf/2Q%3D%3D\">"
            ]
          },
          "metadata": {
            "tags": []
          }
        }
      ]
    },
    {
      "metadata": {
        "id": "_AGUQNBStaRC",
        "colab_type": "text"
      },
      "cell_type": "markdown",
      "source": [
        "# Submit the MLP with 2 hidden layers\n",
        "Run these cells after training the MLP with 2 hidden layers"
      ]
    },
    {
      "metadata": {
        "id": "z7B4aZaLtaRD",
        "colab_type": "code",
        "colab": {}
      },
      "cell_type": "code",
      "source": [
        "## GRADED PART, DO NOT CHANGE!\n",
        "# Validation loss for MLP\n",
        "grader.set_answer(\"i8bgs\", s.run(loss, {input_X: X_val_flat, input_y: y_val_oh}))\n",
        "# Validation accuracy for MLP\n",
        "grader.set_answer(\"rE763\", accuracy_score(y_val, s.run(classes, {input_X: X_val_flat})))"
      ],
      "execution_count": 0,
      "outputs": []
    },
    {
      "metadata": {
        "id": "NkwpSJrKtaRG",
        "colab_type": "code",
        "colab": {
          "base_uri": "https://localhost:8080/",
          "height": 34
        },
        "outputId": "9d7d3b06-dc72-4c48-d642-6b7c866e7c15"
      },
      "cell_type": "code",
      "source": [
        "# you can make submission with answers so far to check yourself at this stage\n",
        "grader.submit(COURSERA_EMAIL, COURSERA_TOKEN)"
      ],
      "execution_count": 37,
      "outputs": [
        {
          "output_type": "stream",
          "text": [
            "Submitted to Coursera platform. See results on assignment page!\n"
          ],
          "name": "stdout"
        }
      ]
    },
    {
      "metadata": {
        "id": "BZSwI_RLtaRI",
        "colab_type": "code",
        "colab": {}
      },
      "cell_type": "code",
      "source": [
        ""
      ],
      "execution_count": 0,
      "outputs": []
    }
  ]
}
{
  "nbformat": 4,
  "nbformat_minor": 0,
  "metadata": {
    "colab": {
      "name": "Week 2 -  digits_classification (Programming assignment).ipynb",
      "version": "0.3.2",
      "provenance": [],
      "collapsed_sections": [],
      "include_colab_link": true
    },
    "language_info": {
      "codemirror_mode": {
        "name": "ipython",
        "version": 3
      },
      "file_extension": ".py",
      "mimetype": "text/x-python",
      "name": "python",
      "nbconvert_exporter": "python",
      "pygments_lexer": "ipython3",
      "version": "3.6.5"
    },
    "kernelspec": {
      "display_name": "Python 3",
      "language": "python",
      "name": "python3"
    }
  },
  "cells": [
    {
      "cell_type": "markdown",
      "metadata": {
        "id": "view-in-github",
        "colab_type": "text"
      },
      "source": [
        "<a href=\"https://colab.research.google.com/github/Gooogr/Coursera_Advanced_Machine_Learning/blob/master/1%20-%20Introduction%20to%20Deep%20Learning/Week_2_digits_classification_(Programming_assignment).ipynb\" target=\"_parent\"><img src=\"https://colab.research.google.com/assets/colab-badge.svg\" alt=\"Open In Colab\"/></a>"
      ]
    },
    {
      "metadata": {
        "id": "Kg9XKmAdtaQf",
        "colab_type": "text"
      },
      "cell_type": "markdown",
      "source": [
        "# MNIST digits classification with TensorFlow"
      ]
    },
    {
      "metadata": {
        "id": "_vgskC1LtaQh",
        "colab_type": "text"
      },
      "cell_type": "markdown",
      "source": [
        "<img src=\"https://github.com/hse-aml/intro-to-dl/blob/master/week2/v2/images/mnist_sample.png?raw=1\" style=\"width:30%\">"
      ]
    },
    {
      "metadata": {
        "id": "HjAHmjEVt_dB",
        "colab_type": "code",
        "colab": {
          "base_uri": "https://localhost:8080/",
          "height": 306
        },
        "outputId": "ceeba8b4-0f24-4a57-c2ef-dc369d33017d"
      },
      "cell_type": "code",
      "source": [
        "! shred -u setup_google_colab.py\n",
        "! wget https://raw.githubusercontent.com/hse-aml/intro-to-dl/master/setup_google_colab.py -O setup_google_colab.py\n",
        "import setup_google_colab\n",
        "# please, uncomment the week you're working on\n",
        "# setup_google_colab.setup_week1()\n",
        "setup_google_colab.setup_week2()\n",
        "# setup_google_colab.setup_week3()\n",
        "# setup_google_colab.setup_week4()\n",
        "# setup_google_colab.setup_week5()\n",
        "# setup_google_colab.setup_week6()\n",
        "\n",
        "# If you're using the old version of the course (check a path of notebook on Coursera, you'll see v1 or v2),\n",
        "# use setup_week2_old()."
      ],
      "execution_count": 2,
      "outputs": [
        {
          "output_type": "stream",
          "text": [
            "--2019-04-15 15:57:58--  https://raw.githubusercontent.com/hse-aml/intro-to-dl/master/setup_google_colab.py\n",
            "Resolving raw.githubusercontent.com (raw.githubusercontent.com)... 151.101.0.133, 151.101.64.133, 151.101.128.133, ...\n",
            "Connecting to raw.githubusercontent.com (raw.githubusercontent.com)|151.101.0.133|:443... connected.\n",
            "HTTP request sent, awaiting response... 200 OK\n",
            "Length: 3792 (3.7K) [text/plain]\n",
            "Saving to: ‘setup_google_colab.py’\n",
            "\n",
            "\rsetup_google_colab.   0%[                    ]       0  --.-KB/s               \rsetup_google_colab. 100%[===================>]   3.70K  --.-KB/s    in 0s      \n",
            "\n",
            "2019-04-15 15:57:58 (71.2 MB/s) - ‘setup_google_colab.py’ saved [3792/3792]\n",
            "\n",
            "**************************************************\n",
            "inception_v3_weights_tf_dim_ordering_tf_kernels_notop.h5\n",
            "**************************************************\n",
            "cifar-10-batches-py.tar.gz\n",
            "**************************************************\n",
            "mnist.npz\n"
          ],
          "name": "stdout"
        }
      ]
    },
    {
      "metadata": {
        "id": "O8pEDZdQtaQh",
        "colab_type": "code",
        "colab": {
          "base_uri": "https://localhost:8080/",
          "height": 51
        },
        "outputId": "66ee56ed-027d-40b2-8951-1ce723eca70a"
      },
      "cell_type": "code",
      "source": [
        "import numpy as np\n",
        "from sklearn.metrics import accuracy_score\n",
        "from matplotlib import pyplot as plt\n",
        "%matplotlib inline\n",
        "import tensorflow as tf\n",
        "print(\"We're using TF\", tf.__version__)\n",
        "\n",
        "import sys\n",
        "sys.path.append(\"../..\")\n",
        "import grading\n",
        "\n",
        "import matplotlib_utils\n",
        "from importlib import reload\n",
        "reload(matplotlib_utils)\n",
        "\n",
        "import grading_utils\n",
        "reload(grading_utils)\n",
        "\n",
        "import keras_utils\n",
        "from keras_utils import reset_tf_session"
      ],
      "execution_count": 3,
      "outputs": [
        {
          "output_type": "stream",
          "text": [
            "We're using TF 1.13.1\n"
          ],
          "name": "stdout"
        },
        {
          "output_type": "stream",
          "text": [
            "Using TensorFlow backend.\n"
          ],
          "name": "stderr"
        }
      ]
    },
    {
      "metadata": {
        "id": "1JG9O4zStaQk",
        "colab_type": "text"
      },
      "cell_type": "markdown",
      "source": [
        "# Fill in your Coursera token and email\n",
        "To successfully submit your answers to our grader, please fill in your Coursera submission token and email"
      ]
    },
    {
      "metadata": {
        "id": "HlYqCerFtaQk",
        "colab_type": "code",
        "colab": {}
      },
      "cell_type": "code",
      "source": [
        "grader = grading.Grader(assignment_key=\"XtD7ho3TEeiHQBLWejjYAA\", \n",
        "                        all_parts=[\"9XaAS\", \"vmogZ\", \"RMv95\", \"i8bgs\", \"rE763\"])"
      ],
      "execution_count": 0,
      "outputs": []
    },
    {
      "metadata": {
        "id": "AZPpTLIstaQm",
        "colab_type": "code",
        "colab": {}
      },
      "cell_type": "code",
      "source": [
        "# token expires every 30 min\n",
        "COURSERA_TOKEN = \"22JXo9PtPO98gjlx\"\n",
        "COURSERA_EMAIL = \"gusarovga@ya.ru\""
      ],
      "execution_count": 0,
      "outputs": []
    },
    {
      "metadata": {
        "id": "EQUvVmn0taQo",
        "colab_type": "text"
      },
      "cell_type": "markdown",
      "source": [
        "# Look at the data\n",
        "\n",
        "In this task we have 50000 28x28 images of digits from 0 to 9.\n",
        "We will train a classifier on this data."
      ]
    },
    {
      "metadata": {
        "id": "ipG4LL7CtaQp",
        "colab_type": "code",
        "colab": {
          "base_uri": "https://localhost:8080/",
          "height": 51
        },
        "outputId": "e0b9140f-af8a-4993-948c-e21451b260b9"
      },
      "cell_type": "code",
      "source": [
        "import preprocessed_mnist\n",
        "X_train, y_train, X_val, y_val, X_test, y_test = preprocessed_mnist.load_dataset()"
      ],
      "execution_count": 6,
      "outputs": [
        {
          "output_type": "stream",
          "text": [
            "Downloading data from https://s3.amazonaws.com/img-datasets/mnist.npz\n",
            "10428416/11490434 [==========================>...] - ETA: 0s"
          ],
          "name": "stdout"
        }
      ]
    },
    {
      "metadata": {
        "id": "0njRMzxftaQr",
        "colab_type": "code",
        "colab": {
          "base_uri": "https://localhost:8080/",
          "height": 691
        },
        "outputId": "3540db53-c2e1-4bf1-d60b-e7d2badf856e"
      },
      "cell_type": "code",
      "source": [
        "# X contains rgb values divided by 255\n",
        "print(\"X_train [shape %s] sample patch:\\n\" % (str(X_train.shape)), X_train[1, 15:20, 5:10])\n",
        "print(\"A closeup of a sample patch:\")\n",
        "plt.imshow(X_train[1, 15:20, 5:10], cmap=\"Greys\")\n",
        "plt.show()\n",
        "print(\"And the whole sample:\")\n",
        "plt.imshow(X_train[1], cmap=\"Greys\")\n",
        "plt.show()\n",
        "print(\"y_train [shape %s] 10 samples:\\n\" % (str(y_train.shape)), y_train[:10])"
      ],
      "execution_count": 7,
      "outputs": [
        {
          "output_type": "stream",
          "text": [
            "X_train [shape (50000, 28, 28)] sample patch:\n",
            " [[0.         0.29803922 0.96470588 0.98823529 0.43921569]\n",
            " [0.         0.33333333 0.98823529 0.90196078 0.09803922]\n",
            " [0.         0.33333333 0.98823529 0.8745098  0.        ]\n",
            " [0.         0.33333333 0.98823529 0.56862745 0.        ]\n",
            " [0.         0.3372549  0.99215686 0.88235294 0.        ]]\n",
            "A closeup of a sample patch:\n"
          ],
          "name": "stdout"
        },
        {
          "output_type": "display_data",
          "data": {
            "image/png": "[encoded data removed]",
            "text/plain": [
              "<Figure size 432x288 with 1 Axes>"
            ]
          },
          "metadata": {
            "tags": []
          }
        },
        {
          "output_type": "stream",
          "text": [
            "And the whole sample:\n"
          ],
          "name": "stdout"
        },
        {
          "output_type": "display_data",
          "data": {
            "image/png": "[encoded data removed]",
            "text/plain": [
              "<Figure size 432x288 with 1 Axes>"
            ]
          },
          "metadata": {
            "tags": []
          }
        },
        {
          "output_type": "stream",
          "text": [
            "y_train [shape (50000,)] 10 samples:\n",
            " [5 0 4 1 9 2 1 3 1 4]\n"
          ],
          "name": "stdout"
        }
      ]
    },
    {
      "metadata": {
        "id": "jnlBXGd4taQs",
        "colab_type": "text"
      },
      "cell_type": "markdown",
      "source": [
        "# Linear model\n",
        "\n",
        "Your task is to train a linear classifier $\\vec{x} \\rightarrow y$ with SGD using TensorFlow.\n",
        "\n",
        "You will need to calculate a logit (a linear transformation) $z_k$ for each class: \n",
        "$$z_k = \\vec{x} \\cdot \\vec{w_k} + b_k \\quad k = 0..9$$\n",
        "\n",
        "And transform logits $z_k$ to valid probabilities $p_k$ with softmax: \n",
        "$$p_k = \\frac{e^{z_k}}{\\sum_{i=0}^{9}{e^{z_i}}} \\quad k = 0..9$$\n",
        "\n",
        "We will use a cross-entropy loss to train our multi-class classifier:\n",
        "$$\\text{cross-entropy}(y, p) = -\\sum_{k=0}^{9}{\\log(p_k)[y = k]}$$ \n",
        "\n",
        "where \n",
        "$$\n",
        "[x]=\\begin{cases}\n",
        "       1, \\quad \\text{if $x$ is true} \\\\\n",
        "       0, \\quad \\text{otherwise}\n",
        "    \\end{cases}\n",
        "$$\n",
        "\n",
        "Cross-entropy minimization pushes $p_k$ close to 1 when $y = k$, which is what we want.\n",
        "\n",
        "Here's the plan:\n",
        "* Flatten the images (28x28 -> 784) with `X_train.reshape((X_train.shape[0], -1))` to simplify our linear model implementation\n",
        "* Use a matrix placeholder for flattened `X_train`\n",
        "* Convert `y_train` to one-hot encoded vectors that are needed for cross-entropy\n",
        "* Use a shared variable `W` for all weights (a column $\\vec{w_k}$ per class) and `b` for all biases.\n",
        "* Aim for ~0.93 validation accuracy"
      ]
    },
    {
      "metadata": {
        "id": "PrU5G9dFtaQt",
        "colab_type": "code",
        "colab": {
          "base_uri": "https://localhost:8080/",
          "height": 51
        },
        "outputId": "a45bda3d-20b3-451f-ab54-c2732763048e"
      },
      "cell_type": "code",
      "source": [
        "X_train_flat = X_train.reshape((X_train.shape[0], -1))\n",
        "print(X_train_flat.shape)\n",
        "\n",
        "X_val_flat = X_val.reshape((X_val.shape[0], -1))\n",
        "print(X_val_flat.shape)"
      ],
      "execution_count": 8,
      "outputs": [
        {
          "output_type": "stream",
          "text": [
            "(50000, 784)\n",
            "(10000, 784)\n"
          ],
          "name": "stdout"
        }
      ]
    },
    {
      "metadata": {
        "id": "tuTIET9JtaQv",
        "colab_type": "code",
        "colab": {
          "base_uri": "https://localhost:8080/",
          "height": 85
        },
        "outputId": "294e67a8-36a5-4280-e355-79c891b22e06"
      },
      "cell_type": "code",
      "source": [
        "import keras\n",
        "\n",
        "y_train_oh = keras.utils.to_categorical(y_train, 10)\n",
        "y_val_oh = keras.utils.to_categorical(y_val, 10)\n",
        "\n",
        "print(y_train_oh.shape)\n",
        "print(y_train_oh[:3], y_train[:3])"
      ],
      "execution_count": 9,
      "outputs": [
        {
          "output_type": "stream",
          "text": [
            "(50000, 10)\n",
            "[[0. 0. 0. 0. 0. 1. 0. 0. 0. 0.]\n",
            " [1. 0. 0. 0. 0. 0. 0. 0. 0. 0.]\n",
            " [0. 0. 0. 0. 1. 0. 0. 0. 0. 0.]] [5 0 4]\n"
          ],
          "name": "stdout"
        }
      ]
    },
    {
      "metadata": {
        "id": "-iI15nJOtaQx",
        "colab_type": "code",
        "colab": {}
      },
      "cell_type": "code",
      "source": [
        "# run this again if you remake your graph\n",
        "s = reset_tf_session()"
      ],
      "execution_count": 0,
      "outputs": []
    },
    {
      "metadata": {
        "id": "Ql1NMEZktaQz",
        "colab_type": "code",
        "colab": {
          "base_uri": "https://localhost:8080/",
          "height": 51
        },
        "outputId": "115493c0-2747-4d1b-80ae-082a1678ff0c"
      },
      "cell_type": "code",
      "source": [
        "## Model parameters: W and b\n",
        "# W = ### YOUR CODE HERE ### tf.get_variable(...) with shape[0] = 784\n",
        "# b = ### YOUR CODE HERE ### tf.get_variable(...)\n",
        "\n",
        "\n",
        "W = tf.get_variable('Weights', shape = (784, 10), dtype = tf.float32)\n",
        "b = tf.get_variable('Bias', shape = (1, 10), dtype = tf.float32)\n",
        "print(W.shape)\n",
        "print(b.shape)\n",
        "\n",
        "\n",
        "# Alternative approach\n",
        "# W =tf.Variable(tf.zeros([784, 10]))\n",
        "# b = tf.Variable(tf.zeros([10]))"
      ],
      "execution_count": 72,
      "outputs": [
        {
          "output_type": "stream",
          "text": [
            "(784, 10)\n",
            "(1, 10)\n"
          ],
          "name": "stdout"
        }
      ]
    },
    {
      "metadata": {
        "id": "gbljOV21K5IO",
        "colab_type": "code",
        "colab": {}
      },
      "cell_type": "code",
      "source": [
        ""
      ],
      "execution_count": 0,
      "outputs": []
    },
    {
      "metadata": {
        "id": "HV8ryXLPtaQ1",
        "colab_type": "code",
        "colab": {}
      },
      "cell_type": "code",
      "source": [
        "## Placeholders for the input data\n",
        "# input_X = ### YOUR CODE HERE ### tf.placeholder(...) for flat X with shape[0] = None for any batch size\n",
        "# input_y = ### YOUR CODE HERE ### tf.placeholder(...) for one-hot encoded true labels\n",
        "input_X = tf.placeholder(tf.float32, shape = (None, 784))\n",
        "input_y = tf.placeholder(tf.float32, shape = (None, 10))  "
      ],
      "execution_count": 0,
      "outputs": []
    },
    {
      "metadata": {
        "id": "ME02draNLtWT",
        "colab_type": "code",
        "colab": {
          "base_uri": "https://localhost:8080/",
          "height": 34
        },
        "outputId": "2fb6a131-f4d1-426b-a683-ca35b4e331aa"
      },
      "cell_type": "code",
      "source": [
        "tf.matmul(input_X,W).shape"
      ],
      "execution_count": 74,
      "outputs": [
        {
          "output_type": "execute_result",
          "data": {
            "text/plain": [
              "TensorShape([Dimension(None), Dimension(10)])"
            ]
          },
          "metadata": {
            "tags": []
          },
          "execution_count": 74
        }
      ]
    },
    {
      "metadata": {
        "id": "hHp72vkRtaQ3",
        "colab_type": "code",
        "colab": {}
      },
      "cell_type": "code",
      "source": [
        "# # Compute predictions\n",
        "# logits = ### YOUR CODE HERE ### logits for input_X, resulting shape should be [input_X.shape[0], 10]\n",
        "# probas = ### YOUR CODE HERE ### apply tf.nn.softmax to logits\n",
        "# classes = ### YOUR CODE HERE ### apply tf.argmax to find a class index with highest probability\n",
        "logits = tf.add(tf.matmul(input_X,W), b) #input_X @ W + b\n",
        "probas = tf.nn.softmax(logits)\n",
        "classes = tf.argmax(probas, axis = 1)\n",
        "\n",
        "\n",
        "# # Loss should be a scalar number: average loss over all the objects with tf.reduce_mean().\n",
        "# # Use tf.nn.softmax_cross_entropy_with_logits on top of one-hot encoded input_y and logits.\n",
        "# # It is identical to calculating cross-entropy on top of probas, but is more numerically friendly (read the docs).\n",
        "# loss = ### YOUR CODE HERE ### cross-entropy loss\n",
        "loss = tf.reduce_mean(tf.nn.softmax_cross_entropy_with_logits_v2(input_y, logits))\n",
        "\n",
        "# # Use a default tf.train.AdamOptimizer to get an SGD step\n",
        "# step = ### YOUR CODE HERE ### optimizer step that minimizes the loss\n",
        "step = tf.train.AdamOptimizer().minimize(loss)"
      ],
      "execution_count": 0,
      "outputs": []
    },
    {
      "metadata": {
        "scrolled": false,
        "id": "YPx504l0taQ5",
        "colab_type": "code",
        "colab": {
          "base_uri": "https://localhost:8080/",
          "height": 309
        },
        "outputId": "33d54f5f-c6af-4681-b61c-f8a930535b4d"
      },
      "cell_type": "code",
      "source": [
        "s.run(tf.global_variables_initializer())\n",
        "\n",
        "BATCH_SIZE = 512\n",
        "EPOCHS = 40\n",
        "\n",
        "# for logging the progress right here in Jupyter (for those who don't have TensorBoard)\n",
        "simpleTrainingCurves = matplotlib_utils.SimpleTrainingCurves(\"cross-entropy\", \"accuracy\")\n",
        "\n",
        "for epoch in range(EPOCHS):  # we finish an epoch when we've looked at all training samples\n",
        "    \n",
        "    batch_losses = []\n",
        "    for batch_start in range(0, X_train_flat.shape[0], BATCH_SIZE):  # data is already shuffled\n",
        "        _, batch_loss = s.run([step, loss], {input_X: X_train_flat[batch_start:batch_start+BATCH_SIZE], \n",
        "                                             input_y: y_train_oh[batch_start:batch_start+BATCH_SIZE]})\n",
        "        # collect batch losses, this is almost free as we need a forward pass for backprop anyway\n",
        "        batch_losses.append(batch_loss)\n",
        "\n",
        "    train_loss = np.mean(batch_losses)\n",
        "    val_loss = s.run(loss, {input_X: X_val_flat, input_y: y_val_oh})  # this part is usually small\n",
        "    train_accuracy = accuracy_score(y_train, s.run(classes, {input_X: X_train_flat}))  # this is slow and usually skipped\n",
        "    valid_accuracy = accuracy_score(y_val, s.run(classes, {input_X: X_val_flat}))  \n",
        "    simpleTrainingCurves.add(train_loss, val_loss, train_accuracy, valid_accuracy)"
      ],
      "execution_count": 76,
      "outputs": [
        {
          "output_type": "display_data",
          "data": {
            "text/html": [
              "<img src=\"data:image/jpeg;base64,/9j/4AAQSkZJRgABAQEASABIAAD/2wBDAAIBAQEBAQIBAQECAgICAgQDAgICAgUEBAMEBgUGBgYFBgYGBwkIBgcJBwYGCAsICQoKCgoKBggLDAsKDAkKCgr/2wBDAQICAgICAgUDAwUKBwYHCgoKCgoKCgoKCgoKCgoKCgoKCgoKCgoKCgoKCgoKCgoKCgoKCgoKCgoKCgoKCgoKCgr/wAARCAEgA2ADASIAAhEBAxEB/8QAHwAAAQUBAQEBAQEAAAAAAAAAAAECAwQFBgcICQoL/8QAtRAAAgEDAwIEAwUFBAQAAAF9AQIDAAQRBRIhMUEGE1FhByJxFDKBkaEII0KxwRVS0fAkM2JyggkKFhcYGRolJicoKSo0NTY3ODk6Q0RFRkdISUpTVFVWV1hZWmNkZWZnaGlqc3R1dnd4eXqDhIWGh4iJipKTlJWWl5iZmqKjpKWmp6ipqrKztLW2t7i5usLDxMXGx8jJytLT1NXW19jZ2uHi4%2BTl5ufo6erx8vP09fb3%2BPn6/8QAHwEAAwEBAQEBAQEBAQAAAAAAAAECAwQFBgcICQoL/8QAtREAAgECBAQDBAcFBAQAAQJ3AAECAxEEBSExBhJBUQdhcRMiMoEIFEKRobHBCSMzUvAVYnLRChYkNOEl8RcYGRomJygpKjU2Nzg5OkNERUZHSElKU1RVVldYWVpjZGVmZ2hpanN0dXZ3eHl6goOEhYaHiImKkpOUlZaXmJmaoqOkpaanqKmqsrO0tba3uLm6wsPExcbHyMnK0tPU1dbX2Nna4uPk5ebn6Onq8vP09fb3%2BPn6/9oADAMBAAIRAxEAPwD9/KKKKACiiigAooooAKKKKACiiigAooooAKKKKACiiigAooooAKKKKACiiigAooooAKKKKACiiigAooooAKKKKACiiigAooooAKKKKACiiigAooooAKKKKACiiigAooooAKKKKACiiigAooooAKKKKACiiigAooooAKKKKACiiigAooooAKKKKACiiigAooooAKKKKACiiigAooooAKKKKACiiigAooooAKKKKACiiigAooooAKKKKACiiigAooooAKKKKACiiigAooooAKKKKACiiigAooooAKKKKACiiigAooooAKKKKACiiigAooooAKKKKACiiigAooooAKKKKACiiigAooooAKKKKACvPfjt%2B1J8FP2b5NGsfil4g1Maj4ilnTQNB8OeF9R1zVNR8lVed4bHTbee5kjiVkMkixlI96biu5c%2BhV4N%2B0P8D/j5/wANJ%2BDv2tv2bLLwfrWueH/B2seFNX8KeOdcutLtLywv7mwuxcQXtraXj288U2noCpt3WVJSCUKK1ABpf/BTL9izWLvxPb2nxXv0h8FWsk/jLUrvwXrEFjoIS0iu9l5dy2iwWsrQzRskMjrJIWKorMrKL2n/APBQ/wDZK1HwBrXxFTx/q9vB4f1ay0vVdE1DwNrNrrkV5ebfscC6PNaLqEr3AYGER27eaAxTcFYjy2b9gH4y%2BMf2a/jn8NfGHinwppHin4o/FS38daHc6U1xeWFpeW0OiywQ3IkihkkiN3pRRwoyYHGDuJVaPi79i/8AaV%2BLmr/Ef45fG34S/CjWvFnjWx8KaPp/gKy%2BI2s2Wm6fY6Hcaldw3qa7b6al5DqDXOqTOksVoPJSKNFZiWcgHsviH9vv9mzwv4a8OeI9XvvG3meK0v5NE8P2vwm8SXGuSRWUscV3NJpMWntf28MLzQq8s0CIpmiy37xM%2Bmaz8RPBHhv4e3XxX8T%2BJbbSvDljo76rf6vqrfZYbSySIzPPMZdvlKsYLNvxtAOcYNfGHin9hH9s/WPgX4X8Nay3hfxV470a58RHRfGV/wDHbxNpGr%2BCLW%2BuUktLO11q1sJLzXIYkjhEy3qw/aTbReYCFGPUfjR/wTotfj1%2Bzb4n%2BHHxD%2BOfjW78d%2BMPhfH4Z17xS3jbWho818tpDE2oJoS3y2FuzzQLK3kRRSEPIBIrSM5AOkg/4KUfsZf8K58V/FbWPite6Jo3giysr7xQ/ifwdq%2Bk3NlZXkxhtb37LeWsVxJaSyK6pcxxtC3luQ%2BEYjj/AI3f8FZP2d/hn8ENU%2BMfgPRfFXiqbQfiD4X8L674Y/4QXXbHU7A6zqVrax3T2cmnNdeV5Fw88DeT5d48aW8MhknjB8r1T/gmJ8ZPHfwq8faR4i8DeG9G8Y%2BI9D0fR7DxDqv7RfjPxut3aWusW%2BoTRyf27AfsEZ8likUSzHe%2BGkxknv8A9qH9gz40/GD4g/F/4g%2BBfEPheOTxfB8LbzwlZ6tfXMSvf%2BE/EdzrUsN40dvJ5ENwGt4VljEzrl2MfyKrgHqFh/wUE/Zb1H4m2XwZh8T%2BJo/Fd5oun6xLoF38N9egudO0%2B9adILu/SSyU6dDut5VeS68pYiFEhQum6j4a/wCCmH7FPi3wZ4s%2BIWkfGC4TR/Bfgi68Zaxe6h4S1W0Fx4et0Z5tWsVntUbVLNVQ4nsxPGxZArEugbB0P9kP4ofEP4mfG74g/G9fD2gxfGj4O%2BHfCF1Y%2BE9duNRl0u4tE11Ltlnns7XzYwNViMT7FZikm6OPA3fN37Y37Kn7UOj/ALDHxS%2BJv7TF34AtIfhD%2BxT8QfBHhePwFqF5cNrzXukWxn1G6W5toBYqE0i3CWcbXAVppCZ22oKAPrPw9/wUl/Yy8TaHrHiPT/i1dQWehppU1/JqnhLVbJmtNSu1s7HUIUuLVGubCWdgovoQ9qoDO0qorMPT9E%2BLvw88R/FLX/gvofiH7T4k8LaXp%2Boa/YR2k22zgvmuBa7pinlF3%2ByzHy1cyKoRmVVkjLfJOofsz%2BIPFegeKfjb/wAFIvF/wz8J%2BBbf9nu5%2BHUlx4f8QTLay6beyQyXmq3k17BbpYOTBbCG2QzCAmT/AEiQsuOw/wCCPngP4u2f7I9r8f8A9pDUDf8AxJ%2BL15H4n8V6g9nJbtJCLSCy01fKl%2BeH/iX2lpI0TYKSzTZAYtkA%2BqqKKKACiiigAooooAKKKKACiiigAooooAKKKKACiiigAooooAKKKKACiiigAooooAKKKKACiiigAooooAKKKKACiiigAooooAK8R0j/AIKMfse6ld69Z6n8Urzw83hzw5c%2BINQk8a%2BEdV0GObSbd0jnv7WTUrWBb63R5IlaW2MqAyxjOXXPtN7FczWcsNndCCZ4mWKYx7/LYjhtp64POO9fmJq//BHL9uX4v6t4X1z43fHHQ31vw14P1Cz1DxRqHxW8TeJx4h1v7ZpV9a6idLvoobLSbaS50xfPsLIBRHJtWWQKgUA%2B2X/b/wD2YbX4aN8WNY8QeKtK0ttcg0axs9c%2BGWv2GqanfzIZIYLLTbixS9v2kQM6/Z4ZAyo7AkIxHReA/wBqz4H/ABH1%2By8J%2BHPEOqQ6vf8AhSfxJDpGteFdS0y7TTYbv7JLLLDeW8UkDrP8hhkVZe%2BzbzXk3xO%2BDn7bvxib4e/G3XPBvwq0P4h/Cjx1NrHh/wAM2vjjUr/Rdcs7jSbvTLmO4vn0qGaxmKXskkbpa3AjMQU%2BYJGxV%2BJPwG/bg1/4y%2BHf2mvA%2BjfCu08WX3ww1XwX4x0LUvFepSWGkLcX8N1a39lcJpwk1AxCN1kt5YrQSlxiWLHIB3Gk/wDBRv8AZA8R694F8LeFfiNqus6n8SfBuleLfBunaJ4H1m9nvND1F9lrqMiQWjNa2%2B7HmSTiNbcMpm8oMCdj4a/tufs3fFf4jXPwn8M%2BL9Ws9ft9LudThsvE/gzVtEW/sbeRI57uyl1G1gjv4I3liDy2zSIvmISQGUnyj9hT9hL4sfsw6/8ADjWfHniDw1dnwd%2Byl4R%2BGN%2B%2BkXM8rNq2lvM1zNF5kEe61bemxmKu235o0wK8a%2BGn/BKv9sbxP8UfC/ib9qb4w2eqRaf4A8V%2BF/GniaD4v%2BJNavPEUur2KW39p2umX0Men6EcqWNpaKUXKgTOI1WgD6l8J/8ABRf9kfxrosfirQfHeuf2Hcarpen6f4lvfh/rdrpWoy6lex2VlJaX09mlteQS3M0UYuIJHhBlQs4VgT6X4W%2BLvw88a/EDxT8LvC/iH7XrnguSzj8T2iWkwWxkuoPtEEZlZBG7tCVkKIzMiyRlgokTd8w%2BOPAnxF8K/wDBPbxp8CP%2BChnif4VeCPAWg/DSLQLb4meHfFt2GadI0trXUntLqzgTTZlmFvJDBHcXTGcoiOTtDdr/AMEr/h98WPDf7ImlfFX9oqwS3%2BJ3xYvpfHXxEhW3aL7Pf36xmG02N8yfZbGOys9pyQLXBoA%2BjaKKKACiiigAooooAKKKKACiiigAooooAKKKKACiiigAooooAKKKKACiiigAooooAKKKKACiiigAooooAKKKKACiiigAooooAKKx/iB8RPh/8JvB1/8AET4p%2BOtG8M%2BH9LiEmp674g1OKys7RCwUNLNMypGCzKMsQMkDvVe9%2BLPwr034aL8aNR%2BJfh%2B38HNpUepr4sn1mBNMNjIiul0Lov5XksjKwk3bSGBBwaAOgrxf49eP/wBov/hovwL8CPgL4z8FeH01/wAFeJde1fU/F/gu71ok6dd6Hbwwwx2%2BpWPlhv7UlZmZnz5aABeSfTPhz8T/AIafGLwlb%2BPvhH8Q9C8U6Fds62mteHNWhvrSYoxVwk0LMjFWBU4PBBBryb4i60ll/wAFKvhDosijF78E/iGyNnndHq3g04/JmP4Um0ty4QlUdo9m/u1Zf/4Qf/goX/0dB8Gf/DD6t/8ANRR/wg//AAUL/wCjoPgz/wCGH1b/AOaivZqKZB4z/wAIP/wUL/6Og%2BDP/hh9W/8Amoo/4Qf/AIKF/wDR0HwZ/wDDD6t/81FezUUAeM/8IP8A8FC/%2BjoPgz/4YfVv/moo/wCEH/4KF/8AR0HwZ/8ADD6t/wDNRXs1FAHjP/CD/wDBQv8A6Og%2BDP8A4YfVv/moo/4Qf/goX/0dB8Gf/DD6t/8ANRXs1FAHjP8Awg//AAUL/wCjoPgz/wCGH1b/AOaij/hB/wDgoX/0dB8Gf/DD6t/81FezUUAeM/8ACD/8FC/%2BjoPgz/4YfVv/AJqKP%2BEH/wCChf8A0dB8Gf8Aww%2Brf/NRXs1FAHjP/CD/APBQv/o6D4M/%2BGH1b/5qKP8AhB/%2BChf/AEdB8Gf/AAw%2Brf8AzUV7NRQB4z/wg/8AwUL/AOjoPgz/AOGH1b/5qKP%2BEH/4KF/9HQfBn/ww%2Brf/ADUV6p4xnmtfCOq3VtKySR6bO0bqcFWEbEEe%2Ba858b/tAfsNfC3xPc%2BA/iX8cPhT4f1uwEYvdI1/xPptreQb41kTzI5pA6lkdXBYcqwPIINZ1a1GjHmqSUV5tL82jswWXZjmdV0sHRnVkldqEJzaW17QhN2u1ra2q11KP/CD/wDBQv8A6Og%2BDP8A4YfVv/moo/4Qf/goX/0dB8Gf/DD6t/8ANRVf/hr/AP4Jwf8AR0XwR/8AC20f/wCO0f8ADX//AATg/wCjovgj/wCFto//AMdrD6/gP%2Bf0P/A4f/JHqf6pcWf9C7Ef%2BE9f/wCUFj/hB/8AgoX/ANHQfBn/AMMPq3/zUUf8IP8A8FC/%2BjoPgz/4YfVv/mor0LxXpHw%2B8IeFtS8Wah4HtJrfS9Pmu54rLRPtEzpGhdljiijZ5HIUgIiszHAAJIFeFfAz9vj9jr43eF/hhfWvgXXtK1/4q%2BHLfWfD/hW8%2BFOrtdLbv9jWWdythtFpFJfW6NfEi1IfeJdmWHWfPnZ/8IP/AMFC/wDo6D4M/wDhh9W/%2Baij/hB/%2BChf/R0HwZ/8MPq3/wA1FZU/7V/7LF7oeoahoGiw2t7pOveHNO1HS/GngXVtAuI11nVYtNs51hutO8%2BSOWZ5EilWIwPLEyPNCqySx2Ph5%2B1v%2BxD8UvG978P/AAhrdib6wbWlludT8F3thYSvpF2bTU0hvbq1jtrhraZSsqxSuUA3kbPmoAu/8IP/AMFC/wDo6D4M/wDhh9W/%2Baij/hB/%2BChf/R0HwZ/8MPq3/wA1FT/tCfEzwV8Ivhzonij4f/Cvw/4t1jxf4h03RPBum/aYrS01C6vXGySS7SGbyrdIRLcPIkcreXE2xHYqpi%2BCXxFsvjZ8DtX8e6Z8BNDs/F%2Bh6lrWi6j4Qkvo2txrOnXM9q8CXv2dd1vLJCrR3BhVvKmR2iVt0YAG/wDCD/8ABQv/AKOg%2BDP/AIYfVv8A5qKP%2BEH/AOChf/R0HwZ/8MPq3/zUV458Tf28D8GPh941vfil%2BzV8NNH8U%2BBviB4a8M6wlz8RhH4ahXWTamK6l1eTSkkgEMdyHljezBUbCCVlV60PjD%2B2npvwt1j4Q%2BEU%2BGvwDbUfit4c1jVbbWNd%2BMo0/wAPhrKfTIorax1D%2Bx5W1GW4Gpq6AQQ8QSY3cUAep/8ACD/8FC/%2BjoPgz/4YfVv/AJqKP%2BEH/wCChf8A0dB8Gf8Aww%2Brf/NRXmfxJ/bk8B/D/wDbQs/2Rl%2BBXhC4uLjXtH0tILrxLFb%2BIdQW/h806lp2kGzb7dptsNwuLr7RH5X2a6%2BRvJAfGh/4KJeC9J8L3fxK8c/srabZeF9a8C674q%2BFl3pmrRXd54mtNNvLW18m4t3tYk0%2Be5a%2BspIFE1wpjmYyPE0ZQgHsv/CD/wDBQv8A6Og%2BDP8A4YfVv/moo/4Qf/goX/0dB8Gf/DD6t/8ANRXmj/tc%2BJbbWf8AhR99%2ByL4Mj%2BMMnj6Dwza%2BFU8YltEkSXRJdaGoHVP7LEy24tbe4jI%2BxF/tMXlhSjLMeX8Qf8ABS/4faZ4NuPiPZ/szeHoNE8IfDy38YfFiTX/ABHDZXGhWranqGmXFtYRraSrqlxBc6VfK6l7ZDi3CuWuFUAHuf8Awg//AAUL/wCjoPgz/wCGH1b/AOaij/hB/wDgoX/0dB8Gf/DD6t/81FeZ6X%2B3J4C1T9uQ/sbRfAvwh5y%2BKJ9EeIeJYj4jgSLSDqX9sS6MbMeXo7kC2S9%2B0ndNLEvl5fiRP2wp/DX7P3xj%2BLfxY/ZP8NaNrXwh8ap4f1DRNL8SrfWUqSWelXaX0981hCbW3ii1RHuX8mQQR200gMoUAgHpH/CD/wDBQv8A6Og%2BDP8A4YfVv/moo/4Qf/goX/0dB8Gf/DD6t/8ANRXj/wAPP265PjP4W0Kx%2BCf7Lvw/8U%2BL/EPifW9O0ldM8fpJ4X1Gx0qCGW61Oz1pNMZrqDzLmC0XFoP9JMiEqkTS1peKv2vfEcvw6%2BEfxv8AhH%2Byd4F17wh8Xr7wzZ6NFrHjOXTtcgn1V0aZTZR6RcQv9ktjPcy/6UpKWkwABC7gD07/AIQf/goX/wBHQfBn/wAMPq3/AM1FH/CD/wDBQv8A6Og%2BDP8A4YfVv/morhfiH%2B0v4j%2BDH7RTfC74s/sx/D%2B38IR%2BCvEvjC78V6D4ymvb%2Bw0PSPIH2i5sJNIhjjkma5hVYlunwVmKtIIiTzK/tz6pommv4Z%2BIv7G3hnRPHepp4Rn8J%2BHv%2BEuSbT7q28RXdxaWZvb86eps5YZrSdbiOOC4CkwiJ5zKoAB7B/wg/wDwUL/6Og%2BDP/hh9W/%2BaiqHgfxx%2B1Z4O/as8OfBH43fEf4e%2BJtG8TfD3xDrkM3hX4eX2i3VpdabfaJborPcavfJLG6apKSoRGDRIQ2Mg2vgV8VvBnx8%2BCGvePbDwHouh6/4a1rW9B16y0e8S8i0/VtMuZreYQXaxRGaMvEJEcxxsUdQ8cb7kWXxx/ykL%2BF//ZGfHn/p28IUAezUUUUAFFFFABRRRQAV84/CbxV%2B3f8AHXR9e8d%2BF/jf8JNA0u3%2BIXirQ9L0q/8Ag/ql/cRWul69f6ZC0twniKBZZHjs1dmWKNdzkBQAK%2Bjq8Z/YP/5Ihrn/AGWb4j/%2BprrdAB/wg/8AwUL/AOjoPgz/AOGH1b/5qKP%2BEH/4KF/9HQfBn/ww%2Brf/ADUV7NRQB4z/AMIP/wAFC/8Ao6D4M/8Ahh9W/wDmoo/4Qf8A4KF/9HQfBn/ww%2Brf/NRXs1FAHjP/AAg//BQv/o6D4M/%2BGH1b/wCaij/hB/8AgoX/ANHQfBn/AMMPq3/zUV7NRQB4z/wg/wDwUL/6Og%2BDP/hh9W/%2Baij/AIQf/goX/wBHQfBn/wAMPq3/AM1FezUUAeM/8IP/AMFC/wDo6D4M/wDhh9W/%2Baij/hB/%2BChf/R0HwZ/8MPq3/wA1FezUUAeM/wDCD/8ABQv/AKOg%2BDP/AIYfVv8A5qKP%2BEH/AOChf/R0HwZ/8MPq3/zUV7NRQB4z/wAIP/wUL/6Og%2BDP/hh9W/8Amoo/4Qf/AIKF/wDR0HwZ/wDDD6t/81FezUUAeM/8IP8A8FC/%2BjoPgz/4YfVv/moo/wCEH/4KF/8AR0HwZ/8ADD6t/wDNRXs1FAHjP/CD/wDBQv8A6Og%2BDP8A4YfVv/moo/4Qf/goX/0dB8Gf/DD6t/8ANRXs1FAHjP8Awg//AAUL/wCjoPgz/wCGH1b/AOaij/hB/wDgoX/0dB8Gf/DD6t/81FezUUAeM/8ACD/8FC/%2BjoPgz/4YfVv/AJqKP%2BEH/wCChf8A0dB8Gf8Aww%2Brf/NRXs1FAHjP/CD/APBQv/o6D4M/%2BGH1b/5qKP8AhB/%2BChf/AEdB8Gf/AAw%2Brf8AzUV7NRQB4z/wg/8AwUL/AOjoPgz/AOGH1b/5qKP%2BEH/4KF/9HQfBn/ww%2Brf/ADUV7NXJ%2BOfj18DfhiHPxK%2BM/hPw95f%2Bs/tzxFbWm36%2Ba64qJ1KdOPNNpLzaX5tEVKtOlHmqSSXdtJfe2jhf%2BEH/AOChf/R0HwZ/8MPq3/zUUf8ACD/8FC/%2BjoPgz/4YfVv/AJqK5/xN/wAFYv8AgnJ4TuHtdU/a78IysnU6ZcyXq/g1ujg/ga5W8/4Ldf8ABNSOY2ei/Hy71i57WukeDNWmc/Q/ZQv61wTznKKbtLEQX/b8f82eXU4gyGk7TxVNP/HH9Gz0r/hB/wDgoX/0dB8Gf/DD6t/81FH/AAg//BQv/o6D4M/%2BGH1b/wCaivLz/wAFf/hTr/7r4TfsqfHvxtK3%2Br/4R34YTmP2LPM6bV98Uo/4KAftmal/pnhz/gk18RpbRv8AVPqfinT7OYj/AGonyV/Oo/tvLH8E3L/DGcvyhb8TP/WLJ5fBUc/8MKkvxjTa/E9P/wCEH/4KF/8AR0HwZ/8ADD6t/wDNRR/wg/8AwUL/AOjoPgz/AOGH1b/5qK8vl/bu/bzMZe2/4JJ%2BLRtGWa6%2BJGlQqPqxXFch4m/4KjftieHdyax/wT/8IaAF%2B/P4n/aX8O2oT6owDVE89y6mry51/wBw6n6xR04bM6eOnyYWhXqS7Qw%2BIm/ujSkz3/8A4Qf/AIKF/wDR0HwZ/wDDD6t/81FH/CD/APBQv/o6D4M/%2BGH1b/5qK%2BPfEn/Bcr4z%2BB91xr3wQ%2BDGooOfs2hftEaZcSL7bo0dSfpXHz/8HLfiO6v10TR/2IrZ7wjkwfEn7Ymfb7Pp7Z/OuGfGHD9J2nVaf%2BGX6XPqcLwzxpjIc1HJMfJeWBxf5uil97R95f8ACD/8FC/%2BjoPgz/4YfVv/AJqKP%2BEH/wCChf8A0dB8Gf8Aww%2Brf/NRXw9B/wAFy/24fEaiTwV/wTvubxX5jFvaa1c5/FLJQa6z4c/8FUf%2BCqfi288uX/gkfr93EW%2BV2W/0pSPZ7u3K/jVQ4ryerJKHO/SlUf5RMcVkXFGBouricrxNOK3cqLjb5OopfdB%2Bh9a/8IP/AMFC/wDo6D4M/wDhh9W/%2Bairf7K3xG%2BNPjDWPih4E%2BOmv%2BF9W1TwD8QotDs9V8J%2BGrnSbe6tZdB0fU1Z7e4vbxlkWTUZULCXaVjQ7VOc%2BL/8Nl/8FWtXsRLoP/BIEWzkcNqHxv0kf%2BONHG3611H/AATX8VfGnxte/HbxP%2B0P8LbbwV4wuvjPD/a/hmz1aK%2BjstvhLw4kOJ4mZJN8KxSHB4LkcEEV6uGzGhi6nJTjNaXvKE4r75JK/keDhsww%2BLm4wUk1/NTqQ/GUUvknc%2Bm6KKK7ztCiiigAooooAKKKKACiiigAooooAKKKKACiiigAooooAKKKKAOV%2BN3iLw94S%2BE%2Bu%2BIvFOhapqdla2RaSy0Xw1d6xdSOWAj8qzs4Zp5mDlTiONiuN3AUkfPP7JXx30z4T/8ABLr4fXfiX4B/FLVNZ8AfBbRU1XwL/wAKl1qLVrm/sLK3t3soLa6tIzLP9pTCAcEDzQfLUyD6wooA8A/4J3WF1e/C7xT8U/E9nq9p4r8f%2BOrjxD400/UvBWq6FBYag9nZ26WlpBqlrbTzwQ2ttaRG68sLcTRzy4RneNPPPi3cfFPw/wD8FkPgGnjfxr4f1DRda%2BHHxIg8MadpXhqeyurGNX8NyyJdXEl7Ml4zGNCrRw24XY2VfcNv2FXxj%2B2dq50j/gsZ%2BxbubbHd%2BH/ifbSHP96w0cqP%2B%2BlWuXGT9nQ5vOP4yiv1Pd4cw31vNPZd6dZ/%2BA0K0v8A20%2BzqKKK6jwgooooAKKKKACiiigAooooAKKKKACiiigDL8c/8iTrH/YKuP8A0W1ch45/ZF/ZQ%2BKHim68c/Ev9mH4eeItbvtn23WNd8FWF3dXGxFjTfLLEzvtRFQZJwqgDgCuv8c/8iTrH/YKuP8A0W1eGfHP/gq1%2BwN%2BzX8U9U%2BCnxr%2BPX9i%2BJtF8j%2B09M/4RbVbnyfOgjnj/eQWrxtmKWNvlY43YOCCBx42rl9GkpYxwUb/AG%2BW1/8At5NX38yo5/U4df1mGLeGb93mVSVJu%2BvLzRnBu9r2vbS9tNOu/wCGB/2Ff%2BjLPhL/AOG50z/4xR/wwP8AsK/9GWfCX/w3Omf/ABivJP8Ah%2Bb/AMEsv%2Bjov/LJ1z/5Co/4fm/8Esv%2Bjov/ACydc/8AkKvL%2BvcK/wDPyh/5T/yL/wCIpYn/AKHs/wDwsq//ADQfV99Zw6jYzafc58ueJo5NpwdrDB/nXzp%2Bzf8AsI%2BM/gqPAy%2BL/jxa603gD4N3Pw40W50Lwm%2Blztp7Pp32e6d3vbkfao108bmUKjvKGVIgmxvoTxBqs2haDfa3b6NealJZ2cs6adp6obi6KIWEUQdlUu2Nq7mUZIyQOa8Kv/8AgpB8CR4CufiT4a0nV9X0q0%2BG2geN7m8F/pWnQQ6drM8sVjHJc6nfW1vDOwgnkZJJVVVi%2B8WeNH%2BgMjxz4N/8Ean%2BFqX8lx8aPCiXF9b%2BAYLmbwr8Kl0k37eGfESa19tvm%2B3zSXt/e7DDNcu4wSJAhwY29j%2BH/wCw7qHw5v8AwTrGjfFeCW78E%2BKvHWuWpuPDpMdzJ4iv728WN1W5BC27XYUkNmYR5/dbvl878U/8FWPCmteD9I%2BM3wja2l8DX3wQ%2BJHjDUbuXTotUvrTUfDGq6Jp5gjW21BLW6jEl9fBhHc%2BXOYoWiuVjO9%2Bt8d/8FA7tf2g/A/wc%2BGHwl1y50TWvjDceB9d8eanYQHSZbm20jULy6tbQx3YuVnimtEjMstuLcmOeNXZwMAHp37QnwJ8R/HH4c6JpWnePrPQ/F3hnxDpuv6D4j/sNrm0h1K0cEmSz%2B0I0lvKjTQvEJ1cRzttlVwHGN8Lv2dfi38Hfg3qngPwV8bdHHiXXD4k1bVvFd94LeVW8R6ndPdQ3sVqL1VSztpJZFFmzu8kSQqblWR3lvftJ/tDal8K/wBmq5%2BMvw80E3OqajeaTpfhmz8R6dc2Srf6pqNtpto11BKsc8caT3cTyIQj7FYDacEV/wBl/wCL3xV%2BILfEf4a/FqXw9deLvhp42/4R%2B91jw7pc9jp2qCbSdO1W3uUtpri4kt/3WpRxPGZpDvgdg21lAAOV/Z8/ZW/aZ/Z5%2BA0vww8P/tBfDvUPEj6yNSl8Yah8Jr921S6l3Ne3eoxNrxkurueQh/OSeFIwoRY/LVEXLvP2Evi3p37Lk37K/gf4%2BeE7TSfEkXiYePr7Wfhc1894%2Bu39xe3f9nRLqUUOnxo95cLFFKl2qqId3mFGMnM%2BNv2sv20Ph1pnxm8C2tv4J%2BIHi34eeF/D%2Bo6fqngf4d6s1ta6hqF1MkulXGmx6hcXF5cQ2scN2FgnjkaO6i3RRh42k0PHv7eHjHwr%2ByDe%2BNfht4z8K/EH4oXM2rWWjWaeBtT8O2tlc2MD3N2%2Bo6VeXct7aJaW6eZLHLLG8rPBEpia5iNAGpq3/BO7XLj4kyXuk/HWNPBF9448J%2BLNU0LUvC5u9a/tDw/Bp8VpFbaqbtRb2sh0y2aaI20jMZrzbIguWxiQ/wDBLSTVvC958NfHPx6a98L6L4F13wp8LLTTPDAtLzwzaaleWt2J7id7mVNQntmsbKOBhDbqI4WEiStIWGl8af2hv2udF8EfBr4gfCjxl8OI5vijq/hfSE8Iaz4Av7u4nuL0fa9TnhvItXhWKO306K9uVja3kP8AohDOwfK8HqX/AAU/%2BK3gr9oXxb4c8ceGdHfwp4avfGKT6TB4T1G2mS00PT5byO4t9elnbTtVuZ1hG/TbaIXFqJZDL/x6TZAPRX/YN%2BLlzrP/AAvC%2B/aL0GT4wx%2BP4PE1r4qT4ezLokaRaJLoo086X/aZma3NrcXEhP20P9pl8wMEVYRj/ET/AIJZ6F8Sfgz4S/Z68UeKPBWreG9M0y7tvFmseIvhfFfeIr%2BS/uXuNUl07UDdqmkG8aadXCwTlVl%2BRlZVYcz4v/4KJftC/ALwnrHh/wDaAsvA914vvdD8Eaj4UvvDXh/UVsLV/Eep3Omm1ntRcXFzfPZyWzygwNG96JEijigc5q58Q/25vjpoPgT4feJfCXxX8K3mkajP4jj%2BI3xDh/Z08VXlpoEmnvEsdvdaPDqIu9Idd8qzPeTbVMBYiMNgAHoVl%2Bwj4ph/aBtviPe/G6zuPCNj8U7r4hWXh8%2BEiNYXV59Ml09oX1X7WVazVJnKxC1WUIscRmMS7DhWv7A/7QGt%2BGfi34d%2BJH7UHhO8b4lfEDSfGumz%2BH/hdc2I0rVNOOk%2BTFOk%2BsXIvrJ10a1Sa3/ctIstwvmKsihGfEn9tv4v6L8StZ8RfD6TwXqPw38DeJ/Bfh/xOW0%2B4l1DXJtfmslN7YXUd0IbeC3h1OymCPFcG4xKgeLCue7%2BE/xY/aM8UftE/Gn4EeMtb8FY8LaZpOpeAdQ0zw3eR/ZodROprFHqCvet9seP7FEzNCbYNvdQF4agDjdP/YB%2BLvh3XZPjZ4Q/aR0Gw%2BK95421TX9S8Qt8OZJNCePUNLsdNns4tKGpLLEnl6XYThzeOxuYXkfesrR12ngH9iTw78Pb/wCB2m6b43urrw58C/CV1p2g6Pe2Yea%2B1OSyg0%2BHVZZw4AljtP7RjKCP5zqTtuUIFbwy6/4KJftG6R8PfFwuLXRL7UvD/wAUtE8LR%2BKB8H9fsZkt762WaWYeEprxtXu3jciOMQyj7QspmjBjgk3cr8TP%2BCrv7Sfhf4D%2BE/ido3hvwpFeX/grxXrl7L/wgmr6nDqc%2Bkar9hgtp4ba7WTwrHNHiS4utTaSLTpHaC4PmQSZAPrHVf2SvDnjL4mfFXx98SvET6xb/E3wXZeEF02O08j%2BydEhhuxJbpJvbzHmnv7uVpAqcGFCreSGPn/hv9g74oQeEPFi/Ez40eBvHfijxB4O0DwjaXfi34TNc6Iui6VcXEyJeaX/AGkPttzM13ctLMs8MZfySkKLFsdfCP7WHxeu/wBuHXfgp8TPEug%2BFPCMfiG203wNp9/8K9aMnixZPDtpqDta%2BI2u10xpkupbxfsywPK0VhIMAkyLN%2BwX%2B1P8XfjvqOq6B%2B0F4m0TS/FMNpJeR/D5fhPrfhq/sLQXksK3In1S7lTVYGCxDz7WJYg7jLfMq0Adr8A/2afDv7KP7NGp/C3QbqyuJZjquq6rdaZo0enWkl3dPJM629pGzLa28YZYYYQzeXDDGpd2BdofHH/KQv4X/wDZGfHn/p28IV6l45/5EnWP%2BwVcf%2Bi2ry3xx/ykL%2BF//ZGfHn/p28IUAezUUUUAFFFFABRRRQAV4z%2Bwf/yRDXP%2ByzfEf/1Ndbr2avGf2D/%2BSIa5/wBlm%2BI//qa63QB7NRRRQAUUUUAFFFFABRRRQAUVneK/F/hPwJoU/ijxx4o07RtMtV3XOo6rex28EI9WkkIVR9TXzd44/wCCwf7E2ga63g34Z%2BKte%2BKGvqfl0L4W%2BG59YmcdMrIgWBufSQ1y4nHYLB29vUjG%2B13q/Rat/JM4sZmWX4C31mrGF9k2rv0Wsn8os%2BoqK%2BSW/wCCjv7SvipSPhJ/wSp%2BMl67j9wPGLWmgAntuMzvsHqecVGmif8ABZf46sJtS8bfC34EaZJzHDpemt4m1iL2kMxFo31Ujv7Vx/2xh56UITqP%2B7CSX3zUI/icP9vYWpphqdSq/wC7Tkl/4FNU4r7z66rN8U%2BMvCHgbS21zxt4q03R7JThrzVb6O3iB9C8hA/Wvlt/2Af21PEymH4k/wDBWj4hXMcnE48L%2BEdO0VyvfY0W4ofQjpV7wp/wRv8A2ItP1VfFHxU8N%2BJPifroGG1z4meK7rU539dybkhbPvHR9bzWrpTw3L5znFfhBSf4oPr2dVtKWE5fOpUivwpqbf3o7Txz/wAFNv8Agn58O948Sfte%2BBWaPO%2BLStcj1B1PoVtfMOfbGa8%2Bf/gtN%2BxhrUhj%2BEtn8Q/iAQcZ8GfDrUJwT7GaOLNe5eCP2Sf2VfhgFk%2BH37N3gPQ2j5E2meE7OF%2BO5dYwxPuTmsj4n/t2fsX/AAPY6f8AEn9pnwTpNxD8rad/bsMtygHbyIi0gH/AayrTzSlHmr4ilSX%2BFv8AGc4r8D0MuyPjjPa/sMDFTn/LRoVa0vzf4xS8zyM/8FSvGWu8eAP%2BCZ37SF/n7kureBI9Oif3DyTNx74ob9tj/gop4qH2b4df8EntagaXiO98WfEzTbGOL/aePaXYewOalvf%2BC1P7Bt5cvp3w08W%2BKvHV6h2/YfB3gTUrmRm/uqZIY1J%2BjYqI/wDBRP8Aaj%2BIHy/s/f8ABLH4raiJOIbj4gXln4YjI/vHz2kOO/uK8946lPRZg5/9e6cX/wCkwqfmfYLwb8U7c2N9pho96ywuEX/lxUjL5qDGroP/AAWq%2BJh8/UvHvwO%2BGVo/%2Brg0nS77Wb5B6SGciEkf7PFOH7E3/BRTxIfO8f8A/BWjXF3f8u/hj4XaZp6x%2BwcMzN9SM0fb/wDgtR8T%2BbXQfgb8L7GTqL26vta1GL6eXi3bHvQf2C/22/iHz8d/%2BCqfjloZP9ZZfDjwzZeHvKH91J497n/eIzR7L23w0sRU85TdNfdzR/8ASR/8QqyHDa5vxDRT6qFfE4mX/gOFpU6d/L2luzI7z/gnJ8bILZ9T8Tf8FWfjdGYxl54dVtLWFfcr5eMfjXnPjT4SfD3wGWsPiT/wXv8AGWmW4/1trJ8QNJtrs%2BysPnz9FNen2X/BFz9iLUrpNT%2BMFj42%2BJN%2BhyNQ8e%2BPtQu5S3qRFJEhz7rivR/Bn/BOH9gnwDsPhv8AZC%2BH4eP/AFc194ZgvJFPqHuFdgffNH9k4uptRhD1rVpP58rS/EX%2BqHgvhP4mKx2If/TunGjF/Ovi6kresE/I%2BFvEuuf8Eg9AuCPHn/BW346%2BI9Qz/wAfw8f6tfyZ9Fa0simKyT4t/wCCbWo/uvAv7Y/7ZPiRD9y10DVNXkEn0Elqn86/VLwx4A8B%2BCYBa%2BDfBOkaREBgR6ZpsVuo/BFFa9H%2BrtWW7pr0hUf4yr6/MP7O8E6PwZLiannPGqN/VU6Df/k7PyVb4cfs6eOf9B0X9jf9uf4jxP0g8XX93ZadN9ZjMhH5Cuq8DfsaeNbfYfhJ/wAEH/h3oMP/ACwv/ir8UItXLe727GRx9CTX6gUVUOF8Pzc056%2BVOmvxkqj/ABLp4vw2wMubBcLYXm/mr1cTiH90p0o/KzR8N%2BF/2Yf%2BCndlbqnhrwN%2ByN8P7Yf6my8N%2BCL2Z4h7lkVC3%2B7xXV2n7Mv/AAVj1KH7Jdf8FDvBPhaI9R4Z%2BD1rcbfoLhwK%2BuaK9CGR4aCt7Sp/4Ma/9JUD1Icf4nDK2EyzAUV05cDQdv8AwY6v43Pkv/h3z%2B17r3zeP/8Agq/8Tbkt/rP%2BEd0Cw0kH6CMNto/4dMaLrHzfED9vX9pTxCD9%2B2vfik0cB%2BkccIx%2BdfWlFX/YmWP4oOXrOo/zmaf8RR43h/AxEKX/AF7w%2BEp/dy4W6%2BTR8mx/8ETv2Ab%2BRZvHngbxR4skU58zxH4%2B1SYk%2Bp8udAfyrrvDP/BKT/gnP4S2/wBlfsieEJdvT%2B07N738/tDPn8a%2BhKKuGS5RTd44eF/8Kf4tM5sT4meIuMhyVc4xLj2VepFfdCUEvkkefeGv2Sv2VfBm3/hEP2Z/h/pWz7p07wbYwkf98RCu40vRtI0S2FnoulW1nCOkVrAsaj8FAFWaK76dGjSX7uKXokvySPlcXmeZZhK%2BKrzqP%2B/Oc/8A0ucgooorQ4grxn9l/wD5Lf8AtHf9lmsf/UK8L17NXjP7L/8AyW/9o7/ss1j/AOoV4XoA9mooooAKKKKACiiigAooooAKKKKACiiigAooooAKKKKACiiigAooooAKKKKACvgz/gpbqn9hf8FV/wBiDVN2N2qeMbXP/XcaHFj/AMer7zr86/8AgsdeS6R/wUH/AGJdfThLPx5qJuG/uxPqnhuNj/4/XmZxLky2cu3K/wDyemfceG9BYnjTC0X9tV4/fhcX/kj9FKKKK9M%2BHCiiigAooooAKKKKACiiigAooooAKKKKAMvxz/yJOsf9gq4/9FtWpTZ4IbmF7e4iV45FKujDIYEYII9KzF8GaMihI7jU1UDCqmt3QAHoAJOKANWisv8A4Q/Sf%2BfvVf8AweXf/wAdo/4Q/Sf%2BfvVf/B5d/wDx2gDUr5u0L/gl78CvCXgTxL4K8GeO/GelT%2BIPihD46sddhvbKa70C%2Bt5Y5LW0sluLSS3Flb7GWK3mhmCiWQ5LEMPff%2BEP0n/n71X/AMHl3/8AHaP%2BEP0n/n71X/weXf8A8doA%2BeB/wSr%2BBM/w7vfh3rHxL8faimpeE/H2gajq19qtm95cxeL9VtNU1W4ZhaBPPW4s4/JIQIiO6sknyleim/4J%2B/DtvjfpXxitvi147trDRfiHc%2BONO8BwX9kNFi125sbmzubrBtDdMJVu7iRojcGISyNIqKSc%2By/8IfpP/P3qv/g8u/8A47R/wh%2Bk/wDP3qv/AIPLv/47QBznxL%2BBOgfGL4IXnwO%2BJPinWdTgvrOKOXXxJBb6ilzDIk0F6jQQpDHcRTRxzIViCB41Owjg5Xwg/Zot/g1pl/Ho/wAY/F2p6vr3ia417xh4l1hdNe98RXklilihuRFZRwxrDBBZrGttFAB9ihDblMiydx/wh%2Bk/8/eq/wDg8u//AI7R/wAIfpP/AD96r/4PLv8A%2BO0AeMfAP9hfUv2dPhVrPwq8Efti/FW7TV7hrwa/q9t4al1K2v5Lg3FzfecujKLq4nYkSPdrOCpwoXAIg1j/AIJlfsoePfhjrvw%2B%2BO/gW0%2BJuoeI9R1HUtT8Z/ELQtL1DVhf3trBaS3cDfZFt7SRbe1tIkEEMaKtrD8pK5Pt3/CH6T/z96r/AODy7/8AjtH/AAh%2Bk/8AP3qv/g8u/wD47QB574L/AGOPg38P9R%2BFs/hO0ubLT/g/4cvdJ8HaDax28NhG1zDBA17JFFCv%2BkrDFLGrIUQLe3OUYupTmbP/AIJ2/B4eOn1/X/G3i3WvDSeJPEHiHTPhzqt1ZtomnarrcV9Fqd3FstVu3My6nqX7uW5kiT7fNsRfk2e0f8IfpP8Az96r/wCDy7/%2BO0f8IfpP/P3qv/g8u/8A47QB4Z4f/wCCb3ww0nwbq3h3XfjB4/8AEGrXtv4dttI8Y65fae%2BqaDBoN093o8Vo0dkkLC2uZJZd1xFM87SuLhp1O2tE/sMCy%2BHNz8O/C37VXxQ0T%2B29T1TUPG2uaa%2Bhm%2B8UXN/sE0l082lyJblUjEcf2JLXy04HIUj2L/hD9J/5%2B9V/8Hl3/wDHaP8AhD9J/wCfvVf/AAeXf/x2gDxi%2B/4J2fBJvGOj614d8S%2BKNE8Paavhw33gHS722/sfWJdBdH0ia6E1vJc77dorf/UzxLKLWFZhKqAVo6D%2Bxxqvh745fED482P7WXxMN/8AELRF0u60prfw8LPSY4ftH2KSz26SJhJa/apvLM0swbcPOE2Bj1b/AIQ/Sf8An71X/wAHl3/8do/4Q/Sf%2BfvVf/B5d/8Ax2gDxC7/AOCeXhHVpLjxd4g/aC%2BI2oePpPEun63Z/E2efSE1awnsbW6tLaKGGLTk08Qrb319GY2tGDi8lZtzFWXL1b/gl38JbvwuPDeg/Gr4j6JJqOha1o/jXVdL1LTzdeLrTVtQn1HUFvmmspEieW6urqQSWa2skX2l1iaNQir9B/8ACH6T/wA/eq/%2BDy7/APjtH/CH6T/z96r/AODy7/8AjtAHm%2Bq/si6P4h%2BJ/h7xv4l%2BMnjO/wDD/hHVYNT8LfDmQ6ZFoumXcFq1tDKrQ2SXsuxXd1Sa6kjEjbtvyIFsfC79lqDwF8WJPjd41%2BN/jXx/4kj0CbRNIvfF50yNdJ0%2BaeK4nggj06ytEPmyW9sXklEkh%2BzxjeACD6B/wh%2Bk/wDP3qv/AIPLv/47R/wh%2Bk/8/eq/%2BDy7/wDjtACeOf8AkSdY/wCwXcf%2Bi2ry7xx/ykL%2BF/8A2Rnx5/6dvCFeonwZob4Wdr6ZMgmK41a5kRvZlaQqw9iCK8u8cf8AKQv4X/8AZGfHn/p28IUAezUUUUAFfP3/AAUuOmD9mu1/4TTy/wDhCv8AhYXhf/hZH2j/AI9/%2BEe/tm0%2B2/as8fY/L/4%2Bd37v7N5/mfu99fQNFAHwX4ItPhf4%2B/YC%2BLXwv%2BH/AMZfBXhbwJH471LVvATatrUdroh8Iw6xFI8TsjfudDup4NQsxNGDCLWY%2BUGjCKfMND%2BK/wCyr8N/2VfHHiD9pn4PfA7WPCHiP46y2H7N3gk6layeCmkk0HTkmexvL6CGBNPjvo9WmlvhBGoIumgRzJCkn6h0UAeT/s6aL4n%2BH37FfgTwx8LvH2ifFLVdE8AaXZaX4nv/ABI8Nh4kkhtYo/tZvYo7txHLtLiQJOxBGSxJasP/AIJ03HiW7/ZuvrrxlpNjYavJ8W/iG2p2Omai93bW858Z615kcU7wwtMgbIDtFGWABKLnA90rxn9g/wD5Ihrn/ZZviP8A%2BprrdAHs1FFFABRRRQAUVznxX%2BLvwx%2BBngW9%2BJnxf8cad4e0LTk3XepancCONfRR3dz0VFBZjwATxXyW3xi/bK/4KWSnS/2Y01T4NfBidttz8UNWtDH4g8Rw9/7LtzzaxMOlw2GwQykFWjrgxeYUcLNU0nOo9oR1b830jHvKTS9XoeZjs0oYOaoxTnVltCOsn5vpGPeUml2u9D3z9pX9uj9ln9km1Vfjb8WbCx1OYD7F4css3eqXbNwgjtYQ0hDHADEBMnlhXig%2BO3/BS/8AbFPk/s2/BS1%2BBng24%2B746%2BKdqLjW5oj/AMtLbSlysTdCBOSjDkMK9b/Zp/4J7fspfsqXTeIfhr8No7vxNOxe%2B8aeI5jqGsXUjffdrmbLIW/iEYRT6V7XXP8AVsyxn%2B8VPZx/lp7/ADqNX/8AAIx9Tl%2Bp5vj9cVV9lD%2BSk9f%2B3qrV/wDwCMf8R8oeFP8AgkZ8Dtc16Dx7%2B1x8R/GPxx8Rwt5kdx4%2B1lzp1s/cQWERWKND/wA828xea%2BlvA3w5%2BHvww0NPDPw18CaN4e02P/V6foemRWkC/RIlVR%2BVZ3xd%2BOfwc%2BAXhd/Gfxq%2BJuieF9MXIW61rUEgErAZ2RhjmR/RVBY9hXzXN/wU1%2BI/7QE7aN/wTx/ZJ8TfEOFnKL498UI2heHI%2Bcb0luAJbnHeNVRuRjNRzZLlE%2BWKSqPok5VJfdzTfq2l5n2/C/hvmuY0JYvLcGoUU7Tr1HGnST/v4itKMW/7qnUl2h0Pr6vJv2hf26v2R/2V1MPx1%2BO%2Bh6Le4BXR0ma6v2z0ItbcPNg/3tmPevGv%2BGM/2/8A9ooed%2B17%2B3VN4X0mf/X%2BCvgdYnTYgp6odRnBuHUj5SpUgjODzXrP7O//AAT9/ZC/ZakXU/hD8E9Kt9YyWl8S6mrX2pyueWc3VwXkUseSEKrntV/Wc1xP8Giqa/mqPX5Qg2//AAKaPqf7F4ByPXM8xljKi/5dYONoX7SxVeMY286WHn5M8sb/AIKpa18Rh9n/AGVP2D/jJ8QGk/49dVvdAXRNJmJ6YvLo/KPXKcDmmjw7/wAFjvj8d%2Bt%2BPfhp8BdIl%2B7b6Jpx8Sa1ED1V3mItTxwGQg9T6V9dUU/7NxNb/eMTNrtG1Nf%2BS3l/5Mhf66ZJlv8AyJslw9OXSddzxlT1SrOFBP0oS%2B4%2BR1/4JFeAPiGRc/tZftP/ABc%2BLLPzcaXrvjCWz0o%2Buy0tNnlg%2BgevWvhV%2BwH%2BxT8E40Hw0/Zf8F6fNGMJey6HFc3QH/XecPKf%2B%2Bq9eorWjlOWUJ88KMebu1zS/wDApcz/ABPOzLxC43zWh9XxGYVVS/59wl7Kn8qdFUaf/kr82yKzsrPT7ZLOwtIoIYxhIoYwqqPQAcCpaKK9HY%2BPbcndhRRRQIKKKKACiiigAooooAKKKKACiiigAooooAKKKKACiiigArxn9l//AJLf%2B0d/2Wax/wDUK8L17NXjP7L/APyW/wDaO/7LNY/%2BoV4XoA9mooooAKKKKACiiigAooooAKKKKACiiigAooooAKKKKACiiigAooooAKK89/autPgHe/s7%2BK7f9qCTwuvgQ6bnXz41ngj0vaJFMQuGuCItpmEYAc4LbRznFfIngX4yfD34i/8ABCnwJo3wm%2BKuk67JY/BHwlF4utPCmuR3V5b6Pbpp1vrilbZ2kRo7VbyJwAHRwV4YYoA%2B/a/OX/guX/xL/jj8BPF/T/hHodV1Hf8A3dviLwemf/IlfQP/AATdPwuM3xi/4ZsOh/8ACof%2BFnRf8K2/4RPyv7E8n%2BwdJ%2B3f2b5H7n7L/aH2vPk/J9o%2B1Y53V8w/8Fybj4u313d3nivwT4esNK0L4U69e%2BE9R0rxPPeXd8qeLfA3mNc28llCloVBGBHNcBstkrgbvKz3/kTYh9oN/dZ/off%2BFLX/ABEvJ4PaeIpw/wDBjlT/APch%2Bm9FR2l1DfWkV7btmOaNXQ%2BoIyKkr1dz4Fpp2YUUUUCCiiigAooooAKKKKACiiigAooooAKKKKACiiigAooooAKKKKACiiigAooooAKKKKACiiigAooooAKKKKACiiigArxnxx/ykL%2BF/wD2Rnx5/wCnbwhXs1eM%2BOP%2BUhfwv/7Iz48/9O3hCgD2aiiigAooooAKKKKACvGf2D/%2BSIa5/wBlm%2BI//qa63Xs1eM/sH/8AJENc/wCyzfEf/wBTXW6APZqKKKACvm/9pv8A4KK%2BEfhX44/4Z2/Z68E3nxW%2BL10pW38FeHJQYtN6DztRuf8AV2ca5BIY7uRkKGD1n/8ABRP9oj4i6cfD/wCxX%2BzBqG34sfFUvb2d9GTjw1o4yLvVpSvKbUDrGeCXDFcsgU%2Bo/sp/sh/BH9jr4bwfDz4O%2BFIbZ3jRtb1yZN99rNyB81xczHLSMzFmxnau4hQo4rya2IxWLxMsNhWoqNuedr2b15YrZytq29I3WjbsvCxGKxmOxc8JgpKChbnqWu4t68kE9HO2rcrqF1o5Oy8X%2BFH/AATt8Y/Fzx1ZftF/8FKPHVr8RPFtq/n6D4Fs42Xwv4YJ52w2zcXUo4BllBzgZDlVevraONIkEUSBVUAKqjAA9Kw/iX8TfAHwc8Dal8S/ij4tstD0HSLcz6jqeoTBIoUHH1LEkBVGWZiAASQK%2BPm8VftSf8FV5zY/Dm5134Q/s9yttuPEzIbfxH43hzytop5srRx/y0OWdSPvBnjXNyweU/uaEHOrPW17zl/enJ7JfzSsltFbRPvOD%2BAfrmFq4yU1hsHBr22Jq3d5Wuor7detJfBRp3dtX7GmnI9l/aJ/4KS/snfs360PA2veO5fEnjGWQxWngTwRaHVdXnm/55eTDkROewlZM9q82/4S/wD4KsftefJ4G8G6J%2Bzl4OuOmseJ411jxPPEf4o7QYgtiRnKS4dTghq93/Z2/Y8/Zo/ZQ0T%2BxfgF8HtH8Pl4wlzqEMHm3t0P%2Bm1zIWll55wzEDsBXpdX9TzDF64qryx/lp3X3zfvv/t1QR9N/rJwfw/7uRZf7eqv%2BX%2BMUajv3p4WD9hDuvayxEl1Vz5o%2BEX/AASn/Zg8DeKE%2BKHxei1n4ueNzhpfFnxQ1E6pIrA5xFA/7iJQeVGwsnGG4r6VgghtoUtraFY441CxxooCqBwAAOgp1Fd2FweEwUOWhBRvvbd%2Bberb822fK55xLn/EuIVbNMTOs4q0eZ%2B7BfywglGEI9owhBeQUUUV0niBRRRQAUUUUAFFFFABRRRQAUUUUAFFFFABRRRQAUUUUAFFFFABRRRQAUUUUAFFFFABXjP7L/8AyW/9o7/ss1j/AOoV4Xr2avGf2X/%2BS3/tHf8AZZrH/wBQrwvQB7NRRRQAUUUUAFFFFABRRRQAUUUUAFFFFABRRRQAUUUUAFFFFABRRRQAUUUUAFfB/wDwWj0b%2B3tLvLHZu8v9nDx7cY/64654Lmz/AOOV94V8d/8ABTnRv%2BEg8Q6npYTcz/sl/Fh419XS48LOv6qK4czh7TLK8e8J/wDpMj6ngbE/U%2BN8rr/y4nDv/wAr0v8AM%2Bm/gZrX/CSfBPwd4i37vt/hbT7nd677aNs/rXU15T%2BwlrP/AAkP7Enwf1pn3NcfDHQWkP8At/2fAG/8eBr1atsJP2mEpz7xi/vjF/qebxBhvqWf4zD/AMlatH/wGrVj/wC2hRRRXQeQFFFFABRRRQAUUUUAFFFFABRRRQAUUUUAFFFFABRRRQAUUUUAFFFFABRRRQAUUUUAFFFFABRRRQAUUUUAFFFFABXjPjj/AJSF/C//ALIz48/9O3hCvZq8Z8cf8pC/hf8A9kZ8ef8Ap28IUAezUUUUAFFFeYftbfGTxl8GPhhYX3w1s9Ml8S%2BJPGGi%2BGtAk1uCSWytbjUL%2BG2N1PHFJG8scMckk3lLJGZTEIw8e/eoB6fRXzDf/tj/ABn8M/sh/ET4ka74e8PXvjn4b%2BN5vC2t31hpt0mjALfW0X9stbedJOlrDZXcd9PAJmZBDNGJjgS1xXwy/wCChHxg%2BPOoQfAz4IeP/hnrfi8fFPUPDEnxNtPDd5ceGbywtfDtprbX9rYx6iJZS32%2B1s9ovim9ZphIyqsbAH2nXjP7B/8AyRDXP%2ByzfEf/ANTXW60fgH%2B0/wCHPiH%2ByV4d/af%2BLeoaN4OtrrQVuvE82oaqkOn6XcxsYrkfaJiq%2BSsyOFd9uV2kgE4rA/4J0%2BJ/DXjX9m6%2B8YeDfENjq%2Bkap8W/iHd6ZqmmXaXFtdwSeM9aaOWKVCVkRlIYMpIIIINAHulcR%2B0d8ffAH7L3wS8RfHf4m33k6R4d09riVFYCS5k4WK3jzwZJJCkajplhnAya7evirxUf%2BHk37dafDyD/AEr4L/ADWEufEbD5rfxJ4uUHyrQ9pIrQElx03llYFZFNefmOKqYekoUdak3ywXn1b8oq8n6JdUeXmuNq4WgoUFetUfLBPa73k/7sFeUvJJbyR2f/AATm/Z9%2BIFtHr37bf7TNiP8AhavxYEd1c2cgOPDejcNZ6TEG5QKgRpBwS4UNlkLH2v8AaL/aE%2BGP7LXwe1n43fF3W/sWjaNb73CANNdSniO3hQkb5XbCquRyckgAkdZr%2BvaL4V0K98T%2BJNVgsdO060kur%2B9upQkVvDGpd5HY8KqqCST0Ar4v%2BCHh3Xf%2BCoXx9sf2vviho9zbfBTwJqT/APCnPCl/EUHiG/jYo2vXUbdUVgRAjDjHQYfzeSb/ALMw8MHhfeqzva/fedSfkm7vu3GC8vu%2BA%2BEMueEqY3Mpyhl%2BFs601b2lWpO7jRpt6OvXknrZqlTU6sly04KVv4XfswfGf9vzxppf7TX/AAUD0M6T4PsZ1vvh38CvNLW9qCMx3ur8D7RclTkQsNqAkMBl46%2BzoooreJYIIlREUKiIuAoHQAdhTqK7sHgaWDi7NynLWUn8Un5%2BS6JWUVol1c8S8U4/iWvBTjGlh6ScaNCndUqMG72ir3cpaOpUm5VKsrynJ6RgUUUV2nzQUUUUAFFFFABRRRQAUUUUAFFFFABRRRQAUUUUAFFFFABRRRQAUUUUAFFFFABRRRQAUUUUAFFFFABXjP7L/wDyW/8AaO/7LNY/%2BoV4Xr2avGf2X/8Akt/7R3/ZZrH/ANQrwvQB7NRRRQAUUUUAFFFFABRRRQAUUUUAFFFFABRRRQAUUUUAFFFFABRRRQAUUUUAFfNH7YOjf8JH%2B0VpPh7Zu%2B3/ALNHxPt9vrvu/Ci4/WvpevEfifp0Or/t6/DjSbj/AFd18EfH8L/RtU8Iqf51FWHtKUod0196a/U6sDiHg8dRxC%2BxOEv/AAGUZf8Atpl/8Epta/t7/gnT8Ib7fny/B0Ftn/rizw4/8cr6Cr5T/wCCJOozX3/BMr4bW91xPY/2taTrn7pj1a8UD/vkLX1ZXBk0/aZPh5d6cP8A0lf5H1niVh1hPEXOaK%2BzisQv/K1R/wDtwUUUV6R8SFFFFABRRRQAUUUUAFFFFABRRRQAUUUUAFFFFABRRRQAUUUUAFFFFABRRRQAUUUUAFFFFABRRRQAUUUUAFFFFABXjPjj/lIX8L/%2ByM%2BPP/Tt4Qr2avGfHH/KQv4X/wDZGfHn/p28IUAezUUUUAFcb8ePgl4a/aB%2BHUvw78Taxqel7dSsdT0vWtEmjjvdL1Cyuoru0u4Gljkj3xzwxttkR43AKOjozKeyooA8p%2BHP7LA%2BFPw91bwN4L%2BPXjiC61yS8vdS8TSrpMuoTatdXT3E%2BqkvYGHzyXEYi8r7KkUUaJAoWucuP2AvBR8NWZ0v41%2BPdP8AG1r4zuPFUvxUtZ9MbXbvVJ7A6dNJMsli9i0bWIjthCLQRJHbwFER4kdfeaKAOb%2BDvwo8HfAr4VeHvg38PrSaHRfDOkQadpq3M5lmaOJAoeWRuZJGwWdzyzMzHkmvPf2D/wDkiGuf9lm%2BI/8A6mut17NXjP7B/wDyRDXP%2ByzfEf8A9TXW6AE/4KEftETfst/sfeNvi5pMjf21DpRsfDMUQ3SSandMLe1CKOXKySK5A52o1Wv2Ev2bbH9k/wDZT8H/AAYW1RdTs9LS58S3KnLXWqzASXcrN1cmVmUEknaqjoBXjf7XP/GTf/BQ74M/sh237/QvAiyfEvx3EOULW7GDTIm7ZNwzFkPVHBxgV7b%2B2v8AtJ6Z%2ByT%2BzF4s%2BOl5Ek93pWnGPQ7FgSbzUZiIrWEKOWDSum7HIUMe1eHGtSeOr4yq7QorkT9Fz1H9/LH5WOHh/LMbxNxb7DCQ56jlDD0l3nOUXP096UIt9FGV9Ezwj9tfxHr37bX7Qmn/APBNH4V6vPB4ds44Na%2BPOv2EhU2embg8GkK4%2B7NckKWHUJg/MvmLX194b8OaD4O8O2HhLwtpEGn6ZpdnFaadY2sYSK3gjUIkaKOAqqAAPQV4n/wTv/Zcvv2Z/gFBN4%2Bnkv8A4h%2BNLg%2BIfiTrd2Q093q1wN8kbMP4It3lqBhflZgAXNe810ZbQq2li66tUqW0/lj9mHyTvLvNvsj9K42zXAqVLIMqnzYPB8yUlp7es7KtiH5TlHkpJ/Dh4U1o5zuUUUV6h8GFFFFABRRRQAUUUUAFFFFABRRRQAUUUUAFFFFABRRRQAUUUUAFFFFABRRRQAUUUUAFFFFABRRRQAUUUUAFeM/sv/8AJb/2jv8Ass1j/wCoV4Xr2avGf2X/APkt/wC0d/2Wax/9QrwvQB7NRRRQAUUUUAFFFFABRRRQAUUUUAFFFFABRRRQAUUUUAFFFFABRRRQB49/wUHPjkfsOfFg/Df%2B0/7Y/wCEC1P7P/Ym/wC3bPs7%2Bb9m8v5/P8rzPL2fPv27fmxXzn8D/Gn7PfhrwH%2B0tp37H17p83wzufDr3Hw70P4T6hbwjUdUg8PhtVXQRDmMygNYBmhVlS7eQuPNMufu2igD4N/4I06T4Q8O%2BNviLonw78Z/DrxRo/8AwhHguaXxB8G9F/szw39uMeqJPayWwmnVtYQJHJd3PmK8sVxYh4LcxKJPa7/Uvivd/wDBTbwXZ%2BNvBfh7T9Ct/g944HhrUdK8Tz3l3fodW8JeY1zbSWUKWhGEwEmuA245K7Ru%2Bh68Z8cf8pC/hf8A9kZ8ef8Ap28IUAeY/wDBGP8A0D9knV/CA4/4R74o%2BJdO2/3dt%2B74/wDIlfWlfJf/AASb/wCJbp37QXg9uP7H/ac8VxQr6QsbZ0P45NfWleTkWmUUV2TX3Smv0P0DxV18RMyqfz1Iz/8ABlLD1P8A3Iwooor1j8/CiiigAooooAKKKKACiiigAooooAKKKKACiiigAooooAKKKKACiiigAooooAKKKKACiiigAooooAKKKKACiiigArxnxx/ykL%2BF/wD2Rnx5/wCnbwhXs1eM%2BOP%2BUhfwv/7Iz48/9O3hCgD2aiiigAooooAKKKKACvGP2EWVPgfrruwAHxl%2BI5JJ6f8AFa63Xs9fMXwp8Zf8K6/YA%2BLvxB83yzofjD4uagHzjaYfFXiCTP8A47UVaipUpTeyTf3Jv9DOtVjRoyqS2im/uTf6HPf8ErYJvjdqvxY/4KCazGzSfFnxrLbeFXkHMXh7TGaztAAfuFmSXeBgExqag%2BPv/GZH/BSPwT%2BzHbf6T4M%2BCUEXjj4gKOYp9ZkBXSrN/wDaQE3G0jDIzA9K63/gntNo/wCzt/wSq%2BHvi7xEvlafovwx/wCEjv8AnGIZIZNQc%2B3yyE1R/wCCR/w81q2/Zom/aW%2BIX73xn8a9bn8YeI7kqfljndvsduhPPlJBsZF6L5rAcYr5jD0pVsLhMG/tr2tTzV1Nr/t6pKK/wxsfY%2BF9N8OcFYniWp/GjBUaL6/WcXCc6lT1pYeVaSe6lUp9kz6mooor6o%2BSCiiigAooooAKKKKACiiigAooooAKKKKACiiigAooooAKKKKACiiigAooooAKKKKACiiigAooooAKKKKACiiigArxn9l//kt/7R3/AGWax/8AUK8L17NXjP7L/wDyW/8AaO/7LNY/%2BoV4XoA9mooooAKKKKACiiigAooooAKKKKACiiigAooooAKKKKACiiigAooooAKKKKACvGfHH/KQv4X/APZGfHn/AKdvCFezV84/Gn4hW3hH/gqV8APCV3IAPFXwm%2BI9jbqcczRXfhS7BH/bO3l49/apnOMFeXl%2BLt%2BpFSpGnHmltovvaS/Fo5n/AIJz40j9pT9qrwh08n4xrqOz/r7s0fP47K%2BtK%2BS/2OP%2BJN/wUz/a38MnhJbrwXqMA/vebpMnmH/voAV9aV5eS6YHl7TqL7qk/wDM/Q/E33%2BK1W/5%2BYfBz/8AAsFhv/kQooor1j8/CiiigAooooAKKKKACiiigAooooAKKKKACiiigAooooAKKKKACiiigAooooAKKKKACiiigAooooAKKKKACiiigArxnxx/ykL%2BF/8A2Rnx5/6dvCFezV4z44/5SF/C/wD7Iz48/wDTt4QoA9mooooAK534r/FfwD8EfAV78TPibrjafo9g8Ec00VnNcyySzTJBBBFBAjyzzSzSxxRxRo0kkkiIiszAHoq8g/bX%2BG/j74h/CfSL74ZeGW13WPCfj/w74nh8OpdwwPq0Wn6nb3E9tHJO6RLMYUkMXmukZlWMO6KS6gG5ZftWfAW/%2BBV3%2B0knjl4vCGntcR397eaRdwXNtcQXDWstrJZSRLdJdLcKYPszRCbzcRhCxCnnX/b8/ZeTwnF4sTxT4ilabxHNoA8PW3w71yXXU1KK1F5LbvpCWR1CNltmS4JaAARSRyZ2SIx8X174A/tEeNf2Qfi74Hu/gPe2eu/EvxtceKx4avda0zfb2Emp2yvpsdzFdPHBqrWFo06TqTbwXVzGy3DGIuPOj%2Bxf8cE0m31bVf2bPiXdeDv%2BFxav4gs/CWmfFq3g%2BIdnaXHhy1sI55/EA1iN5t14l6XT%2B1JJfsslnEXeOE2ygH318PvH3g34q%2BBNG%2BJvw78RW%2Br6B4h0uDUdF1S0YmK7tZoxJFKpODhlYHnB55r4i/aH8Zf8IL/wRs%2BO%2BtCXYbj4hfEXTgc9ftfj7VbTH4%2Bdivpb9mT4OfFPwT%2BxH4E%2BBnjbxY3hXxXo/gTTtKvtT8IW1gW0yeGBExbrLbPaMUChM/ZzESCVRQQB8afH/Sb/AP4dt%2BHPgPqvie%2B1y68a/tf634YuNT1OOBbnUnbx/rUrSSrbxRQh3NvuYRxomSdqKMAeZnU3DKK7W/I0vV%2B6vxkjx%2BIZyp5FiXHdwkl6yXKvxmj2L/go2%2BsfBr/gllY/ADwn%2B713xRp3h/4faHB03zXBht5I8e8Ec4xX1h8PfBWj/DbwDofw68Ox7NP0DR7bTbFMY2wwRLEg/wC%2BVFfL/wC2T/xeL/gol%2Bzh%2BzrH%2B9svDt5qfxC8QQ9fL%2BxxeTp8mP8Ar5aRc9s8V9cVlgIKWY15raChTX/bseaX4yS%2BR%2Br59COUcA5JlcdHU9tipLynKOHo3/7hYebXlLTRhRRRXsHwAUUUUAFFFFABRRRQAUUUUAFFFFABRRRQAUUUUAFFFFABRRRQAUUUUAFFFFABRRRQAUUUUAFFFFABRRRQAUUUUAFeM/sv/wDJb/2jv%2ByzWP8A6hXhevZq8Z/Zf/5Lf%2B0d/wBlmsf/AFCvC9AHs1FFFABRRRQAUUUUAFFFFABRRRQAUUUUAFFFFABRRRQAUUUUAFFFFABRXj3/AAUHPjkfsOfFg/Df%2B0/7Y/4QLU/s/wDYm/7ds%2Bzv5v2by/n8/wArzPL2fPv27fmxXz7%2Bzp4s%2BGui%2BHf2itD/AOCd%2Bt%2BE4/DF9o4l%2BDWm%2BDri2GmXniOHQVa9OmRxnypESRtO87yQUFw02/8AemWgD7jr8/f%2BCrnjO6%2BF3/BSf9iz4ow7lg07W/E1jqM46QWt/ceH7GV2PZQJ8H610/8AwR%2B8U%2BAyviHwD8O/Dfwvv4oPBPhnVte8cfDLR5IJLjVLkXyT6VrM8s00l7q1sYBLNPK6TN9uzLBASvmec/8ABZTwt8ZfiJ4m1CLXPBfh/TLTwp8E/F/iDwTrOkeJp729uPsPiDwbczS3FtJZQpaMsUbABJrgMHbJXaN3m5xzrK60obxXMv8At1qX/trXzPIz/wBosmryp/FGPMvWDjP8eRr5ntvwV/4kn/BYn42aZ0/tv4X%2BG9Rx/e8lnt8/rivrSvifUvH9p4Z/4KQ/Ar9qayYL4d%2BP/wAI5PDc0mcxwXcapqlo2f70okESjvg/WvtiscnnFwrQXSpJ/KfLOL%2Balc/VuPZRxcMozGm706%2BBw1n3dFVKE16xlTivRxfVBRRRXsHwAUUUUAFFFFABRRRQAUUUUAFFFFABRRRQAUUUUAFFFFABRRRQAUUUUAFFFFABRRRQAUUUUAFFFFABRRRQAUUUUAFeM%2BOP%2BUhfwv8A%2ByM%2BPP8A07eEK9mrxnxx/wApC/hf/wBkZ8ef%2BnbwhQB7NRRRQAUUUUAFFFFABX5x67/xVvxH/Zs%2BEX3vtv7XPxT8ReV6/wBleJ9cm3fh5ua/Ryvzd/Z9v7XxD/wUa8CaZeyDyfh%2B/wAaPE8xP/LFbrx3rNiX9uFxXk5y08JGH806a/8AJ03%2BEWeLnydTBworV1KtKPrepF2%2B6J7T%2By1/xeX/AIKg/tAfHeQebZeB9I0j4faBcdeVU3l/H7bbjbx719c18nf8EYNMutS/YsX4361Ht1f4p%2BN9d8W6znkmee%2BkhHPf93bxn8a%2BsaMkTll0az3qOVR/9vycl/5Lyo/WvFCUaXGdfL4P3cFGlhV2/wBmpwpSt61fbS8736hRRRXrH5%2BFFFFABRRRQAUUUUAFFFFABRRRQAUUUUAFFFFABRRRQAUUUUAFFFFABRRRQAUUUUAFFFFABRRRQAUUUUAFFFFABXjP7L//ACW/9o7/ALLNY/8AqFeF69mrxn9l/wD5Lf8AtHf9lmsf/UK8L0AezUUUUAFFFFABRRRQAUUUUAFFFFABRRRQAUUUUAFFFFABRRRQAUUUUAFFFFABXz1%2B0d4EsPil%2B114T%2BGWq7fsviP9nr4kaXc7hkeXcX/hOJs/g5r6Frxnxx/ykL%2BF/wD2Rnx5/wCnbwhUzjGcHGWz0%2B/T9SZwjUg4SV000/Rqz/BnxTbHxb8UP%2BCFvgT4u6Dbt/wm/wAANYg1iyiY/NbT6FqEkEiMRyALIM5HTgelfpH8OvHWg/FD4faF8S/Ctx5umeIdHttS06XP34J4lljP/fLCvlD/AIJ8eF9Es/Hn7Vf7G/iizWbTbH4qXmotp79F0zXrQSpCB2TakmP941uf8EgPFGt2f7Mepfs3%2BM7xpfEHwY8a6p4N1FpOGlhgnMltKB/cMMiop6ERV8vk0pUK1FS/5eU%2BR/46DcfvcPyPrOHJyzvwXpQk71csr8r7%2BxxF6UvlHE4aL8nV8z6sooor6o%2BVCiiigAooooAKKKKACiiigAooooAKKKKACiiigAooooAKKKKACiiigAooooAKKKKACiiigAooooAKKKKACiiigArxnxx/ykL%2BF/8A2Rnx5/6dvCFezV4z44/5SF/C/wD7Iz48/wDTt4QoA9mooooAKKKKACiiigAr8m/2dPF32b45ftnfFwS/N8M/BPxA0eJweY3ufF3iLUVQHsSyg1%2Bslfjf4advBf7H3/BRf4tRqQ%2BufH7XfDaOo5fb4iuYCg9eL88e9fPcRTdPDQkvsucv/AaVRr8Wjv4cyx53x/kGX2uqmNoJryUk/wDM/SP/AIJteEf%2BEH/YE%2BD%2BgmLYx%2BH2mXciY%2B69xAtwwPvulOa9trB%2BFvhNfAXwy8OeBkQKNF0GzsAo6AQwpHj/AMdrer2cHS%2Br4SnS/ljFfdFL9Dq4izD%2B1uIcbjr39tWqz/8AA6tSS/CSCiiiug8YKKKKACiiigAooooAKKKKACiiigAooooAKKKKACiiigAooooAKKKKACiiigAooooAKKKKACiiigAooooAKKKKACvGf2X/APkt/wC0d/2Wax/9QrwvXs1eM/sv/wDJb/2jv%2ByzWP8A6hXhegD2aiiigAooooAKKKKACiiigAooooAKKKKACiiigAooooAKKKKACiiigAooooAK8Z8cf8pC/hf/ANkZ8ef%2BnbwhXs1eM%2BOP%2BUhfwv8A%2ByM%2BPP8A07eEKAPIvF2pH9lX/grZY%2BPPEsQh8J/tB%2BErbQI9TDYSDxHp5P2eKXsPNt2EcfdnYgcKTVfxfrEn7CP/AAUoufih4nhWH4aftFx6fpd9qwO2HRvFFpE0duJeyJcxEjdxl9xbAQk%2B1ft3fsvW/wC11%2BzVrnwps7wWPiCHZqng3WFco%2Bm6xbHzLWZXHKfNlGYchJHxzXnXwW1vwN/wVZ/4J%2BXngL45aMbXW54ZvD3j3T/KC3GieIbMhXlRf%2BWciyhLhF7B1U5%2BYV8xXw1WnipUKbtLmdak3tzbVIPyd/8AwGd/sno%2BH%2Be4LhjibE5ZmabwOOhKNS3xKE5QlOUO9ShWjTxFNfaXPB6SbX1NRXy//wAE6v2kvG2s22t/sZftNatGnxd%2BFci2OoyTS4bxHpYA%2ByatDu%2BaRXjKCQ8kMVZtpkCj6gr3cHi6eNw8asNL7p7prRxfZp3T/wAmjr4k4fxvDGc1cvxLUnGzjOOsKlOSUqdWD%2B1CpBxnF9m07SjJIooorqPDCiiigAooooAKKKKACiiigAooooAKKKKACiiigAooooAKKKKACiiigAooooAKKKKACiiigAooooAKKKKACvGfHH/KQv4X/wDZGfHn/p28IV7NXjPjj/lIX8L/APsjPjz/ANO3hCgD2aiiigArxD9v7xJ4i0L4J6NpGieK9S0C08SfEvwr4f1/XNH1CSzurPTr7WrS2uBFcxMr2zzLJ9mEyMrx/aNyMjhWHt9ZvjHwZ4P%2BInha/wDA/wAQPCmm67omqWzW%2Bp6PrFjHdWt5Cww0csUgKSIR1VgQaAPjPxH8TPiN4V/4J8/GbRvDXxd18y%2BGPirfeDvAXirUNeuJ764hk1m1tIbSXUpJDOgS4uZdOa/Z2mt0iMzM8kJY%2BY6b44/ask1Cz/ZKjfW7m7n/AGidW0PXNGT466ykGn28Hg%2B21q10mLxa0LatNBJ5pvWcQpciUPabVtoy7ffem/s7fs/aN4RbwBpHwL8HWmgvoR0R9EtvDFpHaNphd3NiYVjCG3LSSN5ONmXY4yTVF/2Uf2W5fhSvwHl/Zr8AN4HW6%2B0r4MbwdYnSRPv3%2BaLTyvJ37yW3bc5Oc5oAxP2dPjXYePP2OPCXxp%2BG3w68VaxDc%2BFLaXT/AA1LrsN9q1wUURmI3t/dJHdSZU/6TNcATAeYXJfJ/O%2Bbw7qN5%2BwT4h8Pav4TvtEuvjV/wUF1%2BGfRNTaFrmBpfFl2hglMEksTuhsNjGOSSMlDtdlwx/WHR9H0jw9pFroGgaXbWNhY2yW9lZWcCxQ28KKFSNEUBUVVAAUAAAACvzt8R/8AFVeM/wBm/wCFX3vtn7YXxN1/yvX%2By/FOuzbvw839a8XPqcamXSvu7RX/AG/KEH%2BDZ934X0o/8RAwOLf/ADDe2rf%2BCsNiKl/k4wZ%2BjdFFFe0fCBRRRQAUUUUAFFFFABRRRQAUUUUAFFFFABRRRQAUUUUAFFFFABRRRQAUUUUAFFFFABRRRQAUUUUAFFFFABRRRQAUUUUAFeM/sv8A/Jb/ANo7/ss1j/6hXhevZq8Z/Zf/AOS3/tHf9lmsf/UK8L0AezUUUUAFFFFABRRRQAUUUUAFFFFABRRRQAUUUUAFFFFABRRRQAUUUUAeRft9fELxp8KP2KPin8SPh5rMmmazovgbUbqy1eGMM%2BmlYG3XihgVJgXdMNwK5j5BGRXnXwN8c6l%2Bz9rX7QnhTw7f%2BPPiL4W%2BGdpp2r6Bps%2BtX3iXWpbqXRhd3Ok209zJNc3Uj7LeeOFndg2oBV2xmNF%2Bnb2ys9Ss5dO1G0iuLe4iaOeCaMOkiMMMrKeCCCQQeCDXKfDn9nn4A/B7T7DSfhH8DvB/ha10uW5k0y28OeGbWxjs3uAguGiWGNRGZQibyuC%2Bxd2cCgD5l/4JR/G3x78UfH3x20T4n%2BNPHusazZ%2BNtL1CaDxd4R13SrPSDeaFp80un6fFq1rAYLaKdpljhCrI0eyeRSbjzJPQ7/xp4k8Q/wDBTbwX4d1b4R%2BIdCs9J%2BD3jhLDXtVudOe01oNq3hLL2y213LOgTaM/aIoD842hvmx7xpXhXwvoWranr2ieG7CzvtbuY7jWb21s0jlv5khSFJJnUAyusUccYZiSEjVRwoA8o8cf8pC/hf8A9kZ8ef8Ap28IUAezV8X/ALRPhX4p/wDBPb9obxD%2B3d8F/Cs/iX4aeM/s8nxr8E6dDm70%2BSFSo1yzXOHIUkzJxn5mY4O%2BH7QpJI45Y2ilQMrAhlYZBB7GuPG4NYymrS5Zxd4yW8Xt801o09Gm12a4MxwEcfSSUnCcHzQkt4yta9tmmm1KL0lFtaaNfNnx6/Zw%2BDX/AAUL%2BHHhf9pX9nv4opofjTTbYX3w3%2BKvhw/vrc8/6POvBmgLFkkgkGVJcYBLq2X%2BzT/wULni8aR/sq/t16VafDv4vWbiC3Nwxj0fxWnRLvTrhsI3mcfuSQwY7QCQyJz/AIs/ZC/aV/Yn8caz8Zv%2BCcM%2Bmat4V1m9OoeKfgNrkot7Oecj95NpVx0s5WA/1ZxH/vBY411vD/7Rf7BH/BTLwpc/s7fH/wAG22l%2BLIJTBqnwy%2BIdv9g1rTLvGCbUsVdmweJIG3bSNwXJWvC9pVp4rmVqOIe8ZX9lWt1T/m7P40tJRmkmfY8O%2BIGXYjL6fDfGNGTpxv7GpBr2lFt3bw85%2B7VoyfvTwlWUWpXlTdOd5T%2BsqK%2BNrP4D/wDBRn9iGM237LvxFsfjZ8PrU5tfh/8AEW/%2Bza5YQjpBaan9yUADCiYBVXCqp610nw9/4K4/syXmvx/Dr9o2y1/4LeMc7ZtA%2BJelyWURYcF4rzHkPFkjDsybgcgYr04ZvQhJQxadGX974X/hn8D%2B%2BL8j38R4dZtiaUsTw/UjmNBa3oXdWK/6e4Z2xFNrq1CrC%2B1Rqzf1LRVLw94j8PeLtHg8ReFNestT0%2B6TfbX2n3STQzL6q6Eqw9wau16qakro%2BAnCdObhNNNaNNNNPs00mn5NJhRRRTJCiiigAooooAKKKKACiiigAooooAKKKKACiiigAooooAKKKKACiiigAooooAKKKKACiiigArxnxx/ykL%2BF/wD2Rnx5/wCnbwhXs1eM%2BOP%2BUhfwv/7Iz48/9O3hCgD2aiiigAooooAKKKKACvzf%2BCl9Z69/wUI%2BE2lX0wEXgrxB8btffIJ2fa/Gmr2AOBzkkbR3J4r9IK/ND9gkDxj/AMFKPidrv308GjxNouOyPd/FLV7z8CVH5V5Obe9GhT/mq0/wcpf%2B2o/QPD79zWzTGf8APrA4t/OpGlQX3%2B2kj9Gv%2BEw0n/n01T/wR3f/AMapf%2BEw0n/n01X/AMEd3/8AGq%2BdvH3/AAWR/wCCb3wv8d618NPHP7Rv2HW/DurXOmaxZf8ACIaxL9nureVopY98doyPtdGG5SVOMgkc1k/8Py/%2BCWn/AEdD/wCWTrf/AMhVUs8yWEnGWJppr%2B/H/Mzo%2BFviZiKMatLJMXKMkmmsPVaaaTTTULNNNNPqmn1Pp/8A4TDSf%2BfTVf8AwR3f/wAao/4TDSf%2BfTVf/BHd/wDxqvnbwD/wWR/4JvfFDx3ovw08DftG/btb8RatbaZo9l/wiGsRfaLq4lWKKPfJaKibndRuYhRnJIHNd9%2B398YPiZ%2Bz7%2BxN8U/jj8G7TTZvE/hLwPqGq6OurzMlussELSb32xybtqhmCbcOyhCyBi69eFxuDxsXLD1IzS35Wnb1sfP55wzxJwxWhSzjBVcNKabiqtOdNySdm0ppNpPRtddD0v8A4TDSf%2BfTVf8AwR3f/wAao/4TDSf%2BfTVf/BHd/wDxqvnvU/23Pjb4V%2BIfjnwX8QvgV4E0LT/hl8PLTxN458T3fxUujY273cWqNb21tjRxLOofT4xLK6RFEuC0cczoIpOZ%2BG3/AAUq1f4q6p4Z0PVvhPq/hfW4vjRL4O8Q6Qst5bQyIfB%2Boa/DPt1jR7S9eF0hiTb9ntJBKgZZZIVK3HSeGfVX/CYaT/z6ar/4I7v/AONUf8JhpP8Az6ar/wCCO7/%2BNV88/slft8/En9ofT9EuPHP7MH/CP3fiz4TaL8QfCel%2BHvGsOqz3WnXzBHgnNxBZRW9xCXiYqHkR0fIcMpjrqf2q/FnxV1L4tfC/9nj4W/FfUPAjeNrrWLrVvFejabY3V7Fb2FkJFtoFv7e4t1aSaaFmZ4nPlQSqu1mEiAHrv/CYaT/z6ar/AOCO7/8AjVH/AAmGk/8APpqv/gju/wD41XzlB%2B0J%2B0j8T/8AgmR4Q%2BP/AMPrS5/4TnXdI8OzeIbvwroa3txb2kt/aRaxqGnWUiyCeVLM3lzbwFZdzLGuyc4jfi/AXxx/aV%2BNH7NXxB1DwL4u%2BNuoa78M/iVf6HpVz4d8KeF9M8SeKLMWNpeW8t5Z69Zw2kGwXoRkjitpm8gfu1ctFQB9g/8ACYaT/wA%2Bmq/%2BCO7/APjVH/CYaT/z6ar/AOCO7/8AjVfC0H7aH7TPjLwFD%2B0FpPxx0%2BOy8DeBPhpqureHvDeiWzaV4zuNdkR9SlL3lubyGFoZBHZrE8DxyqzTCYHyl6T4A/8ABSLR/wBoL/gp0fg34Q/aX8GXHgq78G%2BKbLRvh9Zarp0upyato%2BpaXC1/OFJuoZJll1XyrYkK1rZLcbcs3lgH2dpet6drHmLZSSb4SBLFPbvE6Z6Eq4DAHnBxg4NW6yrT/kdtQ/7Bdn/6Mua1aACiiigAooooAKKKKACiiigAooooAKKKKACiiigAooooAKKKKACiiigAooooAK8Z/Zf/AOS3/tHf9lmsf/UK8L17NXjP7L//ACW/9o7/ALLNY/8AqFeF6APZqKKKACiiigAooooAKKKKACiiigAooooAKKKKACiiigAooooAKKKKACiiigArxnxx/wApC/hf/wBkZ8ef%2BnbwhXs1eM%2BOP%2BUhfwv/AOyM%2BPP/AE7eEKAPZqKKKACvL/2jv2MP2Yv2s9JGmfHv4P6Trk0Uey01YxGG/tB1HlXURWWMA87Q20kcg16hRWVajRxFN06sVKL3TSa%2B5mOIw%2BHxVJ0q0FKL3TSafyaZ8fw/sZft/wD7NalP2OP23V8S6DbnNn4F%2BN2nNqEcajpGmpQYuVQD5VQKABjk9ayvHX7XXx70/wAOy%2BB/2/v%2BCUGv6/oucXmpeA4LTxZps46ecbVsPCg5%2B%2BSwAz7V9q0V5ksoUIuOHqygv5XacPTlney8lL5Hm0MrxGXVY1csxVShKLurSckmtuVSfNG3TlqRt0sfl14ei/4It%2BJ/Ec%2Bo/s7/ALXXjL9nXxVJLuvbPS/EOoeHlim/uzw3yG329MojKuOOK9v8D6F/wUt0iyGofs1f8FBvg/8AHDSYl3QQeM9FSGTyv7v2nSpH8xsdHfqetfWnj74Q/Cf4r2X9m/FH4YeHfElvt2%2BRr%2BiwXiY9NsqMK8H8bf8ABHX/AIJxeN7w6q/7NOn6Neht0N54Y1O80xoW9VW2mRB/3yR7V5jyXG0HeioL/BKpRf3L2lP/AMlPvIeJvieoKnmU8NmUFpbFUVOVu3tJRlUWnav9yMIftmf8FFfhr%2B6%2BNv8AwTE1HVreL/Waz8M/HNpqIl9Slm4Ew/4E3NKv/BZb9mLw1hPjp8Mfi18MXXib/hOfhteQrGe%2BTbibI96B/wAEmtO8LfP8GP27v2hPCCp/qbC2%2BIZurFPT9xNEc/i1H/DG/wDwUs8JjHw//wCCrNzfW6jC2Hi/4Uabd7v964VxJ%2BQovxHQ2Un6%2BxqfinRl%2BpX%2Bu/DuJ/5GXCnK%2BssJjJw%2B6Fb20Pl%2BB3ngn/gqL/wTz%2BIIQ%2BH/ANr3wREZMbF1jVxpzH2xdiMg%2B1eteEfi18K/iAqv4D%2BJnh/Ww4yh0jWYLkMPby3Oa%2BL/ABv%2Bxp/wUf8AEO8%2BLfBX7H/xIBz5knjX4c3cU0nuDCjAN75615L4t/4Jv/GvUWZ/F/8AwSI%2BBWuNnJbwL8TtQ0PJ9VBkQL%2BNH9rZ3S%2BPD3/7cqR/J1EL%2B2fCfEfHRzTCvzoYbExXzp1KMn9yP1Kor8lR%2ByB%2B0J4L40P/AIJxfHjwSqfcl%2BHH7VVrcbfdEkRyPYEmlA/bW8DDGlR/t6afs6C6fTvFG38/L30f6y1ofxMLJenN/wC3UkH/ABq2t/Dz6pT8q%2BXY2H3uk60fwZ%2BtNFfkt/w1t/wUN8Icj48/tL2USf8ALt40/Y/09h%2BM0N0XI/Cj/h6x%2B3L4T/4//jd4dn29f%2BEy%2BAuu2X/fX2MPj8KP9bsBH%2BJTnH5L/NB/ZvBdT%2BDxNgH/AI3i6P3%2B2wSS%2B8/WmivyYi/4Ly/tE%2BH3EPijxz%2Bz3eP08u38P%2BMrJ2/GazZQfxxWvp3/AAcMfESDH2r4Q/C/WfX%2BzviLcWG76fa7QY/GqjxlkL3m16x/ykyo8O5dW/3fPMsqemY4eP8A6dVH8bH6oUV%2BaGlf8HEFxIoOu/sl6FAO5s/jro836MiGtq2/4OJ/gvbjd4i/Z%2B1WD%2B9/Z3jnRLr8sXK5rePFnD8v%2BX9vVSX6GseDczqO1HE4Op/gzDAS/LGRP0Vor8/NN/4OOP2NrqQW958G/ikrnq1lpOm3UY/4FHf/ANK6bS/%2BC/P7EGoANceFfiZZg97jwZux/wB%2B5mrWPE3D89sTH73/APImsuAOLVtQjL/DXwkv/ScbL8j7dor49tP%2BC6f/AAT2lAOo%2BMvFVgO/2vwPf8f98RtWhaf8FxP%2BCYFywim/aVa2kP8AyzuvBusIR%2BP2TH61us%2ByN/8AMTD/AMCS/Owl4fccT%2BDLq0v8MVP/ANInM%2BsqK%2BZrD/gsb/wTR1LH2f8Aaw0Vc/8APfTr6L/0OAVs2P8AwVS/4J2ahj7P%2B194MXP/AD31Exf%2BhqK1jm%2BUy2xEP/A4/wDyRMvD/jyKu8pxP/hPWf5U2fQFFeL2X/BRr9gbUMeR%2B2X8NFz/AM9/GdnF/wChyCtaz/bj/Yq1HH9n/tgfC6fPTyfiBprfymraOYYCW1aH/gcf/kjiqcI8W0f4mXYheuHrr/3CepUVwVn%2B1R%2BzDqGPsH7R/gKfPTyfGFk2fylrVtPjh8Fb/H2H4v8AhabPTyvEFs2fyetVicNLacX/ANvL/M4KmTZzR/iYWrH1p1F%2BdNHUUVk2njzwNf4%2Bw%2BM9Jmz08rUYm/k1aVveWl2u61uo5R6xuG/lWilGWzOKpRrUvji16pr80iSiiiqMgooooAK8Z8cf8pC/hf8A9kZ8ef8Ap28IV7NXjPjj/lIX8L/%2ByM%2BPP/Tt4QoA9mooooAKKK8//aX%2BONz8AfhrF4s0XwiviDWtV8Q6XoPhvQ5NR%2Bxx3uo6hexWkCyz%2BXIYIVaXzJZBHIyxRuVSRgqMAegUV8/Xn7cl9oH7Jnjz9oXxZ8IxbeIPhvq9/pHivwpZ66Z7W2vbW4WJpRfG3Q/YfKkiu2uWgVo7dmdoQyNHXHWP/BUXTrr9kfxX%2B0bZfDXRfEGraN4mvPD/AIT0rwP45XVdG8Z3kFmt40um6t9li820jj%2B0faJ/s%2BYDp17hJfJG8A%2Bsq/OD/gkVoM1z%2B0t%2B2H47uCXV/wBou40q0Y/8sxD4l1OSRR9WnUmv0C%2BF3jX/AIWT8M/DvxF/sz7F/b%2BhWmpfY/O8zyPPhSXy9%2B1d23djdgZxnA6V8ff8EnfCraR4N/aK8UXEf73Wv20PGrxvjrDF4jESj8GWT868/F0/aYrD/wB2Un90JL9T6/h3GrBZBnK61aFKn/4FiqUn%2BFP7j7eor5i8f/8ABTX/AIQLx3rfgX/h3z%2B09rX9i6vc2H9saB8J/tNhf%2BTK0fn20v2kebC%2B3ej4G5WU4GayP%2BHsP/WNT9rT/wAM3/8AdVZyzrLIycXU1X92f/ys/N5cQ5NCTjKrqtPhqdNP%2BfR9aVi/Ef4eeDPi58Ptc%2BFXxG0GLVfD/iXSLnS9c0ydmVLq0uImimiJQhgGRmGVIIzkEHmvnzwD/wAFNf8AhPfHei%2BBf%2BHfP7T2i/21q9tYf2xr/wAJ/s1hYedKsfn3Mv2k%2BVCm7e74O1VY4OK9m/aT8YfE74efALxf8Qfgz4ctNZ8T6DoFzqWj6Lewu6alJAhlNqAjoQ8qo0aNuwrurEMAVPXhsZhsZFyoyulvpJf%2BlRj%2Bp24PH4PMIuWHlzJaPSS8/tRj%2BFzGg/Y1/Z4Xwr4p8Han4Q1LV7Pxr4bt9B8VS%2BIvFep6ndalYQfafJjkubu5kn3p9rnxKHEo3L8/yJtzvA/7BX7LXw91Jdc8P%2BAtSm1IeLh4ol1bWvGOraleXGrjSJtGF3NcXl1LLOw0%2BeW3xIzLtKnG5EZfDfEf/BR/4m/Ejwtc%2BMf2XG0PVbDxH47m0j4USxeEl1RvEGnWGkLdareyNc63pVtDHFd%2BfAHa4XaLNwElaQeXxPg39ur4jfFzxHonx4svtNrp3jz4Zfs76rH4UbX737DpU/iLxdrttfyQfZp4tzmLyUZjlJ1tYVmSWJfKPSdh9h%2BGP2TvgR4JsdEsPB3hO90pfDnga08HaJNp3iPUIZrTRbV43gtVlScOdpijzIWMjAEM7BmB0fjf%2Bz18Kf2idE0/Q/ilo%2BozDSNRN9pF/oniK%2B0i%2BsbgwywM8N5YTQ3EW6GaaJwkgDpIysCpIr5N%2BCf7VP7UHxu/ak%2BEHjDU/FXhH%2BxPHfwt8f634c%2BHulXV7p7Wslnf6NBbQatKZrhLqWPzSjXCW0RtpHuEWKTOT7d%2B2/q3iSfTPhR8N5fFWq%2BHdI8d/Few0PxnqXhvXbjT7qGzOn390kEN7btFPb%2Bfe2tna%2BZG0cjLcFVKlxQB6FJ%2Bzv8ACxPAY%2BGGjWOsaLoEXhyw0Ky0zwz4r1HSo9PsbMk26Wn2O4iNm6g7TLAUldERGdljRV527/Yl/Z%2Bn%2BHmnfC2xsPFul6Rpt1eXIOgfEvXtNu72e7cyXMt7d2t7HcX7yuS7tcySlmO4knmvL/hFqP7QvxT/AOCbfjfQ/hP8SbufxpZ6l478OeAfFmsaqWuLi30/XtU0/TLiS8lDlpTa20A%2B1uHLtidt%2B454r9n2z%2BKvxZ0743/As%2BC/H1hYeEvFOjHwT4e8cftCataarDfy6VFPd6fd%2BINJur66SMbkuhCs11tW6TcqqyxRAH0Jqf7C/wCytqfiXwv4ob4UpaS%2BDtN0nT9CsNL1i9s9PFrpcxn0yGexgmS2vEs5SZbcXEcggcl49jHNd5e/DHwPqHxQ034zXmh7/EukaBe6Lp%2BpfaZR5Vjdz2s9xD5Yby23yWVq25lLL5WFIDMG/Nmf41fFzxf%2BzRqWv%2BMP2kvGWmav8Lv2a/EXinw1f6X4su7YXvifTtY1Gzma4eGYf27BZvYWVsv2jzYrtLwSyRl7hdvqWq/tY/FDxP8A8FQ/hl4b8W2/xW8KaLHrGr%2BGrPwgPAfiCDR9XK6Q002qT3S2osrxTd7I4T5ki28VoZy0f2mQIAfb1p/yO2of9gqz/wDRlzWpWXaf8jtqH/YKs/8A0Zc1qUAFFFFABRRRQAUUUUAFFFFABRRRQAUUUUAFFFFABRRRQAUUUUAFFFFABRRRQAV4z%2By//wAlv/aO/wCyzWP/AKhXhevZq8Z/Zf8A%2BS3/ALR3/ZZrH/1CvC9AHs1FFFABRRRQAUUUUAFFFFABRRRQAUUUUAFFFFABRRRQAUUUUAFFFFABRRRQAV4z44/5SF/C/wD7Iz48/wDTt4Qr2avnD9o/V/jXo/7eHwnn%2BB3w/wDC3iLUm%2BEfjtbu08V%2BMLnRYI4P7U8JEuktvp96zvu2jYY1GCTvyApAPo%2BivGf%2BE4/4KF/9Gv8AwZ/8Pxq3/wAy9H/Ccf8ABQv/AKNf%2BDP/AIfjVv8A5l6APZqK8Z/4Tj/goX/0a/8ABn/w/Grf/MvR/wAJx/wUL/6Nf%2BDP/h%2BNW/8AmXoA9mor5x0n9o79u3WPjPr/AMDrf9lD4SLqnh3wvpGu3ly/x11TyJINRudSt4UQjwxuLq2lzlgVAAePBYlgvUf8Jx/wUL/6Nf8Agz/4fjVv/mXoA9morxn/AITj/goX/wBGv/Bn/wAPxq3/AMy9H/Ccf8FC/wDo1/4M/wDh%2BNW/%2BZegD2aivGf%2BE4/4KF/9Gv8AwZ/8Pxq3/wAy9cv4B/aO/bt%2BInivxv4Q0f8AZQ%2BEkNx4D8URaFqslz8ddUCTzyaVp%2Bph4tvhgkp5OowqSwU70cYwAzAH0dRXjP8AwnH/AAUL/wCjX/gz/wCH41b/AOZej/hOP%2BChf/Rr/wAGf/D8at/8y9AHs1FeM/8ACcf8FC/%2BjX/gz/4fjVv/AJl6P%2BE4/wCChf8A0a/8Gf8Aw/Grf/MvQB7NRXzj8Iv2jv27fjL4Uu/F/hz9lD4SW1vZ%2BKNb0KSO9%2BOuqK5n0vVbrTJ3G3www2NNaSMhzkoykhTlR1H/AAnH/BQv/o1/4M/%2BH41b/wCZegD2SWKKZDFNGrqeqsMg1kah8Ovh9q2f7V8C6Nc56/aNMifP5rXmX/Ccf8FC/wDo1/4M/wDh%2BNW/%2BZej/hOP%2BChf/Rr/AMGf/D8at/8AMvUyjGW6uTKEJ/Ekzsr79m/9nfVM/wBp/AXwXc56%2Bf4WtHz%2BcdY97%2BxX%2BxxqWf7R/ZM%2BGdxnr5/gPTnz%2BcNYv/Ccf8FC/wDo1/4M/wDh%2BNW/%2BZeuX%2BCP7R37dvx4%2BDHhD44%2BFf2UPhJa6X4z8L6frum22ofHXVFnhgu7aO4jSQJ4YZQ4WQBgrMMg4JHNYywmFl8VOL/7dj/8ic8sFgp/FSi/WMX/AO2nWXn/AATy/YLvs%2Bf%2Bxh8LRnr5PgSwj/8AQIhWXd/8Ew/%2BCet7nzv2O/AK5/55eH4o/wD0ECtD/hOP%2BChf/Rr/AMGf/D8at/8AMvR/wnH/AAUL/wCjX/gz/wCH41b/AOZesnluXS3ow/8AAI//ACJjLKMplvh6f/gEP/kDnbr/AIJM/wDBOK8z5v7IvhMZ/wCeUEqf%2BguKzrn/AII5f8E0Lv8A1v7J2iDP/PPUL1P/AEGcV2f/AAnH/BQv/o1/4M/%2BH41b/wCZeuX%2BN37R37dvwH%2BDHi/44%2BKv2UPhJdaX4M8L6hrupW2n/HXVGnmgtLaS4kSMP4YVS5WMhQzKMkZIHNZvKMplvh4f%2BAR/yMXkORy3wtP/AMFw/wDkTFuP%2BCJ//BMC6/1n7K1mM/8APPxLqqf%2Bg3QqlN/wQy/4JcSncn7MjRE94/GutD/28xXp/wDwnH/BQv8A6Nf%2BDP8A4fjVv/mXo/4Tj/goX/0a/wDBn/w/Grf/ADL1DyPJXvhqf/gEf8jN8OcPN/7nS/8ABcf8jyW4/wCCEP8AwTGmBCfAe/j/ANzxpqp/9CuTVKf/AIIFf8Ezpf8AV/CPWYv9zxfff1lNez/8Jx/wUL/6Nf8Agz/4fjVv/mXo/wCE4/4KF/8ARr/wZ/8AD8at/wDMvUPh/Invhaf/AICjaGR5PT%2BChFeia/KSPDZv%2BDfn/gmzL9zwD4kj/wBzxZc/1JqrN/wb1f8ABOWT7nh3xdH/ALniqT%2BqmvVPi7%2B0d%2B3b8GvClp4v8R/sofCS5t7zxRomhRx2Xx11RnE%2Bqara6ZA53eGFGxZruNnOchFYgMcKeo/4Tj/goX/0a/8ABn/w/Grf/MvUPhzIH/zCw/8AAUbxy/CQ%2BFNek6i/Kqj56l/4N3P%2BCd8n3bbxun%2B74nH9YjUEn/Buh/wT5Y5i1D4gRn1TxLF/W3NfRn/Ccf8ABQv/AKNf%2BDP/AIfjVv8A5l6P%2BE4/4KF/9Gv/AAZ/8Pxq3/zL1L4Z4ef/ADCw%2B7/gm8aCj8M6i9KtdfliEfOS/wDBu5%2Bw9B/x4/ET4qW2OnkeKrYfztDU8X/Bvz%2Byfa/8ePx%2B%2BNlv6eT40tVx/wCSdfQ3/Ccf8FC/%2BjX/AIM/%2BH41b/5l65fx9%2B0d%2B3b8O/FfgjwhrH7KHwkmuPHniiXQtKktvjrqhSCePStQ1MvLu8MAhPJ06ZQVDHe6DGCWUXDOQLbDR/H/AOSB0ebepU/8HYj/AOaDy23/AOCEHwBszmx/a1/aCgx08n4gWy/%2B2VXrf/giZ8M7If6B%2B3N%2B0tBjp5fxMhH8rOvbP%2BE4/wCChf8A0a/8Gf8Aw/Grf/MvR/wnH/BQv/o1/wCDP/h%2BNW/%2BZeqXDuSLagvvl/8AJnPPLsNU%2BJzf/cWv/wDNB49F/wAEc9HtP%2BPD/gol%2B1DDjps%2BKaj%2BVsKX4Efsjz/sr/8ABQnwakv7THxU%2BIi658GfGW0fEzxWdU/s7ydW8Lf8e3yL5Xmeb8/Xd5Uf92vYP%2BE4/wCChf8A0a/8Gf8Aw/Grf/MvVDwP4H/as8Y/tWeHPjd8bvhx8PfDOjeGfh74h0OGHwr8Q77Wrq7utSvtEuEZkuNIsUijRNLlBYO7FpUAXGSOnD5Tl2FqqpSp2kvOX5ObX4E0crwVCsqsIvmXedR/hKpJfeme60UUV6J6AV59%2B0v8Drr4/fDWLwnovi9fD%2BtaV4h0vXvDeuSad9sjs9R0%2B9iu4Glt/MjM8LNF5UsYkjZopHCvGxV19BooA%2BcJf2FvHGq/s/8Ai34O%2BIvjtYTar4z8Rf8ACUaz4js/BzxK%2BvDVIr5G%2BzPeuraaEtrW0NkzF3gicPcsZCwwdd/4JYeDPip4V8bX/wAeviZqWo%2BPPGesarqZ8UeA7/WPCtnpk99pGn6S6Q2Vjqm6aEwaZatJHc3E3myeaSVWTYPq2igDgfh5%2Bzp8PfCH7OGh/sxeLtMi8YeHdK8N22j3tv4sD6kmpxxRqpM63rzNIrFc7ZGfaMKDhRXkf/BP34a%2BDPhL%2Byvrvh3wHoFtpek2/wAevHU8WnafaJDb2UEXjnU0EcUUahY4o4YVVVUAKqADgV9NV8lfsleLP2ztP%2BHviiz%2BGPwD%2BGGr6Enxp%2BIv9n6jr3xd1HTbuZf%2BEz1ksZLaLQLlIiG3AATPkAHIJ2hNJtPsXGpUjCUE9JWv52d19z1PqD/hOfBP/Q4aX/4MI/8A4ql/4TnwT/0OGlf%2BDCP/AOKry3/hOP8AgoX/ANGv/Bn/AMPxq3/zL0f8Jx/wUL/6Nf8Agz/4fjVv/mXpkHqX/Cc%2BCf8AocNK/wDBhH/8VR/wnPgn/ocNK/8ABhH/APFV5b/wnH/BQv8A6Nf%2BDP8A4fjVv/mXo/4Tj/goX/0a/wDBn/w/Grf/ADL0Aal98DP2KNU%2BHGk/B3U/g78LbjwjoF79s0LwrP4e019N0253SN50FsU8qGTdLKd6KDmRzn5jnQ0/4cfso6Ta2tlpXgP4e20NlaaTaWUNvpdii28GlzyXGmRIAoCJaTyyy26jAgkkd4wrMSfM/gj%2B0d%2B3b8ePgx4Q%2BOPhX9lD4SWul%2BM/C%2Bn67pttqHx11RZ4YLu2juI0kCeGGUOFkAYKzDIOCRzXUf8ACcf8FC/%2BjX/gz/4fjVv/AJl6ANWx%2BB/7FWl%2BKdb8c6Z8IPhdb634lguofEesQeH9NS61WO6x9pS5lCb51l2r5gckPgbs4roPG%2BlfAD4meCLn4ZfEjTfB3iDw3eQpFd%2BHtchtLuxnjRlZEeCUNGyqyqQCuAVBHQVxX/Ccf8FC/wDo1/4M/wDh%2BNW/%2BZej/hOP%2BChf/Rr/AMGf/D8at/8AMvQB1Q8E/swjw9b%2BER4R8BjSbTw3P4etdL%2BwWX2eHSJxGs2nJHt2rayCGIPAB5bCJAVO0Yw7r9nz9hi%2B%2BFtr8Dr34IfCebwVZX5vrPwfL4a0xtLgujvzOloY/JST94/zhQ3ztzya4n43ftHft2/Af4MeL/jj4q/ZQ%2BEl1pfgzwvqGu6lbaf8ddUaeaC0tpLiRIw/hhVLlYyFDMoyRkgc11H/AAnH/BQv/o1/4M/%2BH41b/wCZegDd8QfCb9kDxZY%2BGNL8VfDT4banbeCZY5fBlvqGjafNHoDoECNZK6EWpURpgxbSNi46Cul1K/8AhFrOtab4k1e88N3eo6O8r6Rf3MlvJNYtJGY5GhdstEXQlGKkblJByK89/wCE4/4KF/8ARr/wZ/8AD8at/wDMvR/wnH/BQv8A6Nf%2BDP8A4fjVv/mXoA9M0PULHV/FOoalpV3Hc232G1iFxA4ZC6vOzKGHBIDrnHqK2q8Z/wCE4/4KF/8ARr/wZ/8AD8at/wDMvXL/ABd/aO/bt%2BDXhS08X%2BI/2UPhJc2954o0TQo47L466ozifVNVtdMgc7vDCjYs13GznOQisQGOFIB9HUV4z/wnH/BQv/o1/wCDP/h%2BNW/%2BZej/AITj/goX/wBGv/Bn/wAPxq3/AMy9AHs1FeM/8Jx/wUL/AOjX/gz/AOH41b/5l6P%2BE4/4KF/9Gv8AwZ/8Pxq3/wAy9AHs1FfOPj79o79u34d%2BK/BHhDWP2UPhJNcePPFEuhaVJbfHXVCkE8elahqZeXd4YBCeTp0ygqGO90GMEsvUf8Jx/wAFC/8Ao1/4M/8Ah%2BNW/wDmXoA9morxn/hOP%2BChf/Rr/wAGf/D8at/8y9H/AAnH/BQv/o1/4M/%2BH41b/wCZegD2aivGf%2BE4/wCChf8A0a/8Gf8Aw/Grf/MvXL6t%2B0d%2B3bo/xn0D4HXH7KHwkbVPEXhfV9ds7lPjrqnkRwadc6bbzI5PhjcHZtUgKgKQQkmSpChgD6Oorxn/AITj/goX/wBGv/Bn/wAPxq3/AMy9H/Ccf8FC/wDo1/4M/wDh%2BNW/%2BZegD2aivGf%2BE4/4KF/9Gv8AwZ/8Pxq3/wAy9H/Ccf8ABQv/AKNf%2BDP/AIfjVv8A5l6APZqK%2BcdJ/aO/bt1j4z6/8Drf9lD4SLqnh3wvpGu3ly/x11TyJINRudSt4UQjwxuLq2lzlgVAAePBYlgvUf8ACcf8FC/%2BjX/gz/4fjVv/AJl6APZqK8Z/4Tj/AIKF/wDRr/wZ/wDD8at/8y9H/Ccf8FC/%2BjX/AIM/%2BH41b/5l6APZqK8Z/wCE4/4KF/8ARr/wZ/8AD8at/wDMvXL%2BAf2jv27fiJ4r8b%2BENH/ZQ%2BEkNx4D8URaFqslz8ddUCTzyaVp%2Bph4tvhgkp5OowqSwU70cYwAzAH0dRXjP/Ccf8FC/wDo1/4M/wDh%2BNW/%2BZej/hOP%2BChf/Rr/AMGf/D8at/8AMvQB7NXjP7L/APyW/wDaO/7LNY/%2BoV4Xo/4Tj/goX/0a/wDBn/w/Grf/ADL1b/ZW%2BHPxp8H6x8UPHfx00DwvpOqePviFFrlnpXhPxLc6tb2trFoOj6YqvcXFlZs0jSadK5URbQsiDcxzgA9booooAKKKKACiiigAooooAKKKKACiiigAooooAKKKKACiiigAooooAKKKKACvlf8Aae/a0%2BLnww%2BMfizWvAPh3wfJ4Y%2BD/h/w/e%2BNTrWkXE2q6pb6vfypcwWFxHcRpZeRbWcdxmSKcXMhSMiHy/NP1RXjPxn/AGIfhx8bvikfiZrnjnxVpcWo2ukWvi/w1o11app3imDS72S9sYr5ZbeSYLHNNLn7PLAZY5DFMZYwqAA9mooooAKKKKAPmPw5%2B0r8TIf2/wDxR8H/AIjax4e8J%2BG18QWmieDItR%2BEWspdeMYBoEGo4g8RtdrpzSx3dzqAFoIXk8u0mAUFmkX6cryvxZ%2By1B4/%2BMmkfFPx78b/ABrq%2BleHtdj1rQPAFwdMi0ax1CO3eCOcNDZJey7PMkkVJrqSMSPu2fIgX1SgAooooA8X/wCCgvxd%2BOH7P37I/jT49fAK98KR6x4J0K71y6g8YaLc31td2lrbSzPboltdWzJK7IiiQuVQFiUfgV5/48/a0%2BLngv48eLdT8KeHfCEXw88IfGPwj8PvGVnNpFwdb1XVddg0VI9Qhu0uFhjjg/tzSYzFJbyvIkM%2BJY9qCvYf2sf2cbL9rT4Ea9%2Bz7rXxV8U%2BEdJ8T2Utjrl/4QXTvtdzZSxPFNbbr%2B0uo0R1flkRZAVG115zxcH7APg6f4i2fxF8VfHHx9rrHWdJ1zxNo2oS6VFY%2BJ9c0xI0sdWvY7awiZbiIQWmFtmggY2NsXiYx5IB73RRRQAV4v8Atk/F344fBK18A%2BMfhZe%2BFP7G1D4meHPD3i%2Bx8QaLc3N1c2uq6zY6aDZyw3UKW0ka3Msm%2BRJ1JRF2ck17RXlX7V37Lb/tVeG9C8Lz/H3xv4Gt9C8SWGuo3guHR2e7vbG8gvLNpTqWn3g2xXFvG4WMIG5WTep2gA84/Z5/aV%2BJmt/tVeLfgj8UNX8PeE9Oh8U63b%2BCfCUnwi1nTLnXraF0lN/b61cXf2DUHYyTSyxW0BfkuxXDE/TleS6T%2ByiH%2BMmi/GX4j/tAeO/Gs3he7vLvwnoXiEaTDYaPdXNvJayXES2Gn20sr/Z5p4V8%2BSVUWd9oBII9aoAKKKKAPD/27vi58eP2fvg1q/x1%2BFHjHwLY6f4W0W5vL3RfFnhm9v7nxDe5RbPTLOS2vYPs81xKRbo3lXTNLPEFhY/K3n/wR/a%2B%2BM%2BufEvwV/a3gzwlpHw08b/E/wAUfDbwr4a07S5o9X0S/wBAh1bfPPci4a3mgkbw/qaLDHbxGNWtj5kmWA9P/aV/ZBg/aS8eeCPiBN%2B0D478IXPgG7ub3RbHwxFo09nJeyoI1vJoNT068R54Y/MWGQBTGJ5SPmbIq%2BA/2Gvh74D%2BMtv8XYfiL4u1KDTtd1PXtE8Ialc2X9k6VreoxvHqGqQJFapP584nuyyvM8KNfXJjij8zgA9rooooAK%2BX/wBrn48ftL/Bb4iaf4U0qHwB410fxzDrVtovw5i8H30msJa2mh3V3Jf3E4vXiurYXUVvbSQi1iB%2B3woJjIyJJ9QV4dN%2BxNcR/tH%2BK/2mtE/ar%2BJenav4t02HTrnS4YPD89pp9nDA0cNtZtc6TLc28Syu91sWba87l3Dg7aAGfsIftB%2BN/j38Pby6%2BK/j7Rr7xdpws21/w3ZfC7V/CN5oDz2yyiC5stXup7hwW3%2BXcAJHIqHaG2k17pXm/wADv2btO%2BDPifxJ8Q9Y%2BKXinxx4q8VxWNvrHifxc1gty9pZib7LapFp9ra20cUbXNy42whma4kLM2Rj0igAooooA%2BOf%2BCgn7cfxU/Yw8c/2nrmi6B4x8Ivo2o63b%2BFZfhzqdlLbppujX2pJJ/wkU10%2BmT3f2vTRssVgS6EcyygbYWkb179mj4u/HPVvip43/Z6/aOufCmoeJ/COk6HrUeteCtIubCxubHVBeRpEYLm5uXWWK4067Uv5uJEMTbIySorfHX9hLwR%2B05rV1a/H/wCLfjXxR4LuZLiRfhleSabDosUk1jNZM2%2B3so76QCO4mYJLdOgd9235EC9P%2Bz5%2BzNpHwDvNe8RXfxQ8WeOPEfiQ2cereKvGtxZvfS21pEYrW1H2O2t4ViiDysMR72eeV3Z2cmgD0qiiigAr4j/an/bK/az%2BDfxq8QfCjwd4b8OeNdTsNFuNd8MBPgf4gjk0UDUdMtUMLfbnHiaQWOqXHnf2X5TwtCVlEYmEdfbleH69%2BxbqfiXx6fidrX7XPxRm1vT4LyLwbeFNAA8KrdTQyT/ZIxpOydmjgW33Xq3TLEzhSruzkA6r9lj4sP8AGT4RweLL34maN4qv4dRurLVL7RvBl94dFtcRSsrWs2m6hcT3VnPGMK8czh8/NtUMBXo1cN8A/gL4e%2BAHhnU9G0rxTrfiDUdf1641vxJ4k8RzQNe6rfzBEaeUW8UMCYjihiVIYo41SJAFGCT3NABRRRQAUUUUAFFFFABRRRQBR8UeIbDwl4a1HxXqoc2umWM13ciJct5caF2wO5wpr5z/AGJv2k/jX4/8U6P4M%2BNnh7wZZjx18LbL4jeGYfBmlXFoNMjvLgm70%2B7M1xKLuaN7m2f7YggE7SzEwR7QX%2Blru0tb%2B1lsb23SaGaNo5opVDK6kYKkHggjjFeQ/szfsV%2BAv2YNVfV9A%2BIPi3xLLbeGLHwz4dHiy9tZhoGhWbyPb6bam3t4S0amT5pZzNcSCOLzJn8tcAHsVFFFABXC/tQePPiL8LP2aPiJ8Tvg/wCFF17xb4c8C6vqnhbQ2sZroajqNvZyy21sYYGWWYSSoieXGwdt2FIJBruqzvFuiX/iXwxqHh/S/Feo6Fc3tpJDb61pCwNdWLspAmiFxFLEXU8gSRumR8ysMggHl37FPxan%2BKHwzvrLVviF4f1nU/Duqrp15pmifDDU/Bz6GgtoJIrO40rVLme5hcI4kV28tHili2Jgb39irzz4D/s7aT8DrzxL4jufiJ4k8Y%2BJPF%2Bow3niLxT4rezF3dGG3S3giEdjbW1tFFHGgCrHCmSzsxZmZj6HQAUUUUAfLn7VH7WPxQ/Zw%2BL3jiy%2BJWjeEvEXwvsP2d/F/j220K30S4TVXbRBpaz21xcyXL280U6304CC2QqETLvlhXb/ALM/xf8Aj5qnxc8Zfs6/tLP4SvPFHhjwx4e8Sx6r4K0m5sbKSy1Z9St1tjDc3Ny5lhuNIuwZRIFkR4m8uM7lqD4x/sK%2BHfjp8dW%2BMvjz47eOZdNm8Fan4Rvvh7DBov8AYl3o2pLbfb7SQvprXpE7WkDs4ug6lCEZEZkPSfs7/su6H%2Bz7fa14jn%2BKHi3xv4h1%2B1sLK/8AE/ja5tJL02Fiki2dmPsltbx%2BVEZ7hwShkd7mV3d2bNAHp9FFFABXyJ8a/wBpf9rbwZrv7QHgS38K%2BDPFl74C8P8AhTxJ8NrHSfh/qd/Oseo6rqUIS8tYrx5dRngXTY51NsLclyQq/KrV9d14XL%2BxR4hi%2BOnjb4/6F%2B2h8VtK1bxvpFjplzY2Vn4Ya0022sri5ns0thLoryfujeXSgzPKXWciTzCqFQDq/wBlT4tzfGX4UjxNqPxO0bxTqNrqtzY6tdaP4Iv/AA2bO4ib5rWfTNRuJ7q0nRSu5JmDEMrbVVhXpNcJ8A/gHoHwB0LWbHT/ABbrniPVfE3iCXXPE/ibxJLbte6rfyQwwebILaGGCMLBb28KpFFGipCgC5yT3dABRRRQB8bftLftd/tLfs8fGaD4baynwz8a32twQTeEYdO8LXtpL4LvNS8Q6Z4e0ibU5XvphdRTtq84LRLZyOLG6WMMvmGL3H9lX4v/ABI%2BIw8f/D74xHRJ/FXw08eN4a1nVfDWnTWdhqfmaXp2rW9xDbzTzyW%2BbXVLdHjaaXEkcmGIIxwtt/wTV8JNdfEN/EP7S/xO1m3%2BJOvHXNYt9SOheZZ6lFcQz6fc211FpaXSmwe3txaRvNJFEsKBkfnPrHwD%2BAuh/APw9q2m2Xi/XPEmreItem1rxP4o8SvbG/1e%2Bkjih86YWsEEC7IILeBEiijRY4I1C8EkA7qiiigBlz9p%2BzSfY9nnbD5Xm527scZxzjNfEHxW/a5/bT%2BGnxE1z4bW9t4D8Z694YvfDVvq3jrwR8Fdf1aPw5b6s1497YS6VZ6lPd3M0cNlY3RMU6fu7qFpYEBiaT7eu4ZLi1lt4bqSB5I2VZ4gpeMkYDLuBXI6jII9Qa%2Be/gx%2BwF4g%2BAnw2uPhp8O/26vjFFHdas%2BpzazeWXhOfUJbuV5ZLmeaZ9CP2mSd5d0kk4kfMabCgGCAes/AT4h2XxW%2BDvh/4hWHxA0bxUmp6eJH1/w/pM1haXcgJWQpazzTS2xV1ZGhkkd42VlY7lIHX1yXwL%2BC/hL9n34X6d8KfBVzf3FlYS3VxNfarcia6vru6uZbq6upnCqGlmuJ5pX2qq7pDtVVwo62gAqj4nh8SXPhvULfwbqdjZavJZSrpd5qdg91bQXBQiOSWGOWJpo1bBZFkjLAEB1J3C9Wb4x0G/8AFHha/wDDul%2BLdS0G5vLV4oNa0cQG6sXI4miFxFLEXU8gSRuhx8ysMigD4e%2BG/wC3Z%2B1r8YPinrfwS%2BFmm/D5PGem2uu30njPxX8Lta0NdU0zSLXRZUsZdEvL5NQ0%2BV7vxDsSaeZ4/KhkuEhdZ0B%2BxvgF8WtN%2BPnwJ8FfHXRtNls7Pxr4S03XrSzmfc8EV5ax3CxsQBkqJACfUV4tq/8AwTI8D61rl98Rbv8AaU%2BKafEDVkvLXWviTbXukQ6tf6ZdW1rbTaYUTTRZw2xSytGHkW0UqyQLKsocsx%2Bg/Bfg/wANfDzwdpPgDwZpMWn6PoemQafpNhDnZbW0MaxxRrnnCoqqPpQBp0UUUAcv8adR8caN8Lda1v4c%2BIbHS9WsLM3UN9qHg%2B98QIkcZDygadYzwXN5I0SuqRQyBy7LhXPyN8W/CX/goj8fvEnjTQ9T8b3HhHwJ4M1KedfEHji8%2BBniKa21i/h1%2B60hEuZVvo08MzyWtpa/uNUaSWB5VjfOwJX238TPBmu%2BPfCU3hzw38Utf8G3kksbxa/4ZisXu4NrAlVW/trmBgwBUh4m4Jxg4I8Vuv8AgnN4U1DwfcfDbVv2kPibd%2BGNc1Ca/wDHmgTXGjiLxhdz3jXVxNfSrpouIvNLLC0dnLaxCGJI1RRu3AH0TRRRQAUUUUAFFFFABRRRQAUUUUAFFFFABRRRQAUUUUAFFFFABRRRQAUUUUAFFFFABRRRQAUUUUAFFFFABRRRQAUUUUAFFFFABRRRQAUUUUAFFFFABRRRQAUUUUAFFFFABRRRQAUUUUAFFFFABRRRQAUUUUAFFFFABRRRQAUUUUAFFFFABRRRQAUUUUAFFFFABRRRQAUUUUAFFFFABRRRQAUUUUAFFFFABRRRQAUUUUAFFFFABRRRQAUUUUAFFFFABRRRQAUUUUAFFFFABRRRQAUUUUAFFFFABRRRQAUUUUAFFFFABRRRQAUUUUAFFFFABRRRQB//2Q%3D%3D\">"
            ]
          },
          "metadata": {
            "tags": []
          }
        }
      ]
    },
    {
      "metadata": {
        "id": "ISRprTFttaQ6",
        "colab_type": "text"
      },
      "cell_type": "markdown",
      "source": [
        "# Submit a linear model"
      ]
    },
    {
      "metadata": {
        "id": "rigM6HdRtaQ7",
        "colab_type": "code",
        "colab": {}
      },
      "cell_type": "code",
      "source": [
        "## GRADED PART, DO NOT CHANGE!\n",
        "# Testing shapes \n",
        "grader.set_answer(\"9XaAS\", grading_utils.get_tensors_shapes_string([W, b, input_X, input_y, logits, probas, classes]))\n",
        "# Validation loss\n",
        "grader.set_answer(\"vmogZ\", s.run(loss, {input_X: X_val_flat, input_y: y_val_oh}))\n",
        "# Validation accuracy\n",
        "grader.set_answer(\"RMv95\", accuracy_score(y_val, s.run(classes, {input_X: X_val_flat})))"
      ],
      "execution_count": 0,
      "outputs": []
    },
    {
      "metadata": {
        "id": "wvbphSD2taQ8",
        "colab_type": "code",
        "colab": {
          "base_uri": "https://localhost:8080/",
          "height": 34
        },
        "outputId": "38bec418-4f02-4f46-bac2-66a9108b3453"
      },
      "cell_type": "code",
      "source": [
        "# you can make submission with answers so far to check yourself at this stage\n",
        "grader.submit(COURSERA_EMAIL, COURSERA_TOKEN)"
      ],
      "execution_count": 80,
      "outputs": [
        {
          "output_type": "stream",
          "text": [
            "Submitted to Coursera platform. See results on assignment page!\n"
          ],
          "name": "stdout"
        }
      ]
    },
    {
      "metadata": {
        "id": "-QrdbaY-taRA",
        "colab_type": "text"
      },
      "cell_type": "markdown",
      "source": [
        "# MLP with hidden layers"
      ]
    },
    {
      "metadata": {
        "id": "WSZ2-Z0QtaRA",
        "colab_type": "text"
      },
      "cell_type": "markdown",
      "source": [
        "Previously we've coded a dense layer with matrix multiplication by hand. \n",
        "But this is not convenient, you have to create a lot of variables and your code becomes a mess. \n",
        "In TensorFlow there's an easier way to make a dense layer:\n",
        "```python\n",
        "hidden1 = tf.layers.dense(inputs, 256, activation=tf.nn.sigmoid)\n",
        "```\n",
        "\n",
        "That will create all the necessary variables automatically.\n",
        "Here you can also choose an activation function (remember that we need it for a hidden layer!).\n",
        "\n",
        "Now define the MLP with 2 hidden layers and restart training with the cell above.\n",
        "\n",
        "You're aiming for ~0.97 validation accuracy here."
      ]
    },
    {
      "metadata": {
        "id": "NRQmw_4ftaRB",
        "colab_type": "code",
        "colab": {}
      },
      "cell_type": "code",
      "source": [
        "# write the code here to get a new `step` operation and then run the cell with training loop above.\n",
        "# name your variables in the same way (e.g. logits, probas, classes, etc) for safety.\n",
        "### YOUR CODE HERE ###"
      ],
      "execution_count": 0,
      "outputs": []
    },
    {
      "metadata": {
        "id": "_AGUQNBStaRC",
        "colab_type": "text"
      },
      "cell_type": "markdown",
      "source": [
        "# Submit the MLP with 2 hidden layers\n",
        "Run these cells after training the MLP with 2 hidden layers"
      ]
    },
    {
      "metadata": {
        "id": "z7B4aZaLtaRD",
        "colab_type": "code",
        "colab": {}
      },
      "cell_type": "code",
      "source": [
        "## GRADED PART, DO NOT CHANGE!\n",
        "# Validation loss for MLP\n",
        "grader.set_answer(\"i8bgs\", s.run(loss, {input_X: X_val_flat, input_y: y_val_oh}))\n",
        "# Validation accuracy for MLP\n",
        "grader.set_answer(\"rE763\", accuracy_score(y_val, s.run(classes, {input_X: X_val_flat})))"
      ],
      "execution_count": 0,
      "outputs": []
    },
    {
      "metadata": {
        "id": "NkwpSJrKtaRG",
        "colab_type": "code",
        "colab": {}
      },
      "cell_type": "code",
      "source": [
        "# you can make submission with answers so far to check yourself at this stage\n",
        "grader.submit(COURSERA_EMAIL, COURSERA_TOKEN)"
      ],
      "execution_count": 0,
      "outputs": []
    },
    {
      "metadata": {
        "id": "BZSwI_RLtaRI",
        "colab_type": "code",
        "colab": {}
      },
      "cell_type": "code",
      "source": [
        ""
      ],
      "execution_count": 0,
      "outputs": []
    }
  ]
}
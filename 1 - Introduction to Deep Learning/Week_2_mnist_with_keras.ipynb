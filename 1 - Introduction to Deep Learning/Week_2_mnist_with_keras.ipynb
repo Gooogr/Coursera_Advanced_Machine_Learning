{
  "nbformat": 4,
  "nbformat_minor": 0,
  "metadata": {
    "colab": {
      "name": "Week 2 mnist_with_keras.ipynb",
      "version": "0.3.2",
      "provenance": [],
      "collapsed_sections": [],
      "include_colab_link": true
    },
    "language_info": {
      "codemirror_mode": {
        "name": "ipython",
        "version": 3
      },
      "file_extension": ".py",
      "mimetype": "text/x-python",
      "name": "python",
      "nbconvert_exporter": "python",
      "pygments_lexer": "ipython3",
      "version": "3.6.5"
    },
    "kernelspec": {
      "name": "python3",
      "display_name": "Python 3"
    }
  },
  "cells": [
    {
      "cell_type": "markdown",
      "metadata": {
        "id": "view-in-github",
        "colab_type": "text"
      },
      "source": [
        "<a href=\"https://colab.research.google.com/github/Gooogr/Coursera_Advanced_Machine_Learning/blob/master/1%20-%20Introduction%20to%20Deep%20Learning/Week_2_mnist_with_keras.ipynb\" target=\"_parent\"><img src=\"https://colab.research.google.com/assets/colab-badge.svg\" alt=\"Open In Colab\"/></a>"
      ]
    },
    {
      "metadata": {
        "id": "8fpFQGT2SeAO",
        "colab_type": "text"
      },
      "cell_type": "markdown",
      "source": [
        "# MNIST digits classification with Keras\n",
        "\n",
        "We don't expect you to code anything here because you've already solved it with TensorFlow.\n",
        "\n",
        "But you can appreciate how simpler it is with Keras.\n",
        "\n",
        "We'll be happy if you play around with the architecture though, there're some tips at the end."
      ]
    },
    {
      "metadata": {
        "id": "dGQgfeyNSeAT",
        "colab_type": "text"
      },
      "cell_type": "markdown",
      "source": [
        "<img src=\"https://github.com/hse-aml/intro-to-dl/blob/master/week2/v2/images/mnist_sample.png?raw=1\" style=\"width:30%\">"
      ]
    },
    {
      "metadata": {
        "id": "X4c-vHCJSeAV",
        "colab_type": "code",
        "colab": {
          "base_uri": "https://localhost:8080/",
          "height": 68
        },
        "outputId": "81094078-5ff6-4931-c85a-88f9f7407ae2"
      },
      "cell_type": "code",
      "source": [
        "import numpy as np\n",
        "from sklearn.metrics import accuracy_score\n",
        "from matplotlib import pyplot as plt\n",
        "%matplotlib inline\n",
        "import tensorflow as tf\n",
        "print(\"We're using TF\", tf.__version__)\n",
        "import keras\n",
        "print(\"We are using Keras\", keras.__version__)\n",
        "\n",
        "import sys\n",
        "sys.path.append(\"../..\")\n",
        "import keras_utils\n",
        "from keras_utils import reset_tf_session"
      ],
      "execution_count": 1,
      "outputs": [
        {
          "output_type": "stream",
          "text": [
            "We're using TF 1.13.1\n"
          ],
          "name": "stdout"
        },
        {
          "output_type": "stream",
          "text": [
            "Using TensorFlow backend.\n"
          ],
          "name": "stderr"
        },
        {
          "output_type": "stream",
          "text": [
            "We are using Keras 2.0.6\n"
          ],
          "name": "stdout"
        }
      ]
    },
    {
      "metadata": {
        "id": "0r8nRdEESeAZ",
        "colab_type": "text"
      },
      "cell_type": "markdown",
      "source": [
        "# Look at the data\n",
        "\n",
        "In this task we have 50000 28x28 images of digits from 0 to 9.\n",
        "We will train a classifier on this data."
      ]
    },
    {
      "metadata": {
        "id": "lwaf6oFcSeAa",
        "colab_type": "code",
        "colab": {}
      },
      "cell_type": "code",
      "source": [
        "import preprocessed_mnist\n",
        "X_train, y_train, X_val, y_val, X_test, y_test = preprocessed_mnist.load_dataset()"
      ],
      "execution_count": 0,
      "outputs": []
    },
    {
      "metadata": {
        "id": "ihgTHdV9SeAe",
        "colab_type": "code",
        "colab": {
          "base_uri": "https://localhost:8080/",
          "height": 691
        },
        "outputId": "ed32bc16-55fe-43cb-b48c-41f6837d99b5"
      },
      "cell_type": "code",
      "source": [
        "# X contains rgb values divided by 255\n",
        "print(\"X_train [shape %s] sample patch:\\n\" % (str(X_train.shape)), X_train[1, 15:20, 5:10])\n",
        "print(\"A closeup of a sample patch:\")\n",
        "plt.imshow(X_train[1, 15:20, 5:10], cmap=\"Greys\")\n",
        "plt.show()\n",
        "print(\"And the whole sample:\")\n",
        "plt.imshow(X_train[1], cmap=\"Greys\")\n",
        "plt.show()\n",
        "print(\"y_train [shape %s] 10 samples:\\n\" % (str(y_train.shape)), y_train[:10])"
      ],
      "execution_count": 3,
      "outputs": [
        {
          "output_type": "stream",
          "text": [
            "X_train [shape (50000, 28, 28)] sample patch:\n",
            " [[0.         0.29803922 0.96470588 0.98823529 0.43921569]\n",
            " [0.         0.33333333 0.98823529 0.90196078 0.09803922]\n",
            " [0.         0.33333333 0.98823529 0.8745098  0.        ]\n",
            " [0.         0.33333333 0.98823529 0.56862745 0.        ]\n",
            " [0.         0.3372549  0.99215686 0.88235294 0.        ]]\n",
            "A closeup of a sample patch:\n"
          ],
          "name": "stdout"
        },
        {
          "output_type": "display_data",
          "data": {
            "image/png": "[encoded data removed]",
            "text/plain": [
              "<Figure size 432x288 with 1 Axes>"
            ]
          },
          "metadata": {
            "tags": []
          }
        },
        {
          "output_type": "stream",
          "text": [
            "And the whole sample:\n"
          ],
          "name": "stdout"
        },
        {
          "output_type": "display_data",
          "data": {
            "image/png": "[encoded data removed]",
            "text/plain": [
              "<Figure size 432x288 with 1 Axes>"
            ]
          },
          "metadata": {
            "tags": []
          }
        },
        {
          "output_type": "stream",
          "text": [
            "y_train [shape (50000,)] 10 samples:\n",
            " [5 0 4 1 9 2 1 3 1 4]\n"
          ],
          "name": "stdout"
        }
      ]
    },
    {
      "metadata": {
        "id": "SMkup2SBSeAh",
        "colab_type": "code",
        "colab": {
          "base_uri": "https://localhost:8080/",
          "height": 51
        },
        "outputId": "c513e842-35d8-4730-952b-96823fb10b7c"
      },
      "cell_type": "code",
      "source": [
        "# flatten images\n",
        "X_train_flat = X_train.reshape((X_train.shape[0], -1))\n",
        "print(X_train_flat.shape)\n",
        "\n",
        "X_val_flat = X_val.reshape((X_val.shape[0], -1))\n",
        "print(X_val_flat.shape)"
      ],
      "execution_count": 4,
      "outputs": [
        {
          "output_type": "stream",
          "text": [
            "(50000, 784)\n",
            "(10000, 784)\n"
          ],
          "name": "stdout"
        }
      ]
    },
    {
      "metadata": {
        "id": "rpB4htGxSeAj",
        "colab_type": "code",
        "colab": {
          "base_uri": "https://localhost:8080/",
          "height": 85
        },
        "outputId": "0d879834-5478-47e9-a3d7-f940d4acf034"
      },
      "cell_type": "code",
      "source": [
        "# one-hot encode the target\n",
        "y_train_oh = keras.utils.to_categorical(y_train, 10)\n",
        "y_val_oh = keras.utils.to_categorical(y_val, 10)\n",
        "\n",
        "print(y_train_oh.shape)\n",
        "print(y_train_oh[:3], y_train[:3])"
      ],
      "execution_count": 5,
      "outputs": [
        {
          "output_type": "stream",
          "text": [
            "(50000, 10)\n",
            "[[0. 0. 0. 0. 0. 1. 0. 0. 0. 0.]\n",
            " [1. 0. 0. 0. 0. 0. 0. 0. 0. 0.]\n",
            " [0. 0. 0. 0. 1. 0. 0. 0. 0. 0.]] [5 0 4]\n"
          ],
          "name": "stdout"
        }
      ]
    },
    {
      "metadata": {
        "id": "Uvx1S5bzSeAm",
        "colab_type": "code",
        "colab": {
          "base_uri": "https://localhost:8080/",
          "height": 88
        },
        "outputId": "369f52de-d827-436d-e9e4-25694dfc0b26"
      },
      "cell_type": "code",
      "source": [
        "# building a model with keras\n",
        "from keras.layers import Dense, Activation\n",
        "from keras.models import Sequential\n",
        "\n",
        "# we still need to clear a graph though\n",
        "s = reset_tf_session()\n",
        "\n",
        "model = Sequential()  # it is a feed-forward network without loops like in RNN\n",
        "model.add(Dense(256, input_shape=(784,)))  # the first layer must specify the input shape (replacing placeholders)\n",
        "model.add(Activation('sigmoid'))\n",
        "model.add(Dense(256))\n",
        "model.add(Activation('sigmoid'))\n",
        "model.add(Dense(10))\n",
        "model.add(Activation('softmax'))"
      ],
      "execution_count": 6,
      "outputs": [
        {
          "output_type": "stream",
          "text": [
            "WARNING:tensorflow:From /usr/local/lib/python3.6/dist-packages/tensorflow/python/framework/op_def_library.py:263: colocate_with (from tensorflow.python.framework.ops) is deprecated and will be removed in a future version.\n",
            "Instructions for updating:\n",
            "Colocations handled automatically by placer.\n"
          ],
          "name": "stdout"
        }
      ]
    },
    {
      "metadata": {
        "id": "_miCmV9gSeAo",
        "colab_type": "code",
        "colab": {
          "base_uri": "https://localhost:8080/",
          "height": 340
        },
        "outputId": "961567c0-db10-4752-bc11-c797a9f51e81"
      },
      "cell_type": "code",
      "source": [
        "# you can look at all layers and parameter count\n",
        "model.summary()"
      ],
      "execution_count": 7,
      "outputs": [
        {
          "output_type": "stream",
          "text": [
            "_________________________________________________________________\n",
            "Layer (type)                 Output Shape              Param #   \n",
            "=================================================================\n",
            "dense_1 (Dense)              (None, 256)               200960    \n",
            "_________________________________________________________________\n",
            "activation_1 (Activation)    (None, 256)               0         \n",
            "_________________________________________________________________\n",
            "dense_2 (Dense)              (None, 256)               65792     \n",
            "_________________________________________________________________\n",
            "activation_2 (Activation)    (None, 256)               0         \n",
            "_________________________________________________________________\n",
            "dense_3 (Dense)              (None, 10)                2570      \n",
            "_________________________________________________________________\n",
            "activation_3 (Activation)    (None, 10)                0         \n",
            "=================================================================\n",
            "Total params: 269,322\n",
            "Trainable params: 269,322\n",
            "Non-trainable params: 0\n",
            "_________________________________________________________________\n"
          ],
          "name": "stdout"
        }
      ]
    },
    {
      "metadata": {
        "id": "NcReycW4SeAq",
        "colab_type": "code",
        "colab": {
          "base_uri": "https://localhost:8080/",
          "height": 88
        },
        "outputId": "4ab8c06e-56ad-4ed4-c1e0-35a4843a01db"
      },
      "cell_type": "code",
      "source": [
        "# now we \"compile\" the model specifying the loss and optimizer\n",
        "model.compile(\n",
        "    loss='categorical_crossentropy', # this is our cross-entropy\n",
        "    optimizer='adam',\n",
        "    metrics=['accuracy']  # report accuracy during training\n",
        ")"
      ],
      "execution_count": 8,
      "outputs": [
        {
          "output_type": "stream",
          "text": [
            "WARNING:tensorflow:From /usr/local/lib/python3.6/dist-packages/keras/backend/tensorflow_backend.py:2745: calling reduce_sum_v1 (from tensorflow.python.ops.math_ops) with keep_dims is deprecated and will be removed in a future version.\n",
            "Instructions for updating:\n",
            "keep_dims is deprecated, use keepdims instead\n"
          ],
          "name": "stdout"
        }
      ]
    },
    {
      "metadata": {
        "id": "cjZGqg-JSeAu",
        "colab_type": "code",
        "colab": {
          "base_uri": "https://localhost:8080/",
          "height": 2825
        },
        "outputId": "30439073-b368-48f5-a58d-bc734656b3dd"
      },
      "cell_type": "code",
      "source": [
        "# and now we can fit the model with model.fit()\n",
        "# and we don't have to write loops and batching manually as in TensorFlow\n",
        "model.fit(\n",
        "    X_train_flat, \n",
        "    y_train_oh,\n",
        "    batch_size=512, \n",
        "    epochs=40,\n",
        "    validation_data=(X_val_flat, y_val_oh),\n",
        "    callbacks=[keras_utils.TqdmProgressCallback()],\n",
        "    verbose=0\n",
        ")"
      ],
      "execution_count": 9,
      "outputs": [
        {
          "output_type": "stream",
          "text": [
            "WARNING:tensorflow:From /usr/local/lib/python3.6/dist-packages/tensorflow/python/ops/math_ops.py:3066: to_int32 (from tensorflow.python.ops.math_ops) is deprecated and will be removed in a future version.\n",
            "Instructions for updating:\n",
            "Use tf.cast instead.\n",
            "\n",
            "Epoch 1/40\n",
            "**************************************************\n",
            "loss: 1.2545; acc: 0.6761; val_loss: 0.4909; val_acc: 0.8842\n",
            "\n",
            "Epoch 2/40\n",
            "**************************************************\n",
            "loss: 0.4006; acc: 0.8938; val_loss: 0.3006; val_acc: 0.9175\n",
            "\n",
            "Epoch 3/40\n",
            "**************************************************\n",
            "loss: 0.2977; acc: 0.9156; val_loss: 0.2500; val_acc: 0.9284\n",
            "\n",
            "Epoch 4/40\n",
            "**************************************************\n",
            "loss: 0.2520; acc: 0.9266; val_loss: 0.2254; val_acc: 0.9359\n",
            "\n",
            "Epoch 5/40\n",
            "**************************************************\n",
            "loss: 0.2224; acc: 0.9351; val_loss: 0.1952; val_acc: 0.9451\n",
            "\n",
            "Epoch 6/40\n",
            "**************************************************\n",
            "loss: 0.1961; acc: 0.9429; val_loss: 0.1807; val_acc: 0.9495\n",
            "\n",
            "Epoch 7/40\n",
            "**************************************************\n",
            "loss: 0.1751; acc: 0.9482; val_loss: 0.1624; val_acc: 0.9553\n",
            "\n",
            "Epoch 8/40\n",
            "**************************************************\n",
            "loss: 0.1572; acc: 0.9540; val_loss: 0.1486; val_acc: 0.9593\n",
            "\n",
            "Epoch 9/40\n",
            "**************************************************\n",
            "loss: 0.1415; acc: 0.9582; val_loss: 0.1405; val_acc: 0.9601\n",
            "\n",
            "Epoch 10/40\n",
            "**************************************************\n",
            "loss: 0.1285; acc: 0.9625; val_loss: 0.1348; val_acc: 0.9621\n",
            "\n",
            "Epoch 11/40\n",
            "**************************************************\n",
            "loss: 0.1159; acc: 0.9664; val_loss: 0.1214; val_acc: 0.9645\n",
            "\n",
            "Epoch 12/40\n",
            "**************************************************\n",
            "loss: 0.1049; acc: 0.9698; val_loss: 0.1146; val_acc: 0.9656\n",
            "\n",
            "Epoch 13/40\n",
            "**************************************************\n",
            "loss: 0.0951; acc: 0.9727; val_loss: 0.1096; val_acc: 0.9673\n",
            "\n",
            "Epoch 14/40\n",
            "**************************************************\n",
            "loss: 0.0863; acc: 0.9752; val_loss: 0.1055; val_acc: 0.9697\n",
            "\n",
            "Epoch 15/40\n",
            "**************************************************\n",
            "loss: 0.0781; acc: 0.9776; val_loss: 0.1018; val_acc: 0.9700\n",
            "\n",
            "Epoch 16/40\n",
            "**************************************************\n",
            "loss: 0.0707; acc: 0.9798; val_loss: 0.0961; val_acc: 0.9699\n",
            "\n",
            "Epoch 17/40\n",
            "**************************************************\n",
            "loss: 0.0646; acc: 0.9814; val_loss: 0.0896; val_acc: 0.9737\n",
            "\n",
            "Epoch 18/40\n",
            "**************************************************\n",
            "loss: 0.0588; acc: 0.9839; val_loss: 0.0877; val_acc: 0.9747\n",
            "\n",
            "Epoch 19/40\n",
            "**************************************************\n",
            "loss: 0.0537; acc: 0.9850; val_loss: 0.0854; val_acc: 0.9749\n",
            "\n",
            "Epoch 20/40\n",
            "**************************************************\n",
            "loss: 0.0481; acc: 0.9870; val_loss: 0.0842; val_acc: 0.9742\n",
            "\n",
            "Epoch 21/40\n",
            "**************************************************\n",
            "loss: 0.0442; acc: 0.9879; val_loss: 0.0813; val_acc: 0.9745\n",
            "\n",
            "Epoch 22/40\n",
            "**************************************************\n",
            "loss: 0.0397; acc: 0.9897; val_loss: 0.0816; val_acc: 0.9745\n",
            "\n",
            "Epoch 23/40\n",
            "**************************************************\n",
            "loss: 0.0357; acc: 0.9911; val_loss: 0.0791; val_acc: 0.9750\n",
            "\n",
            "Epoch 24/40\n",
            "**************************************************\n",
            "loss: 0.0330; acc: 0.9919; val_loss: 0.0791; val_acc: 0.9771\n",
            "\n",
            "Epoch 25/40\n",
            "**************************************************\n",
            "loss: 0.0291; acc: 0.9932; val_loss: 0.0783; val_acc: 0.9764\n",
            "\n",
            "Epoch 26/40\n",
            "**************************************************\n",
            "loss: 0.0265; acc: 0.9940; val_loss: 0.0762; val_acc: 0.9767\n",
            "\n",
            "Epoch 27/40\n",
            "**************************************************\n",
            "loss: 0.0243; acc: 0.9947; val_loss: 0.0753; val_acc: 0.9778\n",
            "\n",
            "Epoch 28/40\n",
            "**************************************************\n",
            "loss: 0.0220; acc: 0.9953; val_loss: 0.0754; val_acc: 0.9783\n",
            "\n",
            "Epoch 29/40\n",
            "**************************************************\n",
            "loss: 0.0192; acc: 0.9963; val_loss: 0.0737; val_acc: 0.9778\n",
            "\n",
            "Epoch 30/40\n",
            "**************************************************\n",
            "loss: 0.0173; acc: 0.9968; val_loss: 0.0746; val_acc: 0.9792\n",
            "\n",
            "Epoch 31/40\n",
            "**************************************************\n",
            "loss: 0.0155; acc: 0.9973; val_loss: 0.0727; val_acc: 0.9791\n",
            "\n",
            "Epoch 32/40\n",
            "**************************************************\n",
            "loss: 0.0142; acc: 0.9978; val_loss: 0.0738; val_acc: 0.9791\n",
            "\n",
            "Epoch 33/40\n",
            "**************************************************\n",
            "loss: 0.0128; acc: 0.9981; val_loss: 0.0763; val_acc: 0.9780\n",
            "\n",
            "Epoch 34/40\n",
            "**************************************************\n",
            "loss: 0.0117; acc: 0.9982; val_loss: 0.0743; val_acc: 0.9784\n",
            "\n",
            "Epoch 35/40\n",
            "**************************************************\n",
            "loss: 0.0104; acc: 0.9987; val_loss: 0.0769; val_acc: 0.9780\n",
            "\n",
            "Epoch 36/40\n",
            "**************************************************\n",
            "loss: 0.0093; acc: 0.9989; val_loss: 0.0750; val_acc: 0.9787\n",
            "\n",
            "Epoch 37/40\n",
            "**************************************************\n",
            "loss: 0.0081; acc: 0.9991; val_loss: 0.0758; val_acc: 0.9788\n",
            "\n",
            "Epoch 38/40\n",
            "**************************************************\n",
            "loss: 0.0070; acc: 0.9993; val_loss: 0.0734; val_acc: 0.9794\n",
            "\n",
            "Epoch 39/40\n",
            "**************************************************\n",
            "loss: 0.0065; acc: 0.9995; val_loss: 0.0776; val_acc: 0.9795\n",
            "\n",
            "Epoch 40/40\n",
            "**************************************************\n",
            "loss: 0.0056; acc: 0.9996; val_loss: 0.0760; val_acc: 0.9796\n"
          ],
          "name": "stdout"
        },
        {
          "output_type": "execute_result",
          "data": {
            "text/plain": [
              "<keras.callbacks.History at 0x7fa82ab5a588>"
            ]
          },
          "metadata": {
            "tags": []
          },
          "execution_count": 9
        }
      ]
    },
    {
      "metadata": {
        "id": "3L3y6q_7SeAx",
        "colab_type": "text"
      },
      "cell_type": "markdown",
      "source": [
        "# Here're the notes for those who want to play around here\n",
        "\n",
        "Here are some tips on what you could do:\n",
        "\n",
        " * __Network size__\n",
        "   * More neurons, \n",
        "   * More layers, ([docs](https://keras.io/))\n",
        "\n",
        "   * Other nonlinearities in the hidden layers\n",
        "     * tanh, relu, leaky relu, etc\n",
        "   * Larger networks may take more epochs to train, so don't discard your net just because it could didn't beat the baseline in 5 epochs.\n",
        "\n",
        "\n",
        " * __Early Stopping__\n",
        "   * Training for 100 epochs regardless of anything is probably a bad idea.\n",
        "   * Some networks converge over 5 epochs, others - over 500.\n",
        "   * Way to go: stop when validation score is 10 iterations past maximum\n",
        "     \n",
        "\n",
        " * __Faster optimization__\n",
        "   * rmsprop, nesterov_momentum, adam, adagrad and so on.\n",
        "     * Converge faster and sometimes reach better optima\n",
        "     * It might make sense to tweak learning rate/momentum, other learning parameters, batch size and number of epochs\n",
        "\n",
        "\n",
        " * __Regularize__ to prevent overfitting\n",
        "   * Add some L2 weight norm to the loss function, theano will do the rest\n",
        "     * Can be done manually or via - https://keras.io/regularizers/\n",
        "   \n",
        "   \n",
        " * __Data augmemntation__ - getting 5x as large dataset for free is a great deal\n",
        "   * https://keras.io/preprocessing/image/\n",
        "   * Zoom-in+slice = move\n",
        "   * Rotate+zoom(to remove black stripes)\n",
        "   * any other perturbations\n",
        "   * Simple way to do that (if you have PIL/Image): \n",
        "     * ```from scipy.misc import imrotate,imresize```\n",
        "     * and a few slicing\n",
        "   * Stay realistic. There's usually no point in flipping dogs upside down as that is not the way you usually see them."
      ]
    },
    {
      "metadata": {
        "id": "9XL77FCkSeAy",
        "colab_type": "code",
        "colab": {}
      },
      "cell_type": "code",
      "source": [
        ""
      ],
      "execution_count": 0,
      "outputs": []
    }
  ]
}
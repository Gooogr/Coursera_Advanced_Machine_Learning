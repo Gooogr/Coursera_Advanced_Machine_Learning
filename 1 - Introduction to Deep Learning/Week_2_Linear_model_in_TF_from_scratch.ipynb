{
  "nbformat": 4,
  "nbformat_minor": 0,
  "metadata": {
    "colab": {
      "name": "Week 2 - Linear model in TF from scratch.ipynb",
      "version": "0.3.2",
      "provenance": [],
      "collapsed_sections": [],
      "include_colab_link": true
    },
    "kernelspec": {
      "name": "python3",
      "display_name": "Python 3"
    }
  },
  "cells": [
    {
      "cell_type": "markdown",
      "metadata": {
        "id": "view-in-github",
        "colab_type": "text"
      },
      "source": [
        "<a href=\"https://colab.research.google.com/github/Gooogr/Coursera_Advanced_Machine_Learning/blob/master/1%20-%20Introduction%20to%20Deep%20Learning/Week_2_Linear_model_in_TF_from_scratch.ipynb\" target=\"_parent\"><img src=\"https://colab.research.google.com/assets/colab-badge.svg\" alt=\"Open In Colab\"/></a>"
      ]
    },
    {
      "metadata": {
        "id": "h4TvN76tfUYV",
        "colab_type": "code",
        "colab": {
          "base_uri": "https://localhost:8080/",
          "height": 51
        },
        "outputId": "d989098c-0a66-4656-8840-c5e29fbfd6f7"
      },
      "cell_type": "code",
      "source": [
        "import tensorflow as tf\n",
        "print('tensorflow version: ',tf.__version__)\n",
        "import numpy as np\n",
        "print('numpy version: ',np.__version__)\n"
      ],
      "execution_count": 1,
      "outputs": [
        {
          "output_type": "stream",
          "text": [
            "tensorflow version:  1.13.1\n",
            "numpy version:  1.16.2\n"
          ],
          "name": "stdout"
        }
      ]
    },
    {
      "metadata": {
        "id": "TsMmd-f3kb7Q",
        "colab_type": "text"
      },
      "cell_type": "markdown",
      "source": [
        "Data generating"
      ]
    },
    {
      "metadata": {
        "id": "BNvgZnZnjXDw",
        "colab_type": "code",
        "colab": {
          "base_uri": "https://localhost:8080/",
          "height": 68
        },
        "outputId": "d18129a4-4c33-4ae2-9298-dd1daf5ce13e"
      },
      "cell_type": "code",
      "source": [
        "N = 1000\n",
        "D = 3\n",
        "X = np.random.random((N, D))\n",
        "W = np.random.random((D, 1))\n",
        "y = X @ W + np.random.randn(N, 1)*0.2 # randn - Return a sample (or samples) from the “standard normal” distribution.\n",
        "print('X size: ', X.shape)\n",
        "print('y size: ', y.shape)\n",
        "print('Weights: ',W.T) # use to initialaze 'y' and check predicted weights"
      ],
      "execution_count": 5,
      "outputs": [
        {
          "output_type": "stream",
          "text": [
            "X size:  (1000, 3)\n",
            "y size:  (1000, 1)\n",
            "Weights:  [[0.49857623 0.83488399 0.70342174]]\n"
          ],
          "name": "stdout"
        }
      ]
    },
    {
      "metadata": {
        "id": "08yjRsUvkj6N",
        "colab_type": "text"
      },
      "cell_type": "markdown",
      "source": [
        "Set elements of linear model"
      ]
    },
    {
      "metadata": {
        "id": "PLMp9urPkhUC",
        "colab_type": "code",
        "colab": {
          "base_uri": "https://localhost:8080/",
          "height": 88
        },
        "outputId": "cdc4cc21-7bd1-4f3c-cf47-5e4b4f2c9564"
      },
      "cell_type": "code",
      "source": [
        "# Placeholders (data inputs)\n",
        "features = tf.placeholder(tf.float32, shape = (None, D))\n",
        "target = tf.placeholder(tf.float32, shape = (None, 1))\n",
        "\n",
        "# Prediction approach\n",
        "weights = tf.get_variable('weights', shape = (D, 1), dtype = tf.float32) #get - gets an existing variable or create a new one.\n",
        "predictions = features @ weights\n",
        "\n",
        "# Loss function\n",
        "loss = tf.reduce_mean((target - predictions)**2)\n",
        "\n",
        "# Optimizer\n",
        "optimizer = tf.train.GradientDescentOptimizer(0.1)\n",
        "step = optimizer.minimize(loss)\n"
      ],
      "execution_count": 6,
      "outputs": [
        {
          "output_type": "stream",
          "text": [
            "WARNING:tensorflow:From /usr/local/lib/python3.6/dist-packages/tensorflow/python/framework/op_def_library.py:263: colocate_with (from tensorflow.python.framework.ops) is deprecated and will be removed in a future version.\n",
            "Instructions for updating:\n",
            "Colocations handled automatically by placer.\n"
          ],
          "name": "stdout"
        }
      ]
    },
    {
      "metadata": {
        "id": "gzuIOk2toFrH",
        "colab_type": "text"
      },
      "cell_type": "markdown",
      "source": [
        "Iteration process"
      ]
    },
    {
      "metadata": {
        "id": "wTIjBR5RoCml",
        "colab_type": "code",
        "colab": {
          "base_uri": "https://localhost:8080/",
          "height": 187
        },
        "outputId": "f442c1a9-5b9c-4bb2-c0a5-f1ce0084bdc9"
      },
      "cell_type": "code",
      "source": [
        "with tf.Session() as sess:\n",
        "  sess.run(tf.global_variables_initializer())\n",
        "  for i in range(500):\n",
        "    _, curr_loss, curr_weights = sess.run([step, loss, weights], feed_dict = {features:X, target:y}) #https://www.tensorflow.org/api_docs/python/tf/Session#run\n",
        "                                                                                                     # 'run' return 'fetches' - list of values in this case\n",
        "    if i % 50 == 0:\n",
        "      print(curr_loss)\n",
        "    "
      ],
      "execution_count": 14,
      "outputs": [
        {
          "output_type": "stream",
          "text": [
            "0.19384064\n",
            "0.040613364\n",
            "0.03985726\n",
            "0.039724138\n",
            "0.039700676\n",
            "0.039696533\n",
            "0.0396958\n",
            "0.039695676\n",
            "0.03969565\n",
            "0.039695647\n"
          ],
          "name": "stdout"
        }
      ]
    },
    {
      "metadata": {
        "id": "4wbCyGxisrYN",
        "colab_type": "text"
      },
      "cell_type": "markdown",
      "source": [
        "Results"
      ]
    },
    {
      "metadata": {
        "id": "pF7J97ANj8Gm",
        "colab_type": "code",
        "colab": {
          "base_uri": "https://localhost:8080/",
          "height": 51
        },
        "outputId": "516375ba-9123-40ee-9af5-60edb72c2295"
      },
      "cell_type": "code",
      "source": [
        "print('Result weights: ', cur_weights.T)\n",
        "print('True weights: ', W.T)"
      ],
      "execution_count": 17,
      "outputs": [
        {
          "output_type": "stream",
          "text": [
            "Result weights:  [[0.518174   0.82902914 0.70071775]]\n",
            "True weights:  [[0.49857623 0.83488399 0.70342174]]\n"
          ],
          "name": "stdout"
        }
      ]
    },
    {
      "metadata": {
        "id": "bllNavYirH5u",
        "colab_type": "code",
        "colab": {}
      },
      "cell_type": "code",
      "source": [
        "y_true = X @ W\n",
        "y_predicted = X @ cur_weights"
      ],
      "execution_count": 0,
      "outputs": []
    },
    {
      "metadata": {
        "id": "uK6PHHKCsK1t",
        "colab_type": "code",
        "colab": {
          "base_uri": "https://localhost:8080/",
          "height": 51
        },
        "outputId": "f9c96ec7-13f4-4235-b250-95977420e953"
      },
      "cell_type": "code",
      "source": [
        "print('True y values: ', y_true[:5].T)\n",
        "print('Predicted y values: ', y_predicted[:5].T)"
      ],
      "execution_count": 28,
      "outputs": [
        {
          "output_type": "stream",
          "text": [
            "True y values:  [[0.50051736 1.406293   0.95107105 1.17383391 0.85629455]]\n",
            "Predicted y values:  [[0.50415612 1.41094448 0.96210683 1.16866185 0.86331416]]\n"
          ],
          "name": "stdout"
        }
      ]
    },
    {
      "metadata": {
        "id": "81jCXhqnsUeU",
        "colab_type": "code",
        "colab": {}
      },
      "cell_type": "code",
      "source": [
        ""
      ],
      "execution_count": 0,
      "outputs": []
    }
  ]
}
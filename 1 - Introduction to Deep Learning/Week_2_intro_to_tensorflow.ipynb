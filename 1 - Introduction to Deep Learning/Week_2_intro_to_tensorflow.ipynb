{
  "nbformat": 4,
  "nbformat_minor": 0,
  "metadata": {
    "colab": {
      "name": "Week 2 - intro_to_tensorflow.ipynb",
      "version": "0.3.2",
      "provenance": [],
      "collapsed_sections": [],
      "toc_visible": true,
      "include_colab_link": true
    },
    "language_info": {
      "codemirror_mode": {
        "name": "ipython",
        "version": 3
      },
      "file_extension": ".py",
      "mimetype": "text/x-python",
      "name": "python",
      "nbconvert_exporter": "python",
      "pygments_lexer": "ipython3",
      "version": "3.6.5"
    },
    "kernelspec": {
      "display_name": "Python 3",
      "language": "python",
      "name": "python3"
    }
  },
  "cells": [
    {
      "cell_type": "markdown",
      "metadata": {
        "id": "view-in-github",
        "colab_type": "text"
      },
      "source": [
        "<a href=\"https://colab.research.google.com/github/Gooogr/Coursera_Advanced_Machine_Learning/blob/master/1%20-%20Introduction%20to%20Deep%20Learning/Week_2_intro_to_tensorflow.ipynb\" target=\"_parent\"><img src=\"https://colab.research.google.com/assets/colab-badge.svg\" alt=\"Open In Colab\"/></a>"
      ]
    },
    {
      "metadata": {
        "id": "2Ayo4cVoJxWx",
        "colab_type": "text"
      },
      "cell_type": "markdown",
      "source": [
        "# Intro to TensorFlow\n",
        "\n",
        "This notebook covers the basics of TF and shows you an animation with gradient descent trajectory.\n",
        "<img src=\"https://github.com/hse-aml/intro-to-dl/blob/master/week2/v2/images/gradient_descent.png?raw=1\" style=\"width:50%\">"
      ]
    },
    {
      "metadata": {
        "id": "bvM_ICRjJxW0",
        "colab_type": "text"
      },
      "cell_type": "markdown",
      "source": [
        "# TensorBoard"
      ]
    },
    {
      "metadata": {
        "id": "_sAGVhFTJxW1",
        "colab_type": "text"
      },
      "cell_type": "markdown",
      "source": [
        "**Plase note that if you are running on the Coursera platform, you won't be able to access the tensorboard instance due to the network setup there.**\n",
        "\n",
        "Run `tensorboard --logdir=./tensorboard_logs --port=7007` in bash.\n",
        "\n",
        "If you run the notebook locally, you should be able to access TensorBoard on http://127.0.0.1:7007/"
      ]
    },
    {
      "metadata": {
        "id": "UKZ-lMVpJxW2",
        "colab_type": "code",
        "outputId": "e5a537c5-7ad1-47f5-86b5-26dd71cf134c",
        "colab": {
          "base_uri": "https://localhost:8080/",
          "height": 51
        }
      },
      "cell_type": "code",
      "source": [
        "import tensorflow as tf\n",
        "import sys\n",
        "sys.path.append(\"../..\")\n",
        "from keras_utils import reset_tf_session\n",
        "s = reset_tf_session()\n",
        "print(\"We're using TF\", tf.__version__)"
      ],
      "execution_count": 2,
      "outputs": [
        {
          "output_type": "stream",
          "text": [
            "Using TensorFlow backend.\n"
          ],
          "name": "stderr"
        },
        {
          "output_type": "stream",
          "text": [
            "We're using TF 1.13.1\n"
          ],
          "name": "stdout"
        }
      ]
    },
    {
      "metadata": {
        "id": "jLbTOQeVJxW6",
        "colab_type": "text"
      },
      "cell_type": "markdown",
      "source": [
        "# Warming up\n",
        "For starters, let's implement a python function that computes the sum of squares of numbers from 0 to N-1."
      ]
    },
    {
      "metadata": {
        "id": "xe067wMHJxW7",
        "colab_type": "code",
        "colab": {}
      },
      "cell_type": "code",
      "source": [
        "import numpy as np\n",
        "\n",
        "def sum_python(N):\n",
        "    return np.sum(np.arange(N)**2)"
      ],
      "execution_count": 0,
      "outputs": []
    },
    {
      "metadata": {
        "id": "HgHiObvgJxW-",
        "colab_type": "code",
        "colab": {
          "base_uri": "https://localhost:8080/",
          "height": 68
        },
        "outputId": "31c6991d-cc5c-466f-85dc-21c03a612f3c"
      },
      "cell_type": "code",
      "source": [
        "%%time\n",
        "sum_python(10**5)"
      ],
      "execution_count": 4,
      "outputs": [
        {
          "output_type": "stream",
          "text": [
            "CPU times: user 448 µs, sys: 3.93 ms, total: 4.38 ms\n",
            "Wall time: 9.68 ms\n"
          ],
          "name": "stdout"
        },
        {
          "output_type": "execute_result",
          "data": {
            "text/plain": [
              "333328333350000"
            ]
          },
          "metadata": {
            "tags": []
          },
          "execution_count": 4
        }
      ]
    },
    {
      "metadata": {
        "id": "ej-mIQ5eJxXA",
        "colab_type": "text"
      },
      "cell_type": "markdown",
      "source": [
        "# Tensoflow teaser\n",
        "\n",
        "Doing the very same thing"
      ]
    },
    {
      "metadata": {
        "id": "XEXLOcEyJxXB",
        "colab_type": "code",
        "colab": {}
      },
      "cell_type": "code",
      "source": [
        "# An integer parameter\n",
        "N = tf.placeholder('int64', name=\"input_to_your_function\")\n",
        "\n",
        "# A recipe on how to produce the same result\n",
        "result = tf.reduce_sum(tf.range(N)**2)"
      ],
      "execution_count": 0,
      "outputs": []
    },
    {
      "metadata": {
        "id": "koajyBkhJxXD",
        "colab_type": "code",
        "colab": {
          "base_uri": "https://localhost:8080/",
          "height": 34
        },
        "outputId": "2995eb00-098c-43e9-e316-405e5e69efe7"
      },
      "cell_type": "code",
      "source": [
        "# just a graph definition\n",
        "result"
      ],
      "execution_count": 6,
      "outputs": [
        {
          "output_type": "execute_result",
          "data": {
            "text/plain": [
              "<tf.Tensor 'Sum:0' shape=() dtype=int64>"
            ]
          },
          "metadata": {
            "tags": []
          },
          "execution_count": 6
        }
      ]
    },
    {
      "metadata": {
        "id": "GWBh-exZJxXF",
        "colab_type": "code",
        "colab": {
          "base_uri": "https://localhost:8080/",
          "height": 68
        },
        "outputId": "7e58f7e9-d5bc-437f-dbc2-08221c2bc715"
      },
      "cell_type": "code",
      "source": [
        "%%time\n",
        "# actually executing\n",
        "result.eval({N: 10**5})"
      ],
      "execution_count": 7,
      "outputs": [
        {
          "output_type": "stream",
          "text": [
            "CPU times: user 5.08 ms, sys: 4.64 ms, total: 9.71 ms\n",
            "Wall time: 27.2 ms\n"
          ],
          "name": "stdout"
        },
        {
          "output_type": "execute_result",
          "data": {
            "text/plain": [
              "333328333350000"
            ]
          },
          "metadata": {
            "tags": []
          },
          "execution_count": 7
        }
      ]
    },
    {
      "metadata": {
        "id": "bB-hG96pJxXH",
        "colab_type": "code",
        "colab": {}
      },
      "cell_type": "code",
      "source": [
        "# logger for tensorboard\n",
        "writer = tf.summary.FileWriter(\"tensorboard_logs\", graph=s.graph)"
      ],
      "execution_count": 0,
      "outputs": []
    },
    {
      "metadata": {
        "id": "yidkRRnUJxXK",
        "colab_type": "text"
      },
      "cell_type": "markdown",
      "source": [
        "# How does it work?\n",
        "1. Define placeholders where you'll send inputs\n",
        "2. Make a symbolic graph: a recipe for mathematical transformation of those placeholders\n",
        "3. Compute outputs of your graph with particular values for each placeholder\n",
        "  * `output.eval({placeholder: value})`\n",
        "  * `s.run(output, {placeholder: value})`\n",
        "\n",
        "So far there are two main entities: \"placeholder\" and \"transformation\" (operation output)\n",
        "* Both can be numbers, vectors, matrices, tensors, etc.\n",
        "* Both can be int32/64, floats, booleans (uint8) of various size.\n",
        "\n",
        "* You can define new transformations as an arbitrary operation on placeholders and other transformations\n",
        " * `tf.reduce_sum(tf.arange(N)**2)` are 3 sequential transformations of placeholder `N`\n",
        " * There's a tensorflow symbolic version for every numpy function\n",
        "   * `a+b, a/b, a**b, ...` behave just like in numpy\n",
        "   * `np.mean` -> `tf.reduce_mean`\n",
        "   * `np.arange` -> `tf.range`\n",
        "   * `np.cumsum` -> `tf.cumsum`\n",
        "   * If you can't find the operation you need, see the [docs](https://www.tensorflow.org/versions/r1.3/api_docs/python).\n",
        "   \n",
        "`tf.contrib` has many high-level features, may be worth a look."
      ]
    },
    {
      "metadata": {
        "id": "JVk1nnaRJxXL",
        "colab_type": "code",
        "colab": {}
      },
      "cell_type": "code",
      "source": [
        "with tf.name_scope(\"Placeholders_examples\"):\n",
        "    # Default placeholder that can be arbitrary float32\n",
        "    # scalar, vertor, matrix, etc.\n",
        "    arbitrary_input = tf.placeholder('float32')\n",
        "\n",
        "    # Input vector of arbitrary length\n",
        "    input_vector = tf.placeholder('float32', shape=(None,))\n",
        "\n",
        "    # Input vector that _must_ have 10 elements and integer type\n",
        "    fixed_vector = tf.placeholder('int32', shape=(10,))\n",
        "\n",
        "    # Matrix of arbitrary n_rows and 15 columns\n",
        "    # (e.g. a minibatch of your data table)\n",
        "    input_matrix = tf.placeholder('float32', shape=(None, 15))\n",
        "    \n",
        "    # You can generally use None whenever you don't need a specific shape\n",
        "    input1 = tf.placeholder('float64', shape=(None, 100, None))\n",
        "    input2 = tf.placeholder('int32', shape=(None, None, 3, 224, 224))\n",
        "\n",
        "    # elementwise multiplication\n",
        "    double_the_vector = input_vector*2\n",
        "\n",
        "    # elementwise cosine\n",
        "    elementwise_cosine = tf.cos(input_vector)\n",
        "\n",
        "    # difference between squared vector and vector itself plus one\n",
        "    vector_squares = input_vector**2 - input_vector + 1"
      ],
      "execution_count": 0,
      "outputs": []
    },
    {
      "metadata": {
        "id": "iUOzQpzGJxXO",
        "colab_type": "code",
        "colab": {}
      },
      "cell_type": "code",
      "source": [
        "my_vector =  tf.placeholder('float32', shape=(None,), name=\"VECTOR_1\")\n",
        "my_vector2 = tf.placeholder('float32', shape=(None,))\n",
        "my_transformation = my_vector * my_vector2 / (tf.sin(my_vector) + 1)"
      ],
      "execution_count": 0,
      "outputs": []
    },
    {
      "metadata": {
        "id": "9NhGcp7pJxXQ",
        "colab_type": "code",
        "colab": {
          "base_uri": "https://localhost:8080/",
          "height": 34
        },
        "outputId": "55568646-bad0-40e7-80bf-d38def269374"
      },
      "cell_type": "code",
      "source": [
        "print(my_transformation)"
      ],
      "execution_count": 11,
      "outputs": [
        {
          "output_type": "stream",
          "text": [
            "Tensor(\"truediv:0\", shape=(?,), dtype=float32)\n"
          ],
          "name": "stdout"
        }
      ]
    },
    {
      "metadata": {
        "id": "fOCUcS3QJxXR",
        "colab_type": "code",
        "colab": {
          "base_uri": "https://localhost:8080/",
          "height": 68
        },
        "outputId": "5ae7e0b6-7c2b-4b46-a639-e501df1bd827"
      },
      "cell_type": "code",
      "source": [
        "dummy = np.arange(5).astype('float32')\n",
        "print(dummy)\n",
        "my_transformation.eval({my_vector: dummy, my_vector2: dummy[::-1]})"
      ],
      "execution_count": 12,
      "outputs": [
        {
          "output_type": "stream",
          "text": [
            "[0. 1. 2. 3. 4.]\n"
          ],
          "name": "stdout"
        },
        {
          "output_type": "execute_result",
          "data": {
            "text/plain": [
              "array([0.       , 1.6291324, 2.0950115, 2.6289961, 0.       ],\n",
              "      dtype=float32)"
            ]
          },
          "metadata": {
            "tags": []
          },
          "execution_count": 12
        }
      ]
    },
    {
      "metadata": {
        "id": "xF1gADJNJxXT",
        "colab_type": "code",
        "colab": {}
      },
      "cell_type": "code",
      "source": [
        "writer.add_graph(my_transformation.graph)\n",
        "writer.flush()"
      ],
      "execution_count": 0,
      "outputs": []
    },
    {
      "metadata": {
        "id": "otK0wyH5JxXV",
        "colab_type": "text"
      },
      "cell_type": "markdown",
      "source": [
        "TensorBoard allows writing scalars, images, audio, histogram. You can read more on tensorboard usage [here](https://www.tensorflow.org/get_started/graph_viz)."
      ]
    },
    {
      "metadata": {
        "id": "LRqSp626JxXV",
        "colab_type": "text"
      },
      "cell_type": "markdown",
      "source": [
        "# Summary\n",
        "* Tensorflow is based on computation graphs\n",
        "* A graph consists of placeholders and transformations"
      ]
    },
    {
      "metadata": {
        "id": "uMYjxaM6JxXW",
        "colab_type": "text"
      },
      "cell_type": "markdown",
      "source": [
        "# Loss function: Mean Squared Error\n",
        "\n",
        "Loss function must be a part of the graph as well, so that we can do backpropagation."
      ]
    },
    {
      "metadata": {
        "id": "t6pJEPtAJxXW",
        "colab_type": "code",
        "colab": {}
      },
      "cell_type": "code",
      "source": [
        "with tf.name_scope(\"MSE\"):\n",
        "    y_true = tf.placeholder(\"float32\", shape=(None,), name=\"y_true\")\n",
        "    y_predicted = tf.placeholder(\"float32\", shape=(None,), name=\"y_predicted\")\n",
        "    # Implement MSE(y_true, y_predicted), use tf.reduce_mean(...)\n",
        "    # mse = ### YOUR CODE HERE ###\n",
        "\n",
        "def compute_mse(vector1, vector2):\n",
        "    return mse.eval({y_true: vector1, y_predicted: vector2})"
      ],
      "execution_count": 0,
      "outputs": []
    },
    {
      "metadata": {
        "id": "xtbjRY1RJxXY",
        "colab_type": "code",
        "colab": {
          "base_uri": "https://localhost:8080/",
          "height": 180
        },
        "outputId": "00c60926-b12a-4472-d2f8-8e14631b6cdf"
      },
      "cell_type": "code",
      "source": [
        "writer.add_graph(mse.graph)\n",
        "writer.flush()"
      ],
      "execution_count": 15,
      "outputs": [
        {
          "output_type": "error",
          "ename": "NameError",
          "evalue": "ignored",
          "traceback": [
            "\u001b[0;31m---------------------------------------------------------------------------\u001b[0m",
            "\u001b[0;31mNameError\u001b[0m                                 Traceback (most recent call last)",
            "\u001b[0;32m<ipython-input-15-e5abceb32404>\u001b[0m in \u001b[0;36m<module>\u001b[0;34m()\u001b[0m\n\u001b[0;32m----> 1\u001b[0;31m \u001b[0mwriter\u001b[0m\u001b[0;34m.\u001b[0m\u001b[0madd_graph\u001b[0m\u001b[0;34m(\u001b[0m\u001b[0mmse\u001b[0m\u001b[0;34m.\u001b[0m\u001b[0mgraph\u001b[0m\u001b[0;34m)\u001b[0m\u001b[0;34m\u001b[0m\u001b[0;34m\u001b[0m\u001b[0m\n\u001b[0m\u001b[1;32m      2\u001b[0m \u001b[0mwriter\u001b[0m\u001b[0;34m.\u001b[0m\u001b[0mflush\u001b[0m\u001b[0;34m(\u001b[0m\u001b[0;34m)\u001b[0m\u001b[0;34m\u001b[0m\u001b[0;34m\u001b[0m\u001b[0m\n",
            "\u001b[0;31mNameError\u001b[0m: name 'mse' is not defined"
          ]
        }
      ]
    },
    {
      "metadata": {
        "id": "0cj-NRmlJxXZ",
        "colab_type": "code",
        "colab": {
          "base_uri": "https://localhost:8080/",
          "height": 316
        },
        "outputId": "557cde31-b41c-4e50-d839-0a8180478c09"
      },
      "cell_type": "code",
      "source": [
        "# Rigorous local testing of MSE implementation\n",
        "import sklearn.metrics\n",
        "for n in [1, 5, 10, 10**3]:\n",
        "    elems = [np.arange(n), np.arange(n, 0, -1), np.zeros(n),\n",
        "             np.ones(n), np.random.random(n), np.random.randint(100, size=n)]\n",
        "    for el in elems:\n",
        "        for el_2 in elems:\n",
        "            true_mse = np.array(sklearn.metrics.mean_squared_error(el, el_2))\n",
        "            my_mse = compute_mse(el, el_2)\n",
        "            if not np.allclose(true_mse, my_mse):\n",
        "                print('mse(%s,%s)' % (el, el_2))\n",
        "                print(\"should be: %f, but your function returned %f\" % (true_mse, my_mse))\n",
        "                raise ValueError('Wrong result')"
      ],
      "execution_count": 16,
      "outputs": [
        {
          "output_type": "error",
          "ename": "NameError",
          "evalue": "ignored",
          "traceback": [
            "\u001b[0;31m---------------------------------------------------------------------------\u001b[0m",
            "\u001b[0;31mNameError\u001b[0m                                 Traceback (most recent call last)",
            "\u001b[0;32m<ipython-input-16-9156fb2ea7a9>\u001b[0m in \u001b[0;36m<module>\u001b[0;34m()\u001b[0m\n\u001b[1;32m      6\u001b[0m         \u001b[0;32mfor\u001b[0m \u001b[0mel_2\u001b[0m \u001b[0;32min\u001b[0m \u001b[0melems\u001b[0m\u001b[0;34m:\u001b[0m\u001b[0;34m\u001b[0m\u001b[0;34m\u001b[0m\u001b[0m\n\u001b[1;32m      7\u001b[0m             \u001b[0mtrue_mse\u001b[0m \u001b[0;34m=\u001b[0m \u001b[0mnp\u001b[0m\u001b[0;34m.\u001b[0m\u001b[0marray\u001b[0m\u001b[0;34m(\u001b[0m\u001b[0msklearn\u001b[0m\u001b[0;34m.\u001b[0m\u001b[0mmetrics\u001b[0m\u001b[0;34m.\u001b[0m\u001b[0mmean_squared_error\u001b[0m\u001b[0;34m(\u001b[0m\u001b[0mel\u001b[0m\u001b[0;34m,\u001b[0m \u001b[0mel_2\u001b[0m\u001b[0;34m)\u001b[0m\u001b[0;34m)\u001b[0m\u001b[0;34m\u001b[0m\u001b[0;34m\u001b[0m\u001b[0m\n\u001b[0;32m----> 8\u001b[0;31m             \u001b[0mmy_mse\u001b[0m \u001b[0;34m=\u001b[0m \u001b[0mcompute_mse\u001b[0m\u001b[0;34m(\u001b[0m\u001b[0mel\u001b[0m\u001b[0;34m,\u001b[0m \u001b[0mel_2\u001b[0m\u001b[0;34m)\u001b[0m\u001b[0;34m\u001b[0m\u001b[0;34m\u001b[0m\u001b[0m\n\u001b[0m\u001b[1;32m      9\u001b[0m             \u001b[0;32mif\u001b[0m \u001b[0;32mnot\u001b[0m \u001b[0mnp\u001b[0m\u001b[0;34m.\u001b[0m\u001b[0mallclose\u001b[0m\u001b[0;34m(\u001b[0m\u001b[0mtrue_mse\u001b[0m\u001b[0;34m,\u001b[0m \u001b[0mmy_mse\u001b[0m\u001b[0;34m)\u001b[0m\u001b[0;34m:\u001b[0m\u001b[0;34m\u001b[0m\u001b[0;34m\u001b[0m\u001b[0m\n\u001b[1;32m     10\u001b[0m                 \u001b[0mprint\u001b[0m\u001b[0;34m(\u001b[0m\u001b[0;34m'mse(%s,%s)'\u001b[0m \u001b[0;34m%\u001b[0m \u001b[0;34m(\u001b[0m\u001b[0mel\u001b[0m\u001b[0;34m,\u001b[0m \u001b[0mel_2\u001b[0m\u001b[0;34m)\u001b[0m\u001b[0;34m)\u001b[0m\u001b[0;34m\u001b[0m\u001b[0;34m\u001b[0m\u001b[0m\n",
            "\u001b[0;32m<ipython-input-14-8bdea9288310>\u001b[0m in \u001b[0;36mcompute_mse\u001b[0;34m(vector1, vector2)\u001b[0m\n\u001b[1;32m      6\u001b[0m \u001b[0;34m\u001b[0m\u001b[0m\n\u001b[1;32m      7\u001b[0m \u001b[0;32mdef\u001b[0m \u001b[0mcompute_mse\u001b[0m\u001b[0;34m(\u001b[0m\u001b[0mvector1\u001b[0m\u001b[0;34m,\u001b[0m \u001b[0mvector2\u001b[0m\u001b[0;34m)\u001b[0m\u001b[0;34m:\u001b[0m\u001b[0;34m\u001b[0m\u001b[0;34m\u001b[0m\u001b[0m\n\u001b[0;32m----> 8\u001b[0;31m     \u001b[0;32mreturn\u001b[0m \u001b[0mmse\u001b[0m\u001b[0;34m.\u001b[0m\u001b[0meval\u001b[0m\u001b[0;34m(\u001b[0m\u001b[0;34m{\u001b[0m\u001b[0my_true\u001b[0m\u001b[0;34m:\u001b[0m \u001b[0mvector1\u001b[0m\u001b[0;34m,\u001b[0m \u001b[0my_predicted\u001b[0m\u001b[0;34m:\u001b[0m \u001b[0mvector2\u001b[0m\u001b[0;34m}\u001b[0m\u001b[0;34m)\u001b[0m\u001b[0;34m\u001b[0m\u001b[0;34m\u001b[0m\u001b[0m\n\u001b[0m",
            "\u001b[0;31mNameError\u001b[0m: name 'mse' is not defined"
          ]
        }
      ]
    },
    {
      "metadata": {
        "id": "NOBql73pJxXb",
        "colab_type": "text"
      },
      "cell_type": "markdown",
      "source": [
        "# Variables\n",
        "\n",
        "Placeholder and transformation values are not stored in the graph once the execution is finished. This isn't too comfortable if you want your model to have parameters (e.g. network weights) that are always present, but can change their value over time.\n",
        "\n",
        "Tensorflow solves this with `tf.Variable` objects.\n",
        "* You can assign variable a value at any time in your graph\n",
        "* Unlike placeholders, there's no need to explicitly pass values to variables when `s.run(...)`-ing\n",
        "* You can use variables the same way you use transformations \n",
        " "
      ]
    },
    {
      "metadata": {
        "id": "O5V7_iBcJxXb",
        "colab_type": "code",
        "colab": {
          "base_uri": "https://localhost:8080/",
          "height": 88
        },
        "outputId": "ee7c232e-9049-4900-a2c5-6a96930cafcc"
      },
      "cell_type": "code",
      "source": [
        "# Creating a shared variable\n",
        "shared_vector_1 = tf.Variable(initial_value=np.ones(5),\n",
        "                              name=\"example_variable\")"
      ],
      "execution_count": 17,
      "outputs": [
        {
          "output_type": "stream",
          "text": [
            "WARNING:tensorflow:From /usr/local/lib/python3.6/dist-packages/tensorflow/python/framework/op_def_library.py:263: colocate_with (from tensorflow.python.framework.ops) is deprecated and will be removed in a future version.\n",
            "Instructions for updating:\n",
            "Colocations handled automatically by placer.\n"
          ],
          "name": "stdout"
        }
      ]
    },
    {
      "metadata": {
        "id": "FB093UWuJxXe",
        "colab_type": "code",
        "colab": {
          "base_uri": "https://localhost:8080/",
          "height": 34
        },
        "outputId": "42225830-f823-4e10-afd6-8112a3560ca6"
      },
      "cell_type": "code",
      "source": [
        "# Initialize variable(s) with initial values\n",
        "s.run(tf.global_variables_initializer())\n",
        "\n",
        "# Evaluating the shared variable\n",
        "print(\"Initial value\", s.run(shared_vector_1))"
      ],
      "execution_count": 18,
      "outputs": [
        {
          "output_type": "stream",
          "text": [
            "Initial value [1. 1. 1. 1. 1.]\n"
          ],
          "name": "stdout"
        }
      ]
    },
    {
      "metadata": {
        "id": "6eEY-KITJxXg",
        "colab_type": "code",
        "colab": {
          "base_uri": "https://localhost:8080/",
          "height": 34
        },
        "outputId": "b11ef04e-75bd-49f7-d6e4-ce123c1995a2"
      },
      "cell_type": "code",
      "source": [
        "# Setting a new value\n",
        "s.run(shared_vector_1.assign(np.arange(5)))\n",
        "\n",
        "# Getting that new value\n",
        "print(\"New value\", s.run(shared_vector_1))"
      ],
      "execution_count": 19,
      "outputs": [
        {
          "output_type": "stream",
          "text": [
            "New value [0. 1. 2. 3. 4.]\n"
          ],
          "name": "stdout"
        }
      ]
    },
    {
      "metadata": {
        "id": "mZcZ35qkJxXi",
        "colab_type": "text"
      },
      "cell_type": "markdown",
      "source": [
        "# tf.gradients - why graphs matter\n",
        "* Tensorflow can compute derivatives and gradients automatically using the computation graph\n",
        "* True to its name it can manage matrix derivatives\n",
        "* Gradients are computed as a product of elementary derivatives via the chain rule:\n",
        "\n",
        "$$ {\\partial f(g(x)) \\over \\partial x} = {\\partial f(g(x)) \\over \\partial g(x)}\\cdot {\\partial g(x) \\over \\partial x} $$\n",
        "\n",
        "It can get you the derivative of any graph as long as it knows how to differentiate elementary operations"
      ]
    },
    {
      "metadata": {
        "id": "jOMP9G0BJxXi",
        "colab_type": "code",
        "colab": {}
      },
      "cell_type": "code",
      "source": [
        "my_scalar = tf.placeholder('float32')\n",
        "\n",
        "scalar_squared = my_scalar**2\n",
        "\n",
        "# A derivative of scalar_squared by my_scalar\n",
        "derivative = tf.gradients(scalar_squared, [my_scalar, ])"
      ],
      "execution_count": 0,
      "outputs": []
    },
    {
      "metadata": {
        "id": "e_Zp94xFJxXk",
        "colab_type": "code",
        "colab": {
          "base_uri": "https://localhost:8080/",
          "height": 34
        },
        "outputId": "8678bb91-a027-43ca-b0cd-9966224719e9"
      },
      "cell_type": "code",
      "source": [
        "derivative"
      ],
      "execution_count": 21,
      "outputs": [
        {
          "output_type": "execute_result",
          "data": {
            "text/plain": [
              "[<tf.Tensor 'gradients/pow_1_grad/Reshape:0' shape=<unknown> dtype=float32>]"
            ]
          },
          "metadata": {
            "tags": []
          },
          "execution_count": 21
        }
      ]
    },
    {
      "metadata": {
        "id": "3_WalqxpJxXm",
        "colab_type": "code",
        "colab": {
          "base_uri": "https://localhost:8080/",
          "height": 269
        },
        "outputId": "fa6b8bad-d42f-4728-ce23-6f8bb754321d"
      },
      "cell_type": "code",
      "source": [
        "import matplotlib.pyplot as plt\n",
        "%matplotlib inline\n",
        "\n",
        "x = np.linspace(-3, 3)\n",
        "x_squared, x_squared_der = s.run([scalar_squared, derivative[0]],\n",
        "                                 {my_scalar:x})\n",
        "\n",
        "plt.plot(x, x_squared,label=\"$x^2$\")\n",
        "plt.plot(x, x_squared_der, label=r\"$\\frac{dx^2}{dx}$\")\n",
        "plt.legend();"
      ],
      "execution_count": 22,
      "outputs": [
        {
          "output_type": "display_data",
          "data": {
            "image/png": "[encoded data removed]",
            "text/plain": [
              "<Figure size 432x288 with 1 Axes>"
            ]
          },
          "metadata": {
            "tags": []
          }
        }
      ]
    },
    {
      "metadata": {
        "id": "b2CEzPwiJxXo",
        "colab_type": "text"
      },
      "cell_type": "markdown",
      "source": [
        "# Why that rocks"
      ]
    },
    {
      "metadata": {
        "id": "j6iSNUgpJxXo",
        "colab_type": "code",
        "colab": {
          "base_uri": "https://localhost:8080/",
          "height": 88
        },
        "outputId": "b7e51211-188b-424a-cde6-5c7ce300759c"
      },
      "cell_type": "code",
      "source": [
        "my_vector = tf.placeholder('float32', [None])\n",
        "# Compute the gradient of the next weird function over my_scalar and my_vector\n",
        "# Warning! Trying to understand the meaning of that function may result in permanent brain damage\n",
        "weird_psychotic_function = tf.reduce_mean(\n",
        "    (my_vector+my_scalar)**(1+tf.nn.moments(my_vector,[0])[1]) + \n",
        "    1./ tf.atan(my_scalar))/(my_scalar**2 + 1) + 0.01*tf.sin(\n",
        "    2*my_scalar**1.5)*(tf.reduce_sum(my_vector)* my_scalar**2\n",
        "                      )*tf.exp((my_scalar-4)**2)/(\n",
        "    1+tf.exp((my_scalar-4)**2))*(1.-(tf.exp(-(my_scalar-4)**2)\n",
        "                                    )/(1+tf.exp(-(my_scalar-4)**2)))**2\n",
        "\n",
        "der_by_scalar = tf.gradients(weird_psychotic_function, my_scalar)\n",
        "der_by_vector = tf.gradients(weird_psychotic_function, my_vector)"
      ],
      "execution_count": 23,
      "outputs": [
        {
          "output_type": "stream",
          "text": [
            "WARNING:tensorflow:From /usr/local/lib/python3.6/dist-packages/tensorflow/python/ops/math_ops.py:3066: to_int32 (from tensorflow.python.ops.math_ops) is deprecated and will be removed in a future version.\n",
            "Instructions for updating:\n",
            "Use tf.cast instead.\n"
          ],
          "name": "stdout"
        }
      ]
    },
    {
      "metadata": {
        "id": "3KQoBxAgJxXr",
        "colab_type": "code",
        "colab": {
          "base_uri": "https://localhost:8080/",
          "height": 269
        },
        "outputId": "cb3ca804-3050-41c8-d213-8b8ea2612bc2"
      },
      "cell_type": "code",
      "source": [
        "# Plotting the derivative\n",
        "scalar_space = np.linspace(1, 7, 100)\n",
        "\n",
        "y = [s.run(weird_psychotic_function, {my_scalar:x, my_vector:[1, 2, 3]})\n",
        "     for x in scalar_space]\n",
        "\n",
        "plt.plot(scalar_space, y, label='function')\n",
        "\n",
        "y_der_by_scalar = [s.run(der_by_scalar,\n",
        "                         {my_scalar:x, my_vector:[1, 2, 3]})\n",
        "                   for x in scalar_space]\n",
        "\n",
        "plt.plot(scalar_space, y_der_by_scalar, label='derivative')\n",
        "plt.grid()\n",
        "plt.legend();"
      ],
      "execution_count": 24,
      "outputs": [
        {
          "output_type": "display_data",
          "data": {
            "image/png": "[encoded data removed]",
            "text/plain": [
              "<Figure size 432x288 with 1 Axes>"
            ]
          },
          "metadata": {
            "tags": []
          }
        }
      ]
    },
    {
      "metadata": {
        "id": "sx_zdaU7JxXt",
        "colab_type": "text"
      },
      "cell_type": "markdown",
      "source": [
        "# Almost done - optimizers\n",
        "\n",
        "While you can perform gradient descent by hand with automatic gradients from above, tensorflow also has some optimization methods implemented for you. Recall momentum & rmsprop?"
      ]
    },
    {
      "metadata": {
        "id": "79NdP7UUJxXt",
        "colab_type": "code",
        "colab": {}
      },
      "cell_type": "code",
      "source": [
        "y_guess = tf.Variable(np.zeros(2, dtype='float32'))\n",
        "y_true = tf.range(1, 3, dtype='float32')\n",
        "\n",
        "loss = tf.reduce_mean((y_guess - y_true + 0.5*tf.random_normal([2]))**2) \n",
        "\n",
        "step = tf.train.MomentumOptimizer(0.03, 0.5).minimize(loss, var_list=y_guess)"
      ],
      "execution_count": 0,
      "outputs": []
    },
    {
      "metadata": {
        "id": "NJ2WpQ-UJxXw",
        "colab_type": "text"
      },
      "cell_type": "markdown",
      "source": [
        "Let's draw a trajectory of a gradient descent in 2D"
      ]
    },
    {
      "metadata": {
        "id": "wcWRh4ByJxXw",
        "colab_type": "code",
        "colab": {
          "base_uri": "https://localhost:8080/",
          "height": 269
        },
        "outputId": "95513dd9-4983-4e6d-a5e4-e1c7080de2ae"
      },
      "cell_type": "code",
      "source": [
        "from matplotlib import animation, rc\n",
        "import matplotlib_utils\n",
        "from IPython.display import HTML, display_html\n",
        "\n",
        "# nice figure settings\n",
        "fig, ax = plt.subplots()\n",
        "y_true_value = s.run(y_true)\n",
        "level_x = np.arange(0, 2, 0.02)\n",
        "level_y = np.arange(0, 3, 0.02)\n",
        "X, Y = np.meshgrid(level_x, level_y)\n",
        "Z = (X - y_true_value[0])**2 + (Y - y_true_value[1])**2\n",
        "ax.set_xlim(-0.02, 2)\n",
        "ax.set_ylim(-0.02, 3)\n",
        "s.run(tf.global_variables_initializer())\n",
        "ax.scatter(*s.run(y_true), c='red')\n",
        "contour = ax.contour(X, Y, Z, 10)\n",
        "ax.clabel(contour, inline=1, fontsize=10)\n",
        "line, = ax.plot([], [], lw=2)\n",
        "\n",
        "# start animation with empty trajectory\n",
        "def init():\n",
        "    line.set_data([], [])\n",
        "    return (line,)\n",
        "\n",
        "trajectory = [s.run(y_guess)]\n",
        "\n",
        "# one animation step (make one GD step)\n",
        "def animate(i):\n",
        "    s.run(step)\n",
        "    trajectory.append(s.run(y_guess))\n",
        "    line.set_data(*zip(*trajectory))\n",
        "    return (line,)\n",
        "\n",
        "anim = animation.FuncAnimation(fig, animate, init_func=init,\n",
        "                               frames=100, interval=20, blit=True)"
      ],
      "execution_count": 26,
      "outputs": [
        {
          "output_type": "display_data",
          "data": {
            "image/png": "[encoded data removed]",
            "text/plain": [
              "<Figure size 432x288 with 1 Axes>"
            ]
          },
          "metadata": {
            "tags": []
          }
        }
      ]
    },
    {
      "metadata": {
        "id": "7LglogpHJxXz",
        "colab_type": "code",
        "colab": {
          "base_uri": "https://localhost:8080/",
          "height": 309
        },
        "outputId": "014872f2-a112-44a4-d85e-117f6fb77daa"
      },
      "cell_type": "code",
      "source": [
        "try:\n",
        "    display_html(HTML(anim.to_html5_video()))\n",
        "except (RuntimeError, KeyError):\n",
        "    # In case the build-in renderers are unaviable, fall back to\n",
        "    # a custom one, that doesn't require external libraries\n",
        "    anim.save(None, writer=matplotlib_utils.SimpleMovieWriter(0.001))"
      ],
      "execution_count": 27,
      "outputs": [
        {
          "output_type": "display_data",
          "data": {
            "text/html": [
              "<video width=\"432\" height=\"288\" controls autoplay loop>\n",
              "  <source type=\"video/mp4\" src=\"data:video/mp4;base64,AAAAHGZ0eXBNNFYgAAACAGlzb21pc28yYXZjMQAAAAhmcmVlAABNFW1kYXQAAAKuBgX//6rcRem9\n",
              "5tlIt5Ys2CDZI+7veDI2NCAtIGNvcmUgMTUyIHIyODU0IGU5YTU5MDMgLSBILjI2NC9NUEVHLTQg\n",
              "QVZDIGNvZGVjIC0gQ29weWxlZnQgMjAwMy0yMDE3IC0gaHR0cDovL3d3dy52aWRlb2xhbi5vcmcv\n",
              "eDI2NC5odG1sIC0gb3B0aW9uczogY2FiYWM9MSByZWY9MyBkZWJsb2NrPTE6MDowIGFuYWx5c2U9\n",
              "MHgzOjB4MTEzIG1lPWhleCBzdWJtZT03IHBzeT0xIHBzeV9yZD0xLjAwOjAuMDAgbWl4ZWRfcmVm\n",
              "PTEgbWVfcmFuZ2U9MTYgY2hyb21hX21lPTEgdHJlbGxpcz0xIDh4OGRjdD0xIGNxbT0wIGRlYWR6\n",
              "b25lPTIxLDExIGZhc3RfcHNraXA9MSBjaHJvbWFfcXBfb2Zmc2V0PS0yIHRocmVhZHM9MyBsb29r\n",
              "YWhlYWRfdGhyZWFkcz0xIHNsaWNlZF90aHJlYWRzPTAgbnI9MCBkZWNpbWF0ZT0xIGludGVybGFj\n",
              "ZWQ9MCBibHVyYXlfY29tcGF0PTAgY29uc3RyYWluZWRfaW50cmE9MCBiZnJhbWVzPTMgYl9weXJh\n",
              "bWlkPTIgYl9hZGFwdD0xIGJfYmlhcz0wIGRpcmVjdD0xIHdlaWdodGI9MSBvcGVuX2dvcD0wIHdl\n",
              "aWdodHA9MiBrZXlpbnQ9MjUwIGtleWludF9taW49MjUgc2NlbmVjdXQ9NDAgaW50cmFfcmVmcmVz\n",
              "aD0wIHJjX2xvb2thaGVhZD00MCByYz1jcmYgbWJ0cmVlPTEgY3JmPTIzLjAgcWNvbXA9MC42MCBx\n",
              "cG1pbj0wIHFwbWF4PTY5IHFwc3RlcD00IGlwX3JhdGlvPTEuNDAgYXE9MToxLjAwAIAAADIuZYiE\n",
              "AC///vau/MsrRwuVLh1Ze7NR8uhJcv2IMH1oAAADAADVayF8oYJVUBjg5Cl8UC950wnQObmxLpMS\n",
              "eTd2N1o7ZvU7nZLqidQWs9IRqH4qZFuUNOvgrgAArGB7WlESNB735J/CfrjEy3i5zjzWx5r7oD4b\n",
              "7vRGf5YZpSE2SfCltWRnqtLPBS3FxRjhpp/BEdar5txSfEu67R/ppgZwAi2i8ff512MwmU2ndVwZ\n",
              "0/IypwbXeLiexIGKwjGLSLtuFQ6Y/OKysfXRdbpNhUrKtfRj7PsZ4sEuP5y4zl61S+z6VZzYCdA7\n",
              "422O/g7ogLDysqUE24GpHGaJCX2wbS68ujTHQP6XxiSrNlnDwZHgbp5EeVkCuMJlhlbRejAAAW5E\n",
              "i95ObYO5PsuB/yXJXIr296w2R4KtEWts2QxCeaTyILNtSj0FAa6n+Sm+7xuX2JriZx97d2rE/cAU\n",
              "Qsh/+Ymis26EZW9S/cjgVqTEtyVS3CIlK2Ezdp99jK7/nX0GHUivuh8QdJ4bhVPEmo5B7TQYe9Nv\n",
              "n+ebyMRkTx7hvj05vOEfMTes/dwPLUI91WSm8NQ11fuo1LrBS7pJhE73vxY1JjcZWnegaFLpPjAo\n",
              "+BqceCYe5S3Av97ANnEBmzojm/SDmWarQluOhREg6XGZMu4a7snjhzyH4/KonlxVMyXTB8Ya3dGT\n",
              "vrxM2T8GRxsFP+Ki2XIeafZhzaICPKgU1x2LYZqQc9bRDlrWDpuTNmcCbrO7DXBPWt4+vc4y9j4O\n",
              "nmehjy3+29CwtFTKfeNDtJqpsgh9q2E1nXMB/b67agis4/9zgOkKQTrSKTL/ETxrRLU+M6bDF5Hw\n",
              "Mkk0WQCW3/aB4rOdB/mjy0qnw4YqFkBjk8S3abocW1VP5xCX6kQu/S+pHlRN6K+k0MK67uDbQpak\n",
              "Tg3oFCVnZYtI4fIdaw6N4CrUmzN3+T+U2DAvRHNB/dqFoMjErvCTrUOM5i6sgMFnPlzXuzglEx3r\n",
              "tNS/ihpBKoZOTd1ViyEWuvp6CRVIYeDAf+u+GRvSyJD0uB2YFMYXUoJNAnwTcmSYyZTb5a4nxvDl\n",
              "TOC8jlarLZ59F/D69SA66HYNiutMC2dploDTw52cruOXTwGu6T12mOk1kVNnQZriDnZ5c7I+N9HQ\n",
              "a5ZPa57KaQLMuwNl5cmGiFp4HWwZktokWS6ak4lEXjSXXAiOxi7qBV49WigxIGR33VW8wRNdN3Dv\n",
              "xgLQBmCInEdpSYWVa/7NpJBBH7cIb8ttDQIp2sXitLdMBUvDn63XlKb2/rqFXm4DJl2Woi2N3Ol0\n",
              "XloGi675i1F6emt9/LLYQhVVKflHygiF0G+O9AVc2N/8DsTZJwFSpbyMG/Tst2fF3Nvy0sScZcTV\n",
              "4KwHspWfq9YHyH4DdFDKVMWM1BaNsqek0yKv6K+jX0LsoL5Vr8KjZJ+RihiRjHS1R2byBoCqoi0P\n",
              "rEI0pWor53obQeyY52ReSt/DWLCDSWlOgDG1tlMEleKmjysrE3aS59PR9hA8bdC7kPhnQ2tV0gSL\n",
              "26GNMIDjsMBRW/3SowhuZbrNmTlxmBYV3hCRfvFysfKbzpg5k1qs459I2wsyLeKD4f8dcrcvCUg7\n",
              "oa5G0vn+lToJZzDw2LcJk1HdFaIWUgC+woiUDqCzpfSNceg028zPwTXzCmJDKwJOvcBGFhwXmp4z\n",
              "wi9Vr56d6r3XzmGGMexwaChFdcX3+RnqS6Fw1gLH+WHqMHBf88Ng0IQKG0O7KY1SfRF+RNUMAqRU\n",
              "kBDnE+T7CsIWk+iAI54usYhOf3ZzwGkFSFlrZlHY9TRsZ15m0U1+pVprAMA4MsGtUeFB07K6uyAV\n",
              "hk2T8AkUAGDGt4sbuxuZG7PcrbYaj8llFH8rxyn95ylTaRabhsAziWWC7fnI6NQXfyLMhYWCHoVI\n",
              "r/iEsCfCLQj0d8obYU/KyGIJsSVNrRLeMmc00DlWyv/ZHiAjr7+xLTQlAoP7yT5iaVIfVSZ9+b+Z\n",
              "WeCsaCl25Ys9K99tuM5jvlafGWZkFq1spKlVeojxVAAMpL8DFV2WUfJVGDMyE1ct046A1kPeiiRG\n",
              "MndQwdVptxma2zKIvc2BRolDDSa8/LEF/DjiwriNa9wikvvaZARq+hDDcPuIcAKXtTPQq2ohiVuw\n",
              "uarMf2mA9MkFrneFjnQM/0s+uU5jgquFlKj9kUf//Lh34l2T6bAG0DTd5uCP6eT02CYSX3QIXsLL\n",
              "vy+OY3KnRyizGufKPRrjje2TuAigKjeqH7cYeCWz1iPtwQykwnhsY3/FF/HX986703GJVFl1p/be\n",
              "f1tDkb3B0ULSUcf1tgTlTn8Myoh4A1wgOqpDaNHzXmTBg9pH/cMjBYQQuTtpURQKVbwIHZWR0Uyy\n",
              "u1MxcZgaHnIFqJXEdLsje/wFD8aC1GUFwM6/CSYeMQWp3u2I+3S4yNoI3fHZfah0u4c1vvNbiEcK\n",
              "Nz6vsG6t0IfQVVeKqAoiOUqHAsu3ZOaFvOwn5EIaLhRH1bjVxyA4jOYhY8mJ6SrGdsncxO1mEKJp\n",
              "VZpQgC5hyDeyoH+/ZrHoyH01UpsZxzfvl2U6PuiBIVCWlKAUfiiMyg9tS1LiqfTp3pNXVZkOglxU\n",
              "AVXLxhAvM7ve5ct6bpU3I6pDH2Liipvmm6CmJ3v7FLEMFSAH/fleCoqOjQA3ybCj248xQb5sNOJN\n",
              "DBHEnP5YJ4jTDtzYbvfyC24/Wz9K1LK057yAuT51mRhoEj3ok2srA2J0BF5mI/th3bLiMXqrnoFv\n",
              "F7Jbp85SUJzo/otG3/hBE2m5yJpMHgsLRsQZM6HryM1a0R/g+uNVsVsVqU2t4HXbfSPm2idcdu9u\n",
              "AgDpLYnPqlBEpaHgW8gJCYNS6pcX1epnXaQj+Y+kQGonxxwAcYnMmDGEBTfzXvO2V8WQDzuVcUZC\n",
              "JwfrAsRVDBe9ldnGdyWYDJrtxmbG3k/cLS3eTIfybojFUDX8X8/XtVmpvygjeqaH4HWVrBVLZwhp\n",
              "Vw62axonX3roRbiIlDl9rjp7raLNUJbinzCBeW/Ni2uJ+vOrm6lAFBe0AT9rMAsBoKEBVyNQ2BXo\n",
              "b8mfLj64xDsCHFOZvHKFbSUfAVsEF4beivGN9IgUXZK/vhMaeWZBMvpSVUIBhHwnPWay80hgRbIE\n",
              "MYi4XlCGuVKKT9ybIY/PDfrij554mpv0bKiCzEily+rb8IEZnU3/VCAmGOYmWewyHv22iTkiqjrU\n",
              "D3kRcLT2X24yQPhl5zv2NZNFlEIKq96dVovKTY6EW+YUju6FIoy3e0sa8qKNwUXokk18W5KHra5A\n",
              "5ovd57/TXe91Ddzw/IcvrDxUxNLhm2G2u7Em6pMhJglvhsEei72IoX3edc+0+C0cjjwA85+Dw4Pp\n",
              "K3bA54XuNlQeV2oyuWYH63suAWQHfVqXCnVIF1RDHVYxDZSRJJMdtzpR/zNpe0WIm+lK93TmRiDH\n",
              "PXJcPpCbXPF7Zp7vVJCbpL/v+OHHYmWF322g9FYSUDlgCZlywDDQQYMxlGdmEyZkis6yPKYmCsUZ\n",
              "8ShKu9NkYgYvfHe09LSKbOrukv6q+iFx2VDzf6cGMy/qycvScHNGeNNRKOl3MIHymAEz1eM9j3qV\n",
              "5991XKtMewLZ+Dg43NF4HdJU6IJAqk4gwWcebiE8MNp984PmoqV0QJgY+xbFwxgysaotLkZmkESG\n",
              "JA+kIlT2FBBMtU8/lTZ0vVDFN5lNoqinspkkgZvp0XZkZp2QFrDG/Ev6WoSLBNk9FYUw6C9OS2Yj\n",
              "sqQSAxBMJR1WUX/YMkGzs1a0yABCW89T0r+mUEqPzWRjmx3J2q7vuqNzQr2uks2lta5BODqAfka6\n",
              "i2ZrQ+5WtpIK3hwB5eTys4E75DT89YoHOGB+rPaiDfxE2UtTuXMTCR712+dqPCRBUHsfIrQxEtvo\n",
              "CrIxuGWOg932u9jhuCu05WDlnSHXuDRV0Yu+3M6/1ana8HCXECcyU0PIMCOF0M7SWFrauf/8L23T\n",
              "eyyRCW0GsNogocBYaDpcmti/slsq9i7Eg7zNh7Z7EfNNG0NaOi2Zw8A2vIlh8kqHY4kkGlr0M6ky\n",
              "w/2GmHCT8HW+Hq071O4PPWinNuvGOuJBWNewG9RfNLvUaKfRUsyb+6GNnGOh8LYWmNXyT7BWfGRL\n",
              "oWkBpo4iqlHfM3l9y4YIGCOy+sWvqW1f9HLAkYTIbU16ZpXipPhSwMvgRUtI/hUVsFfdvQPwxoqt\n",
              "2LMMd1/dF/9qBkjPQln+0yh/eNRqBEUm2Umc3EhcHJcJDUd+1tl0yfnO6BbSfwRP//6SyZqKUx4b\n",
              "fWexQQojfAMKVRoMbtv2GTVpBnrVXYySldo7viBNzbE2qwDDMkRfumLd2CJkSb2gjjmUTDIGay6a\n",
              "UF01Gtk2SWPBJCrsIhI5b3djLtSHE9VgqHw6B51EpYTT/5jm6+9ppYuTRusqZAbcAt7LZDCCo7zF\n",
              "4CIrIj1ryrltZClj0x5fLW3JA/bSD0Fv8bmTNKAGAkFauqCse1FF/oJoH9G9gwyi7wzSMJqTDkel\n",
              "3MlSzPCYTSZkXE96LpsRS9AfArJlhWLzNdJI5mW4zL+1jILoB2pZBroZsPWjhL5y+gKdkmnsNKcp\n",
              "eBUsztEheGzOgZOKo4FwMNUUtsUgK3+EHGm+SCyuRDpNO5hWAR0IfEN6S1YUVR837OyUGHUFV/Qy\n",
              "vLiSS8ZHhbQE2SKnIbv7BLVjIHYBaNL6jT4oGP+qNl6XsQe3JotC8pMOZmM3bCTgLWr0cl6q4otM\n",
              "d73pQ0bheQR/J/C0MZL0BY2F6biQjGAEyWIMuFks7p9KS7SbxoX//2bAR5KTLdhdxLHEkLxO/WWu\n",
              "uULAqDFU0c7npzjcXPD4VYUtgXpyL/sX09mkHL4dcc+8y2BXe2lMtCOruEg4IyBEjzwksLzQBF2Z\n",
              "1h/LpWrRU1RnQKpp7AVnR8sL/VM6vzGLWGtE7eGMkrO2p2atXVOHTsHU79DTHBiZnQpZqwNO/AI5\n",
              "vxrIIJxrx9ODVfLWD0lu22YOeQWztjm+WRm8gQGL2UixNc3VB/NK7OKgABMXT7p/gh2/7CAwGxuZ\n",
              "cb8WJsEF6nbmQicXC61Fb+pGFP/HvEaBV1Xt+5Q69dWNwWZJM86Gzey4CLD7dp87N8XT/aMHzbJN\n",
              "tb1WoVzsPKuR9JiiMPmUDQ/McGJK9ACaMKUnKWOYmSbecPLrINBueBGJzMhPR7y5ikPYKcf6ms7O\n",
              "O44Noxl9rrMKV6p0baw64jRHq4jJvyqw8agshss+xkhzmAMR/autbOr5pR7+aTx5knng0A1EJmzR\n",
              "23BnBO60Ju0nOXqfwF/GcakzYYrJEdGVu9FAkOkh0uMcROKAREncam8K/zozxgI+7mi/XtYeIVbA\n",
              "0j3jgi5UVraUNQCX9qvmq+cxANPROeSAaRqz6fZ+xgV1kyodbNwIp8rEIOIWMaSEEeY8aeqBsruf\n",
              "4y3H/Xwa9fBO/U31gD48YP/B+zWw/d0cl2P0qSXBL5sEYotoJiMoHYw36TEnpHQaikouxI8CpSOO\n",
              "cOhhBtgXWVjNm7PM5voRBWDY9NVRkhhcbI22KEFyMcwE77ikquHxpPoGkWbn4Wo3oVb160BNH5Hy\n",
              "GguiGNRtHcgaQs1P4DLyJ332Fwx7vCNVjWcV2Ek9ONyPIN6v5cWDQyvBUN8RWFHxQ/QCQOwvCcYf\n",
              "a9I/IP2PMejS5jFU6ieVkssLMS3JlDtx8nVaLIlS27rOTIZWP5102jSxf0qHiksI2kjyy5gJlrYZ\n",
              "S6sugz5i+Xde22exWuMfy1tkkB9yuxArJcE5x70SZmj2dQ4rCiDGt1zyyO6JzZi9bQmSZGv23Zne\n",
              "gzI8377A2f3v/gYtjznDEq8/Hp7n8+7RV2sQMapxrVOLSdc722chM/Ciybp5mK/3w246OSIyQFJr\n",
              "FyL15SQ1H/yMihhwgdeWvLfzKFMzfVwxLTKkZTLmuMmzUGogczrBDStNRi4szsNspDXVYcJPgPJN\n",
              "5OtZ7oZhmJmC3xzb/bDF8n3mCmExRX7GhedyMMg5f2cYZ/SBpD4E+QiDM/jF1UYybaYB6Ln1U1Ts\n",
              "vSqEdF69mR0Z6Z82cAKSC7xzOLFtJ2w3K0951kedlidDeoxMSkZmdGF6j7mQ8XPD6MTIfHWm6ay6\n",
              "cwf7wwZ2ZfUtlfQAK4VCEk96aEas37xV2wj0PPMqWfxjdFpl1+xqPnW6eH7jUBkPdvl8APLLyGoV\n",
              "U2b/Ans2Wh7a4zAbWXGNzmiLhcF67u11K/eWoE7Ww7mizzvzycy6KPPbJ02Sa/i6T3oDpvF+aWop\n",
              "ZwefVO6ejr2ebj/3GNLL/LiWeszPQvUcCzRvbuYwx4/OGPxX7wjQtSoD/2juOQ8JqkuyNqf8SFvE\n",
              "Tzh6LEUcOa7jn4gefsuRzT1GPRNnl+2Zmcw4TCubOc6RPZgK8h2jC9/VimKO89Nnflhlc1+gb0yM\n",
              "TVy2lpq7+hrX3+Jout5EdKvSTIf8uaUHQSdmO6cz8PUFM9qsmazQxvEztvEB1c77unJMtys8+W41\n",
              "a5zMPskP0yt4bwsNVMNg1F/y2C2cKwVuVzy6TIi61YsidYBwpu5Zj9KNP9lmZ47nUbe33koOgMH7\n",
              "vaG07jlLEwX3s8R7JFDciwu3/CkMGQ2g1CZj5NiQYIYKjnuwAC/lJgZCluTTWi0q1haS1ob2Tlbq\n",
              "IX6iOPbYN7S0i8xy92CelhvrRODh28zqsdHezIX//8AwK26fU/UdWTp74rsrIp/KT/9bMNNRp+sW\n",
              "jm6qv8BJ+yJKfdKA6M5tB4hBmRQwMC8TS4izk1GCNAIATah55//la4Vm5N7Uw2jRjJ6T8KNi/+cS\n",
              "9qg1lW58yp4hkpYmY2K3pGiOlKl6hJLpnudM4ZC5VS6NYV86p2ZqKHvqYy94s4sxYI963FvMWEHn\n",
              "CeW/vdM5UIzmnDkNO6hzexNEIgAxCLhUBc0JxIuric/3Vk9s4KDMucWDvMqY6dDBVU4sQfp2kJVA\n",
              "T5mGmOhL7EgYioctDnk6LMGJTXU0V4bW7+tilqKXetqFpScxt1LiUiQEdCWiVLhTzvFl7U7PCT1g\n",
              "b24befBtQ86aU5nXqwBb33KDsYNZJG2EOqoDYJ/mxkfWUVuDb+6PMglt/Rs60+92p5ev0gs1D3Oz\n",
              "MPiQokt8C+hNovYqjKJLiIMht3RNTFk1J8bjC2iwvj2yKImN5tb3978/yjTXzrnoSHEmu6PKphqV\n",
              "lK8272dWbvYOzzcCVLWYUdCvwSJa2R85smAimjWhJMrxbc8ejSknMxuOj02FG2lxrAF/kjBTq96/\n",
              "jruffSUsj9T3JsJ0AGo5ui4a73ltBYKHzxZ63iaEBS00XeVuvZFyXHorw46god8iEkqV3K6jMapR\n",
              "ZV9qw0jh6piDMO4rdGBH7hoau1wiaya+CI96XKAjVo/N4mZugZfB5ULp/ynIIGbS85yeIijuOo3X\n",
              "K6DucrQzTDtp/ilT7nD1prKf5KxtclsOnX83hmTpd8UOgUSffh4149KcEtwv3karKEgW+sSjLoo7\n",
              "m82wB2d/vh2cnQ1dDjVgi+2XZAfpwE2JMqRS/H4D0B+0oo0MnT8nCowA/Lwkh0/bTlqo/wmAspcL\n",
              "6wtpTS1rXnhldLQXHN2tQSUKBL8RZ7hoVLQs+iYycsEVSdA+qcBqV42pfZLegngKt2nvJn9+JM7B\n",
              "ZunhAQRUK2xO12TSalpO8HR2OZa7aGiwfoKkQ1SEHnm6CzOGeYF4tU8+1GK6+BamqgZPjVsvnwyY\n",
              "K0YF3npfd58CUn6o9rWUFyYUBfEpqLN0KIbiryh8a/Aik/JVlfVlkDL0fcKK/WM4lK7S5/Cj9CWh\n",
              "3N/zdxPQwsSzFiONFLfGAlZ+W+QfqMf8aika1R6+XzZEF/E9dW4EMuOCg3Lla6Q+areO6jSyXxkN\n",
              "RtJ1mh2vGU1dk95TyX2uHgPK4HATPFGY99Cj27M+GobbEV/RVbQPSMWz2LDY805pVXVjuS7xIfbo\n",
              "eVSt3T5WPQ0bFNvUvIeEp9dgUVI2TvQSjF/CLOnmsFStE0oNTrQvAysyHmU/FSN7cEYmjwlK//+H\n",
              "W65p5zXbMkkGWD6V+xkPq2XA1NUaC+Ze0cDTQlohORkeoEFY8wsNsG6xWo8oU4J5RexYzVHaMK96\n",
              "VMfeXE310QmjsUKW7xGq4QACfdkaYjFDF0t5SjodpZSVEJHU3J49vrbVC+oiWWQZBHCOBDq0gn6d\n",
              "O0d2MKfb+tNbcxr8cfqyYAW55TqHjImYwUxufJBZcxO+WJxpHFEZGzBsGSf51OiSHRRKxXMLFPDV\n",
              "V8LxdWmQsCISW05zsT53VXWQtUcVvKHoeoO/9IH3m1SmLcbltJ65niu+EuJTesNEUK2MHYsXkmQm\n",
              "aJqoucrdA/2jO0byMx7+bZ9naBtFdsaPdXFJ4BfxKNYN/OjXhhmZon0VQ1faTThDXVwWHuVT9eTk\n",
              "y++YxX4MYxGYKxiC3uYWnE4LLQAGdHLRjHGFFyHP/qlGvR2NhwtRg8TzjwPhrkqP4ZmcCl/V0fmL\n",
              "NbZoehLxt/7sRFZpgQNXk74GWb3xE4GmHrpvmpl8C7fFfVfU8VEZOsghcKszp38vRDOntm7kiSkY\n",
              "BocG6OpQRomfmWTPZapll2elKRW1TYZ3huE8TTU+m2RUmTjOwaIUZQDvhi6HkXlLrqggpRxUMoyB\n",
              "c1NwnFeeTCy/tLegyOFRCkZWvSfPIBtFBpIUWXICNLGP/V6hxxSzt7uSpioe9MqCkPKy1vT9izBE\n",
              "EJABmd6IGGEep+pB4oc93s8p5P8dsC5uT36wwhj2TcjOp+G7+CjsECXBIqncrUPnqkCH2qOkYZxm\n",
              "aQ3n2UeBeB+gQhD8uNl5PjLsATzdbiyLhdPYdQu36ZoK2Yu6B0hXYfvRO+66xpz4ZDz7qxnFuzdU\n",
              "xfH6Xoug0GoVPXxrPommtLAFG03+qD7LWIXtOxXxj9UDQjmpOwcfMYG7FlW47HQZlqvbfsGER0wO\n",
              "WgYraPwWL0WY0hdByTJPgFf1/r5RZIdhi4aFfO6y1bBQitxgQ3wr6W5y2rgUSRNKokyXqebIVaiB\n",
              "v7KcpVDY+eUZ84UBJEZbjrmB/OzlHBA35r0AvUblkoWtu45nsxTyrNgep5sNbwd/+tyf1PPv0kWX\n",
              "/At4/j7tzeFX17KeRE4AGVPpVfMUZ6077EZePsTf571JzK86FxTbD3liW7qLYU7evXvZIzgOXQKa\n",
              "k6G3l6gDVH9raWD5lTFjqedkJMPFrgTd4KA/k7ah6WsUW8T/QQnFGHc9oxbiUVH+Q5o3hSOQ6Z6M\n",
              "1xWPi8cKv4MUcjmG3P+1njosEJWsOnoorSFiX+zvVaSkylV7rCH/Qa1YDLqFXP3sFq6pvB6JIIw/\n",
              "lasitFJ/NSK6Qq3qxzKKH2EXnhTRGHXi1j4IfmtTUhtGOc4zbL7Hcb2O0Q84MygxU8+xjKwRnlKG\n",
              "MolmiW9nJkXqXNykxPj/2D7rgpMfap2VotkULsTmletDEBd1PLz/YuLmc7Uq1pbM9RKBe7FAdiEn\n",
              "ZfBgXYCivcxx5mPYKvQN6cf5VFjiFEZuKkTLBFYoytKiYsQAmnnOIDkH7Bdv/wW5zEQaUtQbG8qA\n",
              "0M+PPGKVdSGvBKDDaqEuLTucDK1NrdXgK0auj+l1+C9Iyph1SHZ0uYuTsxUQ8V51O0qvCwagxQpT\n",
              "n3fE3EDwYrUGN54zdmPl4fn+FeOC373i7NcmuCHiV2J8vZvvrrKIyH9WEbZzf7I+2XpEHbSvH3Xo\n",
              "js+S73qRl62wPoCUvgsv1Bf+JLp+xwp74DS0SUGrP4p8M2SKz7N7ZS1FbwbG4g6xLoJQdOeIE0Os\n",
              "mIJEKfPimdR59AC/tcxY0JzFZ6tXzKKVBkpxVa2Z9tKr4vXq8y0x2OTk4hgjvW6ag5ErQWZgPACg\n",
              "RmNRacJh4Fx4GrFfVpUu9VsrNlxMckopzsjVwXEoTaMDWBXM+jsPxZe31ihUthatQWwpG7puhcLT\n",
              "fS6xbuDQuSuN9L6f/C4nz35YUgSAycAJws5lBrN3CtJm9fmX5WK3K+abb3V+scaR6tHbMxGAAspA\n",
              "+onq9weGKyAvAe17CEkZEY9rx2hbXy62/Abpmq3tW3Xdx0Xcd6839z1xNPYrDpmz5IrwyGf/YNbX\n",
              "lyx6y0luD+7XQPplIdEdebwMqru5rvo3xVqz+mdiz6L2XJgksVV4jtgRQMNJb/KMwX8+9e7YdDKi\n",
              "qcRZyFJdBgLwOL0Z02NYHECWG6187NZdJCHT2cn5X0XTzGo1gkVUYziUYF3gO4W/1QF454v0P/7X\n",
              "dQ9U0kNHjbabzWEBubYQ09JEuhqRPN51jrh8XnP8HjTix48D6pROupOILlbKo+RBUHs3iO+5m8dV\n",
              "jeiK/gerClAYR//n9DSZqAGnUOxHR3i1XLAvuLCG40+wSLV/nweH0wNlzREmYdwlbL8gkjhU+514\n",
              "AuzICTExO7NgQSWxgwHuwOy1RGxuz977PuKZqUD0N9A9nyNV/oWdRqLYs0gOPjeobMeuQtW3BfIQ\n",
              "GU2NfEesOSFUdKhE+jxwUfNuBdjZ4HtqC3xLLPeuETJzh+glghWwDQli6IPWULA9lNFq34mXOJMz\n",
              "3Y3X/0IIZEzWdemJC2P+va0aK4euFOmTNRhc4YvTcaFphxTj1tXVSxCqIT4+C94+32MF9SGD3j6C\n",
              "sB5/6wyjy54JvF3jKZtReBwSAwgJuFHX/N6XgrYRlpLjhxYqyjKn+IX8h3ch//P5koeOf+TQ+9r8\n",
              "OeZ+2AexyKluXCwwNlKP+01IyKoAPVMcJC4KjwISJEyGGD1oYNk7LaISv7fgwiT7rFOEncv4Y2vo\n",
              "to/+hmKookzQ3GAmmX1Bv4sX0DemlI0Ob5v3nYWtwJ4olZY2Rs3qiD6JrKkxZ55D19NMvpwOVE0b\n",
              "EUyzzjlwx15udhRLfpv0vpSVU8cY7xQasXYxUYX3fdFjw4c83TnxHz+pHpKuIp4Sb7U5c1qFahmt\n",
              "JxTw3K3G4gKvDO2bHZWCnQjmDnS/pNM5c2DKkGS9e0hNyZzD3sFo3FCjcOMVuVP/l6yU8u07x/Fo\n",
              "l66K/v2TNN70wYbV9MryHomrstPKmEK+B5q9DFVmHpVlFujXPo2K3IKVLRoCMI7NWRwpCi0nCP/k\n",
              "ULi2oiMUOKPBhQtM62rx0F1gIl0I/WBiF98t9AZYC0uLU6gotvR9dHwW8bMIBpE3vIts9Q5Js29i\n",
              "27646nJbIqnpZ3aPuCi+JmLdcmbNGFaUbIplTu4vMpiAwExNdhQYr6kl87+u4EXCeM9rWH1JvJSL\n",
              "hNakaPuDqJPj0DdVLe/cVXiwRdJ6CyL3ayEpcSohaBTOFWEz2xMCdHvqGEvvN4EoN0Cmcw3GtFUX\n",
              "ZuXK1Hqv65Qw7uBVjNUma/pLrYfyLkws1FZL7kwwrPJASATh7g8UBHCRRN4vJNwYOcur22t5GMZG\n",
              "ygEvItYv8uzPAvbbYXf5ejOz/b/b1C6tUPHnciGJWlEELaemf3Q2h8lp9da92FsTYX73rb+SFdBE\n",
              "84UhLhEyUIKp9Wd1YooxM0EsEAo5WSae72yexp7f2tzarDlDMHREb3gZ2xFOtnNbqmCTP9SevRv2\n",
              "dI7EYBCUOoTiXZoy0wZeht/PyruufEWZRvjyx8i1bI2sa7cPc5b2De1Hrium0QkLs0dOSy5AMaLN\n",
              "qK/px/pWxhTPQz25m4kewc+X+0pO4+XhYvqVzgWNT+60FMTla9LvrinUMnROSe49xthK2shmpgn9\n",
              "16QZf+e+7sWEzGJ6ODZTb8OW9nq6s1yQgQ3M0jrsLDdI3n4czNo9L0kMDQPVS/nLbbBPCHjZMr6s\n",
              "EYmDkOZN8Nj+mdw0EomYD91gDcxZrDNfiE41sAfwBh/mhpOnxKkrC0XA0pvgZzGJiN17lLnBSRAu\n",
              "GTxx2cjKfJ/TYTSrHwEKfiW4IBVQ8P/JtvEdtQ6xShszcrw9zaxMEIdfn9iPSjXq1y7BG/Jskpe4\n",
              "tMRxIZggKM8LJgWtl88KuC4EDfo9kxdeY9QH8M6jDSonba4eG/yjGBAOXPZo5FMjpkThsRjcKZBt\n",
              "BomAZd8dVmPY8eeU4Q1FlTl3cvK0B/aiYsww9QBdqeTbU8C7YAd/U/5LrrhHMXfqylq46yso2lx8\n",
              "5rqZr6HYerqTX9cMok0B9j7yjR+Pc6Xd+2F99yNgMPubJoSpp4AfFydjlsnD+l/a9ep7yQrmP9/a\n",
              "cxFX7515vHO0olNmybxuyDgTyPOxTVMkAAX32ZRl2Cq2+tWE5sAje8COWGE3qOdv5CDWyIMh49cj\n",
              "FmpVcL3nD+cpZb4iO+k9aAa1GPAsJ92WfWJHMIgm3QXjETjykw2wcQ4QCuDY5JQzl6xqGS40fMmq\n",
              "sE8KDboe/aQ8wQ6rA//c5w+zbhypKvF+uXUDdXAnDkVZRNx84pjs4VECQm/U+KlEIAhY59M+SyVW\n",
              "Qy5KJEGr9HQ8fOJUiKx5o+yWPdmthwFCNstpRfJUZhYWrRGMIuHOTstzWkHFagyvixnAYWtlAd1e\n",
              "4ljb/0XvJKDQcE/tmd+di1LCB67zaxiM2XGRqv7/dEqT3MxwXBTbAjeA0r6ZJ3veEII1pgeZCc9s\n",
              "s5kiyJEBFhO3SUzHE2UUPOxoWUS3+gl/sVHLluqXMWJBdh5NT0QI50+tJLkDTM1DdH2nGKGYcWm4\n",
              "Jo/9CZfHYdOTc+4qxOasHgkuSVww4T+3V9PIQzC9kswUF9eCopGrDcnZvnvU2XJkHwm8dNrRT4ju\n",
              "/PCJDrGRG+AWJ4S0j05RP5uudyN3YMtGQUHykw3426JDUMuFlou4dwoILZASHxaCM1OZBIrk54Un\n",
              "emGJOi4XhXNWMwaonukKw/n8RsOOIZaZp3Ism8oWur/PEsVd+MCoKk0nHPQ+WnO/sHWd0lHYVHoN\n",
              "64PE+AicY24oTHgPvHosSAbf6AVjfY8wSiVFNgcXS9ZXhjtCAAx9Efm1Vhm1YcYw6F793A0yUAc8\n",
              "mDQ+cJdqb0JUq4nNNw28qMyDZnLulA3BPRX8R5VygOUMyFeSzAsb2opwXa3rPnuqfqXktQxqcOBn\n",
              "19eyn4bFA3StGQFG5eEFWLYL+57lI5EUp0jUaUW5GcJTWCxWNbk1pVM2CrFvKjUBZfp28t/ccr5m\n",
              "pf4fIdFFx7xgTTCshcrz4TxeUeXLBaBZyk4c8JSGTTgHZtCc7T0jOuF4Pv1+aQ9huGQEYFiuSfaA\n",
              "IpKdDn765f2TxlT9sC8Xh9a9vo1PJkQo4e0yb+rFNGEKA8gYhoNozrgI08eKJUJnAwXarNvs0ZBq\n",
              "nQtwy9a3ZKE1ZSBfBO0flTuH0te+jcAzCG/wiKBjaLKWy0B74FwlJ11gB18yw/xzovaLqK4/z7wI\n",
              "HFuufywvNqqh34tBSK/VnJ1gBL8zM3lCwg48JfXcY62GeSzsMukdH6839t5C3v5xZV9G4xGlrjJ8\n",
              "ShXHRPjpFlYt/iiTsSGWZ+grN+dwapEFbyoAOta8MCvySFK1ePuQQA/GCMkIl3T9qgkt0v+omQSj\n",
              "Q0LPpZwq/+5bfNdiv67ZgdAkGsZUOvc55yw83Gju6cGi8i+pBZW1h0A4KSAYHGxQ9Kk3JADl6O/U\n",
              "fgtkMCguumIf8EFqDAAEPpi8/H3gWJ/ncdEHwkgNZOT2hIS7ho7oPnQSXbMG1RcRSAB3zidWZBTf\n",
              "fdQplrQ7xfGxziQscNRXbkTO5QqmHXMn0SFaPmePsiUrZUgoBDGpDwPX56e9it2GGGKFW4cyMiAQ\n",
              "QbuTAk7l5nHGXZ/839K0QEsdNymyUzEvf9G4jxlc/U9+7qDbIZYuaLVV2jgfMd5ZqqhEJvq2GZJY\n",
              "GKDDa/jB+qH5u6fPRmli+4JuEML/qNqHTvVUvTEbEfa1rYTYrnPcPkStSzviQPlCEXeeQatube2V\n",
              "uKz4QSZlT3wNNX7+DfKD0WB+N5FzWGDdwoMJu4F1r4f7hCS26gP/y2gznXM6baElOvWw+SQ3m0rT\n",
              "fMKAc8K87+5AweeHDCiK+MBj/K6Pu6kyZLAARHTWljovDRQJI+fSI2C6Yho4ciqBGe0S/LuGlJLF\n",
              "/c9UiGoRitaXAA/8vrdNnTyVR1B6IIAokRptRIzTcz5+xs6hEmtANXtETyEKlsZxdxkRWEdw92Mx\n",
              "56DWTdD1dDRbnwCJB57mxgmvSvRRtqhXYc4+qhA83CRqgPxBYKPy+1SQi2WCkyBqkTCY3LxnuyXR\n",
              "6YhaBffp/v8w50gmGFLVLUtTdJQpNvHoyoJvUB9tYoEhmOExZPRbVW4M7ULNMsstZvCuksv/9lyB\n",
              "aNnVJPYya3/91qL2bbKgQBjkBhZhVbRT1Mmds47MG0/qCm0BJRedVkiEaGOo+KaZ28uKesQiiUbm\n",
              "kmjIQk+oop9DyTAvEhYlhpCX75UP2pz1PK5IYGXzgm2/A+rR+cD/X911Ic4e45UP5DP5+UJIhz8Y\n",
              "U7RAQFkmMIRr1hoOcwPoisslgSm9Oh/tHYYS2fsx5Ie8dL3jtWjzf/XPBvczWjbDEnbr9ZZqWPeZ\n",
              "5D4WdmKwPM/jJxIt1l8XmLm9QfpzKre0Ebci/i71trT30Xb+6BK2rHl+nC1AeV0m4txWiS//oPwa\n",
              "lnIcA/ltdSz5A6en+BOKdnCodkh3wpFYZVvLyZGZux7Ozp8cQov05EOvk0bZmk6dc1UaAtaY9gi4\n",
              "YYtzuvwSCzMoVgwD6qFiEzAF92G+Gxy5qDXY0HFPwaOogg2YZM9y+zuplecwIls4+V12vp227rAA\n",
              "u31HnphHeJL3NE52erUBo7IrMuGeXeD9W+K1g4ARK3ThVL9oUoH9oRCbhkI3RNHD7QFcf/2dF33+\n",
              "doO5LhLB6NlyiKYhUI4pW3XjjNXbgIEZLik0iEGT6w0c/fRyqPd2zP6ze8Y7vV6X6PAHA171BtU4\n",
              "y1xT8iNy2pPDZKv/+mLuNxz25YhWkkKIe+fpMjmkaO1Ssj3ONfae/2Jvv//UG2WNU5EoNYSwusaL\n",
              "jHRIy082m+0ApLRQkkMfntR3nie7zcyl1yesCAL1LXXPOC3GtyOpWYElprVB1DsctXT/rr26MynF\n",
              "koEGExwPOLdF96+5SgYruWr9BvEFT7Y8qTJ6oxgMVyXWkZ8NcNX/fysuwjn3IeCgzwfoicN+SWDK\n",
              "8q/KBEw35X7qFIqm9MbbSqTFhpVsZ3AMzZ3so/VXE3ijGT1ny6an1Jy1303KX7a2SCaCw88VppQg\n",
              "SvF6HHhDPcYkqBnknIOTsMLSR50XY6BQUVg51A8VWOQ69LZ+wEOfhAlNM4vjDypkL749xk7XvhQR\n",
              "SeISUWBS1pfX3fHyiKhpdYCO5sERkk9Zwms7SMu9C0Ib5UBGR8U6ZWq2DjK5zT592REBY0N6B5PQ\n",
              "3/YcDYmRQAI7GUXCpg0ZhYw7YBfocVZb6NeEkNYZqsGwhHDbYDqZl1lSduvsodjqXWfvC9EQC2pE\n",
              "ZBzDfgY3kBnlqISCotTWQZOxdBvpSmXLylDZ/9x/jU569QusfviqBMuYAlnCWYXSD/7vzjtOopfv\n",
              "cq4oEmC9tK41BFBkoZWx+PsZx2F/4XCaQbk1cbQLjGmNKQd5B7LlpVS1E/7tDnzZ5DyOhJ/q0wGh\n",
              "hEDZLQCpgOTfM26Ng9b1hThH2GR8YxgpUt4OjWRGhcsGnTqfgbHM1HXlKtS5KzSbdn6LZY1sEZmw\n",
              "RSC99SmL7tH89BzmCCHhoRvzOdTT8xEs5iu809gyDfaDVMHNxUmaPSSro4ZDYVPosTdObr3cV4PO\n",
              "h2kCJrdXoB9jW1BUxY5iW4OXrwFOsIwrTMMi8vSpUIx01oRGYNpH1g0yFnfxXSbjtgZEFrxwIB6s\n",
              "QcKOM6mFyONJZdKojXLIyfiXOtb7lEZ85YQj+Z8gmK/53G76I54Cm9qJbt8ys0b1ucDezNHU0wlG\n",
              "jsJWx2edFe0yZcEkTsoa2ZaAK9SQCDs7BZ4iajhN0VftLZ0kJCH48coL5d6+SNN6s2tqnHLrRQJJ\n",
              "Oo9bRpQIgRa0L5Vkd9czECcdF80Pa0EypyyCR1H7Ae45RpDCa2pqiWtkPX8hxkQWLOHznlnqzLvS\n",
              "/oIkjTPf/vQSAv/v8DyJCrWe8uY2zOFo0/WOopkIGcQvdeWONy58NGcSMJtCYIy1Gt1PZ71TCNXY\n",
              "dEhO8EcYvbwUN5PQtW0EgVrTOG9OKT+IB2KqQmLVkag/rQ6RXbff0kEDeFE9uNg9L8sBLp/cUPKQ\n",
              "qj4FZvRHpYan5fOcnpJPJY3duYga8Sdifx7yEsCde37Ie6Rrs0tuyTcQBnOWJDkGQ8Cbm5klhD4J\n",
              "ZxJttrAATcU8Uh0a4pWMmtmv/XS4ETJXOkf6helCGVJdRWdmtJPWneQNnwIPY1hGgFRd296V7rLc\n",
              "C2rAIoej0zPWmlEXDb34HS1K0D7QAmQuILgXmR4jts0MH9WHvi19QlpT8MZnRZ5fIJJkq5zlpOaI\n",
              "h8ydWzb8JD9Ok1oNAXzotezXc6gRfqaLXLi5d40Fs87/sA6hIeT77ASQV87Gq5HhLNS9Qg1hl0K7\n",
              "D54mn8bbqfWXvnEgWXhtz4ChjgsED3S3r5PzOa8ldRCDKCX0JPfG0oFV2eF1gBt9cH+uFdHF05AD\n",
              "K1+zfsIdhx4TwSAsoPyu5iXeSwo2ijXcOT2bRf1MB9M3HJ6T2d9OSUvQsAMwAEqDasu0OEpIzy4q\n",
              "s2tImij6OdK4Em/e+lxe8U3LUJcsF3hQo1PmDaQIms1ZPsiCxOav4HRw7j8jOJaaO91vHNz+bHU5\n",
              "oZPrh3JgkB0u5Nuidn4gKuXuH8jrkgVUhZAAw0bNXNB/F/Iar9KIhVJ4W7o+6/CEy1Zfz6CPA9C9\n",
              "2Qzbm5jQJWqT+0rbVLC5eYqD/TGK+ydjIWGB4Ifwr23nA66WWvxbuIedxV4TRyKUoAyXKNqhyx84\n",
              "ogs6hb6dIohgAo9dimr/DoKZrh1LDjOsQlcdqRfKv1i7T5Fm3Bord7iNQCt5AGqPECylovHB5M5u\n",
              "bPHu+WalLT7wK9/VnTXuArKsNJIoFk1frAHEfSf2ctjFz3hpkZibitb/z3fZGJfrMGPncpCAvU4o\n",
              "7n3BTZySdXhXpNYu/aW4hIyv9DWBciPn4Q1f1PtkAqshE7dKvyEQtlIWsLq4/pJICiD9b9fjL3yM\n",
              "TLe0UegkS0uh4vNwAWb8w6M/1+9lCnLmbmFBMEl6Rjl8Ite4QUPompnOGqxD3sZOZYH6l/Eu1Hbw\n",
              "+bVUHsYSh5F96+JapQgGCIMC5Zl+OPso0t1X5qrgYVLTH0rnA8fBbGwEj5o7Hf9HNF0svnrLY7/C\n",
              "hSwAW6XNapX25sIYnyBNA9lTAAADc0GaI2xCv/44QGV1IlrOfYKhsPV/4fAQLlP8LkadQZM/UtDF\n",
              "1qHHs4/Qr/GoeV4dYWgUz8Kiqnhy4WEa0wGM8M/6UBqlKzjRmnu+VkE2QOk8GpIUY9/2YzXYqRQd\n",
              "evIrQxruGoTKbCRvrv06JDzDiz4JpQb6B1cvB9cWvoYHkuKfhEJNZZ50bieY/6zBtUOjuGLBp9VI\n",
              "XxYs501EqEDOcFZpck3a4AeJ/XAb5DKqNB8Nd1P6ZZUKPGraOfx5TuK4Y8csM+2HSKaeCwciMQH6\n",
              "COrLhR5X9M4KeZlDDXgvK7t2xhxF3npvqcN+QFSsMxluFOhYXVpq9LX+BeGCXrpUxL2Noe4sa5VM\n",
              "G2JFmttq4LGsy5VFE8RPmSK4WciGMhOTIHt4OmEGSkhdLElNVSGc4wkbIHgjl9g5lrPBl4t4xF1E\n",
              "ajM1HDICg3k5BaNTdH7v7ruFor49rTUMNgfAfJy2fV+XzDMFoVHBA9MN1hJhlxcCjtAwBdaSfwJz\n",
              "MllF+AALZ8n561RxDirSPs+DvxLNWGLadPGlXc4FGRLTQmSJkar07hmL28MerxSVil5Px9s/g2ys\n",
              "WfaMRvkkqcU3Rc6M/LEM4tv2GFs472n1GE5gdYI8VUGE9h2/SRUz9Hvw3HVp+JG5fzqEesgDTj5f\n",
              "STgbG7uH2YdzCs93WcTPYOACWj2iZvEPkD3v9ho8yPkhCcEEM5HBilTF7OHkI3NASJ5S6TOzhtWP\n",
              "OKkJ/+llzKAGZbb2XZ5A2wmbCLjKaRqPec+LShFCa/crWCRtlkapjzMNjAj+82LrR37UXVRxOKb/\n",
              "2SC/MQmMG4d0hYaCkjI84Dv9QhEPXKsO8LkQKqMbynJvMnRRYVYfmQdwuHNmQ7fx6I8rSl8rqJzf\n",
              "oyiIjFiNURtjDGR7hFDx/HmZPKgZxO9WpOrRLKvlWJWZQYfNIkk0w5ur0OPjypo1/+4rJJvSbmGI\n",
              "qobG5gy3Mf8A5wlNkpDKh0DfKH0hzNbIZHkQn8XWMc6LY49YO19oRNCdbfr1Ew04LzKS/KobJJmj\n",
              "72urRsdGZ4AiLbTZB/aLqQCyhD8PF9cUBt11svai3yN5IHalvYD7s2dhYMl3rvtMSxcTEgYYdHmy\n",
              "O4aGEJPHNzrlxHacYZfYDEX7sYmriVOMStobujbltQ/CSK2JgcQQZW9Ph/PT4OWAMU0AAABgQZ5B\n",
              "eIR/A2jrrqpekZ4r1mnsZ/g5j0/DAIeaBzLxKmoy8BcgY0j9wyRIhJN1c4/Bcie7ApegRmp3d2Ak\n",
              "fcOoN0t7+IOogqHDKAAQ3FWMu+drQ/qZOsUTDdHLLUtyeiShAAAANQGeYmpH/wfqNKaUXM6w+LwH\n",
              "kHmPvNH8J80A+e8SRgT0hiu5XACR1wEJ+CbYb2phnR3gc9yAAAAAyEGaZEmoQWiZTAhX//44QZ2p\n",
              "EtZz7BUHV56150hodxe7GBq7mcs8xIBkStn3s8o9GlgMii+KQXf3eygL+l1KqlJAV7+LSGHXqR/Q\n",
              "COUA9XjfP43HcRMbT7I8mhVCA1wWmdZ+rJ5tKl6j66rXfdXpl8Tl5jSEoJAKBMHSCPKgqzEN/RCi\n",
              "Vdd9MxeIGXl1pDVaSlgPxAL/BWueDqINZKokkEcv1GT5cjwQW162qMuCb8e0IgmpGqfXsjStDM8i\n",
              "/olv/nmFDpZSV+AhAAAAokGahknhClJlMFESwr/+OEBK+ZrUuuDIMzaYfZeEd4SP7CdTpgGr50dh\n",
              "1jPz5iayFQlaTgqx1P2rTdCIdsfQiiS4FlRHHe2OwsCHDvnlnd89HlUDmVI/sCY7vgG9wErhR/Nh\n",
              "jcHdtIDeyMh7qFVVyQwZ1rYu3B4m9l/HEPRs1CW+YHv6Gk77HjPLHkY3A2oGjGGMd6D5kb1M4Uaf\n",
              "gN+4zMGXhwAAABwBnqVqR/8E8kiI6uvN0pqyED9d5C9/g0DzNpnBAAAApkGaqEnhDomUwUTCv/44\n",
              "QAAF9dnjoBE1k/t6GFufiGOtUHZm6OZHtN/56IVjUysdjvIvdzzxiFomDhp6lbC/GsEpCa9kPyBG\n",
              "iLsdbyGZRUKe3PrsQXqBIXvxVakgX6qftuZNvE9dxnSf6O/4tS1vE2kqs7bCjugNTlY+FCi6YdHr\n",
              "HbDuLMmrbIzNbAyCApqP5HaXPLeJyr8VvujH7DTy5TI9ctlLYrMAAAAgAZ7Hakf/AHFCeI+xYt57\n",
              "/u+UVMALcAXumPcbZkcRorgAAABJQZrJSeEPJlMCF//+jLAAAYCGkgAJ3SjHUSySi1tnDuPoq0nN\n",
              "PdDt6aQ58tGPjLKJHTV5x/1f274msvXTvO2fhrWU/STYwDZEZQAAAIRBmutJ4Q8mUwURPC///oyw\n",
              "AAMA71oAMGLOyMb8vSHDhsBuJWNivnafqGiGkmGe7TH9IcT4HVxvih3wFrSdZlEkYJ5w5WerzPny\n",
              "nFjzZX31Irb1cHzZy49CRc+Oy1hYbfJ+m97+CyJiWqpRbR2cbDqJk45RCPvLVPNu0OORMrHCzw54\n",
              "O4EAAAAfAZ8Kakf/AHFCeI+xYt58eNnvABLBp6NGkjOJbP5GgAAAAJhBmw5J4Q8mUwIX//6MsAAF\n",
              "4EgcVAFrPXCbEDf+wPKDDa7z7pHIkzcuzF7lQf9J4hX0g64u04cj9xKMtxmXBWSivRzWgFLU5HKl\n",
              "K+FC3cQ0n7sWZUpczus46z4ILaXvghPFQ5lqL/diSotjPMojyEvqVuF3C6rNOS0vizigAhXBAOfd\n",
              "b3N08fRbG3F4GWFvCljh42LFsfBvyAAAACRBnyxFETwj/wCRKKlkNQxbK+a5jptwN3z0AD8TI2RR\n",
              "r1rtjGkAAAAdAZ9Nakf/ACO/Hu/7jsAAugUawhuAitytkJ2NvEEAAACKQZtSSahBaJlMCFf//jhA\n",
              "ACxFqvaAKqHIQOeiMarv9U1ixS54rIgn5ZkSXXZQl8nP9U9Kl3HHAeLEP7yXjzkZ6HPjR7XJWhVt\n",
              "JJJiT1UwHD1ZCUeShgoW1SQpNXh+M/3hqISM8WNYPC1u91QMk4+r8hW1YZNc6+7OaDyUVKOH5jup\n",
              "bJNq9exJUabjAAAAJUGfcEURLCP/ANzce5rC5HvMJ3zqnKE5pGAMwAHvxUsPPucBgoIAAAAgAZ+P\n",
              "dEf/ACOsQYDmo9o0iC/oJABbe+V7FmzeMYgiXeQAAAAZAZ+Rakf/ACO/H7S66ABc6bEgx7uPEgnX\n",
              "oQAAAD5Bm5RJqEFsmUwUTCv//jhAACw4vNoAv9qI82y0QmPRYmT+teVTZ+S4Bg44blMY00qfSULd\n",
              "NARoSGnmbUIFAwAAAB4Bn7NqR/8A6HfIVGryLglLmUi6lgAJmm+kzSqhDZgAAABCQZu1SeEKUmUw\n",
              "IV/+OEAALDhVugCfMQ/mU3TEngR08mxkdnjwuh4Q1KD9xWf1SCFlGtLgCuT615958LzD31g7QKCB\n",
              "AAAAW0Gb1knhDomUwIX//oywABbeTWye9ShMnZ1MIxfJ+dVdxBL8tuyl9MqlSjMW3mZg+H4TMN0V\n",
              "1TO49fyWdvxVLS8RwlIfg7l1uOIJ/xi/qy3tf+n48baBbV2GYLwAAABVQZv4SeEPJlMFETwv//6M\n",
              "sAAW5qQVk+bTsd2/5kq/i4mUPuzs7fZ4Fawr5nVhns22k6j1FUv2eBDdtiVZK/vWjxGs4QTwH+xR\n",
              "dW0yqpOPfeE9asOVHwAAABcBnhdqR/8AcUJ4j7Fi3oLm9g7/vYcdlQAAAEpBmhpJ4Q8mUwU8L//+\n",
              "jLAAFmbXqlPxZJ+6AIOU4ZTz8/HJ8KesdCxegreWgkZX1SzG1KjuM1fxR69EZRuTEo0keuIHZNTD\n",
              "RvyKCAAAABgBnjlqR/8AcUJ4j7Fi3oKkq5S8f2myZ4UAAABrQZo+SeEPJlMCF//+jLAAKp/kLO7N\n",
              "97/yJM3KGAmkox6g+fWfRTErv3/gCgiTqpZu8BUs4M3pWMft0lTSPExlOozCaFjZayNu+uCs6YdQ\n",
              "oib3oArhU5hgO/ElqPsPiY9zlUKR+gLwRZksgj8AAAAmQZ5cRRE8I/8A3Nx5rqmFoji5iM+aNEUw\n",
              "gAFs7zY609WXFRT9GykAAAATAZ57dEf/ACOsT9gLC3Ea+tQpIQAAABgBnn1qR/8AI78nzBOYCUAC\n",
              "duwreYorbBgAAABfQZpgSahBaJlMFPC//oywACysRYU8GwByjLd943kztx1hCGsIbcTeiivphwSi\n",
              "k7L89Y2e87/SuUXWK/akP64oGSutvZyl0VLqem1rXS1hPgWNeSEr84LuoxJNeSILu3gAAAAgAZ6f\n",
              "akf/AOh3yFRq8i4JTQDBEIQEACVOmTXVz+a6R8EAAABRQZqDSeEKUmUwIV/+OEAArKn8HA34esBQ\n",
              "Sqc32bA/eK81NprYSkqymyJuDLeESuTrVv5ZYz1T5tESKnQSNMKVNfKJLJzqzYJ5XgMwAiXSvpOA\n",
              "AAAAJEGeoUU0TCP/AJMFPJISdyi6ZnR3+1/RgBunP0DNn99fxqwccQAAABgBnsJqR/8AI78ngmj7\n",
              "0QAGnOyotEOCUlYAAABLQZrFSahBaJlMFPCv/jhAAK1gg3ZyAgtCee9Cn7W88rRhF/S/WC3otmd6\n",
              "NExzQbs7TBoM2clbmd8HcKGvibnEwrSpSvCkY3tTRi4hAAAAHAGe5GpH/wDod8hUavIuCU0EekgA\n",
              "XUF/vTuEBd0AAAAlQZrmSeEKUmUwIX/+jLAALJnasAbfjH1jgUqXFm1xOHHW4BihxwAAACpBmwdJ\n",
              "4Q6JlMCF//6MsAArpTHBRHAC1K4T91qYWtkG8n+SnOWvWjY0YqsAAAAoQZsrSeEPJlMCF//+jLAA\n",
              "K6WkHiLABxZspN43esGDnXMX6k09R+QpIAAAABpBn0lFETwj/wDc3HmuqYWiOLmIz5qnuAADUgAA\n",
              "ABgBn2h0R/8AI6xOmyFlwAcNYbyOGtNITcEAAAAPAZ9qakf/ACO/Jvh3uN6AAAAAKEGbbEmoQWiZ\n",
              "TAhn//6eEAArMaCgYAS1biq/ckmO3DER/p6zkODBYbMAAAApQZuQSeEKUmUwIX/+jLAAK2zAMnq3\n",
              "QUAODNsylPTH2Tf55cgmA11DDFkAAAAlQZ+uRTRMI/8A3Nx7h73shsKc/2Eb7fgASwQiCaVUJWiv\n",
              "rgCFgQAAABMBn810R/8ALF628FT59mrHmKmBAAAAFgGfz2pH/wAjvycNIcAF1FuC6xy43oAAAABe\n",
              "QZvUSahBaJlMCF///oywACuL8uQADlinmsyxgC79Jf+L2OXOfEcAbiKOsrer8OuEncT67gZC2zID\n",
              "PA5LN+XfUGfsfYTPqXClTBBhyYzhpn3v9eVmRmdeg8zpwMUOmAAAACNBn/JFESwj/wDc3HuawuR7\n",
              "zCip4I9hFklYABa1t3Rf3OAGfQAAABABnhF0R/8ALEMO9xxn3WQsAAAAGQGeE2pH/wAsWc+Lijda\n",
              "gATMJz68q4b1TpgAAAA3QZoYSahBbJlMCF///oywACuh2lPvoA274p0dn/R56IM4TSFU0vpL1uPW\n",
              "jXm6Y0q2XQYFxDoOOQAAACBBnjZFFSwj/wDc3HuawuR7zCiozcys6AQAF09y2cAS8AAAABABnlV0\n",
              "R/8AK9EIiuux9cUlAAAADwGeV2pH/wAr0QiMy5OIOQAAAEhBmllJqEFsmUwIX//+jLAAVv9CsIl1\n",
              "KEy70wyvSLYwflwLcTxLR+iDN9HgehAr7GDv5fpV4Aaxkx2kV7MZcTdc248CDJ2GETAAAAB5QZp8\n",
              "SeEKUmUwIX/+jLAAVxiRX+OBk+pQjiYxh4u+t+FzjDq5AJ1d4L8EKoSSTbprmxoXHkAvvJyl+tMc\n",
              "E++TypCZDptnlZYo/pfGIkIyNS1ThAh+zO/xNlGj+JdzFuExjjvH/+kCqxhj4yXKM9J7ITklvMGr\n",
              "gestwQAAACdBnppFNEwj/wCTBTySEncpFgg07aIAC3UT3A3LgfCeuQjQIU9kDagAAAAbAZ67akf/\n",
              "ACqatB1dzLTuIEjvIAq01RFJRIVNAAAAPkGaoEmoQWiZTAhf//6MsACMI4JMwF6AImOmVBdwZ2C0\n",
              "NDMmC3bIjvRSHZV0MxlbqhSmfi2GitBu7MsE6jjhAAAAGkGe3kURLCP/ANzce5rC5HvMKNkVmWWD\n",
              "cAKSAAAAEAGe/XRH/wAtYy9wMJz9IeAAAAAOAZ7/akf/ACsqTbvPgtsAAAA0QZrjSahBbJlMCF//\n",
              "/oywAFSy7tgCHxTVQUGL94PRX8/4bkg+Bt1QXJpGKI89OfdH1oixIwAAABhBnwFFFSwj/wCTFQgZ\n",
              "lTfXOf4tuNA4GZEAAAAXAZ8iakf/ACtXDSAEzhUw//kAgjqxjbgAAAA3QZskSahBbJlMCGf//p4Q\n",
              "AFPydGAIYfkhSgYUIpxjeGelyYGrohlVHCO2qLCXewU4On4NvmnBNwAAAGNBm0hJ4QpSZTAhf/6M\n",
              "sABUs3hgCt+jL/0WjePGzjips1eWjJ1lCym205H/hosiO98MMnW52Ff/oMFKEtZxXeyDujhYDKws\n",
              "mXozCZthbM92tWPR0E5e5bCg6J1ToKrJWQMUHdEAAAAkQZ9mRTRMI/8A3Nx7h73shsKds9HnyAC6\n",
              "jXYCxeZbVn8k4Aj5AAAAGQGfhXRH/wArIs7fgALbfb0sNeq3VkqOY48AAAAXAZ+Hakf/ACoPeKQA\n",
              "kwbIunPinstHSDgAAABEQZuMSahBaJlMCF///oywAFJ1/zkAZleByp+s+cTMv+2uQ9XMKSpRvxbS\n",
              "QwwWuDEoeOOzIkALKg49A7sbPdpxYDwwZ8AAAAAnQZ+qRREsI/8A3Nx7msLke8woLb0DIM0AK7QV\n",
              "ThdsvmepVQNJYAYtAAAAGwGfyXRH/wBUPRiaXABOVP0dbE0xbVmQuL8PWAAAABABn8tqR/8AVEgm\n",
              "HLZ3KcGfAAAASkGbzkmoQWyZTBRML//+jLAAVLPShAEEil0nyhGHygy29fEAeODTGsOp9Ze/GrK7\n",
              "7m5GYzc2XJccox1pr+zGLoTg4QDvwMUkYoO7AAAAIwGf7WpH/wDod8hUcCm65aiRCI38z4gAna99\n",
              "aD/soGnyUAGBAAAAT0Gb8knhClJlMCF//oywAKX7miR6VXmAD/msUWjzRPGY0y6kZ+yEytNJ61xK\n",
              "1KPtOZcJ7juvm3Ozfw+ryRmQBMZT++HFhhkZHPYtl0k0YVUAAAAeQZ4QRTRMI/8A3Nx7h73siBvu\n",
              "8Rk5f9u9RZmsALiAAAAAFAGeL3RH/wBWRSZ2LXZxDc19rFpAAAAAEwGeMWpH/wBWcwmI5mpFD/Sx\n",
              "owMAAABVQZo0SahBaJlMFPC//oywAFm3xx4RbvAGva4TctPfWNHFiX8PSiWNnwCmeJxgX4S4TFjk\n",
              "RW49oMyV/dDUVXJyZa9VOdUAfjxUYbb/YLcyIV31eHwImAAAACkBnlNqR/8A6HfIVHDKZv/m4Sg+\n",
              "Uwti0AK0vI2lSWnUJ8bGmyiV0ADegAAAAD9BmlhJ4QpSZTAhf/6MsABZa85NIngBXG0MrjZBjkbG\n",
              "mribvc0HZ3+P9/hlaaYUc61VeAofA9yQdm2PZ4MUHHEAAAArQZ52RTRMI/8A3Nx7h73siEbvO5Eu\n",
              "xAtioAcerkOmtP+EVdcXvpXAI8HmmAAAABQBnpV0R/8AVWILYtCb1hWCH/zGfQAAABMBnpdqR/8A\n",
              "VWIMkZrGIJftQDUhAAAAXUGanEmoQWiZTAhf//6MsABXB7R4ADiugn84EvKI9n+jonHvSVeoYJaS\n",
              "p0y5m14FRunu7HThuGDyxq3NUgMPCtuMwR8OT+lUeAEKrkkA2hJNndZYno2hFeqWjRhVQAAAACpB\n",
              "nrpFESwj/wDc3HuawuR+JIWY5DqqFv1Y24ANoCEhfDEIdPYnEe4AHpEAAAAeAZ7ZdEf/AFeiBYgf\n",
              "1e299ABOp/6bHaPtfL9heuUMAAAAHQGe22pH/wBXogWILhiK89o4AEPwjZPln6YInYYtAAAARUGa\n",
              "wEmoQWyZTAhX//44QAFROXBwAJaop37B0lr55H1WOc5chVrJfCpaPjA2jzZV79KKPGVVwbQGyhzo\n",
              "cevMQgzHueBGwQAAACpBnv5FFSwj/wDc3HuawuR+Iwcxx/VU/fLN7snwbgBKwX4Cz8vOTFeABswA\n",
              "AAAPAZ8ddEf/AFQF2Haud8YEAAAAHAGfH2pH/wBUM2rsc8QAAh+GNieC0iYi4Lz2LyEAAAAlQZsD\n",
              "SahBbJlMCP/8hAAJp6xPABX/AKklNumOpSMa/6oztViggAAAACRBnyFFFSwj/wCTFQgZmH+A6m/q\n",
              "CBOYJCv+0QAr/iKxIQ9kA6cAAAAaAZ9Cakf/AFQzZoM5L+0gAanPsLiqwTJ1MXcAAAeebW9vdgAA\n",
              "AGxtdmhkAAAAAAAAAAAAAAAAAAAD6AAAB9AAAQAAAQAAAAAAAAAAAAAAAAEAAAAAAAAAAAAAAAAA\n",
              "AAABAAAAAAAAAAAAAAAAAABAAAAAAAAAAAAAAAAAAAAAAAAAAAAAAAAAAAAAAAAAAgAABsh0cmFr\n",
              "AAAAXHRraGQAAAADAAAAAAAAAAAAAAABAAAAAAAAB9AAAAAAAAAAAAAAAAAAAAAAAAEAAAAAAAAA\n",
              "AAAAAAAAAAABAAAAAAAAAAAAAAAAAABAAAAAAbAAAAEgAAAAAAAkZWR0cwAAABxlbHN0AAAAAAAA\n",
              "AAEAAAfQAAACAAABAAAAAAZAbWRpYQAAACBtZGhkAAAAAAAAAAAAAAAAAAAyAAAAZABVxAAAAAAA\n",
              "LWhkbHIAAAAAAAAAAHZpZGUAAAAAAAAAAAAAAABWaWRlb0hhbmRsZXIAAAAF621pbmYAAAAUdm1o\n",
              "ZAAAAAEAAAAAAAAAAAAAACRkaW5mAAAAHGRyZWYAAAAAAAAAAQAAAAx1cmwgAAAAAQAABatzdGJs\n",
              "AAAAs3N0c2QAAAAAAAAAAQAAAKNhdmMxAAAAAAAAAAEAAAAAAAAAAAAAAAAAAAAAAbABIABIAAAA\n",
              "SAAAAAAAAAABAAAAAAAAAAAAAAAAAAAAAAAAAAAAAAAAAAAAAAAAAAAAGP//AAAAMWF2Y0MBZAAe\n",
              "/+EAGGdkAB6s2UGwloQAAAMABAAAAwGQPFi2WAEABmjr48siwAAAABx1dWlka2hA8l8kT8W6OaUb\n",
              "zwMj8wAAAAAAAAAYc3R0cwAAAAAAAAABAAAAZAAAAQAAAAAUc3RzcwAAAAAAAAABAAAAAQAAAvBj\n",
              "dHRzAAAAAAAAAFwAAAABAAACAAAAAAEAAAQAAAAAAgAAAQAAAAABAAACAAAAAAEAAAMAAAAAAQAA\n",
              "AQAAAAABAAADAAAAAAEAAAEAAAAAAQAAAgAAAAABAAADAAAAAAEAAAEAAAAAAQAABAAAAAACAAAB\n",
              "AAAAAAEAAAUAAAAAAQAAAgAAAAABAAAAAAAAAAEAAAEAAAAAAQAAAwAAAAABAAABAAAAAAIAAAIA\n",
              "AAAAAQAAAwAAAAABAAABAAAAAAEAAAMAAAAAAQAAAQAAAAABAAAFAAAAAAEAAAIAAAAAAQAAAAAA\n",
              "AAABAAABAAAAAAEAAAMAAAAAAQAAAQAAAAABAAAEAAAAAAIAAAEAAAAAAQAAAwAAAAABAAABAAAA\n",
              "AAIAAAIAAAAAAQAABQAAAAABAAACAAAAAAEAAAAAAAAAAQAAAQAAAAABAAACAAAAAAEAAAUAAAAA\n",
              "AQAAAgAAAAABAAAAAAAAAAEAAAEAAAAAAQAABQAAAAABAAACAAAAAAEAAAAAAAAAAQAAAQAAAAAB\n",
              "AAAFAAAAAAEAAAIAAAAAAQAAAAAAAAABAAABAAAAAAEAAAIAAAAAAQAABAAAAAACAAABAAAAAAEA\n",
              "AAUAAAAAAQAAAgAAAAABAAAAAAAAAAEAAAEAAAAAAQAABAAAAAACAAABAAAAAAEAAAIAAAAAAQAA\n",
              "BQAAAAABAAACAAAAAAEAAAAAAAAAAQAAAQAAAAABAAAFAAAAAAEAAAIAAAAAAQAAAAAAAAABAAAB\n",
              "AAAAAAEAAAMAAAAAAQAAAQAAAAABAAAFAAAAAAEAAAIAAAAAAQAAAAAAAAABAAABAAAAAAEAAAMA\n",
              "AAAAAQAAAQAAAAABAAAFAAAAAAEAAAIAAAAAAQAAAAAAAAABAAABAAAAAAEAAAUAAAAAAQAAAgAA\n",
              "AAABAAAAAAAAAAEAAAEAAAAAAQAABQAAAAABAAACAAAAAAEAAAAAAAAAAQAAAQAAAAABAAAEAAAA\n",
              "AAIAAAEAAAAAHHN0c2MAAAAAAAAAAQAAAAEAAABkAAAAAQAAAaRzdHN6AAAAAAAAAAAAAABkAAA0\n",
              "5AAAA3cAAABkAAAAOQAAAMwAAACmAAAAIAAAAKoAAAAkAAAATQAAAIgAAAAjAAAAnAAAACgAAAAh\n",
              "AAAAjgAAACkAAAAkAAAAHQAAAEIAAAAiAAAARgAAAF8AAABZAAAAGwAAAE4AAAAcAAAAbwAAACoA\n",
              "AAAXAAAAHAAAAGMAAAAkAAAAVQAAACgAAAAcAAAATwAAACAAAAApAAAALgAAACwAAAAeAAAAHAAA\n",
              "ABMAAAAsAAAALQAAACkAAAAXAAAAGgAAAGIAAAAnAAAAFAAAAB0AAAA7AAAAJAAAABQAAAATAAAA\n",
              "TAAAAH0AAAArAAAAHwAAAEIAAAAeAAAAFAAAABIAAAA4AAAAHAAAABsAAAA7AAAAZwAAACgAAAAd\n",
              "AAAAGwAAAEgAAAArAAAAHwAAABQAAABOAAAAJwAAAFMAAAAiAAAAGAAAABcAAABZAAAALQAAAEMA\n",
              "AAAvAAAAGAAAABcAAABhAAAALgAAACIAAAAhAAAASQAAAC4AAAATAAAAIAAAACkAAAAoAAAAHgAA\n",
              "ABRzdGNvAAAAAAAAAAEAAAAsAAAAYnVkdGEAAABabWV0YQAAAAAAAAAhaGRscgAAAAAAAAAAbWRp\n",
              "cmFwcGwAAAAAAAAAAAAAAAAtaWxzdAAAACWpdG9vAAAAHWRhdGEAAAABAAAAAExhdmY1Ny44My4x\n",
              "MDA=\n",
              "\">\n",
              "  Your browser does not support the video tag.\n",
              "</video>"
            ]
          },
          "metadata": {
            "tags": []
          }
        }
      ]
    }
  ]
}